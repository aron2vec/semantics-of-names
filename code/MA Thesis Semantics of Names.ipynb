{
  "cells": [
    {
      "cell_type": "markdown",
      "id": "22531ca9-e756-46d1-b70a-3e471d5c92a8",
      "metadata": {
        "id": "22531ca9-e756-46d1-b70a-3e471d5c92a8"
      },
      "source": [
        "# Master Thesis on the Semantics of (made-up) Names\n",
        "\n",
        "* Author: Aron Joosse\n",
        "* Supervisor: Giovanni Cassani\n",
        "* Institution: Tilburg University\n",
        "\n",
        "Can take inspiration from: https://github.com/Masetto96/BA-Thesis-form-meaning-mapping/blob/master/form_meaning_mapping.ipynb"
      ]
    },
    {
      "cell_type": "markdown",
      "id": "6549cc30-115e-4d41-a905-85e232d32540",
      "metadata": {
        "id": "6549cc30-115e-4d41-a905-85e232d32540"
      },
      "source": [
        "# Library Imports"
      ]
    },
    {
      "cell_type": "code",
      "execution_count": 1,
      "id": "9e01d4f6-9943-40fb-9f85-ca2aa53b4650",
      "metadata": {
        "id": "9e01d4f6-9943-40fb-9f85-ca2aa53b4650",
        "colab": {
          "base_uri": "https://localhost:8080/"
        },
        "outputId": "2b12c3c2-52a4-4e75-bfca-d5722ccd2cf3"
      },
      "outputs": [
        {
          "output_type": "stream",
          "name": "stdout",
          "text": [
            "Collecting fasttext\n",
            "  Downloading fasttext-0.9.2.tar.gz (68 kB)\n",
            "\u001b[?25l\n",
            "\u001b[?25hCollecting pybind11>=2.2\n",
            "  Using cached pybind11-2.9.2-py2.py3-none-any.whl (213 kB)\n",
            "Requirement already satisfied: setuptools>=0.7.0 in /usr/local/lib/python3.7/dist-packages (from fasttext) (57.4.0)\n",
            "Requirement already satisfied: numpy in /usr/local/lib/python3.7/dist-packages (from fasttext) (1.21.5)\n",
            "Building wheels for collected packages: fasttext\n",
            "  Building wheel for fasttext (setup.py) ... \u001b[?25l\u001b[?25hdone\n",
            "  Created wheel for fasttext: filename=fasttext-0.9.2-cp37-cp37m-linux_x86_64.whl size=3141909 sha256=6a73ed505a5a181d1b62cf388ae5586d480a9d15d9f7dba5c3d03575b26a062f\n",
            "  Stored in directory: /root/.cache/pip/wheels/4e/ca/bf/b020d2be95f7641801a6597a29c8f4f19e38f9c02a345bab9b\n",
            "Successfully built fasttext\n",
            "Installing collected packages: pybind11, fasttext\n",
            "Successfully installed fasttext-0.9.2 pybind11-2.9.2\n",
            "Requirement already satisfied: spacy in /usr/local/lib/python3.7/dist-packages (2.2.4)\n",
            "Collecting spacy\n",
            "  Downloading spacy-3.2.4-cp37-cp37m-manylinux_2_17_x86_64.manylinux2014_x86_64.whl (6.0 MB)\n",
            "\u001b[?25l\n",
            "\u001b[?25hRequirement already satisfied: click<8.1.0 in /usr/local/lib/python3.7/dist-packages (from spacy) (7.1.2)\n",
            "Collecting spacy-loggers<2.0.0,>=1.0.0\n",
            "  Downloading spacy_loggers-1.0.2-py3-none-any.whl (7.2 kB)\n",
            "Requirement already satisfied: murmurhash<1.1.0,>=0.28.0 in /usr/local/lib/python3.7/dist-packages (from spacy) (1.0.6)\n",
            "Requirement already satisfied: setuptools in /usr/local/lib/python3.7/dist-packages (from spacy) (57.4.0)\n",
            "Requirement already satisfied: preshed<3.1.0,>=3.0.2 in /usr/local/lib/python3.7/dist-packages (from spacy) (3.0.6)\n",
            "Collecting spacy-legacy<3.1.0,>=3.0.8\n",
            "  Downloading spacy_legacy-3.0.9-py2.py3-none-any.whl (20 kB)\n",
            "Collecting pydantic!=1.8,!=1.8.1,<1.9.0,>=1.7.4\n",
            "  Downloading pydantic-1.8.2-cp37-cp37m-manylinux2014_x86_64.whl (10.1 MB)\n",
            "\u001b[?25l\n",
            "\u001b[?25hCollecting pathy>=0.3.5\n",
            "  Downloading pathy-0.6.1-py3-none-any.whl (42 kB)\n",
            "\u001b[?25l\n",
            "\u001b[?25hRequirement already satisfied: numpy>=1.15.0 in /usr/local/lib/python3.7/dist-packages (from spacy) (1.21.5)\n",
            "Collecting typing-extensions<4.0.0.0,>=3.7.4\n",
            "  Downloading typing_extensions-3.10.0.2-py3-none-any.whl (26 kB)\n",
            "Collecting typer<0.5.0,>=0.3.0\n",
            "  Downloading typer-0.4.1-py3-none-any.whl (27 kB)\n",
            "Collecting catalogue<2.1.0,>=2.0.6\n",
            "  Downloading catalogue-2.0.7-py3-none-any.whl (17 kB)\n",
            "Collecting langcodes<4.0.0,>=3.2.0\n",
            "  Downloading langcodes-3.3.0-py3-none-any.whl (181 kB)\n",
            "\u001b[?25l\n",
            "\u001b[?25hCollecting srsly<3.0.0,>=2.4.1\n",
            "  Downloading srsly-2.4.3-cp37-cp37m-manylinux_2_17_x86_64.manylinux2014_x86_64.whl (457 kB)\n",
            "\u001b[?25l\n",
            "\u001b[?25hRequirement already satisfied: wasabi<1.1.0,>=0.8.1 in /usr/local/lib/python3.7/dist-packages (from spacy) (0.9.1)\n",
            "Requirement already satisfied: tqdm<5.0.0,>=4.38.0 in /usr/local/lib/python3.7/dist-packages (from spacy) (4.64.0)\n",
            "Requirement already satisfied: requests<3.0.0,>=2.13.0 in /usr/local/lib/python3.7/dist-packages (from spacy) (2.23.0)\n",
            "Requirement already satisfied: packaging>=20.0 in /usr/local/lib/python3.7/dist-packages (from spacy) (21.3)\n",
            "Requirement already satisfied: cymem<2.1.0,>=2.0.2 in /usr/local/lib/python3.7/dist-packages (from spacy) (2.0.6)\n",
            "Requirement already satisfied: jinja2 in /usr/local/lib/python3.7/dist-packages (from spacy) (2.11.3)\n",
            "Requirement already satisfied: blis<0.8.0,>=0.4.0 in /usr/local/lib/python3.7/dist-packages (from spacy) (0.4.1)\n",
            "Collecting thinc<8.1.0,>=8.0.12\n",
            "  Downloading thinc-8.0.15-cp37-cp37m-manylinux_2_17_x86_64.manylinux2014_x86_64.whl (653 kB)\n",
            "\u001b[?25l\n",
            "\u001b[?25hRequirement already satisfied: zipp>=0.5 in /usr/local/lib/python3.7/dist-packages (from catalogue<2.1.0,>=2.0.6->spacy) (3.8.0)\n",
            "Requirement already satisfied: pyparsing!=3.0.5,>=2.0.2 in /usr/local/lib/python3.7/dist-packages (from packaging>=20.0->spacy) (3.0.8)\n",
            "Requirement already satisfied: smart-open<6.0.0,>=5.0.0 in /usr/local/lib/python3.7/dist-packages (from pathy>=0.3.5->spacy) (5.2.1)\n",
            "Requirement already satisfied: urllib3!=1.25.0,!=1.25.1,<1.26,>=1.21.1 in /usr/local/lib/python3.7/dist-packages (from requests<3.0.0,>=2.13.0->spacy) (1.24.3)\n",
            "Requirement already satisfied: certifi>=2017.4.17 in /usr/local/lib/python3.7/dist-packages (from requests<3.0.0,>=2.13.0->spacy) (2021.10.8)\n",
            "Requirement already satisfied: idna<3,>=2.5 in /usr/local/lib/python3.7/dist-packages (from requests<3.0.0,>=2.13.0->spacy) (2.10)\n",
            "Requirement already satisfied: chardet<4,>=3.0.2 in /usr/local/lib/python3.7/dist-packages (from requests<3.0.0,>=2.13.0->spacy) (3.0.4)\n",
            "Requirement already satisfied: MarkupSafe>=0.23 in /usr/local/lib/python3.7/dist-packages (from jinja2->spacy) (2.0.1)\n",
            "Installing collected packages: typing-extensions, catalogue, typer, srsly, pydantic, thinc, spacy-loggers, spacy-legacy, pathy, langcodes, spacy\n",
            "  Attempting uninstall: typing-extensions\n",
            "    Found existing installation: typing-extensions 4.1.1\n",
            "    Uninstalling typing-extensions-4.1.1:\n",
            "      Successfully uninstalled typing-extensions-4.1.1\n",
            "  Attempting uninstall: catalogue\n",
            "    Found existing installation: catalogue 1.0.0\n",
            "    Uninstalling catalogue-1.0.0:\n",
            "      Successfully uninstalled catalogue-1.0.0\n",
            "  Attempting uninstall: srsly\n",
            "    Found existing installation: srsly 1.0.5\n",
            "    Uninstalling srsly-1.0.5:\n",
            "      Successfully uninstalled srsly-1.0.5\n",
            "  Attempting uninstall: thinc\n",
            "    Found existing installation: thinc 7.4.0\n",
            "    Uninstalling thinc-7.4.0:\n",
            "      Successfully uninstalled thinc-7.4.0\n",
            "  Attempting uninstall: spacy\n",
            "    Found existing installation: spacy 2.2.4\n",
            "    Uninstalling spacy-2.2.4:\n",
            "      Successfully uninstalled spacy-2.2.4\n",
            "\u001b[31mERROR: pip's dependency resolver does not currently take into account all the packages that are installed. This behaviour is the source of the following dependency conflicts.\n",
            "tensorflow 2.8.0 requires tf-estimator-nightly==2.8.0.dev2021122109, which is not installed.\u001b[0m\n",
            "Successfully installed catalogue-2.0.7 langcodes-3.3.0 pathy-0.6.1 pydantic-1.8.2 spacy-3.2.4 spacy-legacy-3.0.9 spacy-loggers-1.0.2 srsly-2.4.3 thinc-8.0.15 typer-0.4.1 typing-extensions-3.10.0.2\n",
            "Collecting en-core-web-sm==3.2.0\n",
            "  Downloading https://github.com/explosion/spacy-models/releases/download/en_core_web_sm-3.2.0/en_core_web_sm-3.2.0-py3-none-any.whl (13.9 MB)\n",
            "\u001b[K     |████████████████████████████████| 13.9 MB 5.4 MB/s \n",
            "\u001b[?25hRequirement already satisfied: spacy<3.3.0,>=3.2.0 in /usr/local/lib/python3.7/dist-packages (from en-core-web-sm==3.2.0) (3.2.4)\n",
            "Requirement already satisfied: preshed<3.1.0,>=3.0.2 in /usr/local/lib/python3.7/dist-packages (from spacy<3.3.0,>=3.2.0->en-core-web-sm==3.2.0) (3.0.6)\n",
            "Requirement already satisfied: srsly<3.0.0,>=2.4.1 in /usr/local/lib/python3.7/dist-packages (from spacy<3.3.0,>=3.2.0->en-core-web-sm==3.2.0) (2.4.3)\n",
            "Requirement already satisfied: catalogue<2.1.0,>=2.0.6 in /usr/local/lib/python3.7/dist-packages (from spacy<3.3.0,>=3.2.0->en-core-web-sm==3.2.0) (2.0.7)\n",
            "Requirement already satisfied: typer<0.5.0,>=0.3.0 in /usr/local/lib/python3.7/dist-packages (from spacy<3.3.0,>=3.2.0->en-core-web-sm==3.2.0) (0.4.1)\n",
            "Requirement already satisfied: jinja2 in /usr/local/lib/python3.7/dist-packages (from spacy<3.3.0,>=3.2.0->en-core-web-sm==3.2.0) (2.11.3)\n",
            "Requirement already satisfied: packaging>=20.0 in /usr/local/lib/python3.7/dist-packages (from spacy<3.3.0,>=3.2.0->en-core-web-sm==3.2.0) (21.3)\n",
            "Requirement already satisfied: typing-extensions<4.0.0.0,>=3.7.4 in /usr/local/lib/python3.7/dist-packages (from spacy<3.3.0,>=3.2.0->en-core-web-sm==3.2.0) (3.10.0.2)\n",
            "Requirement already satisfied: pydantic!=1.8,!=1.8.1,<1.9.0,>=1.7.4 in /usr/local/lib/python3.7/dist-packages (from spacy<3.3.0,>=3.2.0->en-core-web-sm==3.2.0) (1.8.2)\n",
            "Requirement already satisfied: spacy-loggers<2.0.0,>=1.0.0 in /usr/local/lib/python3.7/dist-packages (from spacy<3.3.0,>=3.2.0->en-core-web-sm==3.2.0) (1.0.2)\n",
            "Requirement already satisfied: pathy>=0.3.5 in /usr/local/lib/python3.7/dist-packages (from spacy<3.3.0,>=3.2.0->en-core-web-sm==3.2.0) (0.6.1)\n",
            "Requirement already satisfied: setuptools in /usr/local/lib/python3.7/dist-packages (from spacy<3.3.0,>=3.2.0->en-core-web-sm==3.2.0) (57.4.0)\n",
            "Requirement already satisfied: wasabi<1.1.0,>=0.8.1 in /usr/local/lib/python3.7/dist-packages (from spacy<3.3.0,>=3.2.0->en-core-web-sm==3.2.0) (0.9.1)\n",
            "Requirement already satisfied: blis<0.8.0,>=0.4.0 in /usr/local/lib/python3.7/dist-packages (from spacy<3.3.0,>=3.2.0->en-core-web-sm==3.2.0) (0.4.1)\n",
            "Requirement already satisfied: spacy-legacy<3.1.0,>=3.0.8 in /usr/local/lib/python3.7/dist-packages (from spacy<3.3.0,>=3.2.0->en-core-web-sm==3.2.0) (3.0.9)\n",
            "Requirement already satisfied: murmurhash<1.1.0,>=0.28.0 in /usr/local/lib/python3.7/dist-packages (from spacy<3.3.0,>=3.2.0->en-core-web-sm==3.2.0) (1.0.6)\n",
            "Requirement already satisfied: click<8.1.0 in /usr/local/lib/python3.7/dist-packages (from spacy<3.3.0,>=3.2.0->en-core-web-sm==3.2.0) (7.1.2)\n",
            "Requirement already satisfied: thinc<8.1.0,>=8.0.12 in /usr/local/lib/python3.7/dist-packages (from spacy<3.3.0,>=3.2.0->en-core-web-sm==3.2.0) (8.0.15)\n",
            "Requirement already satisfied: tqdm<5.0.0,>=4.38.0 in /usr/local/lib/python3.7/dist-packages (from spacy<3.3.0,>=3.2.0->en-core-web-sm==3.2.0) (4.64.0)\n",
            "Requirement already satisfied: requests<3.0.0,>=2.13.0 in /usr/local/lib/python3.7/dist-packages (from spacy<3.3.0,>=3.2.0->en-core-web-sm==3.2.0) (2.23.0)\n",
            "Requirement already satisfied: langcodes<4.0.0,>=3.2.0 in /usr/local/lib/python3.7/dist-packages (from spacy<3.3.0,>=3.2.0->en-core-web-sm==3.2.0) (3.3.0)\n",
            "Requirement already satisfied: cymem<2.1.0,>=2.0.2 in /usr/local/lib/python3.7/dist-packages (from spacy<3.3.0,>=3.2.0->en-core-web-sm==3.2.0) (2.0.6)\n",
            "Requirement already satisfied: numpy>=1.15.0 in /usr/local/lib/python3.7/dist-packages (from spacy<3.3.0,>=3.2.0->en-core-web-sm==3.2.0) (1.21.5)\n",
            "Requirement already satisfied: zipp>=0.5 in /usr/local/lib/python3.7/dist-packages (from catalogue<2.1.0,>=2.0.6->spacy<3.3.0,>=3.2.0->en-core-web-sm==3.2.0) (3.8.0)\n",
            "Requirement already satisfied: pyparsing!=3.0.5,>=2.0.2 in /usr/local/lib/python3.7/dist-packages (from packaging>=20.0->spacy<3.3.0,>=3.2.0->en-core-web-sm==3.2.0) (3.0.8)\n",
            "Requirement already satisfied: smart-open<6.0.0,>=5.0.0 in /usr/local/lib/python3.7/dist-packages (from pathy>=0.3.5->spacy<3.3.0,>=3.2.0->en-core-web-sm==3.2.0) (5.2.1)\n",
            "Requirement already satisfied: idna<3,>=2.5 in /usr/local/lib/python3.7/dist-packages (from requests<3.0.0,>=2.13.0->spacy<3.3.0,>=3.2.0->en-core-web-sm==3.2.0) (2.10)\n",
            "Requirement already satisfied: chardet<4,>=3.0.2 in /usr/local/lib/python3.7/dist-packages (from requests<3.0.0,>=2.13.0->spacy<3.3.0,>=3.2.0->en-core-web-sm==3.2.0) (3.0.4)\n",
            "Requirement already satisfied: urllib3!=1.25.0,!=1.25.1,<1.26,>=1.21.1 in /usr/local/lib/python3.7/dist-packages (from requests<3.0.0,>=2.13.0->spacy<3.3.0,>=3.2.0->en-core-web-sm==3.2.0) (1.24.3)\n",
            "Requirement already satisfied: certifi>=2017.4.17 in /usr/local/lib/python3.7/dist-packages (from requests<3.0.0,>=2.13.0->spacy<3.3.0,>=3.2.0->en-core-web-sm==3.2.0) (2021.10.8)\n",
            "Requirement already satisfied: MarkupSafe>=0.23 in /usr/local/lib/python3.7/dist-packages (from jinja2->spacy<3.3.0,>=3.2.0->en-core-web-sm==3.2.0) (2.0.1)\n",
            "Installing collected packages: en-core-web-sm\n",
            "  Attempting uninstall: en-core-web-sm\n",
            "    Found existing installation: en-core-web-sm 2.2.5\n",
            "    Uninstalling en-core-web-sm-2.2.5:\n",
            "      Successfully uninstalled en-core-web-sm-2.2.5\n",
            "Successfully installed en-core-web-sm-3.2.0\n",
            "\u001b[38;5;2m✔ Download and installation successful\u001b[0m\n",
            "You can now load the package via spacy.load('en_core_web_sm')\n",
            "Requirement already satisfied: keras in /usr/local/lib/python3.7/dist-packages (2.8.0)\n"
          ]
        }
      ],
      "source": [
        "!pip install fasttext --progress-bar off\n",
        "!pip install -U spacy --progress-bar off\n",
        "!python -m spacy download en_core_web_sm\n",
        "!pip install keras\n",
        "\n",
        "from google.colab import drive\n",
        "\n",
        "# Preprocessing\n",
        "import re\n",
        "import os\n",
        "import spacy\n",
        "import pickle\n",
        "import pandas as pd\n",
        "from pandas import read_csv\n",
        "\n",
        "# FastText\n",
        "import fasttext\n",
        "import fasttext.util\n",
        "\n",
        "# MEN and SimLex Benchmarks\n",
        "from os import listdir\n",
        "from scipy.stats import spearmanr\n",
        "from sklearn.metrics.pairwise import cosine_similarity\n",
        "\n",
        "# ElasticNet and ANN\n",
        "import sklearn\n",
        "from sklearn.model_selection import cross_val_score, RepeatedKFold, train_test_split, StratifiedKFold, KFold\n",
        "from sklearn.metrics import mean_absolute_error, r2_score, accuracy_score, mean_squared_error\n",
        "from sklearn.linear_model import ElasticNetCV\n",
        "\n",
        "import numpy as np\n",
        "from numpy import mean\n",
        "from numpy import std\n",
        "from numpy import absolute\n",
        "from numpy.random import seed\n",
        "\n",
        "from tensorflow import keras\n",
        "from tensorflow.random import set_seed\n",
        "from tensorflow.keras.optimizers import Adam\n",
        "from tensorflow.keras.callbacks import EarlyStopping\n",
        "from tensorflow.keras.initializers import HeNormal\n",
        "from keras.models import Sequential\n",
        "from keras.layers.core import Dense, Dropout, Activation"
      ]
    },
    {
      "cell_type": "markdown",
      "id": "92f1ffd0-4597-433a-b9c7-bb2423556386",
      "metadata": {
        "id": "92f1ffd0-4597-433a-b9c7-bb2423556386"
      },
      "source": [
        "# Data Import"
      ]
    },
    {
      "cell_type": "code",
      "source": [
        "## Getting the list of madeup names:\n",
        "drive.mount(\"/content/drive\", force_remount=True) \n",
        "ratings_csv = pd.read_csv(\"drive/MyDrive/Thesis/Data/giovanni_email_data/avgRatings_annotated.csv\",\n",
        "                          usecols = [\"name\", \"name_type\"])                      ## Importing the names and name types\n",
        "\n",
        "ratings_csv.head(10)\n",
        "\n",
        "madeup_names = []\n",
        "\n",
        "for i in ratings_csv.index:                                                     ## Only choosing madeup names so I can filter them out of the FT vocab\n",
        "  if ratings_csv[\"name_type\"][i] == \"madeup\":\n",
        "    madeup_names.append(str(ratings_csv[\"name\"][i]))\n",
        "\n",
        "madeup_names_lower = list(map(lambda x: x.lower(), madeup_names))               ## Lowercasting the names since my entire vocab will be lowercast\n",
        "\n",
        "print(madeup_names[:5])\n",
        "print(len(madeup_names))\n",
        "print(madeup_names_lower[:5])\n",
        "print(len(madeup_names_lower))"
      ],
      "metadata": {
        "colab": {
          "base_uri": "https://localhost:8080/"
        },
        "id": "0AUEyOhEpf74",
        "outputId": "d6f25eba-a3af-40a6-db50-550e5f215d51"
      },
      "id": "0AUEyOhEpf74",
      "execution_count": 2,
      "outputs": [
        {
          "output_type": "stream",
          "name": "stdout",
          "text": [
            "Mounted at /content/drive\n",
            "['Alastor', 'Alecto', 'Amabala', 'Araminta', 'Arcturus']\n",
            "60\n",
            "['alastor', 'alecto', 'amabala', 'araminta', 'arcturus']\n",
            "60\n"
          ]
        }
      ]
    },
    {
      "cell_type": "code",
      "source": [
        "path = \"drive/My Drive/Thesis/Data/CoCA/Text/\"                                  ## These are the paths to easily export/import my dicts, txts, models, and pickles\n",
        "dict_path = \"drive/My Drive/Thesis/Data/CoCA/dict_pickles/\"\n",
        "unclean_path = path + \"texts_combined/all_texts_combined.txt\"\n",
        "model_path = \"drive/My Drive/Thesis/Data/CoCA/models/\"\n",
        "pickle_path = \"drive/MyDrive/Thesis/Data/fastText and others/\"\n",
        "norms_path = \"drive/My Drive/Thesis/Data/Norms/\""
      ],
      "metadata": {
        "id": "UwhQ--sVUGHl"
      },
      "id": "UwhQ--sVUGHl",
      "execution_count": 3,
      "outputs": []
    },
    {
      "cell_type": "markdown",
      "id": "34910b3e-c2f9-4d54-983d-e75c2127f4db",
      "metadata": {
        "id": "34910b3e-c2f9-4d54-983d-e75c2127f4db"
      },
      "source": [
        "## COCA"
      ]
    },
    {
      "cell_type": "code",
      "execution_count": null,
      "id": "bf7f61e8-e967-4ab9-895e-6fb974df4fc4",
      "metadata": {
        "id": "bf7f61e8-e967-4ab9-895e-6fb974df4fc4"
      },
      "outputs": [],
      "source": [
        "unclean_corpus = open(unclean_path).read()                                      ## Importing the entire coca"
      ]
    },
    {
      "cell_type": "code",
      "source": [
        "print(len(unclean_corpus))                                                      ## Showing the length and first 100 characters of the coca\n",
        "print(unclean_corpus[:100])"
      ],
      "metadata": {
        "id": "cuIyN1lBMe05",
        "outputId": "486626ae-0cf2-45ff-d70e-eafae963a54c",
        "colab": {
          "base_uri": "https://localhost:8080/"
        }
      },
      "id": "cuIyN1lBMe05",
      "execution_count": null,
      "outputs": [
        {
          "output_type": "stream",
          "name": "stdout",
          "text": [
            "2977527143\n",
            "@@4170367 Headnote # A puzzle has long pervaded the criminal law : why are two offenders who commit \n"
          ]
        }
      ]
    },
    {
      "cell_type": "markdown",
      "id": "a35ba177-63c9-43e0-8eb0-cc41ada452d6",
      "metadata": {
        "id": "a35ba177-63c9-43e0-8eb0-cc41ada452d6"
      },
      "source": [
        "## Names"
      ]
    },
    {
      "cell_type": "code",
      "execution_count": 4,
      "id": "efb0d50d-543f-4483-9b58-83812e4c7418",
      "metadata": {
        "id": "efb0d50d-543f-4483-9b58-83812e4c7418",
        "colab": {
          "base_uri": "https://localhost:8080/"
        },
        "outputId": "2b77b724-7191-45a8-e0da-28e50738e531"
      },
      "outputs": [
        {
          "output_type": "stream",
          "name": "stdout",
          "text": [
            "119\n",
            "179\n",
            "63\n",
            "       name  rating.mean_age    age name_type\n",
            "0  Adelaide        -0.617647    old      real\n",
            "2  Alasdair        18.709677  young      real\n",
            "3   Alastor        13.812500    old    madeup\n",
            "4    Alecto         3.593750    old    madeup\n",
            "5     Alice       -13.969697  young      real 119\n",
            "       name  rating.mean_gender  gender name_type\n",
            "0  Adelaide           45.727273  female      real\n",
            "1   Adelina           47.771429  female      real\n",
            "2  Alasdair          -35.657143    male      real\n",
            "3   Alastor          -38.833333    male    madeup\n",
            "4    Alecto          -35.722222  female    madeup 179\n",
            "        name  rating.mean_valence polarity name_type\n",
            "1    Adelina            31.621622      bad      real\n",
            "7    Amabala             5.935484     good    madeup\n",
            "8      Apple            32.444444     good   talking\n",
            "11  Arcturus           -11.166667     good    madeup\n",
            "13   Arobynn             7.645161      bad    madeup 63\n"
          ]
        }
      ],
      "source": [
        "### Read CSV File and Delete Unimportant Columns (i.e., everything that isn't the name, name type, rating, or the author's choice)\n",
        "\n",
        "### This is input for the FT model, which itself is the input for the ElasticNet and ANN regressions\n",
        "\n",
        "names_ratings = read_csv(\"drive/MyDrive/Thesis/Data/giovanni_email_data/avgRatings_annotated.csv\")\n",
        "\n",
        "#print(names_ratings.head())\n",
        "\n",
        "print(names_ratings['rating.mean_age'].notna().sum())                           ## Choosing only those rows where all columns are not NA\n",
        "print(names_ratings['rating.mean_gender'].notna().sum())\n",
        "print(names_ratings['rating.mean_valence'].notna().sum())\n",
        "\n",
        "df_age = names_ratings.loc[names_ratings['rating.mean_age'].notna(), ['name', 'rating.mean_age', 'age', 'name_type']]   ## Choosing the relevant columns\n",
        "print(df_age.head(), len(df_age))\n",
        "\n",
        "df_gender = names_ratings.loc[names_ratings['rating.mean_gender'].notna(), ['name', 'rating.mean_gender', 'gender', 'name_type']]\n",
        "print(df_gender.head(), len(df_gender))\n",
        "\n",
        "df_polarity = names_ratings.loc[names_ratings['rating.mean_valence'].notna(), ['name', 'rating.mean_valence', 'polarity', 'name_type']]\n",
        "print(df_polarity.head(), len(df_polarity))"
      ]
    },
    {
      "cell_type": "markdown",
      "id": "45b17c25-4631-4971-8c9e-9b13b9322a08",
      "metadata": {
        "id": "45b17c25-4631-4971-8c9e-9b13b9322a08"
      },
      "source": [
        "# Preprocessing"
      ]
    },
    {
      "cell_type": "markdown",
      "id": "6c46490a-70a1-41ae-8f63-ccf7fb08da08",
      "metadata": {
        "id": "6c46490a-70a1-41ae-8f63-ccf7fb08da08"
      },
      "source": [
        "\n",
        "## Cleaning Corpus"
      ]
    },
    {
      "cell_type": "code",
      "source": [
        "## Loading the English spacy pipeline and removing stopwords (since we are interested in gender bias, it's best to leave these words in)\n",
        "\n",
        "nlp = spacy.load(\"en_core_web_sm\")\n",
        "nlp.max_length = 10000000000\n",
        "\n",
        "nlp.Defaults.stop_words.remove('him')\n",
        "nlp.Defaults.stop_words.remove('her')\n",
        "nlp.Defaults.stop_words.remove('hers')\n",
        "nlp.Defaults.stop_words.remove('his')\n",
        "nlp.Defaults.stop_words.remove('he')\n",
        "nlp.Defaults.stop_words.remove('she')\n",
        "nlp.Defaults.stop_words.remove('himself')\n",
        "nlp.Defaults.stop_words.remove('herself')"
      ],
      "metadata": {
        "id": "xqknf8oNouf3"
      },
      "id": "xqknf8oNouf3",
      "execution_count": null,
      "outputs": []
    },
    {
      "cell_type": "code",
      "source": [
        "def clean_corpus_sentenced(data, corpus_dict, index):\n",
        "  ## Input: \n",
        "  # - Data = A (very) large string of corpus text\n",
        "  # - Corpus_dict = a dictionary to store individual sentences in\n",
        "  # - Index = the last index from the previous batch\n",
        "\n",
        "  ## Process: \n",
        "  # Remove all unwanted tokens, and store individual sentences in the dictionary\n",
        "\n",
        "  ## Output: \n",
        "  # - The dictionary of preprocessed sentences\n",
        "  # - The last sentence index, for the next batch to continue with (so that the order of the sentences is kept)\n",
        "\n",
        "  # Tokenization\n",
        "  with nlp.select_pipes(disable=[\"lemmatizer\", \"tok2vec\", \"tagger\", \"parser\"]):\n",
        "    nlp.enable_pipe(\"senter\")                                                   ## Helps with better segmenting into sentences\n",
        "    doc = nlp(data)\n",
        "\n",
        "  sentence = \"\"                                                                 ## Initialize an empty sentence\n",
        "\n",
        "  for token in doc:\n",
        "    if token.is_sent_start is True:                                             ## If token is the star of the sentence, add the previous sentence to the dictionary\n",
        "      if sentence == \"\":                                                        ## and create a new, clean sentence\n",
        "        continue\n",
        "      else:\n",
        "        corpus_dict[index] = sentence\n",
        "        sentence = \"\"\n",
        "        index += 1\n",
        "    \n",
        "    if token.is_upper is True:                                                  ## Remove all full-caps words\n",
        "      continue\n",
        "    elif token.is_stop is True:                                                 ## Remove all stopwords\n",
        "      continue\n",
        "    elif str(token).lower() in madeup_names_lower:                              ## Remove all words that are in my list of made-up names\n",
        "      continue\n",
        "    elif token.is_alpha:                                                        ## If the token has passed all previous tests, and it consists only of alphabetic\n",
        "      sentence += str(token).lower() + \" \"                                      ## characters, lowercast it and add an extra space to the end; continue to the next\n",
        "                                                                                ## token\n",
        "  return corpus_dict, index"
      ],
      "metadata": {
        "id": "_GxXQaOBOa9N"
      },
      "id": "_GxXQaOBOa9N",
      "execution_count": null,
      "outputs": []
    },
    {
      "cell_type": "code",
      "source": [
        "def corpus_dict_maker(data, start, end, index):\n",
        "  ## Input: \n",
        "  # - Data = The entire uncleaned corpus\n",
        "  # - Start = The character index to indicate the start of the current batch to preprocess\n",
        "  # - End = The character index to indicate the end of the current batch to preprocess\n",
        "  # - Index = The sentence index from the previous batch, to keep track of the number and order of the sentences\n",
        "\n",
        "  ## Process: \n",
        "  # Preprocess the corpus in batches, since there was not enough RAM to preprocess the entire corpus at once\n",
        "  # So, for every batch, all the characters between the start index and the end index are fed into the clean_corpus_sentenced() function\n",
        "  # and then this dictionary of sentences is saved as a pickle to Google drive\n",
        "\n",
        "  ## Output: \n",
        "  # Nothing; except that the sentence index is printed, which is used as input for the next batch (this was printed, so that it couldn't be lost if the \n",
        "  # runtime would disconnect (which it sadly did very often))\n",
        "\n",
        "  drive.mount(\"/content/drive\", force_remount=True)                             ## Connect to google drive\n",
        "  \n",
        "  corpus_dict = {}                                                              ## Create empty dictionary\n",
        "\n",
        "  prev_i = (start-2)*1000000                                                    ## Start with preprocessing the two million characters before the previous index\n",
        "                                                                                ## since the next range only preprocesses up to but not including the 'end' index\n",
        "\n",
        "  for i in range(start, end, 2):                                                ## In batches of 2 million characters, feed the batch to clean_corpus_sentenced()\n",
        "    print(i)                                                                   \n",
        "    i *= 1000000\n",
        "    corpus_dict, index = clean_corpus_sentenced(data[prev_i:i],\n",
        "                                                corpus_dict,\n",
        "                                                index)\n",
        "    prev_i = i\n",
        "  \n",
        "  if prev_i == 2976000000:                                                      ## Hardcoded; if we get near the end of the corpus, don't preprocess in a batch of\n",
        "    corpus_dict, index = clean_corpus_sentenced(data[prev_i:],                  ## 2 million characters (we would get an out of range error), but rather just \n",
        "                                                corpus_dict,                    ## preprocess the remaining characters, however many that may be\n",
        "                                                index)\n",
        "\n",
        "  print(index)\n",
        "\n",
        "  pickle_out = open(dict_path + \"corpus_dict_until_\" + str(end) + \".pickle\", \"wb\")  ## Save the dictionary as a pickle\n",
        "  pickle.dump(corpus_dict, pickle_out)\n",
        "  pickle_out.close()\n",
        "\n",
        "  drive.flush_and_unmount()                                                     ## Flush the pickle to my drive\n",
        "  print('All changes made in this colab session should now be visible in Drive.')\n",
        "\n"
      ],
      "metadata": {
        "id": "pt5GFTOnoKSQ"
      },
      "id": "pt5GFTOnoKSQ",
      "execution_count": null,
      "outputs": []
    },
    {
      "cell_type": "markdown",
      "source": [
        "#### All of the individual batches:"
      ],
      "metadata": {
        "id": "pFnzewRdf6LG"
      },
      "id": "pFnzewRdf6LG"
    },
    {
      "cell_type": "code",
      "source": [
        "## doing it in batches to \n",
        "## (1) make it possible in terms of time and the Google afk-checker captcha pop-up, and \n",
        "## (2) to not blow out the RAM and have it break down\n",
        "\n",
        "#corpus_dict_maker(unclean_corpus, 2, 500, 0)                   \n",
        "#corpus_dict_maker(unclean_corpus, 500, 640, 3217086)           \n",
        "#corpus_dict_maker(unclean_corpus, 640, 760, 4232218)           \n",
        "#corpus_dict_maker(unclean_corpus, 760, 800, 5439287)           \n",
        "#corpus_dict_maker(unclean_corpus, 800, 900, 5888161)\n",
        "#corpus_dict_maker(unclean_corpus, 900, 980, 7020129)\n",
        "#corpus_dict_maker(unclean_corpus, 980, 1150, 7891661)\n",
        "#corpus_dict_maker(unclean_corpus, 1150, 1200, 9903820) \n",
        "#corpus_dict_maker(unclean_corpus, 1200, 1204, 10502592)"
      ],
      "metadata": {
        "id": "UnBc-d9pjKgx"
      },
      "id": "UnBc-d9pjKgx",
      "execution_count": null,
      "outputs": []
    },
    {
      "cell_type": "code",
      "source": [
        "######### This block is separate because it kept crashing if I did it otherwise:\n",
        "\n",
        "#drive.mount(\"/content/drive\", force_remount=True) \n",
        "#corpus_dict = {}\n",
        "\n",
        "#prev_i = (1202)*1000000\n",
        "#i = 1203*1000000\n",
        "#corpus_dict, index = clean_corpus_sentenced(unclean_corpus[prev_i:i],\n",
        "#                                            corpus_dict,\n",
        "#                                            10547544)\n",
        "#prev_i = i\n",
        "\n",
        "#print(index)\n",
        "\n",
        "#pickle_out = open(path + \"corpus_dict_until_\" + str(1203) + \"_post_1204\" + \".pickle\", \"wb\")\n",
        "#pickle.dump(corpus_dict, pickle_out)\n",
        "#pickle_out.close()\n",
        "\n",
        "#drive.flush_and_unmount()\n",
        "#print('All changes made in this colab session should now be visible in Drive.')\n",
        "\n",
        "################################################################################\n",
        "\n",
        "######### This block is separate because it kept crashing if I did it otherwise:\n",
        "\n",
        "#drive.mount(\"/content/drive\", force_remount=True) \n",
        "#corpus_dict = {}\n",
        "\n",
        "#prev_i = (1203)*1000000\n",
        "#i = 1204*1000000\n",
        "#corpus_dict, index = clean_corpus_sentenced(unclean_corpus[prev_i:i],\n",
        "#                                            corpus_dict,\n",
        "#                                            index + 1)\n",
        "#prev_i = i\n",
        "\n",
        "#print(index)\n",
        "\n",
        "#pickle_out = open(path + \"corpus_dict_until_\" + str(1204) + \"_post_1204\" + \".pickle\", \"wb\")\n",
        "#pickle.dump(corpus_dict, pickle_out)\n",
        "#pickle_out.close()\n",
        "\n",
        "#drive.flush_and_unmount()\n",
        "#print('All changes made in this colab session should now be visible in Drive.')\n",
        "\n",
        "################################################################################\n",
        "\n",
        "######### This block is separate because it kept crashing if I did it otherwise:\n",
        "\n",
        "#drive.mount(\"/content/drive\", force_remount=True) \n",
        "#corpus_dict = {}\n",
        "\n",
        "#prev_i = (1204)*1000000\n",
        "#i = 1205*1000000\n",
        "#corpus_dict, index = clean_corpus_sentenced(unclean_corpus[prev_i:i],\n",
        "#                                            corpus_dict,\n",
        "#                                            10580543)\n",
        "#prev_i = i\n",
        "\n",
        "#print(index)\n",
        "\n",
        "#pickle_out = open(path + \"corpus_dict_until_\" + str(1205) + \"_post_1204\" + \".pickle\", \"wb\")\n",
        "#pickle.dump(corpus_dict, pickle_out)\n",
        "#pickle_out.close()\n",
        "\n",
        "#drive.flush_and_unmount()\n",
        "#print('All changes made in this colab session should now be visible in Drive.')\n",
        "\n",
        "################################################################################\n",
        "\n",
        "######### This block is separate because it kept crashing if I did it otherwise:\n",
        "\n",
        "#drive.mount(\"/content/drive\", force_remount=True) \n",
        "#corpus_dict = {}\n",
        "\n",
        "#prev_i = (1205)*1000000\n",
        "#i = 1206*1000000\n",
        "#corpus_dict, index = clean_corpus_sentenced(unclean_corpus[prev_i:i],\n",
        "#                                            corpus_dict,\n",
        "#                                            index + 1)\n",
        "#prev_i = i\n",
        "\n",
        "#print(index)\n",
        "\n",
        "#pickle_out = open(path + \"corpus_dict_until_\" + str(1206) + \"_post_1204\" + \".pickle\", \"wb\")\n",
        "#pickle.dump(corpus_dict, pickle_out)\n",
        "#pickle_out.close()\n",
        "\n",
        "#drive.flush_and_unmount()\n",
        "#print('All changes made in this colab session should now be visible in Drive.')\n",
        "\n",
        "################################################################################"
      ],
      "metadata": {
        "id": "057QoMHol9Tb"
      },
      "id": "057QoMHol9Tb",
      "execution_count": null,
      "outputs": []
    },
    {
      "cell_type": "code",
      "source": [
        "#corpus_dict_maker(unclean_corpus, 1208, 1300, 10611881)\n",
        "#corpus_dict_maker(unclean_corpus, 1300, 1500, 11486498)\n",
        "#corpus_dict_maker(unclean_corpus, 1500, 1750, 13172710)\n",
        "#corpus_dict_maker(unclean_corpus, 1750, 1846, 15332847)\n",
        "#corpus_dict_maker(unclean_corpus, 1846, 1848, 16123425)\n",
        "#corpus_dict_maker(unclean_corpus, 1848, 1850, 16147433)\n",
        "#corpus_dict_maker(unclean_corpus, 1850, 1900, 16172965)\n",
        "#corpus_dict_maker(unclean_corpus, 1900, 1968, 16855832)\n",
        "#corpus_dict_maker(unclean_corpus, 1968, 1970, 17790964)\n",
        "#corpus_dict_maker(unclean_corpus, 1970, 2000, 17819821)\n",
        "#corpus_dict_maker(unclean_corpus, 2000, 2022, 18244076)\n",
        "#corpus_dict_maker(unclean_corpus, 2022, 2024, 18536113)\n",
        "#corpus_dict_maker(unclean_corpus, 2024, 2026, 18558956)\n",
        "#corpus_dict_maker(unclean_corpus, 2026, 2068, 18583534)\n",
        "#corpus_dict_maker(unclean_corpus, 2068, 2070, 19154020)\n",
        "#corpus_dict_maker(unclean_corpus, 2070, 2100, 19179335)\n",
        "#corpus_dict_maker(unclean_corpus, 2100, 2166, 19598984)\n",
        "#corpus_dict_maker(unclean_corpus, 2166, 2168, 20488725)\n",
        "#corpus_dict_maker(unclean_corpus, 2168, 2188, 20524278)"
      ],
      "metadata": {
        "id": "fWVWwqEAmMnb"
      },
      "id": "fWVWwqEAmMnb",
      "execution_count": null,
      "outputs": []
    },
    {
      "cell_type": "code",
      "source": [
        "######### This block is separate because it kept crashing if I did it otherwise:\n",
        "\n",
        "#drive.mount(\"/content/drive\", force_remount=True) \n",
        "#corpus_dict = {}\n",
        "\n",
        "#prev_i = (2186)*1000000\n",
        "#i = 2187*1000000\n",
        "#corpus_dict, index = clean_corpus_sentenced(unclean_corpus[prev_i:i],\n",
        "#                                            corpus_dict,\n",
        "#                                            20779021)\n",
        "#prev_i = i\n",
        "\n",
        "#print(index)\n",
        "\n",
        "#pickle_out = open(path + \"corpus_dict_until_\" + str(2187) + \"_post_2188\" + \".pickle\", \"wb\")\n",
        "#pickle.dump(corpus_dict, pickle_out)\n",
        "#pickle_out.close()\n",
        "\n",
        "#drive.flush_and_unmount()\n",
        "#print('All changes made in this colab session should now be visible in Drive.')\n",
        "\n",
        "################################################################################\n",
        "\n",
        "######### This block is separate because it kept crashing if I did it otherwise:\n",
        "\n",
        "#drive.mount(\"/content/drive\", force_remount=True) \n",
        "#corpus_dict = {}\n",
        "\n",
        "#prev_i = (2187)*1000000\n",
        "#i = 2188*1000000\n",
        "#corpus_dict, index = clean_corpus_sentenced(unclean_corpus[prev_i:i],\n",
        "#                                            corpus_dict,\n",
        "#                                            index + 1)\n",
        "#prev_i = i\n",
        "\n",
        "#print(index)\n",
        "\n",
        "#pickle_out = open(path + \"corpus_dict_until_\" + str(2188) + \"_post_2188\" + \".pickle\", \"wb\")\n",
        "#pickle.dump(corpus_dict, pickle_out)\n",
        "#pickle_out.close()\n",
        "\n",
        "#drive.flush_and_unmount()\n",
        "#print('All changes made in this colab session should now be visible in Drive.')\n",
        "\n",
        "################################################################################"
      ],
      "metadata": {
        "id": "rzysL5YBbz1M"
      },
      "id": "rzysL5YBbz1M",
      "execution_count": null,
      "outputs": []
    },
    {
      "cell_type": "code",
      "source": [
        "#corpus_dict_maker(unclean_corpus, 2190, 2200, 20812123)\n",
        "#corpus_dict_maker(unclean_corpus, 2200, 2310, 20945992)\n",
        "#corpus_dict_maker(unclean_corpus, 2310, 2312, 22397914)\n",
        "#corpus_dict_maker(unclean_corpus, 2312, 2400, 22424124)\n",
        "#corpus_dict_maker(unclean_corpus, 2400, 2600, 23465826)\n",
        "#corpus_dict_maker(unclean_corpus, 2600, 2800, 25199888)\n",
        "#corpus_dict_maker(unclean_corpus, 2800, 2977, 26938737)"
      ],
      "metadata": {
        "id": "tyV6gFTWb0VJ"
      },
      "id": "tyV6gFTWb0VJ",
      "execution_count": null,
      "outputs": []
    },
    {
      "cell_type": "code",
      "source": [
        "## This block of code opens all of the corpus dict pickles, and combines them together\n",
        "## into one big dictionary: corpus_dict_complete\n",
        "\n",
        "file_number = 1\n",
        "file_list = []\n",
        "for file_name in os.listdir(dict_path):                                         ## Locate all dicts in the folder\n",
        "  with open(dict_path + str(file_name), 'rb') as f:\n",
        "    exec(\"dict_\" + str(file_number) + \" = \" + \"pickle.load(f)\")\n",
        "    file_list.append(\"dict_\" + str(file_number))    \n",
        "    file_number += 1\n",
        "  \n",
        "corpus_dict_complete = {}\n",
        "for file_name in file_list:                                                     \n",
        "  corpus_dict_complete = {**corpus_dict_complete, **globals()[file_name]}       ## Add the contents of the dicts to dict_complete\n",
        "  del globals()[file_name]\n",
        "\n",
        "#print(len(corpus_dict_complete))\n",
        "#del file_number\n",
        "#del file_list\n",
        "\n",
        "#pickle_out = open(dict_path + \"corpus_dict_complete.pickle\", \"wb\")             ## Create a new pickle\n",
        "#pickle.dump(corpus_dict_complete, pickle_out)\n",
        "#del corpus_dict_complete\n",
        "#pickle_out.close()\n",
        "\n",
        "#drive.flush_and_unmount()                                                      ## Flush the pickle to my drive\n",
        "#print('All changes made in this colab session should now be visible in Drive.')"
      ],
      "metadata": {
        "id": "HCY3IGTxeuXN"
      },
      "id": "HCY3IGTxeuXN",
      "execution_count": null,
      "outputs": []
    },
    {
      "cell_type": "code",
      "source": [
        "## This block of code opens the corpus_dict_complete pickle, and loops through the keys by index (from lowest to highest).\n",
        "## So, we loop through every sentence, in order. These are stored in two different .txt files, one where the sentence structure is remained \n",
        "## (i.e., between every sentence, we add a newline character), and one that's unsentenced (i.e., no newline character between sentences).\n",
        "\n",
        "with open(dict_path + \"corpus_dict_complete.pickle\", \"rb\") as d:                ## Open corpus_dict_complete\n",
        "  corpus_dict_complete = pickle.load(d)\n",
        "\n",
        "  with open(path + \"cleaned_sentenced_corpus_complete.txt\", \"w\") as f:          ## Open sentenced corpus .txt file\n",
        "    for key in sorted(corpus_dict_complete):\n",
        "      if len(str(corpus_dict_complete[key]).split()) < 2:                       ## Remove sentences with only 1 word (since there's no 'context' in that case)\n",
        "        continue\n",
        "      else:\n",
        "        if str(corpus_dict_complete[key])[:2] in [\"m \", \"p \", \"s \"]:            ## I have to add this, because based on manual inspection, a significant amount of \n",
        "          f.write(str(corpus_dict_complete[key])[2:] + \"\\n\")                    ## sentences start with just a \"p\", \"m\", or \"s\"\n",
        "        else:\n",
        "          f.write(str(corpus_dict_complete[key]) + \"\\n\")\n",
        "\n",
        "  with open(path + \"cleaned_unsentenced_corpus_complete.txt\", \"w\") as f2:       ## Open unsentenced corpus .txt file\n",
        "    for key in sorted(corpus_dict_complete): \n",
        "      if len(str(corpus_dict_complete[key])) < 4:                               ## Remove sentences with less than 4 characers, since based on visual inspection, I\n",
        "        continue                                                                ## saw that such sentences are mostly nonsense (i.e., not real words)\n",
        "      else:\n",
        "        if str(corpus_dict_complete[key])[:2] in [\"m \", \"p \", \"s \"]:\n",
        "          f2.write(str(corpus_dict_complete[key])[2:])\n",
        "        else:\n",
        "          f2.write(str(corpus_dict_complete[key]))\n",
        "  \n",
        "drive.flush_and_unmount()                                                       ## Flush to drive\n",
        "print('All changes made in this colab session should now be visible in Drive.')"
      ],
      "metadata": {
        "id": "YkdDjN1AodpH",
        "outputId": "b2b8493b-8584-459f-a74c-6c023c7743f3",
        "colab": {
          "base_uri": "https://localhost:8080/"
        }
      },
      "id": "YkdDjN1AodpH",
      "execution_count": null,
      "outputs": [
        {
          "output_type": "stream",
          "name": "stdout",
          "text": [
            "All changes made in this colab session should now be visible in Drive.\n"
          ]
        }
      ]
    },
    {
      "cell_type": "markdown",
      "id": "a09e790a-e08f-4144-b01e-25af29a8816f",
      "metadata": {
        "id": "a09e790a-e08f-4144-b01e-25af29a8816f"
      },
      "source": [
        "## Training fastText and Validating on MEN and SimLex999"
      ]
    },
    {
      "cell_type": "markdown",
      "source": [
        "### fastText"
      ],
      "metadata": {
        "id": "Mk9EPG5rwc0H"
      },
      "id": "Mk9EPG5rwc0H"
    },
    {
      "cell_type": "code",
      "source": [
        "# def fasttext_tuner(data_type):                                                ## I have chosen Skipgram, I won't play around with epochs or learning rate\n",
        "#   for dimensionality in [100, 300]:                                           ## I'm first checking data type and dimensionality, and choosing the most promising combination.\n",
        "#     for window_size in [2, 3, 4, 5, 6, 7]:                                    ## Then I'll check window size and choose the 3 most promising ones\n",
        "#       for min_n in [1, 2, 3]:                                                 ## Then I want to check min_n 2 and 1 to see whether adding n-gram size of 1 makes any sense\n",
        "#         for max_n in [5, 6, 7]:                                               ## Lastly, I will iterate through the 3 * 2 * 3 most promising models, finally choosing the best one and then double checking that with\n",
        "#           model = fasttext.train_unsupervised(input = path + \"cleaned_\" +     ## the 100/300 sentenced/unsentenced options, just to be sure! In total, this means training 4 + 5 + ~16 + 3 = ~30 models instead of 216\n",
        "#                                               data_type + \n",
        "#                                               \"_corpus_complete.txt\",\n",
        "#                                               model = \"skipgram\",\n",
        "#                                               dim = dimensionality, \n",
        "#                                               ws = window_size, \n",
        "#                                               minn = min_n,\n",
        "#                                               maxn = max_n)\n",
        "          \n",
        "#           model.save_model(model_path + data_type + \"_dim\" + str(dimensionality) + \n",
        "#                             \"_ws\" + str(window_size) + \"_minn\" + str(min_n) + \n",
        "#                             \"_maxn\" + str(max_n) + \".bin\")\n",
        "          \n",
        "#           print(data_type + \"_dim\" + str(dimensionality) + \"_ws\" + str(window_size) + \n",
        "#                 \"_minn\" + str(min_n) + \"_maxn\" + str(max_n))\n",
        "\n",
        "#           del model\n",
        "\n",
        "#   drive.flush_and_unmount()\n",
        "#   print('All changes made in this colab session should now be visible in Drive.')"
      ],
      "metadata": {
        "id": "SVSZbTIchM28"
      },
      "id": "SVSZbTIchM28",
      "execution_count": null,
      "outputs": []
    },
    {
      "cell_type": "code",
      "execution_count": null,
      "id": "aaa3cc3c-e1a4-489b-b0c6-e25bd045783f",
      "metadata": {
        "id": "aaa3cc3c-e1a4-489b-b0c6-e25bd045783f"
      },
      "outputs": [],
      "source": [
        "fasttext.util.download_model('en', if_exists='ignore')  # English\n",
        "ft = fasttext.load_model('cc.en.300.bin')\n",
        "ft.save_model(model_path + \"pretrained_model.bin\")"
      ]
    },
    {
      "cell_type": "code",
      "source": [
        "def fasttext_tuner(data_type, dimensionality = 300, window_size = 5, min_n = 3, max_n = 6):\n",
        "  ## Input: \n",
        "  # - Data Type: Sentenced or unsentenced, to load the corpus type to train model\n",
        "  # - Dimensionality: List of dimensionalities\n",
        "  # - Window size: List of window sizes \n",
        "  # - Min_n: List of minimum n-gram sizes \n",
        "  # - Max-n: List of maximum n-gram sizes \n",
        "\n",
        "  ## Process: \n",
        "  # For every combination of input variables, a fastText model is trained and saved\n",
        "\n",
        "  ## Output:\n",
        "  # Nothing; fastText model is trained and saved\n",
        "\n",
        "  for d in dimensionality:                                           \n",
        "    for ws in window_size:                                    \n",
        "      for minn in min_n:                                                 \n",
        "        for maxn in max_n:\n",
        "          drive.mount(\"/content/drive\", force_remount=True)                     ## Mount drive\n",
        "\n",
        "          model = fasttext.train_unsupervised(input = path + \"cleaned_\" + data_type + \"_corpus_complete_without_p_s_m.txt\",   ## Train model\n",
        "                                              model = \"skipgram\", dim = d, ws = ws, minn = minn, maxn = maxn)\n",
        "\n",
        "          model.save_model(model_path + data_type + \"_dim\" + str(d) + \"_ws\" + str(ws) + \"_minn\" + str(minn) + \"_maxn\" + str(maxn) + \".bin\")   ## Save model\n",
        "\n",
        "          print(data_type + \"_dim\" + str(d) + \"_ws\" + str(ws) + \"_minn\" + str(minn) + \"_maxn\" + str(maxn))\n",
        "\n",
        "          drive.flush_and_unmount()                                             ## Flush model to drive\n",
        "          print('All changes made in this colab session should now be visible in Drive.')\n",
        "\n",
        "          del model"
      ],
      "metadata": {
        "id": "QCnCgy1QqXmQ"
      },
      "id": "QCnCgy1QqXmQ",
      "execution_count": null,
      "outputs": []
    },
    {
      "cell_type": "code",
      "source": [
        "## Trying out some variations of fastText with Data = sentenced & Dimensionality = 100\n",
        "\n",
        "fasttext_tuner(\"sentenced\", [100], [2], [2], [3])\n",
        "fasttext_tuner(\"sentenced\", [100], [2, 3, 4, 5, 6, 7], [2], [5, 6, 7])\n",
        "fasttext_tuner(\"sentenced\", [100], [5], [3], [6])\n",
        "fasttext_tuner(\"sentenced\", [100], [5], [1], [6])\n",
        "\n",
        "## Trying out some variations of fastText with Data = sentenced & Dimensionality = 300\n",
        "\n",
        "fasttext_tuner(\"sentenced\", [300], [3, 4], [2], [5, 6, 7])\n",
        "fasttext_tuner(\"sentenced\", [300], [5], [2], [5, 6])\n",
        "fasttext_tuner(\"sentenced\", [300], [5], [3], [6])\n",
        "fasttext_tuner(\"sentenced\", [300], [3], [3], [5])\n",
        "fasttext_tuner(\"sentenced\", [300], [3], [2], [4])\n",
        "fasttext_tuner(\"sentenced\", [300], [2, 6, 7], [2], [5])\n",
        "\n",
        "## Trying out some variations of fastText with Data = unsentenced \n",
        "\n",
        "fasttext_tuner(\"unsentenced\", [300], [5], [3], [6])\n",
        "fasttext_tuner(\"unsentenced\", [100], [5], [3], [6])"
      ],
      "metadata": {
        "id": "BEfZcRmNqXfi"
      },
      "id": "BEfZcRmNqXfi",
      "execution_count": null,
      "outputs": []
    },
    {
      "cell_type": "markdown",
      "source": [
        "### MEN and SimLex Benchmarks"
      ],
      "metadata": {
        "id": "auG91yFzwfxP"
      },
      "id": "auG91yFzwfxP"
    },
    {
      "cell_type": "code",
      "source": [
        "def compute_similarity(model, word1, word2):\n",
        "  # Input:\n",
        "  # - Model = the model that is used to get embeddings for word1 and word2\n",
        "  # - Word1 = the first word\n",
        "  # - Word2 = the second word\n",
        "\n",
        "  # Process: \n",
        "  # Given the embeddings for word1 and word2 derived from the model, calculate\n",
        "  # the cosine similarity between these words\n",
        "\n",
        "  # Output:\n",
        "  # The cosine similarity between word1 and word2 given the current model\n",
        "\n",
        "    e1 = model[word1]\n",
        "    e2 = model[word2]\n",
        "    s = cosine_similarity(e1.reshape(1, -1), e2.reshape(1, -1))\n",
        "    return s[0][0]"
      ],
      "metadata": {
        "id": "GVAVzmt0wixs"
      },
      "id": "GVAVzmt0wixs",
      "execution_count": null,
      "outputs": []
    },
    {
      "cell_type": "code",
      "source": [
        "def compute_correlation_men(norms, model):\n",
        "  # Input:\n",
        "  # - Norms = The MEN similarity scores for word1 and word2\n",
        "  # - Model = the model that will be scored\n",
        "\n",
        "  # Process: \n",
        "  # For every model, note down the true similarity score (as dictated by the MEN\n",
        "  # benchmark) and then estimate the similarity for the current model using the \n",
        "  # compute_similarity() function\n",
        "\n",
        "  # Output:\n",
        "  # The Spearman R between the true and estimated similarities for the current\n",
        "  # model.\n",
        "\n",
        "        true_similarities = []\n",
        "        estimated_similarities = []\n",
        "        for _, row in norms.iterrows():\n",
        "            s = compute_similarity(model, row['w1'], row['w2'])\n",
        "\n",
        "            estimated_similarities.append(s)\n",
        "            true_similarities.append(row['sim'])\n",
        "        \n",
        "        return spearmanr(true_similarities, estimated_similarities)[0]"
      ],
      "metadata": {
        "id": "qRPpzYPdzqvD"
      },
      "id": "qRPpzYPdzqvD",
      "execution_count": null,
      "outputs": []
    },
    {
      "cell_type": "code",
      "source": [
        "def compute_correlation_simlex(norms, model):\n",
        "  # Input:\n",
        "  # - Norms = The SimLex similarity scores for word1 and word2\n",
        "  # - Model = the model that will be scored\n",
        "\n",
        "  # Process: \n",
        "  # For every model, note down the true similarity score (as dictated by the SimLex\n",
        "  # benchmark) and then estimate the similarity for the current model using the \n",
        "  # compute_similarity() function\n",
        "\n",
        "  # Output:\n",
        "  # The Spearman R between the true and estimated similarities for the current\n",
        "  # model.\n",
        "\n",
        "        true_similarities = []\n",
        "        estimated_similarities = []\n",
        "        for _, row in norms.iterrows():\n",
        "            s = compute_similarity(model, row['word1'], row['word2'])\n",
        "\n",
        "            estimated_similarities.append(s)\n",
        "            true_similarities.append(row['SimLex999'])\n",
        "        \n",
        "        return spearmanr(true_similarities, estimated_similarities)[0]"
      ],
      "metadata": {
        "id": "dcsEKh_KzrcZ"
      },
      "id": "dcsEKh_KzrcZ",
      "execution_count": null,
      "outputs": []
    },
    {
      "cell_type": "code",
      "source": [
        "men_norms = pd.read_csv(norms_path + 'norms.dev.csv', sep = ' ')                # Read the MEN benchmark CSV file\n",
        "\n",
        "combi_score = {}\n",
        "men_dict = {}\n",
        "\n",
        "for model in os.listdir(model_path):                                            # For every saved model, calculate the scores on the MEN benchmarks\n",
        "  men_dict[str(model)] = compute_correlation_men(men_norms, model)\n",
        "  combi_score[str(model)] = compute_correlation_men(men_norms, model)\n",
        "\n",
        "men_dict['pretrained_model'] = compute_correlation_men(men_norms, ft)           # Calculating the scores for the baseline (pretrained) model\n",
        "combi_score['pretrained_model'] = compute_correlation_men(men_norms, ft)"
      ],
      "metadata": {
        "id": "kjTCodSdt7OY"
      },
      "id": "kjTCodSdt7OY",
      "execution_count": null,
      "outputs": []
    },
    {
      "cell_type": "code",
      "source": [
        "simlex_norms = pd.read_csv(norms_path + 'SimLex-999.txt', sep = '\\t')           # Read the SimLex benchmark text file\n",
        "\n",
        "simlex_dict = {}\n",
        "\n",
        "for model in os.listdir(model_path):                                            # For every saved model, calculate the scores on the SimLex benchmarks\n",
        "  simlex_dict[str(model)] = compute_correlation_simlex(simlex_norms, model)\n",
        "  combi_score[str(model)] = compute_correlation_simlex(simlex_norms, model)\n",
        "\n",
        "simlex_dict['pretrained_model')] = compute_correlation_simlex(simlex_norms, ft) # Calculating the scores for the baseline (pretrained) model\n",
        "combi_score['pretrained_model'] = compute_correlation_simlex(simlex_norms, ft)"
      ],
      "metadata": {
        "id": "lOuL_V6Kt8zt"
      },
      "id": "lOuL_V6Kt8zt",
      "execution_count": null,
      "outputs": []
    },
    {
      "cell_type": "code",
      "source": [
        "pickle_men = open(pickle_path + \"men_scores.pickle\", \"wb\")                       # Save the MEN scores as a pickle\n",
        "pickle.dump(men_dict, pickle_men)\n",
        "pickle_men.close()\n",
        "\n",
        "pickle_simlex = open(pickle_path + \"simlex_scores.pickle\", \"wb\")                 # Save the SimLex scores as a pickle\n",
        "pickle.dump(simlex_dict, pickle_simlex)\n",
        "pickle_simlex.close()\n",
        "\n",
        "pickle_combi = open(pickle_path + \"combi_scores.pickle\", \"wb\")                   # Save the combined scores as a pickle\n",
        "pickle.dump(combi_score, pickle_combi)\n",
        "pickle_combi.close()"
      ],
      "metadata": {
        "id": "dVz29qVhzvbh"
      },
      "id": "dVz29qVhzvbh",
      "execution_count": null,
      "outputs": []
    },
    {
      "cell_type": "code",
      "source": [
        "for i in sorted(men_dict, key = men_dict.get, reverse = True):\n",
        "    print(i, men_dict[i])"
      ],
      "metadata": {
        "id": "an2nkEf9zv2u"
      },
      "id": "an2nkEf9zv2u",
      "execution_count": null,
      "outputs": []
    },
    {
      "cell_type": "code",
      "source": [
        "for i in sorted(simlex_dict, key = simlex_dict.get, reverse = True):\n",
        "    print(i, simlex_dict[i])"
      ],
      "metadata": {
        "id": "YzNq-FeJz-CS"
      },
      "id": "YzNq-FeJz-CS",
      "execution_count": null,
      "outputs": []
    },
    {
      "cell_type": "code",
      "source": [
        "for i in sorted(combi_score, key = combi_score.get, reverse = True):\n",
        "    print(i, combi_score[i])"
      ],
      "metadata": {
        "id": "QNqql7wIz-hs"
      },
      "id": "QNqql7wIz-hs",
      "execution_count": null,
      "outputs": []
    },
    {
      "cell_type": "markdown",
      "source": [
        "### Final Model"
      ],
      "metadata": {
        "id": "2MhYKRfpPEVJ"
      },
      "id": "2MhYKRfpPEVJ"
    },
    {
      "cell_type": "code",
      "source": [
        "drive.mount(\"/content/drive\", force_remount=True) \n",
        "\n",
        "model = fasttext.load_model(\"drive/MyDrive/Thesis/Data/fastText and others/sentenced_dim300_ws2_minn2_maxn5.bin\")"
      ],
      "metadata": {
        "colab": {
          "base_uri": "https://localhost:8080/"
        },
        "id": "e64L1cxtPGmv",
        "outputId": "bdcf2c8e-fda3-4aeb-fe09-09db32a2e16a"
      },
      "id": "e64L1cxtPGmv",
      "execution_count": 5,
      "outputs": [
        {
          "output_type": "stream",
          "name": "stdout",
          "text": [
            "Mounted at /content/drive\n"
          ]
        },
        {
          "output_type": "stream",
          "name": "stderr",
          "text": [
            "Warning : `load_model` does not return WordVectorModel or SupervisedModel any more, but a `FastText` object which is very similar.\n"
          ]
        }
      ]
    },
    {
      "cell_type": "markdown",
      "source": [
        "## ElasticNet and Neural Network Regressions"
      ],
      "metadata": {
        "id": "caLUM8tC6_BY"
      },
      "id": "caLUM8tC6_BY"
    },
    {
      "cell_type": "code",
      "source": [
        "def fasttext_xifyer(input_data):\n",
        "  # Input:\n",
        "  # - input_data = dataframe containing the names of the characters\n",
        "\n",
        "  # Process:\n",
        "  # Convert the character names to embeddings using FT\n",
        "\n",
        "  # Output:\n",
        "  # - df_output = a dataframe of word embeddings; one embedding per character name\n",
        "\n",
        "  df_output = np.zeros((len(input_data), 300))                                  # Create an array of length = number of input rows & width = 300 (because of ft)\n",
        "\n",
        "  i = 0\n",
        "\n",
        "  for row in input_data.iterrows():                                             # For every row in the input data\n",
        "    index = row[0]\n",
        "    name = row[1][0].lower()                                                    # Lowercast the name\n",
        "    df_output[i] = model[name]                                                  # Compute the fastText score of the name, and add it to the output array\n",
        "    i += 1\n",
        "\n",
        "  return df_output"
      ],
      "metadata": {
        "id": "k7lbNPag7CrC"
      },
      "id": "k7lbNPag7CrC",
      "execution_count": 6,
      "outputs": []
    },
    {
      "cell_type": "code",
      "source": [
        "def fasttext_xifyer_formless(input_data):\n",
        "  # Input & Output are exactly the same as fasttext_xifyer\n",
        "\n",
        "  # Process:\n",
        "  # Similar to fasttext_xifyer, however, if the name has a 'surface' form that \n",
        "  # is already present in the model vocabulary, then we only use the embeddings\n",
        "  # for the subwords. I.e., as compared to fasttext_xifyer, this function does \n",
        "  # NOT consider the 'surface' form embedding for the character names\n",
        "\n",
        "  df_output = np.zeros((len(input_data), 300))                                  # Create an array of length = number of input rows & width = 300 (because of ft)\n",
        "\n",
        "  c = 0\n",
        "\n",
        "  for row in input_data.iterrows():                                             # For every row in the input data\n",
        "    index = row[0]\n",
        "    name = row[1][0].lower()\n",
        "    if name == model.get_subwords(name)[0][0]:                                  # If the surface form of the name is present in the model vocabulary\n",
        "      wordarray = np.zeros((len(model.get_subwords(name)[0][1:]), 300))         # Create an array of length = amount of subwords, and width = 300\n",
        "      for i, j in enumerate(model.get_subwords(name)[0][1:]):         \n",
        "          wordarray[i] = model[j]                                               # Then calculate the embeddings for every subword, and add them to the subword_array\n",
        "      df_output[c] = np.mean(wordarray, axis = 0)                               # Take the mean of all of the embeddings, so that we get an array of length = 1 (i.e., 1 name), and width = 300\n",
        "    else:\n",
        "      df_output[c] = model[name]                                                # Else (if no surface name is present in the model vocabulary), just take the embedding of the name as is\n",
        "    c += 1\n",
        "\n",
        "  return df_output"
      ],
      "metadata": {
        "id": "naiHtQXc7R-2"
      },
      "id": "naiHtQXc7R-2",
      "execution_count": 7,
      "outputs": []
    },
    {
      "cell_type": "code",
      "source": [
        "mean_vector = np.zeros((len(model.words), 300))                                 # Create a mean vector array of length = amount of words in the model vocab, and width = 300\n",
        "\n",
        "i = 0\n",
        "\n",
        "for word in model.words:                          \n",
        "  mean_vector[i] = model.get_word_vector(word)                                  # For every word in the vocab, get it's word embedding vector and add it to the mean_vector array\n",
        "  i += 1\n",
        "\n",
        "mean_vector = np.mean(mean_vector, axis = 0)                                    # Take the mean of the array so that we get a mean_vector of length = 1, and width = 300"
      ],
      "metadata": {
        "id": "SLBg426YYSGw"
      },
      "id": "SLBg426YYSGw",
      "execution_count": 8,
      "outputs": []
    },
    {
      "cell_type": "markdown",
      "source": [
        "### ElasticNet"
      ],
      "metadata": {
        "id": "npGJDFp77bHD"
      },
      "id": "npGJDFp77bHD"
    },
    {
      "cell_type": "code",
      "source": [
        "def elasticnetifyer(x_train, y_train, x_test, y_test, test_full):\n",
        "  # Input:\n",
        "  # - x_train = array of embeddings used to train the model\n",
        "  # - y_train = array of ratings used to train the model\n",
        "  # - x_test = array of embeddings used to test the model\n",
        "  # - y_test = array of ratings used to test the model\n",
        "  # - test_full = full dataframe, which contains, among other things, the full \n",
        "  # names (i.e., not the embeddings) and the name type (real, madeup, talking)\n",
        "\n",
        "  # Process:\n",
        "  # Given x_train and y_train, train the ElasticNet CV model. When it converges,\n",
        "  # calculate the MSE, MAE, and R2 for a bunch of different settings (test set,\n",
        "  # name types, mean_vector-only model, mean_vector_or_surface_form model)\n",
        "\n",
        "  # Output:\n",
        "  # --> Too big to all individually explain here. The ouput contains the alpha, \n",
        "  # l1_ratio, n_iters, intercept, and MSE of the trained model.\n",
        "  # Furthermore, it outputs the MAE, MSE, and R2 of the test set, as well as the\n",
        "  # MAE for the three different name types, the MAE for a mean_vector_or_surface\n",
        "  # _form-model, and the MAE and R2 for a mean_vector-only model.  \n",
        "\n",
        "  regr = ElasticNetCV(l1_ratio = [0.01, 0.05, .1, 0.2, .5, .7, .9, .95, .99, 1], \n",
        "                      n_alphas = 250,\n",
        "                      max_iter = 10000,\n",
        "                      cv = len(x_train),\n",
        "                      selection = 'random', \n",
        "                      random_state=17042020,)                                   # Set the hyperparameters of the ElasticNet CV\n",
        "\n",
        "  regr.fit(x_train, y_train)                                                    # Fit the model on the train set\n",
        "\n",
        "  alpha = regr.alpha_                                                           # Retrieve the alpha\n",
        "  l1_ratio = regr.l1_ratio_                                                     # Retrieve the L1-ratio\n",
        "  n_iters = regr.n_iter_                                                        # Retrieve the number of iterations needed to train the model\n",
        "  intercept = regr.intercept_                                                   # Retrieve the intercept of the model\n",
        "\n",
        "  mse_train = mean(regr.mse_path_)                                              # Retrieve the MSE for the train set\n",
        "\n",
        "  mae_test = sklearn.metrics.mean_absolute_error(y_test, regr.predict(x_test))  # Retrieve the MAE for the test set\n",
        "  mse_test = sklearn.metrics.mean_squared_error(y_test, regr.predict(x_test))   # Retrieve the MSE for the test set\n",
        "\n",
        "  r2 = regr.score(x_test, y_test)                                               # Retrieve the R2 for the test set\n",
        "\n",
        "  type_dict = {}\n",
        "  type_counter = {}\n",
        "  for n, i, j in zip(test_full['name_type'], y_test, x_test):                   # For every name type (i.e., real, talking, and madeup)\n",
        "      if n in type_dict.keys():\n",
        "          type_dict[n] = type_dict[n] + abs(i - regr.predict(j.reshape(1, -1))) # Append the MAE for every name given that type (so that you get a sum of MAEs; one for each name)\n",
        "          type_counter[n] = type_counter[n] + 1                                 # And count the number of names given that type\n",
        "      else:\n",
        "          type_dict[n] = abs(i - regr.predict(j.reshape(1, -1)))\n",
        "          type_counter[n] = 1\n",
        "      \n",
        "  for i in type_dict.keys():\n",
        "    globals()[f\"mae_{i}\"] = float(type_dict[i])/float(type_counter[i])          # Calculate the average MAE per name type: (sum of MAEs for name type / name counter for name type)\n",
        "\n",
        "\n",
        "  mean_or_form_r2_array = np.zeros((len(x_test), 300))\n",
        "\n",
        "  mean_or_form_abs = 0\n",
        "  mean_or_form_counter = 0\n",
        "  for n, i, j in zip(test_full['name'], y_test, x_test):                        # For every name in the test set\n",
        "      n = n.lower()                                                             # Convert name to lowercase\n",
        "      if n == model.get_subwords(n)[0][0]:                                      # If the name is present in the model vocabulary\n",
        "          mean_or_form_abs += abs(i - regr.predict(model[n].reshape(1, -1)))    # Retrieve the MAE of the name using the model embedding, add it to the MAE summation variable\n",
        "          mean_or_form_r2_array[mean_or_form_counter] = model[n]                # and add the embedding to the R2 array\n",
        "          mean_or_form_counter += 1\n",
        "      else:                                                                     # If it isn't present in the model vocabulary\n",
        "          mean_or_form_abs += abs(i - regr.predict(mean_vector.reshape(1, -1))) # Take the mean vector and retrieve the MAE, add it to the MAE summation variable\n",
        "          mean_or_form_r2_array[mean_or_form_counter] = mean_vector             # and add the embedding to the R2 array\n",
        "          mean_or_form_counter += 1\n",
        "\n",
        "  mean_or_form_mae = float(mean_or_form_abs / mean_or_form_counter)             # Calculate the average MAE by taking the summation variable and dividing it by the counter variable\n",
        "\n",
        "  mean_or_form_r2 = regr.score(mean_or_form_r2_array, y_test)\n",
        "\n",
        "  mean_vec_array = np.full((len(x_test), 300), mean_vector)                     # Create a mean vector array with length = test_set_length, and width = 300\n",
        "\n",
        "  mean_vec_mae_test = sklearn.metrics.mean_absolute_error(y_test, regr.predict(mean_vec_array))     # Retrieve the MAE for the mean vector array\n",
        "  mean_vec_mse_test = sklearn.metrics.mean_squared_error(y_test, regr.predict(mean_vec_array))      # Retrieve the MSE for the mean vector array\n",
        "\n",
        "  mean_vec_r2 = regr.score(mean_vec_array, y_test)                              # Retrieve the R2 for the mean_vector array\n",
        "\n",
        "  return alpha, l1_ratio, n_iters, intercept, mse_train, mae_test, mse_test, r2, mae_madeup, mae_real, mae_talking, mean_or_form_mae, mean_or_form_r2, mean_vec_mae_test, mean_vec_mse_test, mean_vec_r2"
      ],
      "metadata": {
        "id": "MnIN74N27cu2"
      },
      "id": "MnIN74N27cu2",
      "execution_count": 9,
      "outputs": []
    },
    {
      "cell_type": "code",
      "source": [
        "def nested_cross_validator(df, rating, dictionary):\n",
        "  # Input:\n",
        "  # - df = a dataframe with the name, name_type, and rating for the dimension at  \n",
        "  # hand (i.e., age, gender, or polarity)\n",
        "  # - rating = a string indicating what rating to extract from the df\n",
        "  # - dictionary = an empty dictionary to store all of the variables from \n",
        "  # elasticnetifyer() in\n",
        "\n",
        "  # Process:\n",
        "  # Given the df, get 5 train/test splits, and per fold, train a LOOCV ElasticNet\n",
        "  # model using elasticnetifyer() for both the regular and formless data. \n",
        "  # Then, average the scores retrieved on the different folds, and print it.\n",
        "\n",
        "  # Output: \n",
        "  # Nothing, but the results for all of the variables output by elasticnetifyer()\n",
        "  # are averaged (so that we get a single score, combining scores of all of the \n",
        "  # different folds). These scores are subsequently printed.\n",
        "\n",
        "  skf = StratifiedKFold(n_splits = 5, shuffle=True, random_state=17042020)      # Set up a stratified 5-fold splitter\n",
        "\n",
        "  for train_index, test_index in skf.split(df, df[['name_type']]):              # For every fold (stratified on the name type, i.e., real, madeup, or talking)\n",
        "    \n",
        "    x_train_unfasttexted = df.iloc[train_index]                                 # Split the data into x_train and x_test\n",
        "    x_test_unfasttexted = df.iloc[test_index]\n",
        "\n",
        "\n",
        "    y_train = df.iloc[train_index][rating]                                      # Split the data into y_train and y_test\n",
        "    y_test = df.iloc[test_index][rating]\n",
        "\n",
        "    x_train = fasttext_xifyer(x_train_unfasttexted)                             # Get the regular embeddings (train)\n",
        "    x_train_formless = fasttext_xifyer_formless(x_train_unfasttexted)           # And get the surface_form-less embeddings (train)\n",
        "\n",
        "    x_test = fasttext_xifyer(x_test_unfasttexted)                               # Get the regular embeddings (test)\n",
        "    x_test_formless = fasttext_xifyer_formless(x_test_unfasttexted)             # And get the surface_form-less embeddings (test)\n",
        "\n",
        "\n",
        "    alpha, l1_ratio, n_iters, intercept, mse_train, mae_test, mse_test, r2, \\\n",
        "    mae_madeup, mae_real, mae_talking, mean_or_form_mae, mean_or_form_r2, \\\n",
        "    mean_vec_mae_test, mean_vec_mse_test, \\\n",
        "    mean_vec_r2 = elasticnetifyer(x_train, y_train, x_test, y_test, df)         # Train the ElasticNetCV given the fold, and return all of the variables of interest (regular)\n",
        "    \n",
        "    dictionary['regular'].append([alpha, l1_ratio, n_iters, intercept, mse_train, \n",
        "                                  mae_test, mse_test, r2, mae_madeup, mae_real, \n",
        "                                  mae_talking, mean_or_form_mae, mean_or_form_r2, \n",
        "                                  mean_vec_mae_test, mean_vec_mse_test, \n",
        "                                  mean_vec_r2])                                 # Append the variables of interest to the dictionary\n",
        "    \n",
        "    alpha_formless, l1_ratio_formless, n_iters_formless, intercept_formless, \\\n",
        "    mse_train_formless, mae_test_formless, mse_test_formless, r2_formless, \\\n",
        "    mae_madeup_formless, mae_real_formless, mae_talking_formless, \\\n",
        "    mean_or_form_mae_formless, mean_or_form_r2_formless, \\\n",
        "    mean_vec_mae_test_formless, mean_vec_mse_test_formless, \\\n",
        "    mean_vec_r2_formless \\\n",
        "    = elasticnetifyer(x_train_formless, y_train, x_test_formless, y_test, df)   # Train the ElasticNetCV given the fold, and return all of the variables of interest (formless)\n",
        "\n",
        "    dictionary['formless'].append([alpha_formless, l1_ratio_formless, n_iters_formless,\n",
        "                                   intercept_formless, mse_train_formless, \n",
        "                                   mae_test_formless, mse_test_formless, r2_formless,\n",
        "                                   mae_madeup_formless, mae_real_formless, mae_talking_formless, \n",
        "                                   mean_or_form_mae_formless, mean_or_form_r2_formless,\n",
        "                                   mean_vec_mae_test_formless, mean_vec_mse_test_formless,\n",
        "                                   mean_vec_r2_formless])                       # Append the variables of interest to the dictionary"
      ],
      "metadata": {
        "id": "xG2I1J0m7j9z"
      },
      "id": "xG2I1J0m7j9z",
      "execution_count": 10,
      "outputs": []
    },
    {
      "cell_type": "code",
      "source": [
        "def nested_cv_addotron(dictionary, name):\n",
        "  # Input:\n",
        "  # - dictionary = the dictionary of values for the dimension of interest\n",
        "  # - name = string indicating the dimension of interest (i.e., age, gender, or \n",
        "  # polarity). This is used to make printing easier and more organised.\n",
        "\n",
        "  # Process:\n",
        "  # Given the dimension of interest, for all 5 folds, average the scores and \n",
        "  # print all of the variables for both the 'regular' and 'formless' models\n",
        "\n",
        "  variable_list = ('alpha', 'l1_ratio', 'n_iters', 'intercept', 'mse_train',    # List indicating all of the variables of interest\n",
        "                   'mae_test', 'mse_test', 'r2', 'mae_madeup', 'mae_real', 'mae_talking',\n",
        "                   'mean_or_form_mae', 'mean_or_form_r2', 'mean_vec_mae_test', \n",
        "                   'mean_vec_mse_test', 'mean_vec_r2')\n",
        "  \n",
        "  type_list = ['regular', 'formless']                                           # List indicating the model type\n",
        "\n",
        "  regular_list = dictionary['regular']\n",
        "  formless_list = dictionary['formless']\n",
        "  \n",
        "  regular_list = [sum(x) for x in zip(*regular_list)]                           # For all of the variables in the list, sum the scores (regular)\n",
        "  regular_list = [x / 5 for x in regular_list]                                  # For all of the variables in the list, divide the sum by 5 to get the average score (regular)\n",
        "\n",
        "  formless_list = [sum(x) for x in zip(*formless_list)]                         # For all of the variables in the list, sum the scores (formless)\n",
        "  formless_list = [x / 5 for x in formless_list]                                # For all of the variables in the list, divide the sum by 5 to get the average score (formless)\n",
        "\n",
        "\n",
        "  for value_list, analysis_type in zip([regular_list, formless_list], type_list):\n",
        "    for value, variable in zip(value_list, variable_list):\n",
        "      print(f\"Average {analysis_type} {variable} for {name} = {value}\")         # Per variable, and per analysis type, print the corresponding average value\n",
        "    print(\"\\n\")"
      ],
      "metadata": {
        "id": "tPKBvQzk8anF"
      },
      "id": "tPKBvQzk8anF",
      "execution_count": 12,
      "outputs": []
    },
    {
      "cell_type": "code",
      "source": [
        "age_dict = {'regular' : [], 'formless' : []}                                    # initialize the score dictionary for age\n",
        "\n",
        "nested_cross_validator(df_age, 'rating.mean_age', age_dict)                     # Perform the 5-fold cross validation\n",
        "\n",
        "pickle_age_ncv = open(pickle_path + \"age_ncv.pickle\", \"wb\")                     # Save the dictionary to a pickle\n",
        "pickle.dump(age_dict, pickle_age_ncv)\n",
        "pickle_age_ncv.close()\n",
        "\n",
        "nested_cv_addotron(age_dict, \"age\")                                             # Print all of the values in an orderly fashion"
      ],
      "metadata": {
        "id": "wQyTwkIf7loU",
        "colab": {
          "base_uri": "https://localhost:8080/"
        },
        "outputId": "ba858fa8-7a5b-46c3-b5f0-fb2832dcb8fd"
      },
      "id": "wQyTwkIf7loU",
      "execution_count": null,
      "outputs": [
        {
          "output_type": "stream",
          "name": "stdout",
          "text": [
            "Average regular alpha for age = 0.05072756831996765\n",
            "Average regular l1_ratio for age = 0.43599999999999994\n",
            "Average regular n_iters for age = 136.0\n",
            "Average regular intercept for age = 14.950048695609155\n",
            "Average regular mse_train for age = 370.10286262790083\n",
            "Average regular mae_test for age = 15.895302331440499\n",
            "Average regular mse_test for age = 375.90199255971396\n",
            "Average regular r2 for age = 0.08337560465475283\n",
            "Average regular mae_madeup for age = 17.490164988987708\n",
            "Average regular mae_real for age = 14.171504170036538\n",
            "Average regular mae_talking for age = 15.617077040925457\n",
            "Average regular mean_or_form_mae for age = 20.442560801615947\n",
            "Average regular mean_or_form_r2 for age = -0.43498162737068746\n",
            "Average regular mean_vec_mae_test for age = 17.792782648068588\n",
            "Average regular mean_vec_mse_test for age = 428.63615987581454\n",
            "Average regular mean_vec_r2 for age = -0.043229677802586595\n",
            "\n",
            "\n",
            "Average formless alpha for age = 0.06749729879751121\n",
            "Average formless l1_ratio for age = 0.47999999999999987\n",
            "Average formless n_iters for age = 26.0\n",
            "Average formless intercept for age = 12.721929855320898\n",
            "Average formless mse_train for age = 468.9780121013923\n",
            "Average formless mae_test for age = 15.501051584438045\n",
            "Average formless mse_test for age = 343.0143333972503\n",
            "Average formless r2 for age = 0.15431369305699066\n",
            "Average formless mae_madeup for age = 16.236160754001652\n",
            "Average formless mae_real for age = 14.194751710114772\n",
            "Average formless mae_talking for age = 15.638757999676505\n",
            "Average formless mean_or_form_mae for age = 19.52028756935303\n",
            "Average formless mean_or_form_r2 for age = -0.2825496727977249\n",
            "Average formless mean_vec_mae_test for age = 18.369325241876467\n",
            "Average formless mean_vec_mse_test for age = 467.1762551050333\n",
            "Average formless mean_vec_r2 for age = -0.1409026447520075\n",
            "\n",
            "\n"
          ]
        }
      ]
    },
    {
      "cell_type": "code",
      "source": [
        "gender_dict = {'regular' : [], 'formless' : []}                                 # initialize the score dictionary for gender\n",
        "\n",
        "nested_cross_validator(df_gender, 'rating.mean_gender', gender_dict)            # Perform the 5-fold cross validation\n",
        "\n",
        "pickle_gender_ncv = open(pickle_path + \"gender_ncv.pickle\", \"wb\")               # Save the dictionary to a pickle\n",
        "pickle.dump(gender_dict, pickle_gender_ncv)\n",
        "pickle_gender_ncv.close()\n",
        "\n",
        "nested_cv_addotron(gender_dict, \"gender\")                                       # Print all of the values in an orderly fashion"
      ],
      "metadata": {
        "id": "zGTfReHa7sVd",
        "colab": {
          "base_uri": "https://localhost:8080/"
        },
        "outputId": "d15c5d92-d45d-4ae8-a840-131988c41e5f"
      },
      "id": "zGTfReHa7sVd",
      "execution_count": 14,
      "outputs": [
        {
          "output_type": "stream",
          "name": "stdout",
          "text": [
            "Average regular alpha for gender = 0.15315895481366898\n",
            "Average regular l1_ratio for gender = 0.9299999999999999\n",
            "Average regular n_iters for gender = 39.8\n",
            "Average regular intercept for gender = -8.20463045373086\n",
            "Average regular mse_train for gender = 905.1063392504739\n",
            "Average regular mae_test for gender = 19.233139844182546\n",
            "Average regular mse_test for gender = 551.8804822794039\n",
            "Average regular r2 for gender = 0.5898452840428152\n",
            "Average regular mae_madeup for gender = 20.80736339780847\n",
            "Average regular mae_real for gender = 19.69674619213221\n",
            "Average regular mae_talking for gender = 16.908570100806692\n",
            "Average regular mean_or_form_mae for gender = 34.818933757111175\n",
            "Average regular mean_or_form_r2 for gender = -0.29163438662340035\n",
            "Average regular mean_vec_mae_test for gender = 33.65809119694448\n",
            "Average regular mean_vec_mse_test for gender = 1423.0961711118614\n",
            "Average regular mean_vec_r2 for gender = -0.06793078160867369\n",
            "\n",
            "\n",
            "Average formless alpha for gender = 0.17331042386763676\n",
            "Average formless l1_ratio for gender = 0.7000000000000001\n",
            "Average formless n_iters for gender = 33.4\n",
            "Average formless intercept for gender = -17.2785000815558\n",
            "Average formless mse_train for gender = 1474.022512442651\n",
            "Average formless mae_test for gender = 27.843664495238777\n",
            "Average formless mse_test for gender = 1040.607381058971\n",
            "Average formless r2 for gender = 0.21768454955900682\n",
            "Average formless mae_madeup for gender = 29.458199908798974\n",
            "Average formless mae_real for gender = 26.297117340178556\n",
            "Average formless mae_talking for gender = 27.10194729917049\n",
            "Average formless mean_or_form_mae for gender = 39.52665912646976\n",
            "Average formless mean_or_form_r2 for gender = -0.7144275025734607\n",
            "Average formless mean_vec_mae_test for gender = 33.6849720219342\n",
            "Average formless mean_vec_mse_test for gender = 1383.615664957752\n",
            "Average formless mean_vec_r2 for gender = -0.03787072774003666\n",
            "\n",
            "\n"
          ]
        }
      ]
    },
    {
      "cell_type": "code",
      "source": [
        "polarity_dict = {'regular' : [], 'formless' : []}                               # initialize the score dictionary for polarity\n",
        "\n",
        "nested_cross_validator(df_polarity, 'rating.mean_valence', polarity_dict)       # Perform the 5-fold cross validation\n",
        "\n",
        "pickle_polarity_ncv = open(pickle_path + \"polarity_ncv.pickle\", \"wb\")           # Save the dictionary to a pickle\n",
        "pickle.dump(polarity_dict, pickle_polarity_ncv)\n",
        "pickle_polarity_ncv.close()\n",
        "\n",
        "nested_cv_addotron(polarity_dict, \"polarity\")                                   # Print all of the values in an orderly fashion"
      ],
      "metadata": {
        "id": "Q4K6DHUV7u5e",
        "colab": {
          "base_uri": "https://localhost:8080/"
        },
        "outputId": "2b9c8f99-48d8-46fd-fd65-103e01a3a52b"
      },
      "id": "Q4K6DHUV7u5e",
      "execution_count": 13,
      "outputs": [
        {
          "output_type": "stream",
          "name": "stdout",
          "text": [
            "Average regular alpha for polarity = 0.24835051374456635\n",
            "Average regular l1_ratio for polarity = 0.782\n",
            "Average regular n_iters for polarity = 272.0\n",
            "Average regular intercept for polarity = 4.408481760823845\n",
            "Average regular mse_train for polarity = 379.57109960567766\n",
            "Average regular mae_test for polarity = 15.71990488339597\n",
            "Average regular mse_test for polarity = 376.60904549612854\n",
            "Average regular r2 for polarity = -0.03191570552598533\n",
            "Average regular mae_madeup for polarity = 15.492608786809763\n",
            "Average regular mae_real for polarity = 17.452835468858968\n",
            "Average regular mae_talking for polarity = 14.396252329425153\n",
            "Average regular mean_or_form_mae for polarity = 17.800922879831738\n",
            "Average regular mean_or_form_r2 for polarity = -0.293236186228163\n",
            "Average regular mean_vec_mae_test for polarity = 17.61507358173261\n",
            "Average regular mean_vec_mse_test for polarity = 412.61032850202776\n",
            "Average regular mean_vec_r2 for polarity = -0.11769143744667451\n",
            "\n",
            "\n",
            "Average formless alpha for polarity = 0.23515659044232623\n",
            "Average formless l1_ratio for polarity = 0.966\n",
            "Average formless n_iters for polarity = 33.8\n",
            "Average formless intercept for polarity = 9.371802698422869\n",
            "Average formless mse_train for polarity = 399.95010263328794\n",
            "Average formless mae_test for polarity = 14.380985747362933\n",
            "Average formless mse_test for polarity = 309.4727243661989\n",
            "Average formless r2 for polarity = 0.1638475642689972\n",
            "Average formless mae_madeup for polarity = 14.288323279686551\n",
            "Average formless mae_real for polarity = 15.72071811920498\n",
            "Average formless mae_talking for polarity = 13.218912429244364\n",
            "Average formless mean_or_form_mae for polarity = 17.567976674576745\n",
            "Average formless mean_or_form_r2 for polarity = -0.19772033039041959\n",
            "Average formless mean_vec_mae_test for polarity = 17.378931789891098\n",
            "Average formless mean_vec_mse_test for polarity = 402.68850537459895\n",
            "Average formless mean_vec_r2 for polarity = -0.09170305823613427\n",
            "\n",
            "\n"
          ]
        }
      ]
    },
    {
      "cell_type": "markdown",
      "source": [
        "### Neural Networks"
      ],
      "metadata": {
        "id": "CpDIXYxG81W0"
      },
      "id": "CpDIXYxG81W0"
    },
    {
      "cell_type": "code",
      "source": [
        "def fnn_maker(x_train, y_train, x_test, y_test, nodes, dropout):\n",
        "  seed(17042020)\n",
        "  set_seed(17042020)\n",
        "\n",
        "  fnn_model = Sequential()\n",
        "\n",
        "  fnn_model.add(Dense(nodes, input_dim=300, kernel_initializer=HeNormal(), activation=keras.layers.LeakyReLU()))\n",
        "\n",
        "  fnn_model.add(Dense(1, activation='linear'))\n",
        "\n",
        "  callback = EarlyStopping(monitor = 'loss', patience=3)\n",
        "\n",
        "  fnn_model.compile(optimizer=Adam(), loss='mean_squared_error')\n",
        "\n",
        "  fnn_model.fit(x_train, y_train, epochs=100, batch_size=len(x_train), callbacks=[callback], verbose=0)\n",
        "\n",
        "  y_pred = fnn_model.predict(x_test)\n",
        "  \n",
        "  mse = mean_squared_error(y_test, y_pred)\n",
        "\n",
        "  return mse"
      ],
      "metadata": {
        "id": "IWq2EO-683go"
      },
      "id": "IWq2EO-683go",
      "execution_count": null,
      "outputs": []
    },
    {
      "cell_type": "code",
      "source": [
        "def nested_neural_network_finder(df, rating, dimension, dictionary):\n",
        "  skf = StratifiedKFold(n_splits = 5, shuffle=True, random_state=17042020)\n",
        "\n",
        "  for train_index, test_index in skf.split(df, df[['name_type']]):\n",
        "    k_fold = KFold(n_splits = len(train_index), shuffle=True, random_state=17042020)\n",
        "\n",
        "    x_train_unfasttexted = df.iloc[train_index]\n",
        "    x_test_unfasttexted = df.iloc[test_index]\n",
        "\n",
        "    x_train = fasttext_xifyer(x_train_unfasttexted)\n",
        "    x_train_formless = fasttext_xifyer_formless(x_train_unfasttexted)\n",
        "\n",
        "    x_test = fasttext_xifyer(x_test_unfasttexted)\n",
        "    x_test_formless = fasttext_xifyer_formless(x_test_unfasttexted)\n",
        "\n",
        "\n",
        "    y_train = df.iloc[train_index][rating]\n",
        "    y_test = df.iloc[test_index][rating]\n",
        "\n",
        "    for nested_train_index, nested_test_index in k_fold.split(x_train):\n",
        "      nested_x_train = x_train[[nested_train_index], :].reshape(len(nested_train_index), 300)\n",
        "      nested_x_train_formless = x_train_formless[[nested_train_index], :].reshape(len(nested_train_index), 300)\n",
        "\n",
        "      nested_x_test = x_train[[nested_test_index], :].reshape(len(nested_test_index), 300)\n",
        "      nested_x_test_formless = x_train_formless[[nested_test_index], :].reshape(len(nested_test_index), 300)\n",
        "\n",
        "      nested_y_train = y_train.iloc[nested_train_index]\n",
        "      nested_y_test = y_train.iloc[nested_test_index]\n",
        "\n",
        "      for nodes in [8, 16, 32, 50, 64, 100, 128, 200, 256, 300, 512]:\n",
        "        for dropout in [0.5, 0.6, 0.7, 0.8]:\n",
        "          age_dict_nn['regular'][str(nodes)][str(dropout)].append(\n",
        "              fnn_maker(nested_x_train, \n",
        "                        nested_y_train, \n",
        "                        nested_x_test, \n",
        "                        nested_y_test, \n",
        "                        nodes, \n",
        "                        dropout))\n",
        "\n",
        "          age_dict_nn['formless'][str(nodes)][str(dropout)].append(\n",
        "              fnn_maker(nested_x_train_formless, \n",
        "                        nested_y_train, \n",
        "                        nested_x_test_formless, \n",
        "                        nested_y_test, \n",
        "                        nodes, \n",
        "                        dropout))\n",
        "  \n",
        "  for nodes in [8, 16, 32, 50, 64, 100, 128, 200, 256, 300, 512]:\n",
        "      for dropout in [0.5, 0.6, 0.7, 0.8]:\n",
        "        regular_mse = sum(age_dict_nn['regular'][str(nodes)][str(dropout)]) / len(age_dict_nn['regular'][str(nodes)][str(dropout)])\n",
        "        formless_mse = sum(age_dict_nn['formless'][str(nodes)][str(dropout)]) / len(age_dict_nn['formless'][str(nodes)][str(dropout)])\n",
        "\n",
        "        print(\"{}, regular, nodes = {}, dropout = {}, Average MSE = {}\".format(dimension, nodes, dropout, regular_mse))\n",
        "        print(\"{}, formless, nodes = {}, dropout = {}, Average MSE = {}\".format(dimension, nodes, dropout, formless_mse))\n",
        "        print(\"\\n\")"
      ],
      "metadata": {
        "id": "AtODe-sF9eWP"
      },
      "id": "AtODe-sF9eWP",
      "execution_count": null,
      "outputs": []
    },
    {
      "cell_type": "code",
      "source": [
        "age_dict_nn = {'regular' : {'8': {'0.5': [], '0.6': [], '0.7': [], '0.8': []}, \n",
        "                            '16' : {'0.5': [], '0.6': [], '0.7': [], '0.8': []}, \n",
        "                            '32': {'0.5': [], '0.6': [], '0.7': [], '0.8': []}, \n",
        "                            '50': {'0.5': [], '0.6': [], '0.7': [], '0.8': []}, \n",
        "                            '64': {'0.5': [], '0.6': [], '0.7': [], '0.8': []}, \n",
        "                            '100': {'0.5': [], '0.6': [], '0.7': [], '0.8': []}, \n",
        "                            '128': {'0.5': [], '0.6': [], '0.7': [], '0.8': []}, \n",
        "                            '200': {'0.5': [], '0.6': [], '0.7': [], '0.8': []}, \n",
        "                            '256': {'0.5': [], '0.6': [], '0.7': [], '0.8': []}, \n",
        "                            '300': {'0.5': [], '0.6': [], '0.7': [], '0.8': []}, \n",
        "                            '512': {'0.5': [], '0.6': [], '0.7': [], '0.8': []}}, \n",
        "               'formless' : {'8': {'0.5': [], '0.6': [], '0.7': [], '0.8': []}, \n",
        "                            '16' : {'0.5': [], '0.6': [], '0.7': [], '0.8': []}, \n",
        "                            '32': {'0.5': [], '0.6': [], '0.7': [], '0.8': []}, \n",
        "                            '50': {'0.5': [], '0.6': [], '0.7': [], '0.8': []}, \n",
        "                            '64': {'0.5': [], '0.6': [], '0.7': [], '0.8': []}, \n",
        "                            '100': {'0.5': [], '0.6': [], '0.7': [], '0.8': []}, \n",
        "                            '128': {'0.5': [], '0.6': [], '0.7': [], '0.8': []}, \n",
        "                            '200': {'0.5': [], '0.6': [], '0.7': [], '0.8': []}, \n",
        "                            '256': {'0.5': [], '0.6': [], '0.7': [], '0.8': []}, \n",
        "                            '300': {'0.5': [], '0.6': [], '0.7': [], '0.8': []}, \n",
        "                            '512': {'0.5': [], '0.6': [], '0.7': [], '0.8': []}}}\n",
        "\n",
        "nested_neural_network_finder(df_age, 'rating.mean_age', 'Age', age_dict_nn)"
      ],
      "metadata": {
        "id": "zpZlYlMy9g3-"
      },
      "id": "zpZlYlMy9g3-",
      "execution_count": null,
      "outputs": []
    },
    {
      "cell_type": "code",
      "source": [
        "gender_dict_nn = {'regular' : {'8': {'0.5': [], '0.6': [], '0.7': [], '0.8': []}, \n",
        "                            '16' : {'0.5': [], '0.6': [], '0.7': [], '0.8': []}, \n",
        "                            '32': {'0.5': [], '0.6': [], '0.7': [], '0.8': []}, \n",
        "                            '50': {'0.5': [], '0.6': [], '0.7': [], '0.8': []}, \n",
        "                            '64': {'0.5': [], '0.6': [], '0.7': [], '0.8': []}, \n",
        "                            '100': {'0.5': [], '0.6': [], '0.7': [], '0.8': []}, \n",
        "                            '128': {'0.5': [], '0.6': [], '0.7': [], '0.8': []}, \n",
        "                            '200': {'0.5': [], '0.6': [], '0.7': [], '0.8': []}, \n",
        "                            '256': {'0.5': [], '0.6': [], '0.7': [], '0.8': []}, \n",
        "                            '300': {'0.5': [], '0.6': [], '0.7': [], '0.8': []}, \n",
        "                            '512': {'0.5': [], '0.6': [], '0.7': [], '0.8': []}}, \n",
        "               'formless' : {'8': {'0.5': [], '0.6': [], '0.7': [], '0.8': []}, \n",
        "                            '16' : {'0.5': [], '0.6': [], '0.7': [], '0.8': []}, \n",
        "                            '32': {'0.5': [], '0.6': [], '0.7': [], '0.8': []}, \n",
        "                            '50': {'0.5': [], '0.6': [], '0.7': [], '0.8': []}, \n",
        "                            '64': {'0.5': [], '0.6': [], '0.7': [], '0.8': []}, \n",
        "                            '100': {'0.5': [], '0.6': [], '0.7': [], '0.8': []}, \n",
        "                            '128': {'0.5': [], '0.6': [], '0.7': [], '0.8': []}, \n",
        "                            '200': {'0.5': [], '0.6': [], '0.7': [], '0.8': []}, \n",
        "                            '256': {'0.5': [], '0.6': [], '0.7': [], '0.8': []}, \n",
        "                            '300': {'0.5': [], '0.6': [], '0.7': [], '0.8': []}, \n",
        "                            '512': {'0.5': [], '0.6': [], '0.7': [], '0.8': []}}}\n",
        "\n",
        "nested_neural_network_finder(df_gender, 'rating.mean_gender', 'Gender', gender_dict_nn)"
      ],
      "metadata": {
        "id": "jqWVrhwF9jDI"
      },
      "id": "jqWVrhwF9jDI",
      "execution_count": null,
      "outputs": []
    },
    {
      "cell_type": "code",
      "source": [
        "polarity_dict_nn = {'regular' : {'8': {'0.5': [], '0.6': [], '0.7': [], '0.8': []}, \n",
        "                            '16' : {'0.5': [], '0.6': [], '0.7': [], '0.8': []}, \n",
        "                            '32': {'0.5': [], '0.6': [], '0.7': [], '0.8': []}, \n",
        "                            '50': {'0.5': [], '0.6': [], '0.7': [], '0.8': []}, \n",
        "                            '64': {'0.5': [], '0.6': [], '0.7': [], '0.8': []}, \n",
        "                            '100': {'0.5': [], '0.6': [], '0.7': [], '0.8': []}, \n",
        "                            '128': {'0.5': [], '0.6': [], '0.7': [], '0.8': []}, \n",
        "                            '200': {'0.5': [], '0.6': [], '0.7': [], '0.8': []}, \n",
        "                            '256': {'0.5': [], '0.6': [], '0.7': [], '0.8': []}, \n",
        "                            '300': {'0.5': [], '0.6': [], '0.7': [], '0.8': []}, \n",
        "                            '512': {'0.5': [], '0.6': [], '0.7': [], '0.8': []}}, \n",
        "               'formless' : {'8': {'0.5': [], '0.6': [], '0.7': [], '0.8': []}, \n",
        "                            '16' : {'0.5': [], '0.6': [], '0.7': [], '0.8': []}, \n",
        "                            '32': {'0.5': [], '0.6': [], '0.7': [], '0.8': []}, \n",
        "                            '50': {'0.5': [], '0.6': [], '0.7': [], '0.8': []}, \n",
        "                            '64': {'0.5': [], '0.6': [], '0.7': [], '0.8': []}, \n",
        "                            '100': {'0.5': [], '0.6': [], '0.7': [], '0.8': []}, \n",
        "                            '128': {'0.5': [], '0.6': [], '0.7': [], '0.8': []}, \n",
        "                            '200': {'0.5': [], '0.6': [], '0.7': [], '0.8': []}, \n",
        "                            '256': {'0.5': [], '0.6': [], '0.7': [], '0.8': []}, \n",
        "                            '300': {'0.5': [], '0.6': [], '0.7': [], '0.8': []}, \n",
        "                            '512': {'0.5': [], '0.6': [], '0.7': [], '0.8': []}}}\n",
        "\n",
        "nested_neural_network_finder(df_polarity, 'rating.mean_valence', 'Polarity', polarity_dict_nn)"
      ],
      "metadata": {
        "id": "PA-vgaKE9jwU"
      },
      "id": "PA-vgaKE9jwU",
      "execution_count": null,
      "outputs": []
    },
    {
      "cell_type": "code",
      "source": [
        "def fnn_maker_and_evaluator(x_train, y_train, x_test, y_test, test_full, nodes, dropout):\n",
        "  seed(17042020)\n",
        "  set_seed(17042020)\n",
        "\n",
        "  fnn_model = Sequential()\n",
        "\n",
        "  fnn_model.add(Dense(nodes, input_dim=300, kernel_initializer=HeNormal(), activation=keras.layers.LeakyReLU()))\n",
        "  fnn_model.add(Dropout(dropout))\n",
        "  \n",
        "  fnn_model.add(Dense(1, activation='linear'))\n",
        "  \n",
        "\n",
        "  callback = EarlyStopping(monitor = 'loss', patience=3)\n",
        "\n",
        "  fnn_model.compile(optimizer=Adam(), loss='mean_squared_error')\n",
        "\n",
        "\n",
        "  fnn_model.fit(x_train, y_train, epochs=100, batch_size=len(x_train), callbacks=[callback], verbose=0)\n",
        "  \n",
        "  y_pred_train = fnn_model.predict(x_train)\n",
        "  mse_train = mean_squared_error(y_train, y_pred_train)\n",
        "  \n",
        "\n",
        "  y_pred = fnn_model.predict(x_test)\n",
        "  \n",
        "  mae_test = mean_absolute_error(y_test, y_pred)\n",
        "  mse_test = mean_squared_error(y_test, y_pred)\n",
        "  r2 = sklearn.metrics.r2_score(y_test, y_pred)\n",
        "  \n",
        "\n",
        "  type_dict = {}\n",
        "  type_counter = {}\n",
        "  for n, i, j in zip(test_full['name_type'], y_test, x_test):                   # For every name type (i.e., real, talking, and madeup)\n",
        "    if n in type_dict.keys():\n",
        "      type_dict[n] = type_dict[n] + abs(i - fnn_model.predict(j.reshape(1, -1))) # Append the MAE for every name given that type (so that you get a sum of MAEs; one for each name)\n",
        "      type_counter[n] = type_counter[n] + 1                                 # And count the number of names given that type\n",
        "    else:\n",
        "      type_dict[n] = abs(i - fnn_model.predict(j.reshape(1, -1)))\n",
        "      type_counter[n] = 1\n",
        "\n",
        "  for i in type_dict.keys():\n",
        "    globals()[f\"mae_{i}\"] = float(type_dict[i])/float(type_counter[i])          # Calculate the average MAE per name type: (sum of MAEs for name type / name counter for name type)\n",
        "\n",
        "\n",
        "  mean_or_form_r2_array = np.zeros((len(x_test), 300))\n",
        "\n",
        "  mean_or_form_abs = 0\n",
        "  mean_or_form_counter = 0\n",
        "  for n, i, j in zip(test_full['name'], y_test, x_test):                        # For every name in the test set\n",
        "    n = n.lower()                                                             # Convert name to lowercase\n",
        "    if n == model.get_subwords(n)[0][0]:                                      # If the name is present in the model vocabulary\n",
        "      mean_or_form_abs += abs(i - fnn_model.predict(model[n].reshape(1, -1)))    # Retrieve the MAE of the name using the model embedding, add it to the MAE summation variable\n",
        "      mean_or_form_r2_array[mean_or_form_counter] = model[n]                # and add the embedding to the R2 array\n",
        "      mean_or_form_counter += 1\n",
        "    else:                                                                     # If it isn't present in the model vocabulary\n",
        "      mean_or_form_abs += abs(i - fnn_model.predict(mean_vector.reshape(1, -1))) # Take the mean vector and retrieve the MAE, add it to the MAE summation variable\n",
        "      mean_or_form_r2_array[mean_or_form_counter] = mean_vector             # and add the embedding to the R2 array\n",
        "      mean_or_form_counter += 1\n",
        "\n",
        "  mean_or_form_mae = float(mean_or_form_abs / mean_or_form_counter)             # Calculate the average MAE by taking the summation variable and dividing it by the counter variable  \n",
        "\n",
        "  mean_or_form_r2 = sklearn.metrics.r2_score(y_test, fnn_model.predict(mean_or_form_r2_array))\n",
        " \n",
        "\n",
        "  mean_vec_array = np.full((len(x_test), 300), mean_vector)                     # Create a mean vector array with length = test_set_length, and width = 300\n",
        "\n",
        "  mean_vec_mae_test = sklearn.metrics.mean_absolute_error(y_test, fnn_model.predict(mean_vec_array))     # Retrieve the MAE for the mean vector array\n",
        "  mean_vec_mse_test = sklearn.metrics.mean_squared_error(y_test, fnn_model.predict(mean_vec_array))      # Retrieve the MSE for the mean vector array\n",
        "\n",
        "  mean_vec_r2 = sklearn.metrics.r2_score(y_test, fnn_model.predict(mean_vec_r2_array))                              # Retrieve the R2 for the mean_vector array\n",
        "\n",
        "  return mse_train, mae_test, mse_test, r2, mae_madeup, mae_real, mae_talking, mean_or_form_mae, mean_or_form_r2, mean_vec_mae_test, mean_vec_mse_test, mean_vec_r2"
      ],
      "metadata": {
        "id": "wJ4Vxbtaar8W"
      },
      "id": "wJ4Vxbtaar8W",
      "execution_count": null,
      "outputs": []
    },
    {
      "cell_type": "code",
      "source": [
        "def neural_network_5_folder(df, rating, dimension, dictionary, nodes, dropout):\n",
        "  skf = StratifiedKFold(n_splits = 5, shuffle=True, random_state=17042020)\n",
        "\n",
        "  for train_index, test_index in skf.split(df, df[['name_type']]):\n",
        "    x_train_unfasttexted = df.iloc[train_index]\n",
        "    x_test_unfasttexted = df.iloc[test_index]\n",
        "\n",
        "    x_train = fasttext_xifyer(x_train_unfasttexted)\n",
        "    x_train_formless = fasttext_xifyer_formless(x_train_unfasttexted)\n",
        "\n",
        "    x_test = fasttext_xifyer(x_test_unfasttexted)\n",
        "    x_test_formless = fasttext_xifyer_formless(x_test_unfasttexted)\n",
        "\n",
        "\n",
        "    y_train = df.iloc[train_index][rating]\n",
        "    y_test = df.iloc[test_index][rating]\n",
        "\n",
        "    mse_train, mae_test, mse_test, r2, mae_madeup, mae_real, mae_talking, \\\n",
        "    mean_or_form_mae, mean_or_form_r2, mean_vec_mae_test, mean_vec_mse_test, \\\n",
        "    mean_vec_r2 = fnn_maker_and_evaluator(x_train, \n",
        "                                          y_train, \n",
        "                                          x_test, \n",
        "                                          y_test, \n",
        "                                          df, \n",
        "                                          nodes,\n",
        "                                          dropout):\n",
        "\n",
        "    mse_train_formless, mae_test_formless, mse_test_formless, r2_formless, \\ \n",
        "    mae_madeup_formless, mae_real_formless, mae_talking_formless, \\\n",
        "    mean_or_form_mae_formless, mean_or_form_r2_formless, mean_vec_mae_test_formless, \\\n",
        "    mean_vec_mse_test, mean_vec_r2 = fnn_maker_and_evaluator(x_train_formless, \n",
        "                                          y_train, \n",
        "                                          x_test_formless, \n",
        "                                          y_test, \n",
        "                                          df, \n",
        "                                          nodes,\n",
        "                                          dropout):\n",
        "\n",
        "    dictionary['regular'].append([mse_train, mae_test, mse_test, r2, mae_madeup, \n",
        "                                  mae_real, mae_talking, mean_or_form_mae, \n",
        "                                  mean_or_form_r2, mean_vec_mae_test, \n",
        "                                  mean_vec_mse_test, mean_vec_r2]) \n",
        "\n",
        "    dictionary['formless'].append([mse_train_formless, mae_test_formless, \n",
        "                                   mse_test_formless, r2_formless, \n",
        "                                   mae_madeup_formless, mae_real_formless, \n",
        "                                   mae_talking_formless, mean_or_form_mae_formless, \n",
        "                                   mean_or_form_r2_formless, mean_vec_mae_test_formless, \n",
        "                                   mean_vec_mse_test_formless, mean_vec_r2_formless])    \n",
        "  \n",
        "  variable_list = ('mse_train', 'mae_test', 'mse_test', 'r2', 'mae_madeup',     # List indicating all of the variables of interest \n",
        "                   'mae_real', 'mae_talking', 'mean_or_form_mae', \n",
        "                   'mean_or_form_r2', 'mean_vec_mae_test', 'mean_vec_mse_test', \n",
        "                   'mean_vec_r2')\n",
        "  \n",
        "  type_list = ['regular', 'formless']                                           # List indicating the model type\n",
        "\n",
        "  regular_list = dictionary['regular']\n",
        "  formless_list = dictionary['formless']\n",
        "  \n",
        "  regular_list = [sum(x) for x in zip(*regular_list)]                           # For all of the variables in the list, sum the scores (regular)\n",
        "  regular_list = [x / 5 for x in regular_list]                                  # For all of the variables in the list, divide the sum by 5 to get the average score (regular)\n",
        "\n",
        "  formless_list = [sum(x) for x in zip(*formless_list)]                         # For all of the variables in the list, sum the scores (formless)\n",
        "  formless_list = [x / 5 for x in formless_list]                                # For all of the variables in the list, divide the sum by 5 to get the average score (formless)\n",
        "\n",
        "\n",
        "  for value_list, analysis_type in zip([regular_list, formless_list], type_list):\n",
        "    for value, variable in zip(value_list, variable_list):\n",
        "      print(f\"Average {analysis_type} {variable} for {dimension} = {value}\")    # Per variable, and per analysis type, print the corresponding average value\n",
        "    print(\"\\n\")"
      ],
      "metadata": {
        "id": "HzXZVhhwfvXG"
      },
      "id": "HzXZVhhwfvXG",
      "execution_count": null,
      "outputs": []
    },
    {
      "cell_type": "code",
      "source": [
        "age_dict_nn_final = {'regular' : [], 'formless' : []} \n",
        "\n",
        "neural_network_5_folder(df_age, 'rating.mean_age', 'age', \n",
        "                        age_dict_nn_final, nodes, dropout)\n",
        "\n",
        "pickle_age_nn_final = open(pickle_path + \"age_nn_final.pickle\", \"wb\")           # Save the dictionary to a pickle\n",
        "pickle.dump(age_dict_nn_final, pickle_age_nn_final)\n",
        "pickle_age_nn_final.close()"
      ],
      "metadata": {
        "id": "uRe68H44NzG3"
      },
      "id": "uRe68H44NzG3",
      "execution_count": null,
      "outputs": []
    },
    {
      "cell_type": "code",
      "source": [
        "gender_dict_nn_final = {'regular' : [], 'formless' : []} \n",
        "\n",
        "neural_network_5_folder(df_gender, 'rating.mean_gender', 'gender', \n",
        "                        gender_dict_nn_final, nodes, dropout)\n",
        "\n",
        "pickle_gender_nn_final = open(pickle_path + \"gender_nn_final.pickle\", \"wb\")     # Save the dictionary to a pickle\n",
        "pickle.dump(gender_dict_nn_final, pickle_gender_nn_final)\n",
        "pickle_gender_nn_final.close()"
      ],
      "metadata": {
        "id": "GlcG6Lcc6co7"
      },
      "id": "GlcG6Lcc6co7",
      "execution_count": null,
      "outputs": []
    },
    {
      "cell_type": "code",
      "source": [
        "polarity_dict_nn_final = {'regular' : [], 'formless' : []} \n",
        "\n",
        "neural_network_5_folder(df_polarity, 'rating.mean_valence', 'polarity', \n",
        "                        polarity_dict_nn_final, nodes, dropout)\n",
        "\n",
        "pickle_polarity_nn_final = open(pickle_path + \"polarity_nn_final.pickle\", \"wb\") # Save the dictionary to a pickle\n",
        "pickle.dump(polarity_dict_nn_final, pickle_polarity_nn_final)\n",
        "pickle_polarity_nn_final.close()"
      ],
      "metadata": {
        "id": "1Lv1Dqcu6n-9"
      },
      "id": "1Lv1Dqcu6n-9",
      "execution_count": null,
      "outputs": []
    },
    {
      "cell_type": "code",
      "source": [
        ""
      ],
      "metadata": {
        "id": "WzWlpaaR6caY"
      },
      "id": "WzWlpaaR6caY",
      "execution_count": null,
      "outputs": []
    },
    {
      "cell_type": "markdown",
      "source": [
        "## Plots Playing Ground"
      ],
      "metadata": {
        "id": "hpxfnGBHNzvY"
      },
      "id": "hpxfnGBHNzvY"
    },
    {
      "cell_type": "markdown",
      "source": [
        "Ideas (I'm not listing possible tables for the results, cause those seem like no-brainers to me):\n",
        "\n",
        "- Dimension Y-axis vs Dimension X-axis, real vs predicted, ANN vs ElasticNet\n",
        "- Histogram of predicted 'dimensionness' per dimension & regression type\n",
        "- Histogram of MAE per name type, per dimension & regression type\n",
        "- Real vs predicted regression per dimension & name type (one of these can be done with different colours/lines, while the other can be done with left/right)\n",
        "- Distribution of dimensionness for the predicted (per regression type) and the real --> see if they follow similar distributions!\n",
        "- Schematic depiction of the experimental design (as done by Giovanni in one of his papers)\n",
        "\n",
        "- **ONLY WHEN ENOUGH TIME**: Permutation testing to find the most influential n-grams per dimension & regression type\n",
        "\n",
        "Problems:\n",
        "- 170 names, how do I choose 'exemplary ones'? \n",
        "- How to combine dimenions / regression types / real vs predicted, while keeping things interpretable \n",
        "  - Scola: old/male = left, young/female = right, dimensions = colour\n",
        "- \n"
      ],
      "metadata": {
        "id": "z_Cw_r9mCnuM"
      },
      "id": "z_Cw_r9mCnuM"
    },
    {
      "cell_type": "code",
      "source": [
        ""
      ],
      "metadata": {
        "id": "fy7g0XZbCkfn"
      },
      "id": "fy7g0XZbCkfn",
      "execution_count": null,
      "outputs": []
    }
  ],
  "metadata": {
    "kernelspec": {
      "display_name": "Python 3 (ipykernel)",
      "language": "python",
      "name": "python3"
    },
    "language_info": {
      "codemirror_mode": {
        "name": "ipython",
        "version": 3
      },
      "file_extension": ".py",
      "mimetype": "text/x-python",
      "name": "python",
      "nbconvert_exporter": "python",
      "pygments_lexer": "ipython3",
      "version": "3.9.7"
    },
    "colab": {
      "name": "MA Thesis Semantics of Names.ipynb",
      "provenance": []
    }
  },
  "nbformat": 4,
  "nbformat_minor": 5
}