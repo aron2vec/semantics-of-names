{
  "cells": [
    {
      "cell_type": "markdown",
      "id": "22531ca9-e756-46d1-b70a-3e471d5c92a8",
      "metadata": {
        "id": "22531ca9-e756-46d1-b70a-3e471d5c92a8"
      },
      "source": [
        "# Master Thesis on the Semantics of (made-up) Names\n",
        "\n",
        "* Author: Aron Joosse\n",
        "* Supervisor: Giovanni Cassani\n",
        "* Institution: Tilburg University\n",
        "\n",
        "Can take inspiration from: https://github.com/Masetto96/BA-Thesis-form-meaning-mapping/blob/master/form_meaning_mapping.ipynb"
      ]
    },
    {
      "cell_type": "markdown",
      "id": "6549cc30-115e-4d41-a905-85e232d32540",
      "metadata": {
        "id": "6549cc30-115e-4d41-a905-85e232d32540"
      },
      "source": [
        "# Library Imports"
      ]
    },
    {
      "cell_type": "code",
      "execution_count": 2,
      "id": "720f6089-3f26-4034-827d-ed4b81ece7f4",
      "metadata": {
        "id": "720f6089-3f26-4034-827d-ed4b81ece7f4",
        "outputId": "5392921d-e94f-417c-d991-0b60d0ea5130",
        "colab": {
          "base_uri": "https://localhost:8080/"
        }
      },
      "outputs": [
        {
          "output_type": "stream",
          "name": "stdout",
          "text": [
            "Collecting fasttext\n",
            "  Downloading fasttext-0.9.2.tar.gz (68 kB)\n",
            "\u001b[?25l\r\u001b[K     |████▊                           | 10 kB 21.9 MB/s eta 0:00:01\r\u001b[K     |█████████▌                      | 20 kB 25.9 MB/s eta 0:00:01\r\u001b[K     |██████████████▎                 | 30 kB 30.0 MB/s eta 0:00:01\r\u001b[K     |███████████████████             | 40 kB 23.7 MB/s eta 0:00:01\r\u001b[K     |███████████████████████▉        | 51 kB 9.8 MB/s eta 0:00:01\r\u001b[K     |████████████████████████████▋   | 61 kB 11.3 MB/s eta 0:00:01\r\u001b[K     |████████████████████████████████| 68 kB 4.5 MB/s \n",
            "\u001b[?25hCollecting pybind11>=2.2\n",
            "  Using cached pybind11-2.9.1-py2.py3-none-any.whl (211 kB)\n",
            "Requirement already satisfied: setuptools>=0.7.0 in /usr/local/lib/python3.7/dist-packages (from fasttext) (57.4.0)\n",
            "Requirement already satisfied: numpy in /usr/local/lib/python3.7/dist-packages (from fasttext) (1.21.5)\n",
            "Building wheels for collected packages: fasttext\n",
            "  Building wheel for fasttext (setup.py) ... \u001b[?25l\u001b[?25hdone\n",
            "  Created wheel for fasttext: filename=fasttext-0.9.2-cp37-cp37m-linux_x86_64.whl size=3128584 sha256=499cddcd4cb0cbd86462ad1353e40971ee6396d1a8fcc807e9691d732e1a0109\n",
            "  Stored in directory: /root/.cache/pip/wheels/4e/ca/bf/b020d2be95f7641801a6597a29c8f4f19e38f9c02a345bab9b\n",
            "Successfully built fasttext\n",
            "Installing collected packages: pybind11, fasttext\n",
            "Successfully installed fasttext-0.9.2 pybind11-2.9.1\n"
          ]
        }
      ],
      "source": [
        "!pip install fasttext"
      ]
    },
    {
      "cell_type": "code",
      "execution_count": 1,
      "id": "9e01d4f6-9943-40fb-9f85-ca2aa53b4650",
      "metadata": {
        "id": "9e01d4f6-9943-40fb-9f85-ca2aa53b4650"
      },
      "outputs": [],
      "source": [
        "import fasttext\n",
        "import spacy\n"
      ]
    },
    {
      "cell_type": "markdown",
      "id": "92f1ffd0-4597-433a-b9c7-bb2423556386",
      "metadata": {
        "id": "92f1ffd0-4597-433a-b9c7-bb2423556386"
      },
      "source": [
        "# Data Import"
      ]
    },
    {
      "cell_type": "code",
      "source": [
        "## Being able to access Google Drive\n",
        "from google.colab import drive\n",
        "drive.mount(\"/content/drive\", force_remount=True) \n",
        "path = \"drive/My Drive/Thesis/Data/CoCA/Text/\""
      ],
      "metadata": {
        "id": "_kihXMIxsBnq",
        "outputId": "c2ac42fa-f9d2-4aae-8097-7bd33d8368fa",
        "colab": {
          "base_uri": "https://localhost:8080/"
        }
      },
      "id": "_kihXMIxsBnq",
      "execution_count": 2,
      "outputs": [
        {
          "output_type": "stream",
          "name": "stdout",
          "text": [
            "Mounted at /content/drive\n"
          ]
        }
      ]
    },
    {
      "cell_type": "code",
      "source": [
        "drive.flush_and_unmount()\n",
        "print('All changes made in this colab session should now be visible in Drive.')"
      ],
      "metadata": {
        "id": "WEQ16w_WsydU",
        "outputId": "a7723af4-7932-457d-dbf7-83ba3f4cd119",
        "colab": {
          "base_uri": "https://localhost:8080/"
        }
      },
      "id": "WEQ16w_WsydU",
      "execution_count": 31,
      "outputs": [
        {
          "output_type": "stream",
          "name": "stdout",
          "text": [
            "All changes made in this colab session should now be visible in Drive.\n"
          ]
        }
      ]
    },
    {
      "cell_type": "markdown",
      "id": "34910b3e-c2f9-4d54-983d-e75c2127f4db",
      "metadata": {
        "id": "34910b3e-c2f9-4d54-983d-e75c2127f4db"
      },
      "source": [
        "## COCA"
      ]
    },
    {
      "cell_type": "code",
      "execution_count": 3,
      "id": "bf7f61e8-e967-4ab9-895e-6fb974df4fc4",
      "metadata": {
        "id": "bf7f61e8-e967-4ab9-895e-6fb974df4fc4"
      },
      "outputs": [],
      "source": [
        "unclean_path = path + \"texts_combined/all_texts_combined.txt\"\n",
        "unclean_corpus = open(unclean_path).read()\n"
      ]
    },
    {
      "cell_type": "code",
      "source": [
        ""
      ],
      "metadata": {
        "id": "UQGLD_X0Qk-g"
      },
      "id": "UQGLD_X0Qk-g",
      "execution_count": 4,
      "outputs": []
    },
    {
      "cell_type": "code",
      "source": [
        "print(len(unclean_corpus))\n",
        "print(unclean_corpus[:100])"
      ],
      "metadata": {
        "id": "cuIyN1lBMe05",
        "outputId": "b49cf1ff-d9e8-40a6-fa1a-f7d0c45ff918",
        "colab": {
          "base_uri": "https://localhost:8080/"
        }
      },
      "id": "cuIyN1lBMe05",
      "execution_count": 5,
      "outputs": [
        {
          "output_type": "stream",
          "name": "stdout",
          "text": [
            "31877654\n",
            "['@@4170367 Headnote # A puzzle has long pervaded the criminal law : why are two offenders who commit the same criminal act punished differently when one of them , due to circumstances beyond her control , causes more harm than the other ? This tradition of result-based differential punishment-the practice of varying offenders \\' punishment based on whether or not they cause specific \" statutory harms \" -has long stood as an intractable problem for scholars and jurists alike ', ' # This Article proposes a solution to this long-standing conceptual problem ', ' We begin by introducing a dichotomy between two broad and exhaustive categories of ideological justifications for punishing criminal offenders ', ' The first category , offender-facing justifications , includes many of the most familiar theories of punishment : deterrence , retribution , incapacitation , and rehabilitation ', ' These offender-facing theories seek to justify punishment solely on the basis of facts about a criminal offender , such as her behavior , mental states , and perceived level of dangerousness ', ' Yet , as we demonstrate , because offender-facing theories turn exclusively on facts about an offender and her conduct-rather than on @ @ @ @ @ @ @ @ @ @ can not provide adequate justification for the practice of differential punishment ', ' # We also identify a second category of justifications for punishment that , at least in part , conditions the severity of criminal punishment on the effects that a particular criminal offense has on its victims ', ' These victim-facing justifications include both \" expressive \" theories of punishment , according to which offenders should be punished out of respect for the victims they have harmed , and vengeance-based theories of punishment , according to which punishment serves to recognize and legitimate victims \\' desire for revenge against their offenders ', ' Because victim-facing justifications focus on the harm that crimes cause to victims , they are , if valid , theoretically capable of justifying differential punishment ', ' # However , we will show that victim-facing justifications for punishment are not available for every instance of criminal misconduct ', ' When a criminal offense ( 1 ) has no \" object \" ( in that it is not \" done \" to anyone ) , ( 2 ) has a \" victim \" who either consented to , or was otherwise @ @ @ @ @ @ @ @ @ @ ( 3 ) has a victim who desires to show \" mercy \" to the offender , victim-facing theories can not justify differential punishment , rendering the practice categorically unjustifiable in such cases ', ' We conclude by arguing that in these instances , where differential punishment is unjustified , offenders should be punished as if they had not brought about the harmful result that would otherwise subject them to heightened punishment ', ' # INTRODUCTION # In 2009 , three roommates at Purdue University in Indiana were drinking in their living room on a Saturday night when one of them , Landon Siela , headed to the bathroom ', ' The other two roommates , William Calderon and Cory Lynch , each decided to \" prank \" Siela by pulling an unloaded gun on him and pretending to shoot when he returned to the living room ', \" Tragically , Lynch 's gun , unbeknownst to him , still had a live bullet lodged in the chamber , which struck and killed Siela when Lynch pulled the trigger \", ' As a result , Calderon and Lynch were both convicted of criminal offenses ', ' @ @ @ @ @ @ @ @ @ @ misdemeanor of \" pointing a firearm , \" punishable by no more than a year in prison , 1 Lynch was convicted of reckless manslaughter , a Class C felony that carries a maximum sentence of eight years', \"2 # It is clear that the fact that Lynch 's reckless actions caused Siela 's death exposed him to much harsher legal penalties than those faced by Calderon \", ' It is less clear , however , what justifies this discrepancy in severity , given that Lynch does not seem to have behaved any more culpably than Calderon ', ' This dilemma , a close cousin of the philosophical problem of \" moral luck , \" has long stood as an intractable puzzle in the theory of criminal law', '3 # The majority position among scholars on this topic , exemplified by Stephen J', ' Schulhofer in his influential 1974 article Harm and Punishment , is that differentiating punishment based on its results can not be justified as a matter of practice', '4 However , some theorists have dissented from this view ', ' A few proponents of retributive punishment , most prominently philosopher Michael Moore , 5 @ @ @ @ @ @ @ @ @ @ \" by claiming that the consequences of one ? s actions weigh directly on one ? s ? moral desert , ? and thus that an action that causes greater harm merits greater punishment', '6 Other commentators , such as Judge Richard Posner , have advanced utilitarian rationales for more severely punishing those offenders who cause greater harm , arguing , inter alia , that this approach more effectively and efficiently deters future harmful conduct', '7 However , as of yet , no theorist has succeeded in producing a widely accepted justification for this feature of the criminal law ', ' # In this Article , we propose a general theory of differential punishment-that is , the practice of differentiating an offender ? s punishment based on whether her actions bring about a statutory harm ', ' In so defining differential punishment , we borrow Schulhofer ? s definition of statutory harm as ? any consequence of conduct ', ' ', ' ', ' that is a necessary element of a given offense', ' ? 8 As Schulhofer explains , the concept of statutory harm is not coextensive with what might ordinarily be thought of as the ? @ @ @ @ @ @ @ @ @ @ the ultimate harm or consequence that the criminal offense seeks to prevent', '9 For example , if a married man is murdered , his wife might be ? harmed ? in that she mourns his death and misses his company ', ' But the wife ? s psychological distress is not a statutory harm for the crime of murder , because-unlike her husband ? s death-it is not a necessary element of the crime ', ' Conversely , because the crime of burglary requires ? unauthorized entry into a building with intent to commit a felony therein , ? one might reasonably think that the intended felony , and not the unlawful entry , is the ultimate harm the crime of burglary seeks to prevent', '10 However , because ? unauthorized entry into a building ? is a consequence of the offender ? s conduct that is a necessary element of the crime of burglary , it is a statutory harm ', ' Moreover , it is important to note that not all crimes have a statutory harm-for instance , inchoate crimes , such as attempts , prohibit certain types of conduct even if such @ @ @ @ @ @ @ @ @ @ # While a myriad of factors go into determining what specific sentence a judge will impose in any given case ( such as an offender ? s ? acceptance of responsibility ? and past criminal history ) , differential punishment refers specifically to the practice of classifying offenders who cause particular statutory harms as guilty of offenses that carry higher penalties than those crimes applicable to offenders who engage in equally culpable behavior , yet for whatever reason do not bring about statutory harms', ' # In the pages below , we propose a novel theory of differential punishment that introduces a distinction between two broad and exhaustive categories of theoretical justifications for criminal punishment ', ' On the one hand , what we will refer to as offender-facing justifications condition punishment on various facts about an offender , including her actions , mental states , and risk of dangerousness to herself and to others ', ' Offender-facing justifications for punishment include many of the best-known theories of punishment , such as deterrence , retribution , incapacitation , and rehabilitation ', \" As we will demonstrate , because offender-facing justifications focus exclusively on facts @ @ @ @ @ @ @ @ @ @ capable of justifying differential punishment based on results outside of the offender 's control \", ' # On the other hand , victim-facing justifications condition punishment on the effects that criminal offenses have on their victims ', ' These justifications are premised on the notion that the state should take the interests of victims into account when determining how severely criminal offenders should be punished ', ' Victim-facing justifications tend either to take the form of certain \" expressive \" theories of punishment , according to which offenders should be punished out of respect to victims for the harm that they have suffered , 11 or vengeance-based theories , which recognize victims \\' desire for revenge against their offenders ', \" As we will show , because victimfacing justifications focus on the actual consequences of criminal conduct , rather than merely on offenders ' culpable behavior , they are , if valid , capable of justifying the practice of differential punishment in many circumstances \", ' # Therefore , to the extent that differential punishment can be justified at all , it can only be justified in reference to these victim-facing justifications ', ' Yet , @ @ @ @ @ @ @ @ @ @ not applicable to all criminal offenses or instances of criminal misconduct ', ' In cases where ( 1 ) a criminal offense has no \" object \" ( in that it is not \" done \" to anyone ) , where ( 2 ) the victim of a crime consented to or was otherwise culpable for the commission of the criminal offense , or where ( 3 ) a victim disavows expressive or vengeance-based punishment on his behalf , victim-facing justifications cease to function as legitimate justifications for differential punishment ', ' # Our framework will demonstrate that , no matter which of the currently recognized theories of criminal punishment one thinks are legitimate , it follows that differential punishment will never be warranted in those three types of cases ', ' Because previous authors have focused solely on the question of whether differential punishment can be justified writ large , they have failed to reckon with the possibility that the practice may be justified with respect to some types of offenses , but not to others ', ' By distinguishing between offender-facing and victimfacing justifications for punishment , this Article provides a layer @ @ @ @ @ @ @ @ @ @ identifies for the first time three categories of offenses in regard to which all parties should agree differential punishment should not extend ', ' # In those circumstances where differential punishment is unwarranted , an offender should only be punished for culpable behavior within her control , and not for any statutory harm resulting from her actions ', ' Our general proposal is accordingly to punish offenders of completed crimes for which victim-facing justifications for punishment do not apply as if the statutory harm had not occurred ', ' Under this framework , completed intentional crimes for which victim-facing justifications do not apply should be punished only as severely as are attempts of those same crimes', '12 In jurisdictions where attempts and completed crimes are already punished equally , our recommendation would therefore not have any effect on how such offenders are punished ', ' # But our proposal would have far more dramatic implications with regard to the punishment of non-intentional offenses , as abandoning a regime of differential punishment would almost always lead to a significant reduction in punishment for offenders of nonintentional crimes ', ' This is because non-intentional criminal conduct is generally @ @ @ @ @ @ @ @ @ @ ', ' Indeed , in the absence of statutory harm , such behavior is generally only punished at all when it is independently criminalized ( as with the crime of driving under the influence ) or when it risks inflicting serious injury or bodily harm to another ( as with the crime of reckless endangerment ) ', ' # In Parts I and II , we introduce the dichotomy between offender-facing and victim-facing justifications for punishment , and show that only the latter category is capable of justifying differential punishment ', ' In doing so , our Article presents the most comprehensive and up-to-date discussion in the academic literature of why many of the traditional theories of criminal punishment can not justify the practice of differential punishment ', ' In Part III , we venture into untrodden territory , identifying three distinct categories of criminal offenses to which victim-facing justifications for punishment can not apply , even in principle ', ' We conclude that , due to the unavailability of victim-facing justifications , differential punishment is never warranted in such cases ', ' # In Part IV , we demonstrate how our conclusions in Part III @ @ @ @ @ @ @ @ @ @ to which victim-facing justifications do not apply , and we suggest that such completed offenses should be punished as if the statutory harm had not occurred ', ' Putting our recommendations into practice would greatly reduce the sentences for a significant class of criminal offenders at both the state and federal levels , cutting down on the chronic problem of over-incarceration that haunts our penal system without undermining the objectives of any of the recognized justifications for criminal punishment ', ' # I', ' OFFENDER-FACING JUSTIFICATIONS FOR PUNISHMENT # Many of the classic justifications for criminal punishment- deterrence , retribution , rehabilitation , and incapacitation-do not depend on the occurrence of a statutory harm ', ' These offender-facing justifications relate to various facts about an offender : his actions , mental states , level of dangerousness , etc ', ' Thus , these justifications remain valid even in the case of inchoate crimes , such as attempts , where the offender has not caused any statutory harm ', ' As we will argue in this Part , offender-facing justifications can not justify differential punishment , precisely because they depend solely on facts about the offender and @ @ @ @ @ @ @ @ @ @ actions ', ' # Although we are the first to group these justifications for punishment together and label them \" offender-facing , \" we are not the first to suggest that many of the classic theories of criminal punishment can not justify the role that the results of an offender \\'s conduct currently play in American criminal law ', \" Other commentators , most notably Schulhofer in his 1974 paper , have made the case that whether or not an offender 's actions lead to a statutory harm is irrelevant to many of the justifications for criminal punishment\", '13 However , a minority of scholars have pushed back against this view in recent decades ', ' Therefore , we think that it is important to discuss each of these justifications in turn , in order to address any objections and to affirmatively make the case that offender-facing justifications do not , and can not , justify differential punishment ', ' # A', 'Deterrence # Perhaps the most widely accepted justification for punishing criminal offenders is the deterrence of future crime', '14 While the law has other means of deterring undesirable conduct , such as civil fines and @ @ @ @ @ @ @ @ @ @ as necessary to prevent the serious misconduct that the criminal law concerns itself with', '15 However , the question remains : Does differentiating punishment based on whether a given course of criminal conduct leads to a harmful result deter more crime than would punishing all instances of such conduct equally ? We submit that it does not ', ' # By punishing criminal offenders , the state can simultaneously accomplish two forms of deterrence', '16 First , punishing an offender disincentivizes the general population from engaging in criminal action by demonstrating the negative consequences of doing so ; this is known as general deterrence ', ' Second , punishing an offender incentivizes that offender to himself abstain from future criminal action ; this is known as specific deterrence ', ' For two reasons , we will take the word \" deterrence \" to mean \" general deterrence \" for the remainder of this section ', ' First , nearly all arguments made in favor of differential punishment focus on the effects it has on general deterrence', \"17 Second , most empirical studies conclude that lengthening an offender 's sentence generally has a neutral or even positive effect @ @ @ @ @ @ @ @ @ @ the outset that it would be categorically unwise to base substantial differences in punishment on the theory of specific deterrence\", ' # While the majority of commentators believe , as we do , that result-based punishment in the criminal law does not advance the goal of deterrence , 19 a minority of scholars contest this issue ', ' Within the academic literature , these deterrence-based arguments for differential punishment usually take one of four standard forms ', ' We will address ( and ultimately reject ) each of these in turn ', ' # The first argument commonly cited in favor of differential punishment is known as the \" penal lottery ', ' \" 20 This view posits that , given that people are generally risk averse , 21 arbitrarily punishing certain offenders severely and others leniently will deter crime more effectively and efficiently than would punishing all offenders equally ', ' If true , this proposition would lead to the conclusion that varying punishment based on results would , in fact , lead to greater deterrence than would punishing the underlying action consistently ', ' # This theory rests upon a testable empirical proposition- namely , @ @ @ @ @ @ @ @ @ @ , deters more effectively than less severe , but certain , punishment does ', ' As it turns out , however , the sizable literature investigating this question consistently finds certainty in punishment to be far more important than severity in deterring undesirable action', '22 Pending new and contradictory evidence , therefore , the empirical proposition upon which this argument is founded appears false ', ' # A second well-known argument for differential punishment is that it provides marginal incentives for offenders to abandon their criminal design before the criminal act is consummated , whereas equal punishment removes incentives for abandonment of criminal plans', '23 As Judge Richard Posner puts it : # If the punishment for attempted murder were the same as for murder , one who shot and missed ( and was not caught immediately ) might as well try again , for if he succeeds , he will be punished no more severely than for his unsuccessful attempt', '24 # Like the \" penal lottery \" argument , this argument also fails to justify the role that results play in the criminal law ', ' First , these alleged marginal incentives are largely @ @ @ @ @ @ @ @ @ @ offender generally does not desire the proscribed result to occur in the first place ', ' Moreover , even in the case of intentional crimes , this argument does little to explain why a gunman who tried to murder someone would give up simply because he missed once ', ' Presumably , the gunman in Posner \\'s example intended to murder his victim despite the criminal consequences of doing so ; in other words , it was \" worth it \" for him to kill , even in light of the increased criminal sanctions for the completed offense of murder', '25 While surely some of the individuals who attempt criminal offenses have a \" change of heart \" after failing the first time , Posner \\'s theory would only apply to the , likely rare , individual who had a halfhearted change of mind ( i', 'e']\n"
          ]
        }
      ]
    },
    {
      "cell_type": "markdown",
      "id": "a35ba177-63c9-43e0-8eb0-cc41ada452d6",
      "metadata": {
        "id": "a35ba177-63c9-43e0-8eb0-cc41ada452d6"
      },
      "source": [
        "## Names"
      ]
    },
    {
      "cell_type": "code",
      "execution_count": null,
      "id": "efb0d50d-543f-4483-9b58-83812e4c7418",
      "metadata": {
        "id": "efb0d50d-543f-4483-9b58-83812e4c7418"
      },
      "outputs": [],
      "source": [
        ""
      ]
    },
    {
      "cell_type": "markdown",
      "id": "45b17c25-4631-4971-8c9e-9b13b9322a08",
      "metadata": {
        "id": "45b17c25-4631-4971-8c9e-9b13b9322a08"
      },
      "source": [
        "# Preprocessing"
      ]
    },
    {
      "cell_type": "markdown",
      "id": "6c46490a-70a1-41ae-8f63-ccf7fb08da08",
      "metadata": {
        "id": "6c46490a-70a1-41ae-8f63-ccf7fb08da08"
      },
      "source": [
        "## Cleaning Corpus"
      ]
    },
    {
      "cell_type": "code",
      "execution_count": 15,
      "id": "a34cc32e-33c0-4f47-a08f-e7b37dd30f8a",
      "metadata": {
        "id": "a34cc32e-33c0-4f47-a08f-e7b37dd30f8a",
        "outputId": "03bc6ed0-65c0-41b6-9ada-3e40e3389922",
        "colab": {
          "base_uri": "https://localhost:8080/"
        }
      },
      "outputs": [
        {
          "output_type": "stream",
          "name": "stdout",
          "text": [
            "@@4170367 Headnote # A puzzle has long pervaded the criminal law : why are two offenders who commit the same criminal act punished differently when one of them , due to circumstances beyond her control , causes more harm than the other ? This tradition of result-based differential\n",
            "[@@4170367, Headnote # A puzzle has long pervaded the criminal law : why are two offenders who commit the same criminal act punished differently when one of them , due to circumstances beyond her control , causes more harm than the other ?, This tradition of result-based differential punishment-the practice of varying offenders ' punishment based on whether or not they cause specific \" statutory harms \" -has long stood as an intractable problem for scholars and jurists alike .]\n"
          ]
        }
      ],
      "source": [
        "nlp = spacy.load(\"en_core_web_sm\")\n",
        "nlp.max_length = 10000000000\n",
        "\n",
        "def clean_corpus(data):\n",
        "    # Tokenization\n",
        "    doc = nlp(data)\n",
        "    print(doc[:50])\n",
        "\n",
        "    # Split into sentences\n",
        "    sents = list(doc.sents)\n",
        "    print(sents[:3])\n",
        "\n",
        "    # Remove all words that are full-caps\n",
        "    IS_UPPER = True\n",
        "\n",
        "    # Lowercase\n",
        "    \n",
        "\n",
        "    # Remove non-letters (punctuation and numbers)\n",
        "    IS_PUNCT = True \n",
        "    LIKE_NUM = True \n",
        "    \n",
        "    # Removing stopwords: DO NOT REMOVE PRONOUNS, HIM HER ETC.\n",
        "    IS_STOP = True\n",
        "    #stop_words = set(stopwords.words('english'))\n",
        "    #stop_words.remove('him')\n",
        "    #stop_words.remove('her')\n",
        "    #stop_words.remove('hers')\n",
        "    #stop_words.remove('his')\n",
        "    #stop_words.remove('he')\n",
        "    #stop_words.remove('she')\n",
        "    #no_stop = []\n",
        "    #for sent in lemma_sent:\n",
        "    #    tokens_without_sw = [word for word in sent if not word in stop_words]\n",
        "    #    no_stop.append(tokens_without_sw)\n",
        "\n",
        "    # Remove made-up names from dataset\n",
        "\n",
        "    # Remove words with freq < XX\n",
        "\n",
        "clean_corpus(unclean_corpus[:10000])"
      ]
    },
    {
      "cell_type": "code",
      "source": [
        ""
      ],
      "metadata": {
        "id": "_GxXQaOBOa9N",
        "outputId": "c7326319-72b3-4460-8efe-4535188b61ab",
        "colab": {
          "base_uri": "https://localhost:8080/"
        }
      },
      "id": "_GxXQaOBOa9N",
      "execution_count": 50,
      "outputs": [
        {
          "output_type": "stream",
          "name": "stdout",
          "text": [
            "3000000000\n"
          ]
        }
      ]
    },
    {
      "cell_type": "code",
      "source": [
        "drive.flush_and_unmount()\n",
        "print('All changes made in this colab session should now be visible in Drive.')"
      ],
      "metadata": {
        "id": "MCJ592ZYMSXB",
        "outputId": "7ef56a52-2e44-478d-de55-13a6292ad0cd",
        "colab": {
          "base_uri": "https://localhost:8080/"
        }
      },
      "id": "MCJ592ZYMSXB",
      "execution_count": 16,
      "outputs": [
        {
          "output_type": "stream",
          "name": "stdout",
          "text": [
            "All changes made in this colab session should now be visible in Drive.\n"
          ]
        }
      ]
    },
    {
      "cell_type": "markdown",
      "id": "a09e790a-e08f-4144-b01e-25af29a8816f",
      "metadata": {
        "id": "a09e790a-e08f-4144-b01e-25af29a8816f"
      },
      "source": [
        "## Training fastText and Validating on Word Embeddings Benchmark"
      ]
    },
    {
      "cell_type": "code",
      "execution_count": null,
      "id": "0d3909f0-5298-4ef8-b578-c759a62ab17c",
      "metadata": {
        "id": "0d3909f0-5298-4ef8-b578-c759a62ab17c"
      },
      "outputs": [],
      "source": [
        "# Skipgram model :\n",
        "#model = fasttext.train_unsupervised('data.txt', model='skipgram')\n",
        "\n",
        "#model.save_model(\"model_filename.bin\")\n",
        "\n",
        "#model = fasttext.load_model(\"model_filename.bin\")\n",
        "\n",
        "#model.get_nearest_neighbors('asparagus')\n",
        "\n",
        "#In a similar spirit, one can play around with word analogies. For example, we can see if our model can guess what is to France, and what Berlin is to Germany.\n",
        "#This can be done with the analogies functionality. It takes a word triplet (like Germany Berlin France) and outputs the analogy:\n",
        "#model.get_analogies(\"berlin\", \"germany\", \"france\")"
      ]
    },
    {
      "cell_type": "code",
      "execution_count": null,
      "id": "aaa3cc3c-e1a4-489b-b0c6-e25bd045783f",
      "metadata": {
        "id": "aaa3cc3c-e1a4-489b-b0c6-e25bd045783f"
      },
      "outputs": [],
      "source": [
        ""
      ]
    }
  ],
  "metadata": {
    "kernelspec": {
      "display_name": "Python 3 (ipykernel)",
      "language": "python",
      "name": "python3"
    },
    "language_info": {
      "codemirror_mode": {
        "name": "ipython",
        "version": 3
      },
      "file_extension": ".py",
      "mimetype": "text/x-python",
      "name": "python",
      "nbconvert_exporter": "python",
      "pygments_lexer": "ipython3",
      "version": "3.9.7"
    },
    "colab": {
      "name": "MA Thesis Semantics of Names.ipynb",
      "provenance": []
    }
  },
  "nbformat": 4,
  "nbformat_minor": 5
}