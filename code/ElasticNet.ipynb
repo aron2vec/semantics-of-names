{
  "cells": [
    {
      "cell_type": "code",
      "execution_count": 2,
      "id": "8b3cd47c-eeee-49a5-b99c-0b6ab8dbbe25",
      "metadata": {
        "id": "8b3cd47c-eeee-49a5-b99c-0b6ab8dbbe25",
        "outputId": "182f23b4-700d-4cbe-a477-152a95b6d755",
        "colab": {
          "base_uri": "https://localhost:8080/"
        }
      },
      "outputs": [
        {
          "output_type": "stream",
          "name": "stdout",
          "text": [
            "Collecting fasttext\n",
            "  Downloading fasttext-0.9.2.tar.gz (68 kB)\n",
            "\u001b[?25l\r\u001b[K     |████▊                           | 10 kB 16.9 MB/s eta 0:00:01\r\u001b[K     |█████████▌                      | 20 kB 19.1 MB/s eta 0:00:01\r\u001b[K     |██████████████▎                 | 30 kB 22.2 MB/s eta 0:00:01\r\u001b[K     |███████████████████             | 40 kB 24.1 MB/s eta 0:00:01\r\u001b[K     |███████████████████████▉        | 51 kB 5.8 MB/s eta 0:00:01\r\u001b[K     |████████████████████████████▋   | 61 kB 6.6 MB/s eta 0:00:01\r\u001b[K     |████████████████████████████████| 68 kB 3.1 MB/s \n",
            "\u001b[?25hCollecting pybind11>=2.2\n",
            "  Using cached pybind11-2.9.2-py2.py3-none-any.whl (213 kB)\n",
            "Requirement already satisfied: setuptools>=0.7.0 in /usr/local/lib/python3.7/dist-packages (from fasttext) (57.4.0)\n",
            "Requirement already satisfied: numpy in /usr/local/lib/python3.7/dist-packages (from fasttext) (1.21.5)\n",
            "Building wheels for collected packages: fasttext\n",
            "  Building wheel for fasttext (setup.py) ... \u001b[?25l\u001b[?25hdone\n",
            "  Created wheel for fasttext: filename=fasttext-0.9.2-cp37-cp37m-linux_x86_64.whl size=3141244 sha256=b3b9bda5f0ed6fb4d088574d081790800f5ed1c20a6fdfe28a95126b5ccfcc94\n",
            "  Stored in directory: /root/.cache/pip/wheels/4e/ca/bf/b020d2be95f7641801a6597a29c8f4f19e38f9c02a345bab9b\n",
            "Successfully built fasttext\n",
            "Installing collected packages: pybind11, fasttext\n",
            "Successfully installed fasttext-0.9.2 pybind11-2.9.2\n"
          ]
        }
      ],
      "source": [
        "from numpy import mean\n",
        "from numpy import std\n",
        "from numpy import absolute\n",
        "from pandas import read_csv\n",
        "import pandas as pd\n",
        "import numpy as np\n",
        "from sklearn.model_selection import cross_val_score, RepeatedKFold, train_test_split\n",
        "from sklearn.linear_model import ElasticNetCV\n",
        "!pip install fasttext\n",
        "import fasttext\n",
        "\n",
        "#path = \"D:/Tilburg University/2021-2022/Thesis/Coca/\"\n",
        "#model_path = path + \"models/\"\n",
        "\n",
        "#model = fasttext.load_model(model_path + \"sentenced_dim300_ws2_minn2_maxn5.bin\")"
      ]
    },
    {
      "cell_type": "code",
      "source": [
        "## When working in colab:\n",
        "from google.colab import drive\n",
        "\n",
        "drive.mount(\"/content/drive\", force_remount=True) \n",
        "\n",
        "model = fasttext.load_model(\"drive/MyDrive/Thesis/Data/fastText and others/sentenced_dim300_ws2_minn2_maxn5.bin\")"
      ],
      "metadata": {
        "id": "RMMFcx0UBVvC",
        "outputId": "4cad3d50-46e5-4d4c-9c6e-522e6063c686",
        "colab": {
          "base_uri": "https://localhost:8080/"
        }
      },
      "id": "RMMFcx0UBVvC",
      "execution_count": 21,
      "outputs": [
        {
          "output_type": "stream",
          "name": "stdout",
          "text": [
            "Mounted at /content/drive\n"
          ]
        },
        {
          "output_type": "stream",
          "name": "stderr",
          "text": [
            "Warning : `load_model` does not return WordVectorModel or SupervisedModel any more, but a `FastText` object which is very similar.\n"
          ]
        }
      ]
    },
    {
      "cell_type": "code",
      "execution_count": 15,
      "id": "3a18f809-0cbd-4964-8044-4b67bbbc456c",
      "metadata": {
        "id": "3a18f809-0cbd-4964-8044-4b67bbbc456c",
        "outputId": "b03d2681-e1c0-4e7c-c8ea-185e363e21f2",
        "colab": {
          "base_uri": "https://localhost:8080/"
        }
      },
      "outputs": [
        {
          "output_type": "stream",
          "name": "stdout",
          "text": [
            "119\n",
            "179\n",
            "63\n",
            "       name  rating.mean_age    age name_type\n",
            "0  Adelaide        -0.617647    old      real\n",
            "2  Alasdair        18.709677  young      real\n",
            "3   Alastor        13.812500    old    madeup\n",
            "4    Alecto         3.593750    old    madeup\n",
            "5     Alice       -13.969697  young      real 119\n",
            "       name  rating.mean_gender  gender name_type\n",
            "0  Adelaide           45.727273  female      real\n",
            "1   Adelina           47.771429  female      real\n",
            "2  Alasdair          -35.657143    male      real\n",
            "3   Alastor          -38.833333    male    madeup\n",
            "4    Alecto          -35.722222  female    madeup 179\n",
            "        name  rating.mean_valence polarity name_type\n",
            "1    Adelina            31.621622      bad      real\n",
            "7    Amabala             5.935484     good    madeup\n",
            "8      Apple            32.444444     good   talking\n",
            "11  Arcturus           -11.166667     good    madeup\n",
            "13   Arobynn             7.645161      bad    madeup 63\n"
          ]
        }
      ],
      "source": [
        "### Read CSV File and Delete Unimportant Columns\n",
        "#names_ratings = read_csv(\"D:/Tilburg University/2021-2022/Thesis/Data analyses/Giovanni Email Data/avgRatings_annotated.csv\")\n",
        "\n",
        "names_ratings = read_csv(\"drive/MyDrive/Thesis/Data/giovanni_email_data/avgRatings_annotated.csv\")\n",
        "\n",
        "#print(names_ratings.head())\n",
        "\n",
        "print(names_ratings['rating.mean_age'].notna().sum())\n",
        "print(names_ratings['rating.mean_gender'].notna().sum())\n",
        "print(names_ratings['rating.mean_valence'].notna().sum())\n",
        "\n",
        "df_age = names_ratings.loc[names_ratings['rating.mean_age'].notna(), ['name', 'rating.mean_age', 'age', 'name_type']]\n",
        "print(df_age.head(), len(df_age))\n",
        "\n",
        "df_gender = names_ratings.loc[names_ratings['rating.mean_gender'].notna(), ['name', 'rating.mean_gender', 'gender', 'name_type']]\n",
        "print(df_gender.head(), len(df_gender))\n",
        "\n",
        "df_polarity = names_ratings.loc[names_ratings['rating.mean_valence'].notna(), ['name', 'rating.mean_valence', 'polarity', 'name_type']]\n",
        "print(df_polarity.head(), len(df_polarity))"
      ]
    },
    {
      "cell_type": "code",
      "execution_count": 22,
      "id": "81ce89e5-06a4-45b0-a0b1-4837e28febac",
      "metadata": {
        "id": "81ce89e5-06a4-45b0-a0b1-4837e28febac",
        "outputId": "338a5b39-2962-4251-a8d4-316380a3ab73",
        "colab": {
          "base_uri": "https://localhost:8080/"
        }
      },
      "outputs": [
        {
          "output_type": "stream",
          "name": "stdout",
          "text": [
            "95 24 143 36 50 13\n"
          ]
        }
      ],
      "source": [
        "### Get repeatable train/test split with a seed\n",
        "\n",
        "def fasttext_xifyer(input_data):\n",
        "  df_output = np.zeros((len(input_data), 300))\n",
        "\n",
        "  i = 0\n",
        "\n",
        "  for row in input_data.iterrows():\n",
        "    index = row[0]\n",
        "    name = row[1][0].lower()\n",
        "    df_output[i] = model[name]\n",
        "    i += 1\n",
        "\n",
        "  return df_output\n",
        "\n",
        "################################################################################\n",
        "\n",
        "age_train, age_test = train_test_split(df_age, test_size=0.2, random_state=17042020,      ## First let's do age\n",
        "                               stratify=df_age[['age', 'name_type']])\n",
        "\n",
        "x_age_train = fasttext_xifyer(age_train)\n",
        "x_age_test = fasttext_xifyer(age_test)\n",
        "\n",
        "y_age_train = age_train['rating.mean_age']\n",
        "y_age_test = age_test['rating.mean_age']\n",
        "\n",
        "####################################################################################################################\n",
        "\n",
        "gen_train, gen_test = train_test_split(df_gender, test_size=0.2, random_state=17042020,     ## Now let's do gender\n",
        "                               stratify=df_gender[['gender', 'name_type']])\n",
        "\n",
        "x_gen_train = fasttext_xifyer(gen_train)\n",
        "x_gen_test = fasttext_xifyer(gen_test)\n",
        "\n",
        "\n",
        "y_gen_train = gen_train['rating.mean_gender']\n",
        "y_gen_test = gen_test['rating.mean_gender']\n",
        "\n",
        "\n",
        "####################################################################################################################\n",
        "\n",
        "pol_train, pol_test = train_test_split(df_polarity, test_size=0.2, random_state=17042020,    ## And lastly, polarity\n",
        "                               stratify=df_polarity[['polarity', 'name_type']])\n",
        "\n",
        "x_pol_train = fasttext_xifyer(pol_train)\n",
        "x_pol_test = fasttext_xifyer(pol_test)\n",
        "\n",
        "y_pol_train = pol_train['rating.mean_valence']\n",
        "y_pol_test = pol_test['rating.mean_valence']\n",
        "\n",
        "print(len(x_age_train), len(x_age_test), len(x_gen_train), len(x_gen_test), len(x_pol_train), len(x_pol_test))\n",
        "\n",
        "#del model"
      ]
    },
    {
      "cell_type": "code",
      "execution_count": null,
      "id": "fc46ca8b-cd6b-4de5-9def-8c0a1ac9c2db",
      "metadata": {
        "id": "fc46ca8b-cd6b-4de5-9def-8c0a1ac9c2db"
      },
      "outputs": [],
      "source": [
        "### Make a cross-validation loop testing a bunch of hyperparameters, all the while saving the outputs to a dict or something"
      ]
    },
    {
      "cell_type": "code",
      "execution_count": null,
      "id": "68c41b5d-43b8-4a30-8636-ec9da122b3db",
      "metadata": {
        "id": "68c41b5d-43b8-4a30-8636-ec9da122b3db",
        "outputId": "d8174b24-7d10-4176-828d-ae5480f8f54a"
      },
      "outputs": [
        {
          "name": "stdout",
          "output_type": "stream",
          "text": [
            "Alpha: 0.07464309442408282\n",
            "L1 Ratio: 0.9\n",
            "# Iters: 48\n",
            "Intercept: -2.2760815495287714\n",
            "\n",
            "\n",
            "MSE Train: 888.8802022779203\n",
            "MAE Test: 19.753931671206317\n",
            "MSE Test: 548.8958414915725\n",
            "R2: 0.6016848992232694\n",
            "\n",
            "\n",
            "MAE madeup [24.51393291]\n",
            "MAE real [15.76683143]\n",
            "MAE talking [18.98103068]\n",
            "\n",
            "\n",
            "Mean-vector MAE Test: 35.20711844649357\n",
            "Mean-vector MSE Test: 1411.4821234797062\n",
            "Mean-vector R2: -0.02426471793010454\n"
          ]
        }
      ],
      "source": [
        "regr = ElasticNetCV(l1_ratio = [0.01, 0.05, .1, 0.2, .5, .7, .9, .95, .99, 1], \n",
        "                    n_alphas = 250,\n",
        "                    max_iter = 10000,\n",
        "                    cv = len(x_gen_train),\n",
        "                    selection = 'random', \n",
        "                    random_state=17042020,)\n",
        "\n",
        "regr.fit(x_gen_train, y_gen_train)\n",
        "\n",
        "print(\"Alpha:\", regr.alpha_)\n",
        "print(\"L1 Ratio:\", regr.l1_ratio_)\n",
        "print(\"# Iters:\", regr.n_iter_)\n",
        "print(\"Intercept:\", regr.intercept_)\n",
        "#print(\"Coefs:\", regr.coef_)\n",
        "print(\"\\n\")\n",
        "\n",
        "print(\"MSE Train:\", mean(regr.mse_path_))\n",
        "\n",
        "print(\"MAE Test:\", sklearn.metrics.mean_absolute_error(y_gen_test, regr.predict(x_gen_test)))\n",
        "print(\"MSE Test:\", sklearn.metrics.mean_squared_error(y_gen_test, regr.predict(x_gen_test)))\n",
        "\n",
        "print(\"R2:\", regr.score(x_gen_test, y_gen_test))\n",
        "\n",
        "print('\\n')\n",
        "\n",
        "type_dict_gen = {}\n",
        "type_counter_gen = {}\n",
        "for n, i, j in zip(gen_test['name_type'], y_gen_test, x_gen_test):\n",
        "    if n in type_dict_gen.keys():\n",
        "        type_dict_gen[n] = type_dict_gen[n] + abs(i - regr.predict(j.reshape(1, -1)))\n",
        "        type_counter_gen[n] = type_counter_gen[n] + 1\n",
        "    else:\n",
        "        type_dict_gen[n] = abs(i - regr.predict(j.reshape(1, -1)))\n",
        "        type_counter_gen[n] = 1\n",
        "    \n",
        "for i in type_dict_gen.keys():\n",
        "    print(\"MAE\", i, type_dict_gen[i]/type_counter_gen[i])\n",
        "\n",
        "print('\\n')\n",
        "\n",
        "mean_vec_gen = np.mean(x_gen_train, axis = 0)\n",
        "mean_vec_array_gen = np.full((len(x_gen_test), 300), mean_vec_gen)\n",
        "\n",
        "print(\"Mean-vector MAE Test:\", sklearn.metrics.mean_absolute_error(y_gen_test, regr.predict(mean_vec_array_gen)))\n",
        "print(\"Mean-vector MSE Test:\", sklearn.metrics.mean_squared_error(y_gen_test, regr.predict(mean_vec_array_gen)))\n",
        "\n",
        "print(\"Mean-vector R2:\", regr.score(mean_vec_array_gen, y_gen_test))"
      ]
    },
    {
      "cell_type": "code",
      "execution_count": null,
      "id": "498ba698-8989-4874-a8d5-197e688b49cc",
      "metadata": {
        "id": "498ba698-8989-4874-a8d5-197e688b49cc",
        "outputId": "f5f4f4bc-690b-42df-ae0e-fe3a6144b4ca"
      },
      "outputs": [
        {
          "name": "stdout",
          "output_type": "stream",
          "text": [
            "Alpha: 0.22747173388941747\n",
            "L1 Ratio: 1.0\n",
            "# Iters: 71\n",
            "Intercept: 14.058597468383915\n",
            "\n",
            "\n",
            "MSE Train: 412.7853215036653\n",
            "MAE Test: 17.398978553042074\n",
            "MSE Test: 403.139256131658\n",
            "R2: -0.4256642361660299\n",
            "\n",
            "\n",
            "MAE real [16.99593187]\n",
            "MAE madeup [20.83337036]\n",
            "MAE talking [14.36763342]\n",
            "\n",
            "\n",
            "Mean-vector MAE Test: 17.188119883066264\n",
            "Mean-vector MSE Test: 377.67235203479964\n",
            "Mean-vector R2: -0.3356029141177901\n"
          ]
        }
      ],
      "source": [
        "regr = ElasticNetCV(l1_ratio = [0.01, 0.05, .1, 0.2, .5, .7, .9, .95, .99, 1], \n",
        "                    n_alphas = 250,\n",
        "                    max_iter = 10000,\n",
        "                    cv = len(x_age_train),\n",
        "                    selection = 'random', \n",
        "                    random_state=17042020,)\n",
        "\n",
        "regr.fit(x_age_train, y_age_train)\n",
        "\n",
        "print(\"Alpha:\", regr.alpha_)\n",
        "print(\"L1 Ratio:\", regr.l1_ratio_)\n",
        "print(\"# Iters:\", regr.n_iter_)\n",
        "print(\"Intercept:\", regr.intercept_)\n",
        "#print(\"Coefs:\", regr.coef_)\n",
        "print(\"\\n\")\n",
        "\n",
        "print(\"MSE Train:\", mean(regr.mse_path_))\n",
        "\n",
        "print(\"MAE Test:\", sklearn.metrics.mean_absolute_error(y_age_test, regr.predict(x_age_test)))\n",
        "print(\"MSE Test:\", sklearn.metrics.mean_squared_error(y_age_test, regr.predict(x_age_test)))\n",
        "\n",
        "print(\"R2:\", regr.score(x_age_test, y_age_test))\n",
        "\n",
        "print('\\n')\n",
        "\n",
        "type_dict_age = {}\n",
        "type_counter_age = {}\n",
        "for n, i, j in zip(age_test['name_type'], y_age_test, x_age_test):\n",
        "    if n in type_dict_age.keys():\n",
        "        type_dict_age[n] = type_dict_age[n] + abs(i - regr.predict(j.reshape(1, -1)))\n",
        "        type_counter_age[n] = type_counter_age[n] + 1\n",
        "    else:\n",
        "        type_dict_age[n] = abs(i - regr.predict(j.reshape(1, -1)))\n",
        "        type_counter_age[n] = 1\n",
        "    \n",
        "for i in type_dict_age.keys():\n",
        "    print(\"MAE\", i, type_dict_age[i]/type_counter_age[i])\n",
        "    \n",
        "print('\\n')\n",
        "\n",
        "mean_vec_age = np.mean(x_age_train, axis = 0)\n",
        "mean_vec_array_age = np.full((len(x_age_test), 300), mean_vec_age)\n",
        "\n",
        "print(\"Mean-vector MAE Test:\", sklearn.metrics.mean_absolute_error(y_age_test, regr.predict(mean_vec_array_age)))\n",
        "print(\"Mean-vector MSE Test:\", sklearn.metrics.mean_squared_error(y_age_test, regr.predict(mean_vec_array_age)))\n",
        "\n",
        "print(\"Mean-vector R2:\", regr.score(mean_vec_array_age, y_age_test))"
      ]
    },
    {
      "cell_type": "code",
      "execution_count": null,
      "id": "9787463d-b63e-4cb9-8133-17611e5bbf0d",
      "metadata": {
        "id": "9787463d-b63e-4cb9-8133-17611e5bbf0d",
        "outputId": "af8dea89-5618-40c7-99f4-ce241e4f6a47"
      },
      "outputs": [
        {
          "name": "stdout",
          "output_type": "stream",
          "text": [
            "Alpha: 0.07870886844842703\n",
            "L1 Ratio: 0.7\n",
            "# Iters: 32\n",
            "Intercept: -5.456713127098343\n",
            "\n",
            "\n",
            "MSE Train: 329.220553447748\n",
            "MAE Test: 17.37965861479007\n",
            "MSE Test: 495.4071445569156\n",
            "R2: 0.005814772620807318\n",
            "\n",
            "\n",
            "MAE real [13.75827945]\n",
            "MAE madeup [19.33767269]\n",
            "MAE talking [18.55352018]\n",
            "\n",
            "\n",
            "Mean-vector MAE Test: 19.8674717396795\n",
            "Mean-vector MSE Test: 516.5873977208159\n",
            "Mean-vector R2: -0.036689852189426775\n"
          ]
        }
      ],
      "source": [
        "regr = ElasticNetCV(l1_ratio = [0.01, 0.05, .1, 0.2, .5, .7, .9, .95, .99, 1], \n",
        "                    n_alphas = 250,\n",
        "                    max_iter = 10000,\n",
        "                    cv = len(x_pol_train)-1,\n",
        "                    selection = 'random', \n",
        "                    random_state=17042020,)\n",
        "\n",
        "regr.fit(x_pol_train, y_pol_train)\n",
        "\n",
        "print(\"Alpha:\", regr.alpha_)\n",
        "print(\"L1 Ratio:\", regr.l1_ratio_)\n",
        "print(\"# Iters:\", regr.n_iter_)\n",
        "print(\"Intercept:\", regr.intercept_)\n",
        "#print(\"Coefs:\", regr.coef_)\n",
        "print(\"\\n\")\n",
        "\n",
        "print(\"MSE Train:\", mean(regr.mse_path_))\n",
        "\n",
        "\n",
        "\n",
        "print(\"MAE Test:\", sklearn.metrics.mean_absolute_error(y_pol_test, regr.predict(x_pol_test)))\n",
        "print(\"MSE Test:\", sklearn.metrics.mean_squared_error(y_pol_test, regr.predict(x_pol_test)))\n",
        "\n",
        "print(\"R2:\", regr.score(x_pol_test, y_pol_test))\n",
        "\n",
        "print(\"\\n\")\n",
        "\n",
        "type_dict_pol = {}\n",
        "type_counter_pol = {}\n",
        "for n, i, j in zip(pol_test['name_type'], y_pol_test, x_pol_test):\n",
        "    if n in type_dict_pol.keys():\n",
        "        type_dict_pol[n] = type_dict_pol[n] + abs(i - regr.predict(j.reshape(1, -1)))\n",
        "        type_counter_pol[n] = type_counter_pol[n] + 1\n",
        "    else:\n",
        "        type_dict_pol[n] = abs(i - regr.predict(j.reshape(1, -1)))\n",
        "        type_counter_pol[n] = 1\n",
        "    \n",
        "for i in type_dict_pol.keys():\n",
        "    print(\"MAE\", i, type_dict_pol[i]/type_counter_pol[i])\n",
        "    \n",
        "print('\\n')\n",
        "\n",
        "mean_vec_pol = np.mean(x_pol_train, axis = 0)\n",
        "mean_vec_array_pol = np.full((len(x_pol_test), 300), mean_vec_pol)\n",
        "\n",
        "print(\"Mean-vector MAE Test:\", sklearn.metrics.mean_absolute_error(y_pol_test, regr.predict(mean_vec_array_pol)))\n",
        "print(\"Mean-vector MSE Test:\", sklearn.metrics.mean_squared_error(y_pol_test, regr.predict(mean_vec_array_pol)))\n",
        "\n",
        "print(\"Mean-vector R2:\", regr.score(mean_vec_array_pol, y_pol_test))"
      ]
    },
    {
      "cell_type": "markdown",
      "id": "909b7afd-517f-42a6-8fd2-d89aa025b213",
      "metadata": {
        "id": "909b7afd-517f-42a6-8fd2-d89aa025b213"
      },
      "source": [
        "### Now, we're going to do it without surface form"
      ]
    },
    {
      "cell_type": "code",
      "execution_count": 9,
      "id": "98623476-ab57-41e2-b6ea-c95833962f8b",
      "metadata": {
        "id": "98623476-ab57-41e2-b6ea-c95833962f8b"
      },
      "outputs": [],
      "source": [
        "### Get repeatable train/test split with a seed\n",
        "\n",
        "def fasttext_xifyer_formless(input_data):\n",
        "  df_output = np.zeros((len(input_data), 300))\n",
        "\n",
        "  c = 0\n",
        "\n",
        "  for row in input_data.iterrows():\n",
        "    index = row[0]\n",
        "    name = row[1][0].lower()\n",
        "    if name == model.get_subwords(name)[0][0]:\n",
        "      wordarray = np.zeros((len(model.get_subwords(name)[0][1:]), 300))\n",
        "      for i, j in enumerate(model.get_subwords(name)[0][1:]):\n",
        "          wordarray[i] = model[j]\n",
        "      df_output[c] = np.mean(wordarray, axis = 0)\n",
        "    else:\n",
        "      df_output[c] = model[name]\n",
        "    c += 1\n",
        "\n",
        "  return df_output\n",
        "\n",
        "x_age_train_formless = fasttext_xifyer_formless(age_train)  \n",
        "x_age_test_formless = fasttext_xifyer_formless(age_test)\n",
        "\n",
        "####################################################################################################################\n",
        "\n",
        "x_gen_train_formless = fasttext_xifyer_formless(gen_train)\n",
        "x_gen_test_formless = fasttext_xifyer_formless(gen_test)\n",
        "\n",
        "\n",
        "\n",
        "####################################################################################################################\n",
        "\n",
        "\n",
        "x_pol_train_formless = fasttext_xifyer_formless(pol_train)\n",
        "x_pol_test_formless = fasttext_xifyer_formless(pol_test)\n",
        "\n",
        "#del model"
      ]
    },
    {
      "cell_type": "code",
      "execution_count": null,
      "id": "540a3417-37e6-4ef4-8cf4-b6b960638515",
      "metadata": {
        "id": "540a3417-37e6-4ef4-8cf4-b6b960638515",
        "outputId": "c8721ee5-6da2-44ea-e72c-7d7617019ae5"
      },
      "outputs": [
        {
          "name": "stdout",
          "output_type": "stream",
          "text": [
            "Alpha: 0.020702733787440326\n",
            "L1 Ratio: 0.7\n",
            "# Iters: 27\n",
            "Intercept: -18.719668320293408\n",
            "\n",
            "\n",
            "MSE Train: 1059.442673978793\n",
            "MAE Test: 27.340919988702524\n",
            "MSE Test: 964.7460257168639\n",
            "R2: 0.29991652074984254\n",
            "\n",
            "\n",
            "MAE madeup [26.48101598]\n",
            "MAE real [34.57384126]\n",
            "MAE talking [20.96790272]\n",
            "\n",
            "\n",
            "Mean-vector MAE Test: 35.20711844649357\n",
            "Mean-vector MSE Test: 1411.4821234797062\n",
            "Mean-vector R2: -0.02426471793010454\n"
          ]
        }
      ],
      "source": [
        "regr = ElasticNetCV(l1_ratio = [0.01, 0.05, .1, 0.2, .5, .7, .9, .95, .99, 1], \n",
        "                    n_alphas = 250,\n",
        "                    max_iter = 10000,\n",
        "                    cv = len(x_gen_train_formless),\n",
        "                    selection = 'random', \n",
        "                    random_state=17042020,)\n",
        "\n",
        "regr.fit(x_gen_train_formless, y_gen_train)\n",
        "\n",
        "print(\"Alpha:\", regr.alpha_)\n",
        "print(\"L1 Ratio:\", regr.l1_ratio_)\n",
        "print(\"# Iters:\", regr.n_iter_)\n",
        "print(\"Intercept:\", regr.intercept_)\n",
        "#print(\"Coefs:\", regr.coef_)\n",
        "print(\"\\n\")\n",
        "\n",
        "print(\"MSE Train:\", mean(regr.mse_path_))\n",
        "\n",
        "print(\"MAE Test:\", sklearn.metrics.mean_absolute_error(y_gen_test, regr.predict(x_gen_test_formless)))\n",
        "print(\"MSE Test:\", sklearn.metrics.mean_squared_error(y_gen_test, regr.predict(x_gen_test_formless)))\n",
        "\n",
        "print(\"R2:\", regr.score(x_gen_test_formless, y_gen_test))\n",
        "\n",
        "print('\\n')\n",
        "\n",
        "type_dict_gen_formless = {}\n",
        "type_counter_gen_formless = {}\n",
        "for n, i, j in zip(gen_test['name_type'], y_gen_test, x_gen_test_formless):\n",
        "    if n in type_dict_gen_formless.keys():\n",
        "        type_dict_gen_formless[n] = type_dict_gen_formless[n] + abs(i - regr.predict(j.reshape(1, -1)))\n",
        "        type_counter_gen_formless[n] = type_counter_gen_formless[n] + 1\n",
        "    else:\n",
        "        type_dict_gen_formless[n] = abs(i - regr.predict(j.reshape(1, -1)))\n",
        "        type_counter_gen_formless[n] = 1\n",
        "    \n",
        "for i in type_dict_gen_formless.keys():\n",
        "    print(\"MAE\", i, type_dict_gen_formless[i]/type_counter_gen_formless[i])\n",
        "    \n",
        "print('\\n')\n",
        "\n",
        "mean_vec_gen_formless = np.mean(x_gen_train_formless, axis = 0)\n",
        "mean_vec_array_gen_formless = np.full((len(x_gen_test_formless), 300), mean_vec_gen_formless)\n",
        "\n",
        "print(\"Mean-vector MAE Test:\", sklearn.metrics.mean_absolute_error(y_gen_test, regr.predict(mean_vec_array_gen_formless)))\n",
        "print(\"Mean-vector MSE Test:\", sklearn.metrics.mean_squared_error(y_gen_test, regr.predict(mean_vec_array_gen_formless)))\n",
        "\n",
        "print(\"Mean-vector R2:\", regr.score(mean_vec_array_gen_formless, y_gen_test))"
      ]
    },
    {
      "cell_type": "code",
      "execution_count": null,
      "id": "d7f72461-4e44-4ea9-869b-de9c67cbc98e",
      "metadata": {
        "id": "d7f72461-4e44-4ea9-869b-de9c67cbc98e",
        "outputId": "34bdf395-ab81-447b-c4a5-d197b37dfd83"
      },
      "outputs": [
        {
          "name": "stdout",
          "output_type": "stream",
          "text": [
            "Alpha: 0.11618115283654422\n",
            "L1 Ratio: 1.0\n",
            "# Iters: 48\n",
            "Intercept: -18.872780160900472\n",
            "\n",
            "\n",
            "MSE Train: 437.0591092167435\n",
            "MAE Test: 17.689812484899917\n",
            "MSE Test: 458.8348529726752\n",
            "R2: -0.6226265000003122\n",
            "\n",
            "\n",
            "MAE real [15.52041175]\n",
            "MAE madeup [17.56453267]\n",
            "MAE talking [19.98449304]\n",
            "\n",
            "\n",
            "Mean-vector MAE Test: 17.188119883066264\n",
            "Mean-vector MSE Test: 377.6723520347996\n",
            "Mean-vector R2: -0.33560291411778986\n"
          ]
        }
      ],
      "source": [
        "regr = ElasticNetCV(l1_ratio = [0.01, 0.05, .1, 0.2, .5, .7, .9, .95, .99, 1], \n",
        "                    n_alphas = 250,\n",
        "                    max_iter = 10000,\n",
        "                    cv = len(x_age_train_formless),\n",
        "                    selection = 'random', \n",
        "                    random_state=17042020,)\n",
        "\n",
        "regr.fit(x_age_train_formless, y_age_train)\n",
        "\n",
        "print(\"Alpha:\", regr.alpha_)\n",
        "print(\"L1 Ratio:\", regr.l1_ratio_)\n",
        "print(\"# Iters:\", regr.n_iter_)\n",
        "print(\"Intercept:\", regr.intercept_)\n",
        "#print(\"Coefs:\", regr.coef_)\n",
        "print(\"\\n\")\n",
        "\n",
        "print(\"MSE Train:\", mean(regr.mse_path_))\n",
        "\n",
        "print(\"MAE Test:\", sklearn.metrics.mean_absolute_error(y_age_test, regr.predict(x_age_test_formless)))\n",
        "print(\"MSE Test:\", sklearn.metrics.mean_squared_error(y_age_test, regr.predict(x_age_test_formless)))\n",
        "\n",
        "print(\"R2:\", regr.score(x_age_test_formless, y_age_test))\n",
        "\n",
        "print('\\n')\n",
        "\n",
        "type_dict_age_formless = {}\n",
        "type_counter_age_formless = {}\n",
        "for n, i, j in zip(age_test['name_type'], y_age_test, x_age_test_formless):\n",
        "    if n in type_dict_age_formless.keys():\n",
        "        type_dict_age_formless[n] = type_dict_age_formless[n] + abs(i - regr.predict(j.reshape(1, -1)))\n",
        "        type_counter_age_formless[n] = type_counter_age_formless[n] + 1\n",
        "    else:\n",
        "        type_dict_age_formless[n] = abs(i - regr.predict(j.reshape(1, -1)))\n",
        "        type_counter_age_formless[n] = 1\n",
        "    \n",
        "for i in type_dict_age_formless.keys():\n",
        "    print(\"MAE\", i, type_dict_age_formless[i]/type_counter_age_formless[i])\n",
        "    \n",
        "print('\\n')\n",
        "\n",
        "mean_vec_age_formless = np.mean(x_age_train_formless, axis = 0)\n",
        "mean_vec_array_age_formless = np.full((len(x_age_test_formless), 300), mean_vec_age_formless)\n",
        "\n",
        "print(\"Mean-vector MAE Test:\", sklearn.metrics.mean_absolute_error(y_age_test, regr.predict(mean_vec_array_age_formless)))\n",
        "print(\"Mean-vector MSE Test:\", sklearn.metrics.mean_squared_error(y_age_test, regr.predict(mean_vec_array_age_formless)))\n",
        "\n",
        "print(\"Mean-vector R2:\", regr.score(mean_vec_array_age_formless, y_age_test))"
      ]
    },
    {
      "cell_type": "code",
      "execution_count": null,
      "id": "291859c7-0209-4608-80a6-7633cbc63819",
      "metadata": {
        "id": "291859c7-0209-4608-80a6-7633cbc63819",
        "outputId": "fc658603-ad76-4eb7-a57f-55d757755169"
      },
      "outputs": [
        {
          "name": "stdout",
          "output_type": "stream",
          "text": [
            "Alpha: 0.0008239831458270381\n",
            "L1 Ratio: 0.9\n",
            "# Iters: 431\n",
            "Intercept: 25.56767042655266\n",
            "\n",
            "\n",
            "MSE Train: 307.0594433009455\n",
            "MAE Test: 16.303994698965404\n",
            "MSE Test: 401.6951765544801\n",
            "R2: 0.19387636042850864\n",
            "\n",
            "\n",
            "MAE real [25.9075809]\n",
            "MAE madeup [16.46104833]\n",
            "MAE talking [6.50409146]\n",
            "\n",
            "\n",
            "Mean-vector MAE Test: 19.867471739679498\n",
            "Mean-vector MSE Test: 516.5873977208159\n",
            "Mean-vector R2: -0.036689852189426775\n"
          ]
        }
      ],
      "source": [
        "regr = ElasticNetCV(l1_ratio = [0.01, 0.05, .1, 0.2, .5, .7, .9, .95, .99, 1], \n",
        "                    n_alphas = 250,\n",
        "                    max_iter = 10000,\n",
        "                    cv = len(x_pol_train_formless)-1,\n",
        "                    selection = 'random', \n",
        "                    random_state=17042020,)\n",
        "\n",
        "regr.fit(x_pol_train_formless, y_pol_train)\n",
        "\n",
        "print(\"Alpha:\", regr.alpha_)\n",
        "print(\"L1 Ratio:\", regr.l1_ratio_)\n",
        "print(\"# Iters:\", regr.n_iter_)\n",
        "print(\"Intercept:\", regr.intercept_)\n",
        "#print(\"Coefs:\", regr.coef_)\n",
        "print(\"\\n\")\n",
        "\n",
        "print(\"MSE Train:\", mean(regr.mse_path_))\n",
        "\n",
        "\n",
        "\n",
        "print(\"MAE Test:\", sklearn.metrics.mean_absolute_error(y_pol_test, regr.predict(x_pol_test_formless)))\n",
        "print(\"MSE Test:\", sklearn.metrics.mean_squared_error(y_pol_test, regr.predict(x_pol_test_formless)))\n",
        "\n",
        "print(\"R2:\", regr.score(x_pol_test_formless, y_pol_test))\n",
        "\n",
        "print(\"\\n\")\n",
        "\n",
        "type_dict_pol_formless = {}\n",
        "type_counter_pol_formless = {}\n",
        "for n, i, j in zip(pol_test['name_type'], y_pol_test, x_pol_test_formless):\n",
        "    if n in type_dict_pol_formless.keys():\n",
        "        type_dict_pol_formless[n] = type_dict_pol_formless[n] + abs(i - regr.predict(j.reshape(1, -1)))\n",
        "        type_counter_pol_formless[n] = type_counter_pol_formless[n] + 1\n",
        "    else:\n",
        "        type_dict_pol_formless[n] = abs(i - regr.predict(j.reshape(1, -1)))\n",
        "        type_counter_pol_formless[n] = 1\n",
        "    \n",
        "for i in type_dict_pol_formless.keys():\n",
        "    print(\"MAE\", i, type_dict_pol_formless[i]/type_counter_pol_formless[i])\n",
        "    \n",
        "print('\\n')\n",
        "\n",
        "mean_vec_pol_formless = np.mean(x_pol_train_formless, axis = 0)\n",
        "mean_vec_array_pol_formless = np.full((len(x_pol_test_formless), 300), mean_vec_pol_formless)\n",
        "\n",
        "print(\"Mean-vector MAE Test:\", sklearn.metrics.mean_absolute_error(y_pol_test, regr.predict(mean_vec_array_pol_formless)))\n",
        "print(\"Mean-vector MSE Test:\", sklearn.metrics.mean_squared_error(y_pol_test, regr.predict(mean_vec_array_pol_formless)))\n",
        "\n",
        "print(\"Mean-vector R2:\", regr.score(mean_vec_array_pol_formless, y_pol_test))"
      ]
    },
    {
      "cell_type": "code",
      "execution_count": 18,
      "id": "8c20e16b-bfdd-42b7-82d8-642372b044ae",
      "metadata": {
        "id": "8c20e16b-bfdd-42b7-82d8-642372b044ae",
        "outputId": "e624aeb1-25a7-4b5a-a7fa-b2b9b7e63318",
        "colab": {
          "base_uri": "https://localhost:8080/"
        }
      },
      "outputs": [
        {
          "output_type": "stream",
          "name": "stdout",
          "text": [
            "TRAIN: [  0   1   3   4   6   7   8   9  10  11  12  13  14  15  16  18  19  21\n",
            "  22  24  26  27  28  30  31  32  33  34  36  37  38  39  40  42  43  44\n",
            "  45  47  48  50  51  52  53  54  55  56  57  58  59  61  62  63  64  65\n",
            "  67  68  70  72  73  74  76  77  78  79  80  81  82  83  88  89  90  91\n",
            "  92  93  94  95  96  98  99 100 101 102 104 105 106 107 109 110 111 112\n",
            " 113 114 115 116 118] TEST: [  2   5  17  20  23  25  29  35  41  46  49  60  66  69  71  75  84  85\n",
            "  86  87  97 103 108 117]\n",
            "TRAIN: [  0   2   3   4   5   6   7   8   9  10  11  12  15  16  17  20  21  23\n",
            "  24  25  26  28  29  30  32  33  35  36  37  38  39  41  42  44  45  46\n",
            "  47  48  49  50  51  52  53  54  55  56  57  58  59  60  62  65  66  67\n",
            "  68  69  70  71  72  73  75  76  78  79  80  81  82  83  84  85  86  87\n",
            "  88  90  91  92  95  97  98  99 100 102 103 104 106 107 108 109 110 112\n",
            " 113 114 115 117 118] TEST: [  1  13  14  18  19  22  27  31  34  40  43  61  63  64  74  77  89  93\n",
            "  94  96 101 105 111 116]\n",
            "TRAIN: [  0   1   2   3   4   5   6   7   8   9  11  13  14  17  18  19  20  21\n",
            "  22  23  25  26  27  28  29  31  32  33  34  35  36  39  40  41  43  44\n",
            "  45  46  47  48  49  50  51  53  55  57  58  59  60  61  62  63  64  65\n",
            "  66  67  68  69  70  71  72  74  75  76  77  79  81  82  84  85  86  87\n",
            "  88  89  90  91  93  94  95  96  97  98 101 102 103 104 105 108 109 110\n",
            " 111 113 114 116 117] TEST: [ 10  12  15  16  24  30  37  38  42  52  54  56  73  78  80  83  92  99\n",
            " 100 106 107 112 115 118]\n",
            "TRAIN: [  1   2   3   5   7  10  11  12  13  14  15  16  17  18  19  20  21  22\n",
            "  23  24  25  27  28  29  30  31  34  35  37  38  39  40  41  42  43  44\n",
            "  45  46  47  49  51  52  53  54  55  56  57  58  59  60  61  63  64  65\n",
            "  66  67  69  71  73  74  75  77  78  79  80  82  83  84  85  86  87  88\n",
            "  89  90  92  93  94  96  97  99 100 101 102 103 105 106 107 108 109 111\n",
            " 112 115 116 117 118] TEST: [  0   4   6   8   9  26  32  33  36  48  50  62  68  70  72  76  81  91\n",
            "  95  98 104 110 113 114]\n",
            "TRAIN: [  0   1   2   4   5   6   8   9  10  12  13  14  15  16  17  18  19  20\n",
            "  22  23  24  25  26  27  29  30  31  32  33  34  35  36  37  38  40  41\n",
            "  42  43  46  48  49  50  52  54  56  60  61  62  63  64  66  68  69  70\n",
            "  71  72  73  74  75  76  77  78  80  81  83  84  85  86  87  89  91  92\n",
            "  93  94  95  96  97  98  99 100 101 103 104 105 106 107 108 110 111 112\n",
            " 113 114 115 116 117 118] TEST: [  3   7  11  21  28  39  44  45  47  51  53  55  57  58  59  65  67  79\n",
            "  82  88  90 102 109]\n"
          ]
        }
      ],
      "source": [
        "from sklearn.model_selection import StratifiedKFold\n",
        "\n",
        "skf = StratifiedKFold(n_splits = 5, shuffle=True, random_state=17042020)\n",
        "\n",
        "for df in [df_age, df_gender, df_polarity]:\n",
        "  df_np = np.array(df)\n",
        "  for train_index, test_index in skf.split(df, df[['name_type']]):\n",
        "    X_train, X_test = df_np[train_index], df_np[test_index]\n",
        "\n"
      ]
    },
    {
      "cell_type": "code",
      "source": [
        ""
      ],
      "metadata": {
        "id": "3lvp1EZrcdhy"
      },
      "id": "3lvp1EZrcdhy",
      "execution_count": null,
      "outputs": []
    }
  ],
  "metadata": {
    "kernelspec": {
      "display_name": "Python 3",
      "language": "python",
      "name": "python3"
    },
    "language_info": {
      "codemirror_mode": {
        "name": "ipython",
        "version": 3
      },
      "file_extension": ".py",
      "mimetype": "text/x-python",
      "name": "python",
      "nbconvert_exporter": "python",
      "pygments_lexer": "ipython3",
      "version": "3.7.4"
    },
    "colab": {
      "name": "ElasticNet.ipynb",
      "provenance": []
    }
  },
  "nbformat": 4,
  "nbformat_minor": 5
}