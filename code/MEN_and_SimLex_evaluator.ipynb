{
  "cells": [
    {
      "cell_type": "code",
      "execution_count": null,
      "id": "9088073a-12e4-41cf-bc69-413b6911a5b3",
      "metadata": {
        "id": "9088073a-12e4-41cf-bc69-413b6911a5b3"
      },
      "outputs": [],
      "source": [
        "from scipy.stats import spearmanr\n",
        "from sklearn.metrics.pairwise import cosine_similarity\n",
        "import fasttext\n",
        "import numpy as np\n",
        "import pandas as pd\n",
        "import pickle\n",
        "from os import listdir"
      ]
    },
    {
      "cell_type": "code",
      "execution_count": null,
      "id": "ae5511ef-3b78-45d9-a1c4-5d93520d1791",
      "metadata": {
        "id": "ae5511ef-3b78-45d9-a1c4-5d93520d1791"
      },
      "outputs": [],
      "source": [
        "def compute_similarity(model, word1, word2):\n",
        "    e1 = model[word1]\n",
        "    e2 = model[word2]\n",
        "    s = cosine_similarity(e1.reshape(1, -1), e2.reshape(1, -1))\n",
        "    return s[0][0]"
      ]
    },
    {
      "cell_type": "code",
      "execution_count": null,
      "id": "8c37000e-0cd1-477d-aa53-894afe8dd2a8",
      "metadata": {
        "id": "8c37000e-0cd1-477d-aa53-894afe8dd2a8"
      },
      "outputs": [],
      "source": [
        "def compute_correlation_men(norms, model):\n",
        "        true_similarities = []\n",
        "        estimated_similarities = []\n",
        "        for _, row in norms.iterrows():\n",
        "            s = compute_similarity(model, row['w1'], row['w2'])\n",
        "\n",
        "            estimated_similarities.append(s)\n",
        "            true_similarities.append(row['sim'])\n",
        "        \n",
        "        return spearmanr(true_similarities, estimated_similarities)[0]"
      ]
    },
    {
      "cell_type": "code",
      "execution_count": null,
      "id": "5303668d-33eb-46ee-b3e6-094b0d71629d",
      "metadata": {
        "id": "5303668d-33eb-46ee-b3e6-094b0d71629d"
      },
      "outputs": [],
      "source": [
        "def compute_correlation_simlex(norms, model):\n",
        "        true_similarities = []\n",
        "        estimated_similarities = []\n",
        "        for _, row in norms.iterrows():\n",
        "            s = compute_similarity(model, row['word1'], row['word2'])\n",
        "\n",
        "            estimated_similarities.append(s)\n",
        "            true_similarities.append(row['SimLex999'])\n",
        "        \n",
        "        return spearmanr(true_similarities, estimated_similarities)[0]"
      ]
    },
    {
      "cell_type": "code",
      "execution_count": null,
      "id": "51094cff-ed60-418b-a040-01b4697f782e",
      "metadata": {
        "id": "51094cff-ed60-418b-a040-01b4697f782e"
      },
      "outputs": [],
      "source": [
        "pickle_combi = open(\"combi_scores.pickle\", \"wb\")\n",
        "pickle.dump(combi_score, pickle_combi)\n",
        "pickle_combi.close()"
      ]
    },
    {
      "cell_type": "code",
      "execution_count": null,
      "id": "a6bc58a6-c868-4fab-b782-7f9ec3270cd5",
      "metadata": {
        "id": "a6bc58a6-c868-4fab-b782-7f9ec3270cd5"
      },
      "outputs": [],
      "source": [
        "pickle_men = open(\"./men_scores.pickle\", \"wb\")\n",
        "pickle.dump(men_dict, pickle_men)\n",
        "pickle_men.close()\n",
        "\n",
        "pickle_simlex = open(\"./simlex_scores.pickle\", \"wb\")\n",
        "pickle.dump(simlex_dict, pickle_simlex)\n",
        "pickle_simlex.close()"
      ]
    },
    {
      "cell_type": "code",
      "execution_count": null,
      "id": "00793cef-1f88-46b1-985b-7357087f928f",
      "metadata": {
        "id": "00793cef-1f88-46b1-985b-7357087f928f",
        "outputId": "b62e5a40-e105-4b15-bfe3-157825a2377c"
      },
      "outputs": [
        {
          "name": "stdout",
          "output_type": "stream",
          "text": [
            "pretrained 0.8352839785790634\n",
            "sentenced_dim300_ws2_minn2_maxn5.bin 0.7817462076324593\n",
            "sentenced_dim300_ws3_minn2_maxn4.bin 0.7776580950959845\n",
            "sentenced_dim300_ws3_minn2_maxn5.bin 0.7768858266318167\n",
            "sentenced_dim300_ws4_minn2_maxn5.bin 0.7762100094049873\n",
            "sentenced_dim300_ws4_minn2_maxn6.bin 0.7725654451516564\n",
            "sentenced_dim300_ws3_minn2_maxn7.bin 0.7724173343958564\n",
            "sentenced_dim100_ws2_minn2_maxn6.bin 0.7718919118985282\n",
            "sentenced_dim300_ws3_minn2_maxn6.bin 0.7717104491770921\n",
            "sentenced_dim300_ws5_minn2_maxn5.bin 0.7714055948359849\n",
            "sentenced_dim100_ws2_minn2_maxn5.bin 0.7711707956775111\n",
            "sentenced_dim300_ws5_minn2_maxn6.bin 0.7696949877030383\n",
            "sentenced_dim300_ws3_minn3_maxn5.bin 0.7694700029771373\n",
            "sentenced_dim100_ws2_minn2_maxn7.bin 0.768819554121675\n",
            "sentenced_dim100_ws3_minn2_maxn5.bin 0.766784456280234\n",
            "sentenced_dim300_ws7_minn2_maxn5.bin 0.7662615563239088\n",
            "sentenced_dim100_ws3_minn2_maxn6.bin 0.7656472694864699\n",
            "sentenced_dim300_ws6_minn2_maxn5.bin 0.764126250752929\n",
            "sentenced_dim100_ws3_minn2_maxn7.bin 0.7618872847452585\n",
            "sentenced_dim100_ws5_minn2_maxn6.bin 0.7602707002064574\n",
            "sentenced_dim100_ws4_minn2_maxn6.bin 0.7598237984212804\n",
            "sentenced_dim100_ws5_minn2_maxn7.bin 0.7594774656863434\n",
            "sentenced_dim100_ws4_minn2_maxn5.bin 0.7591244334495815\n",
            "sentenced_dim100_ws5_minn3_maxn6.bin 0.7572189400269534\n",
            "sentenced_dim300_ws4_minn2_maxn7.bin 0.7564065738475153\n",
            "sentenced_dim100_ws4_minn2_maxn7.bin 0.755967892268553\n",
            "sentenced_dim100_ws5_minn2_maxn5.bin 0.7545704159497408\n",
            "sentenced_dim100_ws7_minn2_maxn6.bin 0.7537217811259016\n",
            "sentenced_dim300_ws5_minn3_maxn6.bin 0.7527504621437823\n",
            "sentenced_dim100_ws7_minn2_maxn7.bin 0.752217778226727\n",
            "sentenced_dim100_ws6_minn2_maxn5.bin 0.7486160592756609\n",
            "sentenced_dim100_ws6_minn2_maxn7.bin 0.7484890478243768\n",
            "sentenced_dim100_ws7_minn2_maxn5.bin 0.7476411017063241\n",
            "sentenced_dim100_ws6_minn2_maxn6.bin 0.7473712918365776\n",
            "sentenced_dim100_ws5_minn1_maxn6.bin 0.7426029127850623\n",
            "unsentenced_dim100_ws5_minn3_maxn6.bin 0.7132298555548572\n",
            "unsentenced_dim300_ws5_minn3_maxn6.bin 0.7044346092670895\n"
          ]
        }
      ],
      "source": [
        "for i in sorted(men_dict, key = men_dict.get, reverse = True):\n",
        "    print(i, men_dict[i])"
      ]
    },
    {
      "cell_type": "code",
      "execution_count": null,
      "id": "5e1258c7-8ec5-4367-81c8-399072a135d7",
      "metadata": {
        "id": "5e1258c7-8ec5-4367-81c8-399072a135d7",
        "outputId": "d1bafc10-0c23-4eba-d718-0314e9464f07"
      },
      "outputs": [
        {
          "name": "stdout",
          "output_type": "stream",
          "text": [
            "pretrained 0.4644247750821859\n",
            "sentenced_dim300_ws2_minn2_maxn5.bin 0.4157356926113524\n",
            "sentenced_dim300_ws3_minn3_maxn5.bin 0.39711487326661726\n",
            "sentenced_dim300_ws3_minn2_maxn5.bin 0.3935160529054815\n",
            "sentenced_dim300_ws3_minn2_maxn4.bin 0.3900887978096995\n",
            "sentenced_dim300_ws4_minn2_maxn5.bin 0.38461661144671516\n",
            "sentenced_dim300_ws3_minn2_maxn6.bin 0.3767830171852278\n",
            "sentenced_dim300_ws3_minn2_maxn7.bin 0.37475211004662234\n",
            "sentenced_dim300_ws5_minn2_maxn5.bin 0.36668624966191216\n",
            "sentenced_dim100_ws2_minn2_maxn7.bin 0.36476117159554083\n",
            "sentenced_dim300_ws4_minn2_maxn6.bin 0.3639176804891335\n",
            "sentenced_dim100_ws2_minn2_maxn5.bin 0.3609737967469348\n",
            "sentenced_dim100_ws2_minn2_maxn6.bin 0.3606757180464657\n",
            "sentenced_dim300_ws5_minn3_maxn6.bin 0.35541543842362944\n",
            "sentenced_dim300_ws4_minn2_maxn7.bin 0.35458640290047516\n",
            "sentenced_dim300_ws5_minn2_maxn6.bin 0.34544395061579275\n",
            "sentenced_dim300_ws6_minn2_maxn5.bin 0.34303362955287725\n",
            "sentenced_dim100_ws3_minn2_maxn5.bin 0.34247938251071275\n",
            "sentenced_dim100_ws3_minn2_maxn6.bin 0.33827338552593406\n",
            "sentenced_dim100_ws4_minn2_maxn5.bin 0.33123919159199366\n",
            "sentenced_dim300_ws7_minn2_maxn5.bin 0.32856563688565965\n",
            "sentenced_dim100_ws4_minn2_maxn6.bin 0.3228260120479563\n",
            "sentenced_dim100_ws5_minn2_maxn7.bin 0.32280662158615714\n",
            "sentenced_dim100_ws3_minn2_maxn7.bin 0.31715048646805016\n",
            "sentenced_dim100_ws5_minn2_maxn6.bin 0.31689565811706694\n",
            "sentenced_dim100_ws4_minn2_maxn7.bin 0.31670277262103413\n",
            "sentenced_dim100_ws5_minn3_maxn6.bin 0.3158005081564514\n",
            "sentenced_dim100_ws5_minn2_maxn5.bin 0.3150360173921136\n",
            "unsentenced_dim300_ws5_minn3_maxn6.bin 0.30781450870848404\n",
            "sentenced_dim100_ws7_minn2_maxn6.bin 0.3035420232625145\n",
            "sentenced_dim100_ws7_minn2_maxn7.bin 0.3028453628472851\n",
            "sentenced_dim100_ws6_minn2_maxn5.bin 0.30169404364620794\n",
            "sentenced_dim100_ws6_minn2_maxn6.bin 0.29863326346391417\n",
            "sentenced_dim100_ws6_minn2_maxn7.bin 0.29784224455999797\n",
            "sentenced_dim100_ws5_minn1_maxn6.bin 0.2973222768692947\n",
            "sentenced_dim100_ws7_minn2_maxn5.bin 0.28490458782062617\n",
            "unsentenced_dim100_ws5_minn3_maxn6.bin 0.27748109816899447\n"
          ]
        }
      ],
      "source": [
        "for i in sorted(simlex_dict, key = simlex_dict.get, reverse = True):\n",
        "    print(i, simlex_dict[i])"
      ]
    },
    {
      "cell_type": "code",
      "execution_count": null,
      "id": "16e69991-c77e-44e9-893d-80fde48c0685",
      "metadata": {
        "id": "16e69991-c77e-44e9-893d-80fde48c0685",
        "outputId": "03ec486e-a61d-4a23-a208-2a0648b363f8"
      },
      "outputs": [
        {
          "name": "stdout",
          "output_type": "stream",
          "text": [
            "pretrained 1.2997087536612493\n",
            "sentenced_dim300_ws2_minn2_maxn5.bin 1.1974819002438117\n",
            "sentenced_dim300_ws3_minn2_maxn5.bin 1.1704018795372981\n",
            "sentenced_dim300_ws3_minn2_maxn4.bin 1.167746892905684\n",
            "sentenced_dim300_ws3_minn3_maxn5.bin 1.1665848762437545\n",
            "sentenced_dim300_ws4_minn2_maxn5.bin 1.1608266208517024\n",
            "sentenced_dim300_ws3_minn2_maxn6.bin 1.1484934663623199\n",
            "sentenced_dim300_ws3_minn2_maxn7.bin 1.1471694444424787\n",
            "sentenced_dim300_ws5_minn2_maxn5.bin 1.1380918444978971\n",
            "sentenced_dim300_ws4_minn2_maxn6.bin 1.13648312564079\n",
            "sentenced_dim100_ws2_minn2_maxn7.bin 1.133580725717216\n",
            "sentenced_dim100_ws2_minn2_maxn6.bin 1.1325676299449938\n",
            "sentenced_dim100_ws2_minn2_maxn5.bin 1.132144592424446\n",
            "sentenced_dim300_ws5_minn2_maxn6.bin 1.115138938318831\n",
            "sentenced_dim300_ws4_minn2_maxn7.bin 1.1109929767479905\n",
            "sentenced_dim100_ws3_minn2_maxn5.bin 1.1092638387909468\n",
            "sentenced_dim300_ws5_minn3_maxn6.bin 1.1081659005674118\n",
            "sentenced_dim300_ws6_minn2_maxn5.bin 1.1071598803058063\n",
            "sentenced_dim100_ws3_minn2_maxn6.bin 1.1039206550124039\n",
            "sentenced_dim300_ws7_minn2_maxn5.bin 1.0948271932095683\n",
            "sentenced_dim100_ws4_minn2_maxn5.bin 1.0903636250415751\n",
            "sentenced_dim100_ws4_minn2_maxn6.bin 1.0826498104692368\n",
            "sentenced_dim100_ws5_minn2_maxn7.bin 1.0822840872725006\n",
            "sentenced_dim100_ws3_minn2_maxn7.bin 1.0790377712133086\n",
            "sentenced_dim100_ws5_minn2_maxn6.bin 1.0771663583235243\n",
            "sentenced_dim100_ws5_minn3_maxn6.bin 1.0730194481834048\n",
            "sentenced_dim100_ws4_minn2_maxn7.bin 1.0726706648895872\n",
            "sentenced_dim100_ws5_minn2_maxn5.bin 1.0696064333418545\n",
            "sentenced_dim100_ws7_minn2_maxn6.bin 1.0572638043884162\n",
            "sentenced_dim100_ws7_minn2_maxn7.bin 1.0550631410740121\n",
            "sentenced_dim100_ws6_minn2_maxn5.bin 1.0503101029218689\n",
            "sentenced_dim100_ws6_minn2_maxn7.bin 1.0463312923843748\n",
            "sentenced_dim100_ws6_minn2_maxn6.bin 1.0460045553004917\n",
            "sentenced_dim100_ws5_minn1_maxn6.bin 1.0399251896543569\n",
            "sentenced_dim100_ws7_minn2_maxn5.bin 1.0325456895269502\n",
            "unsentenced_dim300_ws5_minn3_maxn6.bin 1.0122491179755735\n",
            "unsentenced_dim100_ws5_minn3_maxn6.bin 0.9907109537238517\n"
          ]
        }
      ],
      "source": [
        "for i in sorted(combi_score, key = combi_score.get, reverse = True):\n",
        "    print(i, combi_score[i])"
      ]
    },
    {
      "cell_type": "code",
      "execution_count": null,
      "id": "1f4bf9dc-a336-4123-8647-62b95b713a54",
      "metadata": {
        "id": "1f4bf9dc-a336-4123-8647-62b95b713a54"
      },
      "outputs": [],
      "source": [
        ""
      ]
    }
  ],
  "metadata": {
    "kernelspec": {
      "display_name": "Python 3",
      "language": "python",
      "name": "python3"
    },
    "language_info": {
      "codemirror_mode": {
        "name": "ipython",
        "version": 3
      },
      "file_extension": ".py",
      "mimetype": "text/x-python",
      "name": "python",
      "nbconvert_exporter": "python",
      "pygments_lexer": "ipython3",
      "version": "3.7.4"
    },
    "colab": {
      "name": "MEN and SimLex evaluator.ipynb",
      "provenance": []
    }
  },
  "nbformat": 4,
  "nbformat_minor": 5
}
