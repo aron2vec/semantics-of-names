{
  "cells": [
    {
      "cell_type": "code",
      "source": [
        "!pip install fasttext"
      ],
      "metadata": {
        "id": "gvlKyGJBrVPl",
        "outputId": "adc884d8-196f-4b15-d14d-aafe1ad89ac8",
        "colab": {
          "base_uri": "https://localhost:8080/"
        }
      },
      "id": "gvlKyGJBrVPl",
      "execution_count": null,
      "outputs": [
        {
          "output_type": "stream",
          "name": "stdout",
          "text": [
            "Collecting fasttext\n",
            "  Downloading fasttext-0.9.2.tar.gz (68 kB)\n",
            "\u001b[K     |████████████████████████████████| 68 kB 1.5 MB/s \n",
            "\u001b[?25hCollecting pybind11>=2.2\n",
            "  Using cached pybind11-2.9.2-py2.py3-none-any.whl (213 kB)\n",
            "Requirement already satisfied: setuptools>=0.7.0 in /usr/local/lib/python3.7/dist-packages (from fasttext) (57.4.0)\n",
            "Requirement already satisfied: numpy in /usr/local/lib/python3.7/dist-packages (from fasttext) (1.21.5)\n",
            "Building wheels for collected packages: fasttext\n",
            "  Building wheel for fasttext (setup.py) ... \u001b[?25l\u001b[?25hdone\n",
            "  Created wheel for fasttext: filename=fasttext-0.9.2-cp37-cp37m-linux_x86_64.whl size=3148821 sha256=83cb565a8e1f15892401970cddff67d1c80edc072f26e64f5097735ac46294f2\n",
            "  Stored in directory: /root/.cache/pip/wheels/4e/ca/bf/b020d2be95f7641801a6597a29c8f4f19e38f9c02a345bab9b\n",
            "Successfully built fasttext\n",
            "Installing collected packages: pybind11, fasttext\n",
            "Successfully installed fasttext-0.9.2 pybind11-2.9.2\n"
          ]
        }
      ]
    },
    {
      "cell_type": "code",
      "execution_count": null,
      "id": "8b3cd47c-eeee-49a5-b99c-0b6ab8dbbe25",
      "metadata": {
        "id": "8b3cd47c-eeee-49a5-b99c-0b6ab8dbbe25"
      },
      "outputs": [],
      "source": [
        "from numpy import mean\n",
        "from numpy import std\n",
        "from numpy import absolute\n",
        "from pandas import read_csv\n",
        "import pandas as pd\n",
        "import numpy as np\n",
        "import sklearn\n",
        "import pickle\n",
        "from sklearn.model_selection import cross_val_score, RepeatedKFold, train_test_split, StratifiedKFold\n",
        "from sklearn.linear_model import ElasticNetCV\n",
        "import fasttext\n",
        "\n",
        "#path = \"D:/Tilburg University/2021-2022/Thesis/Coca/\"\n",
        "#model_path = path + \"models/\"\n",
        "\n",
        "#model = fasttext.load_model(model_path + \"sentenced_dim300_ws2_minn2_maxn5.bin\")"
      ]
    },
    {
      "cell_type": "code",
      "source": [
        "## When working in colab:\n",
        "from google.colab import drive\n",
        "\n",
        "drive.mount(\"/content/drive\", force_remount=True) \n",
        "\n",
        "model = fasttext.load_model(\"drive/MyDrive/Thesis/Data/fastText and others/sentenced_dim300_ws2_minn2_maxn5.bin\")"
      ],
      "metadata": {
        "colab": {
          "base_uri": "https://localhost:8080/"
        },
        "id": "RMMFcx0UBVvC",
        "outputId": "622d705f-f495-4a1c-92d6-deaa42b1664d"
      },
      "id": "RMMFcx0UBVvC",
      "execution_count": null,
      "outputs": [
        {
          "output_type": "stream",
          "name": "stdout",
          "text": [
            "Mounted at /content/drive\n"
          ]
        },
        {
          "output_type": "stream",
          "name": "stderr",
          "text": [
            "Warning : `load_model` does not return WordVectorModel or SupervisedModel any more, but a `FastText` object which is very similar.\n"
          ]
        }
      ]
    },
    {
      "cell_type": "code",
      "execution_count": null,
      "id": "3a18f809-0cbd-4964-8044-4b67bbbc456c",
      "metadata": {
        "id": "3a18f809-0cbd-4964-8044-4b67bbbc456c",
        "outputId": "0f90b06c-6acd-440f-c495-ec18d7883d6f",
        "colab": {
          "base_uri": "https://localhost:8080/"
        }
      },
      "outputs": [
        {
          "output_type": "stream",
          "name": "stdout",
          "text": [
            "119\n",
            "179\n",
            "63\n",
            "       name  rating.mean_age    age name_type\n",
            "0  Adelaide        -0.617647    old      real\n",
            "2  Alasdair        18.709677  young      real\n",
            "3   Alastor        13.812500    old    madeup\n",
            "4    Alecto         3.593750    old    madeup\n",
            "5     Alice       -13.969697  young      real 119\n",
            "       name  rating.mean_gender  gender name_type\n",
            "0  Adelaide           45.727273  female      real\n",
            "1   Adelina           47.771429  female      real\n",
            "2  Alasdair          -35.657143    male      real\n",
            "3   Alastor          -38.833333    male    madeup\n",
            "4    Alecto          -35.722222  female    madeup 179\n",
            "        name  rating.mean_valence polarity name_type\n",
            "1    Adelina            31.621622      bad      real\n",
            "7    Amabala             5.935484     good    madeup\n",
            "8      Apple            32.444444     good   talking\n",
            "11  Arcturus           -11.166667     good    madeup\n",
            "13   Arobynn             7.645161      bad    madeup 63\n"
          ]
        }
      ],
      "source": [
        "### Read CSV File and Delete Unimportant Columns\n",
        "#names_ratings = read_csv(\"D:/Tilburg University/2021-2022/Thesis/Data analyses/Giovanni Email Data/avgRatings_annotated.csv\")\n",
        "\n",
        "names_ratings = read_csv(\"drive/MyDrive/Thesis/Data/giovanni_email_data/avgRatings_annotated.csv\")\n",
        "\n",
        "#print(names_ratings.head())\n",
        "\n",
        "print(names_ratings['rating.mean_age'].notna().sum())\n",
        "print(names_ratings['rating.mean_gender'].notna().sum())\n",
        "print(names_ratings['rating.mean_valence'].notna().sum())\n",
        "\n",
        "df_age = names_ratings.loc[names_ratings['rating.mean_age'].notna(), ['name', 'rating.mean_age', 'age', 'name_type']]\n",
        "print(df_age.head(), len(df_age))\n",
        "\n",
        "df_gender = names_ratings.loc[names_ratings['rating.mean_gender'].notna(), ['name', 'rating.mean_gender', 'gender', 'name_type']]\n",
        "print(df_gender.head(), len(df_gender))\n",
        "\n",
        "df_polarity = names_ratings.loc[names_ratings['rating.mean_valence'].notna(), ['name', 'rating.mean_valence', 'polarity', 'name_type']]\n",
        "print(df_polarity.head(), len(df_polarity))"
      ]
    },
    {
      "cell_type": "code",
      "execution_count": null,
      "id": "81ce89e5-06a4-45b0-a0b1-4837e28febac",
      "metadata": {
        "id": "81ce89e5-06a4-45b0-a0b1-4837e28febac",
        "outputId": "af10928a-ccfc-460a-eeac-42cbea364974",
        "colab": {
          "base_uri": "https://localhost:8080/"
        }
      },
      "outputs": [
        {
          "output_type": "stream",
          "name": "stdout",
          "text": [
            "95 24 143 36 50 13\n"
          ]
        }
      ],
      "source": [
        "### Get repeatable train/test split with a seed\n",
        "\n",
        "def fasttext_xifyer(input_data):\n",
        "  df_output = np.zeros((len(input_data), 300))\n",
        "\n",
        "  i = 0\n",
        "\n",
        "  for row in input_data.iterrows():\n",
        "    index = row[0]\n",
        "    name = row[1][0].lower()\n",
        "    df_output[i] = model[name]\n",
        "    i += 1\n",
        "\n",
        "  return df_output\n",
        "\n",
        "################################################################################\n",
        "\n",
        "age_train, age_test = train_test_split(df_age, test_size=0.2, random_state=17042020,      ## First let's do age\n",
        "                               stratify=df_age[['age', 'name_type']])\n",
        "\n",
        "x_age_train = fasttext_xifyer(age_train)\n",
        "x_age_test = fasttext_xifyer(age_test)\n",
        "\n",
        "y_age_train = age_train['rating.mean_age']\n",
        "y_age_test = age_test['rating.mean_age']\n",
        "\n",
        "####################################################################################################################\n",
        "\n",
        "gen_train, gen_test = train_test_split(df_gender, test_size=0.2, random_state=17042020,     ## Now let's do gender\n",
        "                               stratify=df_gender[['gender', 'name_type']])\n",
        "\n",
        "x_gen_train = fasttext_xifyer(gen_train)\n",
        "x_gen_test = fasttext_xifyer(gen_test)\n",
        "\n",
        "\n",
        "y_gen_train = gen_train['rating.mean_gender']\n",
        "y_gen_test = gen_test['rating.mean_gender']\n",
        "\n",
        "\n",
        "####################################################################################################################\n",
        "\n",
        "pol_train, pol_test = train_test_split(df_polarity, test_size=0.2, random_state=17042020,    ## And lastly, polarity\n",
        "                               stratify=df_polarity[['polarity', 'name_type']])\n",
        "\n",
        "x_pol_train = fasttext_xifyer(pol_train)\n",
        "x_pol_test = fasttext_xifyer(pol_test)\n",
        "\n",
        "y_pol_train = pol_train['rating.mean_valence']\n",
        "y_pol_test = pol_test['rating.mean_valence']\n",
        "\n",
        "print(len(x_age_train), len(x_age_test), len(x_gen_train), len(x_gen_test), len(x_pol_train), len(x_pol_test))\n",
        "\n",
        "#del model"
      ]
    },
    {
      "cell_type": "code",
      "source": [
        "### Get repeatable train/test split with a seed, but without surface form\n",
        "\n",
        "def fasttext_xifyer_formless(input_data):\n",
        "  df_output = np.zeros((len(input_data), 300))\n",
        "\n",
        "  c = 0\n",
        "\n",
        "  for row in input_data.iterrows():\n",
        "    index = row[0]\n",
        "    name = row[1][0].lower()\n",
        "    if name == model.get_subwords(name)[0][0]:\n",
        "      wordarray = np.zeros((len(model.get_subwords(name)[0][1:]), 300))\n",
        "      for i, j in enumerate(model.get_subwords(name)[0][1:]):\n",
        "          wordarray[i] = model[j]\n",
        "      df_output[c] = np.mean(wordarray, axis = 0)\n",
        "    else:\n",
        "      df_output[c] = model[name]\n",
        "    c += 1\n",
        "\n",
        "  return df_output\n",
        "\n",
        "x_age_train_formless = fasttext_xifyer_formless(age_train)  \n",
        "x_age_test_formless = fasttext_xifyer_formless(age_test)\n",
        "\n",
        "####################################################################################################################\n",
        "\n",
        "x_gen_train_formless = fasttext_xifyer_formless(gen_train)\n",
        "x_gen_test_formless = fasttext_xifyer_formless(gen_test)\n",
        "\n",
        "\n",
        "\n",
        "####################################################################################################################\n",
        "\n",
        "\n",
        "x_pol_train_formless = fasttext_xifyer_formless(pol_train)\n",
        "x_pol_test_formless = fasttext_xifyer_formless(pol_test)\n",
        "\n",
        "print(len(x_age_train_formless), len(x_age_test_formless), len(x_gen_train_formless), len(x_gen_test_formless), len(x_pol_train_formless), len(x_pol_test_formless))\n",
        "\n",
        "#del model"
      ],
      "metadata": {
        "colab": {
          "base_uri": "https://localhost:8080/"
        },
        "id": "tAbHjci5sgvm",
        "outputId": "cc2a38d3-0c46-4569-9805-cf08c417823a"
      },
      "id": "tAbHjci5sgvm",
      "execution_count": null,
      "outputs": [
        {
          "output_type": "stream",
          "name": "stdout",
          "text": [
            "95 24 143 36 50 13\n"
          ]
        }
      ]
    },
    {
      "cell_type": "code",
      "execution_count": null,
      "id": "fc46ca8b-cd6b-4de5-9def-8c0a1ac9c2db",
      "metadata": {
        "id": "fc46ca8b-cd6b-4de5-9def-8c0a1ac9c2db"
      },
      "outputs": [],
      "source": [
        "### Make a cross-validation loop testing a bunch of hyperparameters, all the while saving the outputs to a dict or something"
      ]
    },
    {
      "cell_type": "code",
      "execution_count": null,
      "id": "68c41b5d-43b8-4a30-8636-ec9da122b3db",
      "metadata": {
        "id": "68c41b5d-43b8-4a30-8636-ec9da122b3db"
      },
      "outputs": [],
      "source": [
        "def elasticnetifyer(x_train, y_train, x_test, y_test, test_full):\n",
        "  regr = ElasticNetCV(l1_ratio = [0.01, 0.05, .1, 0.2, .5, .7, .9, .95, .99, 1], \n",
        "                      n_alphas = 250,\n",
        "                      max_iter = 10000,\n",
        "                      cv = len(x_train),\n",
        "                      selection = 'random', \n",
        "                      random_state=17042020,)\n",
        "\n",
        "  regr.fit(x_train, y_train)\n",
        "\n",
        "  alpha = regr.alpha_\n",
        "  l1_ratio = regr.l1_ratio_\n",
        "  n_iters = regr.n_iter_\n",
        "  intercept = regr.intercept_\n",
        "\n",
        "  mse_train = mean(regr.mse_path_)\n",
        "\n",
        "  mae_test = sklearn.metrics.mean_absolute_error(y_test, regr.predict(x_test))\n",
        "  mse_test = sklearn.metrics.mean_squared_error(y_test, regr.predict(x_test))\n",
        "\n",
        "  r2 = regr.score(x_test, y_test)\n",
        "\n",
        "  type_dict = {}\n",
        "  type_counter = {}\n",
        "  for n, i, j in zip(test_full['name_type'], y_test, x_test):\n",
        "      if n in type_dict.keys():\n",
        "          type_dict[n] = type_dict[n] + abs(i - regr.predict(j.reshape(1, -1)))\n",
        "          type_counter[n] = type_counter[n] + 1\n",
        "      else:\n",
        "          type_dict[n] = abs(i - regr.predict(j.reshape(1, -1)))\n",
        "          type_counter[n] = 1\n",
        "      \n",
        "  for i in type_dict.keys():\n",
        "    globals()[f\"mae_{i}\"] = float(type_dict[i])/float(type_counter[i])\n",
        "\n",
        "  mean_vec = np.mean(x_train, axis = 0)\n",
        "  mean_vec_array = np.full((len(x_test), 300), mean_vec)\n",
        "\n",
        "  mean_vec_mae_test = sklearn.metrics.mean_absolute_error(y_test, regr.predict(mean_vec_array))\n",
        "  mean_vec_mse_test = sklearn.metrics.mean_squared_error(y_test, regr.predict(mean_vec_array))\n",
        "\n",
        "  mean_vec_r2 = regr.score(mean_vec_array, y_test)\n",
        "\n",
        "  return alpha, l1_ratio, n_iters, intercept, mse_train, mae_test, mse_test, r2, mae_madeup, mae_real, mae_talking, mean_vec_mae_test, mean_vec_mse_test, mean_vec_r2"
      ]
    },
    {
      "cell_type": "markdown",
      "id": "909b7afd-517f-42a6-8fd2-d89aa025b213",
      "metadata": {
        "id": "909b7afd-517f-42a6-8fd2-d89aa025b213"
      },
      "source": [
        "### Testing ground for nested CV"
      ]
    },
    {
      "cell_type": "code",
      "execution_count": null,
      "id": "8c20e16b-bfdd-42b7-82d8-642372b044ae",
      "metadata": {
        "id": "8c20e16b-bfdd-42b7-82d8-642372b044ae"
      },
      "outputs": [],
      "source": [
        "skf = StratifiedKFold(n_splits = 5, shuffle=True, random_state=17042020)\n",
        "\n",
        "def nested_cross_validator(df, rating, dictionary):\n",
        "  skf = StratifiedKFold(n_splits = 5, shuffle=True, random_state=17042020)\n",
        "\n",
        "  for train_index, test_index in skf.split(df, df[['name_type']]):\n",
        "    x_train_unfasttexted = df.iloc[train_index]\n",
        "    x_test_unfasttexted = df.iloc[test_index]\n",
        "\n",
        "\n",
        "    y_train = df.iloc[train_index][rating]\n",
        "    y_test = df.iloc[test_index][rating]\n",
        "\n",
        "    x_train = fasttext_xifyer(x_train_unfasttexted)\n",
        "    x_train_formless = fasttext_xifyer_formless(x_train_unfasttexted)\n",
        "\n",
        "    x_test = fasttext_xifyer(x_test_unfasttexted)\n",
        "    x_test_formless = fasttext_xifyer_formless(x_test_unfasttexted)\n",
        "\n",
        "\n",
        "    alpha, l1_ratio, n_iters, intercept, mse_train, mae_test, mse_test, r2, \\\n",
        "    mae_madeup, mae_real, mae_talking, mean_vec_mae_test, mean_vec_mse_test, \\\n",
        "    mean_vec_r2 = elasticnetifyer(x_train, y_train, x_test, y_test, df)\n",
        "    \n",
        "    dictionary['regular'].append([alpha, l1_ratio, n_iters, intercept, mse_train, \n",
        "                                  mae_test, mse_test, r2, mae_madeup, mae_real, \n",
        "                                  mae_talking, mean_vec_mae_test,\n",
        "                                  mean_vec_mse_test, mean_vec_r2])\n",
        "    \n",
        "    alpha_formless, l1_ratio_formless, n_iters_formless, intercept_formless, \\\n",
        "    mse_train_formless, mae_test_formless, mse_test_formless, r2_formless, \\\n",
        "    mae_madeup_formless, mae_real_formless, mae_talking_formless, \\\n",
        "    mean_vec_mae_test_formless, mean_vec_mse_test_formless, \\\n",
        "    mean_vec_r2_formless = elasticnetifyer(x_train_formless, y_train, x_test_formless, y_test, df)\n",
        "\n",
        "    dictionary['formless'].append([alpha_formless, l1_ratio_formless, n_iters_formless,\n",
        "                                   intercept_formless, mse_train_formless, \n",
        "                                   mae_test_formless, mse_test_formless, r2_formless,\n",
        "                                   mae_madeup_formless, mae_real_formless, mae_talking_formless, \n",
        "                                   mean_vec_mae_test_formless, mean_vec_mse_test_formless,\n",
        "                                   mean_vec_r2_formless])\n",
        "    "
      ]
    },
    {
      "cell_type": "code",
      "source": [
        "age_dict = {'regular' : [], 'formless' : []}\n",
        "\n",
        "nested_cross_validator(df_age, 'rating.mean_age', age_dict)"
      ],
      "metadata": {
        "id": "oMqEfiw3sYhR"
      },
      "id": "oMqEfiw3sYhR",
      "execution_count": null,
      "outputs": []
    },
    {
      "cell_type": "code",
      "source": [
        "print(age_dict)"
      ],
      "metadata": {
        "id": "60eY426SPECv"
      },
      "id": "60eY426SPECv",
      "execution_count": null,
      "outputs": []
    },
    {
      "cell_type": "code",
      "source": [
        "gender_dict = {'regular' : [], 'formless' : []}\n",
        "\n",
        "nested_cross_validator(df_gender, 'rating.mean_gender', gender_dict)"
      ],
      "metadata": {
        "id": "x-7R8tYxOvvP"
      },
      "id": "x-7R8tYxOvvP",
      "execution_count": null,
      "outputs": []
    },
    {
      "cell_type": "code",
      "source": [
        "polarity_dict = {'regular' : [], 'formless' : []}\n",
        "\n",
        "nested_cross_validator(df_polarity, 'rating.mean_valence', polarity_dict)"
      ],
      "metadata": {
        "id": "W2EcKTE2O1gN"
      },
      "id": "W2EcKTE2O1gN",
      "execution_count": null,
      "outputs": []
    },
    {
      "cell_type": "code",
      "source": [
        "pickle_path = \"drive/MyDrive/Thesis/Data/fastText and others/\"\n",
        "\n",
        "with open(pickle_path + \"age_ncv.pickle\", \"rb\") as file:\n",
        "  age_dict = pickle.load(file)\n",
        "\n",
        "with open(pickle_path + \"gender_ncv.pickle\", \"rb\") as file:\n",
        "  gender_dict = pickle.load(file)\n",
        "\n",
        "with open(pickle_path + \"polarity_ncv.pickle\", \"rb\") as file:\n",
        "  polarity_dict = pickle.load(file)"
      ],
      "metadata": {
        "id": "PWHdLoSsn0-Y"
      },
      "id": "PWHdLoSsn0-Y",
      "execution_count": null,
      "outputs": []
    },
    {
      "cell_type": "code",
      "source": [
        "print(age_dict)"
      ],
      "metadata": {
        "id": "rD2N6yEfDvPB",
        "outputId": "dad6f3ff-8ff3-4350-b02d-a9be08257bac",
        "colab": {
          "base_uri": "https://localhost:8080/"
        }
      },
      "id": "rD2N6yEfDvPB",
      "execution_count": null,
      "outputs": [
        {
          "output_type": "stream",
          "name": "stdout",
          "text": [
            "{'regular': [[0.11832651993099204, 0.99, 79, 9.750745140118598, 352.86210536500477, 19.88786958091482, 548.6244486903391, -0.3904625308751548, 19.123439944691814, 20.426975050821646, 20.175950007949137, 17.482062238183598, 395.02559054339673, -0.0011735417526905767], [0.014720136675725845, 0.99, 507, 23.439872885969873, 314.3106120208521, 19.663225344378336, 498.76535076752367, -0.23473099610947257, 21.441818102253475, 21.074850516143016, 17.393376035019415, 16.628660317951258, 407.4202040009057, -0.008599241200374141], [0.07476911455067912, 0.05, 23, 7.2982347804540995, 436.8779861740004, 14.115917785747305, 260.56366069913696, 0.38645934361343237, 17.952497575128504, 11.15358190992553, 12.824055479735406, 18.93309365378608, 427.45854379584983, -0.006522532093903521], [0.032399526665512976, 0.05, 29, 16.631070571438944, 354.66406035723344, 16.024605600721195, 389.39983956133307, 0.20453155232764575, 16.33082637126067, 9.42763157042867, 19.73781340246513, 18.28828789163048, 493.8987044335974, -0.008939387765975804], [0.013422543776928288, 0.1, 42, 17.630320100064264, 391.79954922241336, 9.784893345440867, 182.1566630802381, 0.4510806543173105, 12.602242951604095, 8.774481802863862, 7.954190279458228, 15.27808755333953, 333.41227469465724, -0.004720028206443239]], 'formless': [[0.07691626100976987, 0.5, 22, 11.692491055590848, 409.7892123564754, 17.144112384385924, 393.5184426838384, 0.002646252702710128, 12.949547999328033, 16.80874077810365, 20.7009868562016, 17.482062238183598, 395.0255905433967, -0.0011735417526903547], [0.08368242847428924, 0.9, 32, 15.119763962342951, 484.48023403561086, 14.107499917092133, 302.0363541584962, 0.2522863750308526, 15.322608840827236, 13.120722634668008, 13.727479147558522, 16.628660317951258, 407.42020400090564, -0.00859924120037392], [0.12180875620062703, 0.9, 27, 17.666638994268368, 489.13880718808923, 14.428549555192907, 289.2320491259876, 0.31895483509616585, 18.250123120337378, 14.28200605571987, 11.459216802761151, 18.93309365378608, 427.45854379584983, -0.006522532093903521], [0.03226793129324732, 0.05, 23, 7.803424666437208, 445.5732737425724, 17.1209540993529, 410.4046170938448, 0.16162286033559747, 17.7885205872792, 10.596999096162707, 20.501273910925985, 18.28828789163048, 493.8987044335974, -0.008939387765975804], [0.022811117009622555, 0.05, 26, 11.327330597965108, 515.908533184214, 14.704141966166365, 319.8802039240846, 0.03605814211962732, 16.870003222236395, 16.16528998591963, 11.804833280935267, 15.27808755333953, 333.4122746946573, -0.004720028206443239]]}\n"
          ]
        }
      ]
    },
    {
      "cell_type": "code",
      "source": [
        "def nested_cv_addotron(dictionary, name):\n",
        "  variable_list = ('alpha', 'l1_ratio', 'n_iters', 'intercept', 'mse_train', \n",
        "                    'mae_test', 'mse_test', 'r2', 'mae_madeup', 'mae_real', \n",
        "                    'mae_talking', 'mean_vec_mae_test', 'mean_vec_mse_test', 'mean_vec_r2')\n",
        "  \n",
        "  type_list = ['regular', 'formless']\n",
        "\n",
        "  regular_list = dictionary['regular']\n",
        "  formless_list = dictionary['formless']\n",
        "  \n",
        "  regular_list = [sum(x) for x in zip(*regular_list)]\n",
        "  regular_list = [x / 5 for x in regular_list]\n",
        "\n",
        "  formless_list = [sum(x) for x in zip(*formless_list)]\n",
        "  formless_list = [x / 5 for x in formless_list]\n",
        "\n",
        "\n",
        "  for value_list, analysis_type in zip([regular_list, formless_list], type_list):\n",
        "    for value, variable in zip(value_list, variable_list):\n",
        "      print(f\"Average {analysis_type} {variable} for {name} = {value}\")\n",
        "    print(\"\\n\")"
      ],
      "metadata": {
        "id": "zVcZUmJDEn33"
      },
      "id": "zVcZUmJDEn33",
      "execution_count": null,
      "outputs": []
    },
    {
      "cell_type": "code",
      "source": [
        "nested_cv_addotron(age_dict, \"age\")"
      ],
      "metadata": {
        "id": "IL7z5zyyJAQ4",
        "outputId": "6752a093-d889-4c49-fcdb-1524f76ddcc5",
        "colab": {
          "base_uri": "https://localhost:8080/"
        }
      },
      "id": "IL7z5zyyJAQ4",
      "execution_count": null,
      "outputs": [
        {
          "output_type": "stream",
          "name": "stdout",
          "text": [
            "Average regular alpha for age = 0.050727568319967664\n",
            "Average regular l1_ratio for age = 0.43599999999999994\n",
            "Average regular n_iters for age = 136.0\n",
            "Average regular intercept for age = 14.950048695609159\n",
            "Average regular mse_train for age = 370.10286262790083\n",
            "Average regular mae_test for age = 15.895302331440504\n",
            "Average regular mse_test for age = 375.9019925597142\n",
            "Average regular r2 for age = 0.08337560465475224\n",
            "Average regular mae_madeup for age = 17.49016498898771\n",
            "Average regular mae_real for age = 14.171504170036545\n",
            "Average regular mae_talking for age = 15.617077040925466\n",
            "Average regular mean_vec_mae_test for age = 17.32203833097819\n",
            "Average regular mean_vec_mse_test for age = 411.44306349368134\n",
            "Average regular mean_vec_r2 for age = -0.005990946203877456\n",
            "\n",
            "\n",
            "Average formless alpha for age = 0.06749729879751121\n",
            "Average formless l1_ratio for age = 0.47999999999999987\n",
            "Average formless n_iters for age = 26.0\n",
            "Average formless intercept for age = 12.721929855320898\n",
            "Average formless mse_train for age = 468.9780121013923\n",
            "Average formless mae_test for age = 15.501051584438045\n",
            "Average formless mse_test for age = 343.0143333972503\n",
            "Average formless r2 for age = 0.15431369305699066\n",
            "Average formless mae_madeup for age = 16.23616075400165\n",
            "Average formless mae_real for age = 14.194751710114772\n",
            "Average formless mae_talking for age = 15.638757999676505\n",
            "Average formless mean_vec_mae_test for age = 17.32203833097819\n",
            "Average formless mean_vec_mse_test for age = 411.44306349368145\n",
            "Average formless mean_vec_r2 for age = -0.005990946203877368\n",
            "\n",
            "\n"
          ]
        }
      ]
    },
    {
      "cell_type": "code",
      "source": [
        "nested_cv_addotron(gender_dict, \"gender\")"
      ],
      "metadata": {
        "id": "WXtCZ-w0MaIW",
        "outputId": "e9250d8a-25ec-4446-f77b-831e7ee75e47",
        "colab": {
          "base_uri": "https://localhost:8080/"
        }
      },
      "id": "WXtCZ-w0MaIW",
      "execution_count": null,
      "outputs": [
        {
          "output_type": "stream",
          "name": "stdout",
          "text": [
            "Average regular alpha for gender = 0.15315895481366898\n",
            "Average regular l1_ratio for gender = 0.9299999999999999\n",
            "Average regular n_iters for gender = 39.8\n",
            "Average regular intercept for gender = -8.204630453730866\n",
            "Average regular mse_train for gender = 905.1063392504739\n",
            "Average regular mae_test for gender = 19.233139844182542\n",
            "Average regular mse_test for gender = 551.880482279404\n",
            "Average regular r2 for gender = 0.5898452840428152\n",
            "Average regular mae_madeup for gender = 20.807363397808466\n",
            "Average regular mae_real for gender = 19.696746192132213\n",
            "Average regular mae_talking for gender = 16.90857010080669\n",
            "Average regular mean_vec_mae_test for gender = 34.171191904988795\n",
            "Average regular mean_vec_mse_test for gender = 1375.8183692632363\n",
            "Average regular mean_vec_r2 for gender = -0.029618932567722033\n",
            "\n",
            "\n",
            "Average formless alpha for gender = 0.17331042386763665\n",
            "Average formless l1_ratio for gender = 0.7000000000000001\n",
            "Average formless n_iters for gender = 33.4\n",
            "Average formless intercept for gender = -17.278500081555812\n",
            "Average formless mse_train for gender = 1474.022512442651\n",
            "Average formless mae_test for gender = 27.843664495238773\n",
            "Average formless mse_test for gender = 1040.607381058971\n",
            "Average formless r2 for gender = 0.21768454955900682\n",
            "Average formless mae_madeup for gender = 29.458199908798967\n",
            "Average formless mae_real for gender = 26.297117340178556\n",
            "Average formless mae_talking for gender = 27.10194729917049\n",
            "Average formless mean_vec_mae_test for gender = 34.171191904988795\n",
            "Average formless mean_vec_mse_test for gender = 1375.8183692632363\n",
            "Average formless mean_vec_r2 for gender = -0.029618932567721988\n",
            "\n",
            "\n"
          ]
        }
      ]
    },
    {
      "cell_type": "code",
      "source": [
        "nested_cv_addotron(polarity_dict, \"polarity\")"
      ],
      "metadata": {
        "id": "FNO4496EMcoZ",
        "outputId": "bffac0de-42d6-4065-b6fb-e7ca343c4bd5",
        "colab": {
          "base_uri": "https://localhost:8080/"
        }
      },
      "id": "FNO4496EMcoZ",
      "execution_count": null,
      "outputs": [
        {
          "output_type": "stream",
          "name": "stdout",
          "text": [
            "Average regular alpha for polarity = 0.24835051374456635\n",
            "Average regular l1_ratio for polarity = 0.782\n",
            "Average regular n_iters for polarity = 272.0\n",
            "Average regular intercept for polarity = 4.408481760823829\n",
            "Average regular mse_train for polarity = 379.57109960567766\n",
            "Average regular mae_test for polarity = 15.719904883395973\n",
            "Average regular mse_test for polarity = 376.6090454961285\n",
            "Average regular r2 for polarity = -0.031915705525985306\n",
            "Average regular mae_madeup for polarity = 15.492608786809763\n",
            "Average regular mae_real for polarity = 17.452835468858975\n",
            "Average regular mae_talking for polarity = 14.396252329425153\n",
            "Average regular mean_vec_mae_test for polarity = 16.8109491256648\n",
            "Average regular mean_vec_mse_test for polarity = 389.5595898967131\n",
            "Average regular mean_vec_r2 for polarity = -0.05702949871174532\n",
            "\n",
            "\n",
            "Average formless alpha for polarity = 0.23515659044232623\n",
            "Average formless l1_ratio for polarity = 0.966\n",
            "Average formless n_iters for polarity = 33.8\n",
            "Average formless intercept for polarity = 9.371802698422865\n",
            "Average formless mse_train for polarity = 399.95010263328794\n",
            "Average formless mae_test for polarity = 14.380985747362933\n",
            "Average formless mse_test for polarity = 309.47272436619886\n",
            "Average formless r2 for polarity = 0.16384756426899721\n",
            "Average formless mae_madeup for polarity = 14.288323279686551\n",
            "Average formless mae_real for polarity = 15.720718119204983\n",
            "Average formless mae_talking for polarity = 13.218912429244364\n",
            "Average formless mean_vec_mae_test for polarity = 16.8109491256648\n",
            "Average formless mean_vec_mse_test for polarity = 389.55958989671313\n",
            "Average formless mean_vec_r2 for polarity = -0.05702949871174541\n",
            "\n",
            "\n"
          ]
        }
      ]
    },
    {
      "cell_type": "code",
      "source": [
        ""
      ],
      "metadata": {
        "id": "yzPmeVOaMfRK"
      },
      "id": "yzPmeVOaMfRK",
      "execution_count": null,
      "outputs": []
    },
    {
      "cell_type": "markdown",
      "source": [
        "# Now let's do Neural Networks"
      ],
      "metadata": {
        "id": "q7gcRWaxiXpg"
      },
      "id": "q7gcRWaxiXpg"
    },
    {
      "cell_type": "code",
      "source": [
        "# Sequential model with Dense layers\n",
        "# Output layer activation = linear\n",
        "# Loss function = MSE (I think this is better because we want to especially penalize large errors; however we use MAE to derive the final test-set score)\n",
        "# Hidden layer activation = LeakyReLU \n",
        "\n",
        "# Weight initalization = HeNormal\n",
        "# Optimizer: Adam\n",
        "\n",
        "# Input layer size = 300\n",
        "\n",
        "# Number of layers: Try (2, 3, 4)\n",
        "\n",
        "# Number of nodes per layer: (Try all 300, all 216, all 512, as well as going up and going down (300, 200, 100; 300, 400, 500))\n",
        "\n",
        "# Dropout percentage: (50, 60, 70, 80)"
      ],
      "metadata": {
        "id": "QggRgWpGidLZ"
      },
      "id": "QggRgWpGidLZ",
      "execution_count": null,
      "outputs": []
    },
    {
      "cell_type": "code",
      "source": [
        ""
      ],
      "metadata": {
        "id": "iAuVnrV8jmdL"
      },
      "id": "iAuVnrV8jmdL",
      "execution_count": null,
      "outputs": []
    }
  ],
  "metadata": {
    "kernelspec": {
      "display_name": "Python 3",
      "language": "python",
      "name": "python3"
    },
    "language_info": {
      "codemirror_mode": {
        "name": "ipython",
        "version": 3
      },
      "file_extension": ".py",
      "mimetype": "text/x-python",
      "name": "python",
      "nbconvert_exporter": "python",
      "pygments_lexer": "ipython3",
      "version": "3.7.4"
    },
    "colab": {
      "name": "ElasticNet.ipynb",
      "provenance": []
    }
  },
  "nbformat": 4,
  "nbformat_minor": 5
}