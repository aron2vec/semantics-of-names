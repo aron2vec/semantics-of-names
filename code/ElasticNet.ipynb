{
  "cells": [
    {
      "cell_type": "code",
      "source": [
        "!pip install fasttext"
      ],
      "metadata": {
        "id": "gvlKyGJBrVPl"
      },
      "id": "gvlKyGJBrVPl",
      "execution_count": null,
      "outputs": []
    },
    {
      "cell_type": "code",
      "execution_count": 25,
      "id": "8b3cd47c-eeee-49a5-b99c-0b6ab8dbbe25",
      "metadata": {
        "id": "8b3cd47c-eeee-49a5-b99c-0b6ab8dbbe25"
      },
      "outputs": [],
      "source": [
        "from numpy import mean\n",
        "from numpy import std\n",
        "from numpy import absolute\n",
        "from pandas import read_csv\n",
        "import pandas as pd\n",
        "import numpy as np\n",
        "import sklearn\n",
        "from sklearn.model_selection import cross_val_score, RepeatedKFold, train_test_split\n",
        "from sklearn.linear_model import ElasticNetCV\n",
        "import fasttext\n",
        "\n",
        "#path = \"D:/Tilburg University/2021-2022/Thesis/Coca/\"\n",
        "#model_path = path + \"models/\"\n",
        "\n",
        "#model = fasttext.load_model(model_path + \"sentenced_dim300_ws2_minn2_maxn5.bin\")"
      ]
    },
    {
      "cell_type": "code",
      "source": [
        "## When working in colab:\n",
        "from google.colab import drive\n",
        "\n",
        "drive.mount(\"/content/drive\", force_remount=True) \n",
        "\n",
        "model = fasttext.load_model(\"drive/MyDrive/Thesis/Data/fastText and others/sentenced_dim300_ws2_minn2_maxn5.bin\")"
      ],
      "metadata": {
        "colab": {
          "base_uri": "https://localhost:8080/"
        },
        "id": "RMMFcx0UBVvC",
        "outputId": "4cad3d50-46e5-4d4c-9c6e-522e6063c686"
      },
      "id": "RMMFcx0UBVvC",
      "execution_count": 21,
      "outputs": [
        {
          "output_type": "stream",
          "name": "stdout",
          "text": [
            "Mounted at /content/drive\n"
          ]
        },
        {
          "output_type": "stream",
          "name": "stderr",
          "text": [
            "Warning : `load_model` does not return WordVectorModel or SupervisedModel any more, but a `FastText` object which is very similar.\n"
          ]
        }
      ]
    },
    {
      "cell_type": "code",
      "execution_count": 15,
      "id": "3a18f809-0cbd-4964-8044-4b67bbbc456c",
      "metadata": {
        "id": "3a18f809-0cbd-4964-8044-4b67bbbc456c",
        "outputId": "b03d2681-e1c0-4e7c-c8ea-185e363e21f2",
        "colab": {
          "base_uri": "https://localhost:8080/"
        }
      },
      "outputs": [
        {
          "output_type": "stream",
          "name": "stdout",
          "text": [
            "119\n",
            "179\n",
            "63\n",
            "       name  rating.mean_age    age name_type\n",
            "0  Adelaide        -0.617647    old      real\n",
            "2  Alasdair        18.709677  young      real\n",
            "3   Alastor        13.812500    old    madeup\n",
            "4    Alecto         3.593750    old    madeup\n",
            "5     Alice       -13.969697  young      real 119\n",
            "       name  rating.mean_gender  gender name_type\n",
            "0  Adelaide           45.727273  female      real\n",
            "1   Adelina           47.771429  female      real\n",
            "2  Alasdair          -35.657143    male      real\n",
            "3   Alastor          -38.833333    male    madeup\n",
            "4    Alecto          -35.722222  female    madeup 179\n",
            "        name  rating.mean_valence polarity name_type\n",
            "1    Adelina            31.621622      bad      real\n",
            "7    Amabala             5.935484     good    madeup\n",
            "8      Apple            32.444444     good   talking\n",
            "11  Arcturus           -11.166667     good    madeup\n",
            "13   Arobynn             7.645161      bad    madeup 63\n"
          ]
        }
      ],
      "source": [
        "### Read CSV File and Delete Unimportant Columns\n",
        "#names_ratings = read_csv(\"D:/Tilburg University/2021-2022/Thesis/Data analyses/Giovanni Email Data/avgRatings_annotated.csv\")\n",
        "\n",
        "names_ratings = read_csv(\"drive/MyDrive/Thesis/Data/giovanni_email_data/avgRatings_annotated.csv\")\n",
        "\n",
        "#print(names_ratings.head())\n",
        "\n",
        "print(names_ratings['rating.mean_age'].notna().sum())\n",
        "print(names_ratings['rating.mean_gender'].notna().sum())\n",
        "print(names_ratings['rating.mean_valence'].notna().sum())\n",
        "\n",
        "df_age = names_ratings.loc[names_ratings['rating.mean_age'].notna(), ['name', 'rating.mean_age', 'age', 'name_type']]\n",
        "print(df_age.head(), len(df_age))\n",
        "\n",
        "df_gender = names_ratings.loc[names_ratings['rating.mean_gender'].notna(), ['name', 'rating.mean_gender', 'gender', 'name_type']]\n",
        "print(df_gender.head(), len(df_gender))\n",
        "\n",
        "df_polarity = names_ratings.loc[names_ratings['rating.mean_valence'].notna(), ['name', 'rating.mean_valence', 'polarity', 'name_type']]\n",
        "print(df_polarity.head(), len(df_polarity))"
      ]
    },
    {
      "cell_type": "code",
      "execution_count": 22,
      "id": "81ce89e5-06a4-45b0-a0b1-4837e28febac",
      "metadata": {
        "id": "81ce89e5-06a4-45b0-a0b1-4837e28febac",
        "outputId": "338a5b39-2962-4251-a8d4-316380a3ab73",
        "colab": {
          "base_uri": "https://localhost:8080/"
        }
      },
      "outputs": [
        {
          "output_type": "stream",
          "name": "stdout",
          "text": [
            "95 24 143 36 50 13\n"
          ]
        }
      ],
      "source": [
        "### Get repeatable train/test split with a seed\n",
        "\n",
        "def fasttext_xifyer(input_data):\n",
        "  df_output = np.zeros((len(input_data), 300))\n",
        "\n",
        "  i = 0\n",
        "\n",
        "  for row in input_data.iterrows():\n",
        "    index = row[0]\n",
        "    name = row[1][0].lower()\n",
        "    df_output[i] = model[name]\n",
        "    i += 1\n",
        "\n",
        "  return df_output\n",
        "\n",
        "################################################################################\n",
        "\n",
        "age_train, age_test = train_test_split(df_age, test_size=0.2, random_state=17042020,      ## First let's do age\n",
        "                               stratify=df_age[['age', 'name_type']])\n",
        "\n",
        "x_age_train = fasttext_xifyer(age_train)\n",
        "x_age_test = fasttext_xifyer(age_test)\n",
        "\n",
        "y_age_train = age_train['rating.mean_age']\n",
        "y_age_test = age_test['rating.mean_age']\n",
        "\n",
        "####################################################################################################################\n",
        "\n",
        "gen_train, gen_test = train_test_split(df_gender, test_size=0.2, random_state=17042020,     ## Now let's do gender\n",
        "                               stratify=df_gender[['gender', 'name_type']])\n",
        "\n",
        "x_gen_train = fasttext_xifyer(gen_train)\n",
        "x_gen_test = fasttext_xifyer(gen_test)\n",
        "\n",
        "\n",
        "y_gen_train = gen_train['rating.mean_gender']\n",
        "y_gen_test = gen_test['rating.mean_gender']\n",
        "\n",
        "\n",
        "####################################################################################################################\n",
        "\n",
        "pol_train, pol_test = train_test_split(df_polarity, test_size=0.2, random_state=17042020,    ## And lastly, polarity\n",
        "                               stratify=df_polarity[['polarity', 'name_type']])\n",
        "\n",
        "x_pol_train = fasttext_xifyer(pol_train)\n",
        "x_pol_test = fasttext_xifyer(pol_test)\n",
        "\n",
        "y_pol_train = pol_train['rating.mean_valence']\n",
        "y_pol_test = pol_test['rating.mean_valence']\n",
        "\n",
        "print(len(x_age_train), len(x_age_test), len(x_gen_train), len(x_gen_test), len(x_pol_train), len(x_pol_test))\n",
        "\n",
        "#del model"
      ]
    },
    {
      "cell_type": "code",
      "source": [
        "### Get repeatable train/test split with a seed, but without surface form\n",
        "\n",
        "def fasttext_xifyer_formless(input_data):\n",
        "  df_output = np.zeros((len(input_data), 300))\n",
        "\n",
        "  c = 0\n",
        "\n",
        "  for row in input_data.iterrows():\n",
        "    index = row[0]\n",
        "    name = row[1][0].lower()\n",
        "    if name == model.get_subwords(name)[0][0]:\n",
        "      wordarray = np.zeros((len(model.get_subwords(name)[0][1:]), 300))\n",
        "      for i, j in enumerate(model.get_subwords(name)[0][1:]):\n",
        "          wordarray[i] = model[j]\n",
        "      df_output[c] = np.mean(wordarray, axis = 0)\n",
        "    else:\n",
        "      df_output[c] = model[name]\n",
        "    c += 1\n",
        "\n",
        "  return df_output\n",
        "\n",
        "x_age_train_formless = fasttext_xifyer_formless(age_train)  \n",
        "x_age_test_formless = fasttext_xifyer_formless(age_test)\n",
        "\n",
        "####################################################################################################################\n",
        "\n",
        "x_gen_train_formless = fasttext_xifyer_formless(gen_train)\n",
        "x_gen_test_formless = fasttext_xifyer_formless(gen_test)\n",
        "\n",
        "\n",
        "\n",
        "####################################################################################################################\n",
        "\n",
        "\n",
        "x_pol_train_formless = fasttext_xifyer_formless(pol_train)\n",
        "x_pol_test_formless = fasttext_xifyer_formless(pol_test)\n",
        "\n",
        "print(len(x_age_train_formless), len(x_age_test_formless), len(x_gen_train_formless), len(x_gen_test_formless), len(x_pol_train_formless), len(x_pol_test_formless))\n",
        "\n",
        "#del model"
      ],
      "metadata": {
        "colab": {
          "base_uri": "https://localhost:8080/"
        },
        "id": "tAbHjci5sgvm",
        "outputId": "b94fabc8-565e-4aae-c131-55a89f32ea51"
      },
      "id": "tAbHjci5sgvm",
      "execution_count": 49,
      "outputs": [
        {
          "output_type": "stream",
          "name": "stdout",
          "text": [
            "95 24 143 36 50 13\n"
          ]
        }
      ]
    },
    {
      "cell_type": "code",
      "execution_count": null,
      "id": "fc46ca8b-cd6b-4de5-9def-8c0a1ac9c2db",
      "metadata": {
        "id": "fc46ca8b-cd6b-4de5-9def-8c0a1ac9c2db"
      },
      "outputs": [],
      "source": [
        "### Make a cross-validation loop testing a bunch of hyperparameters, all the while saving the outputs to a dict or something"
      ]
    },
    {
      "cell_type": "code",
      "execution_count": 34,
      "id": "68c41b5d-43b8-4a30-8636-ec9da122b3db",
      "metadata": {
        "id": "68c41b5d-43b8-4a30-8636-ec9da122b3db"
      },
      "outputs": [],
      "source": [
        "def elasticnetifyer(x_train, y_train, x_test, y_test, test_full):\n",
        "  regr = ElasticNetCV(l1_ratio = [0.01, 0.05, .1, 0.2, .5, .7, .9, .95, .99, 1], \n",
        "                      n_alphas = 250,\n",
        "                      max_iter = 10000,\n",
        "                      cv = len(x_train),\n",
        "                      selection = 'random', \n",
        "                      random_state=17042020,)\n",
        "\n",
        "  regr.fit(x_train, y_train)\n",
        "\n",
        "  print(\"Alpha:\", regr.alpha_)\n",
        "  print(\"L1 Ratio:\", regr.l1_ratio_)\n",
        "  print(\"# Iters:\", regr.n_iter_)\n",
        "  print(\"Intercept:\", regr.intercept_)\n",
        "  #print(\"Coefs:\", regr.coef_)\n",
        "  print(\"\\n\")\n",
        "\n",
        "  print(\"MSE Train:\", mean(regr.mse_path_))\n",
        "\n",
        "  print(\"MAE Test:\", sklearn.metrics.mean_absolute_error(y_test, regr.predict(x_test)))\n",
        "  print(\"MSE Test:\", sklearn.metrics.mean_squared_error(y_test, regr.predict(x_test)))\n",
        "\n",
        "  print(\"R2:\", regr.score(x_test, y_test))\n",
        "\n",
        "  print('\\n')\n",
        "\n",
        "  type_dict = {}\n",
        "  type_counter = {}\n",
        "  for n, i, j in zip(test_full['name_type'], y_test, x_test):\n",
        "      if n in type_dict.keys():\n",
        "          type_dict[n] = type_dict[n] + abs(i - regr.predict(j.reshape(1, -1)))\n",
        "          type_counter[n] = type_counter[n] + 1\n",
        "      else:\n",
        "          type_dict[n] = abs(i - regr.predict(j.reshape(1, -1)))\n",
        "          type_counter[n] = 1\n",
        "      \n",
        "  for i in type_dict.keys():\n",
        "      print(\"MAE\", i, type_dict[i]/type_counter[i])\n",
        "\n",
        "  print('\\n')\n",
        "\n",
        "  mean_vec = np.mean(x_train, axis = 0)\n",
        "  mean_vec_array = np.full((len(x_test), 300), mean_vec)\n",
        "\n",
        "  print(\"Mean-vector MAE Test:\", sklearn.metrics.mean_absolute_error(y_test, regr.predict(mean_vec_array)))\n",
        "  print(\"Mean-vector MSE Test:\", sklearn.metrics.mean_squared_error(y_test, regr.predict(mean_vec_array)))\n",
        "\n",
        "  print(\"Mean-vector R2:\", regr.score(mean_vec_array, y_test))"
      ]
    },
    {
      "cell_type": "code",
      "source": [
        "elasticnetifyer(x_gen_train, y_gen_train, x_gen_test, y_gen_test, gen_test)"
      ],
      "metadata": {
        "colab": {
          "base_uri": "https://localhost:8080/"
        },
        "id": "mayUTSYnnFb-",
        "outputId": "a4067c5c-233c-4043-912f-29b552b56e8f"
      },
      "id": "mayUTSYnnFb-",
      "execution_count": 26,
      "outputs": [
        {
          "output_type": "stream",
          "name": "stdout",
          "text": [
            "Alpha: 0.07464309442408282\n",
            "L1 Ratio: 0.9\n",
            "# Iters: 48\n",
            "Intercept: -2.276081549528773\n",
            "\n",
            "\n",
            "MSE Train: 888.8802022779203\n",
            "MAE Test: 19.75393167120632\n",
            "MSE Test: 548.8958414915724\n",
            "R2: 0.6016848992232695\n",
            "\n",
            "\n",
            "MAE madeup [24.51393291]\n",
            "MAE real [15.76683143]\n",
            "MAE talking [18.98103068]\n",
            "\n",
            "\n",
            "Mean-vector MAE Test: 35.20711844649357\n",
            "Mean-vector MSE Test: 1411.4821234797062\n",
            "Mean-vector R2: -0.02426471793010454\n"
          ]
        }
      ]
    },
    {
      "cell_type": "code",
      "source": [
        "elasticnetifyer(x_age_train, y_age_train, x_age_test, y_age_test, age_test)"
      ],
      "metadata": {
        "colab": {
          "base_uri": "https://localhost:8080/"
        },
        "id": "xfG6Njqvn7UG",
        "outputId": "661e022e-fb87-44fc-d8b3-8287fb7332fd"
      },
      "id": "xfG6Njqvn7UG",
      "execution_count": 36,
      "outputs": [
        {
          "output_type": "stream",
          "name": "stdout",
          "text": [
            "Alpha: 0.22747173388941747\n",
            "L1 Ratio: 1.0\n",
            "# Iters: 71\n",
            "Intercept: 14.058597468383912\n",
            "\n",
            "\n",
            "MSE Train: 412.7853215036653\n",
            "MAE Test: 17.398978553042074\n",
            "MSE Test: 403.1392561316581\n",
            "R2: -0.4256642361660301\n",
            "\n",
            "\n",
            "MAE real [16.99593187]\n",
            "MAE madeup [20.83337036]\n",
            "MAE talking [14.36763342]\n",
            "\n",
            "\n",
            "Mean-vector MAE Test: 17.188119883066264\n",
            "Mean-vector MSE Test: 377.67235203479964\n",
            "Mean-vector R2: -0.3356029141177901\n"
          ]
        }
      ]
    },
    {
      "cell_type": "code",
      "source": [
        "elasticnetifyer(x_pol_train, y_pol_train, x_pol_test, y_pol_test, pol_test)"
      ],
      "metadata": {
        "colab": {
          "base_uri": "https://localhost:8080/"
        },
        "id": "H1vMjs23n7iq",
        "outputId": "dece6770-ee8d-425d-be3e-c070c477b201"
      },
      "id": "H1vMjs23n7iq",
      "execution_count": 37,
      "outputs": [
        {
          "output_type": "stream",
          "name": "stdout",
          "text": [
            "Alpha: 0.08319937318664238\n",
            "L1 Ratio: 0.7\n",
            "# Iters: 32\n",
            "Intercept: -5.172295579705981\n",
            "\n",
            "\n",
            "MSE Train: 327.8059654834631\n",
            "MAE Test: 17.375498152043754\n",
            "MSE Test: 493.0342242180459\n",
            "R2: 0.010576759549279835\n",
            "\n",
            "\n",
            "MAE real [13.7378035]\n",
            "MAE madeup [19.34068643]\n",
            "MAE talking [18.55670745]\n",
            "\n",
            "\n",
            "Mean-vector MAE Test: 19.8674717396795\n",
            "Mean-vector MSE Test: 516.5873977208159\n",
            "Mean-vector R2: -0.036689852189426775\n"
          ]
        }
      ]
    },
    {
      "cell_type": "code",
      "source": [
        "elasticnetifyer(x_gen_train_formless, y_gen_train, x_gen_test_formless, y_gen_test, gen_test)"
      ],
      "metadata": {
        "colab": {
          "base_uri": "https://localhost:8080/"
        },
        "id": "C3KSPSM3ryez",
        "outputId": "114c2604-15c8-47e3-86a7-80b786b87d36"
      },
      "id": "C3KSPSM3ryez",
      "execution_count": 38,
      "outputs": [
        {
          "output_type": "stream",
          "name": "stdout",
          "text": [
            "Alpha: 0.3109822127529715\n",
            "L1 Ratio: 0.99\n",
            "# Iters: 30\n",
            "Intercept: -13.108990119160646\n",
            "\n",
            "\n",
            "MSE Train: 1298.5679473768355\n",
            "MAE Test: 29.675574225184594\n",
            "MSE Test: 1108.4647117007096\n",
            "R2: 0.1956247433962447\n",
            "\n",
            "\n",
            "MAE madeup [23.90430818]\n",
            "MAE real [38.41121527]\n",
            "MAE talking [26.71119922]\n",
            "\n",
            "\n",
            "Mean-vector MAE Test: 35.20711844649357\n",
            "Mean-vector MSE Test: 1411.4821234797062\n",
            "Mean-vector R2: -0.02426471793010454\n"
          ]
        }
      ]
    },
    {
      "cell_type": "code",
      "source": [
        "elasticnetifyer(x_age_train_formless, y_age_train, x_age_test_formless, y_age_test, age_test)"
      ],
      "metadata": {
        "colab": {
          "base_uri": "https://localhost:8080/"
        },
        "id": "6H6G13U9ry7N",
        "outputId": "91267e82-1f6b-49cd-aacb-f182ef638bbc"
      },
      "id": "6H6G13U9ry7N",
      "execution_count": 35,
      "outputs": [
        {
          "output_type": "stream",
          "name": "stdout",
          "text": [
            "Alpha: 0.0483303750010695\n",
            "L1 Ratio: 0.05\n",
            "# Iters: 21\n",
            "Intercept: 12.582004171099673\n",
            "\n",
            "\n",
            "MSE Train: 505.0297382646456\n",
            "MAE Test: 15.861944755220998\n",
            "MSE Test: 345.6672356059924\n",
            "R2: -0.2224198162852662\n",
            "\n",
            "\n",
            "MAE real [14.10345426]\n",
            "MAE madeup [15.00685642]\n",
            "MAE talking [18.47552359]\n",
            "\n",
            "\n",
            "Mean-vector MAE Test: 17.188119883066268\n",
            "Mean-vector MSE Test: 377.67235203479976\n",
            "Mean-vector R2: -0.3356029141177903\n"
          ]
        }
      ]
    },
    {
      "cell_type": "code",
      "source": [
        "elasticnetifyer(x_pol_train_formless, y_pol_train, x_pol_test_formless, y_pol_test, pol_test)"
      ],
      "metadata": {
        "colab": {
          "base_uri": "https://localhost:8080/"
        },
        "id": "2nZrnE3erzcO",
        "outputId": "5a8bfd1a-633c-49de-b059-663c5d48c84e"
      },
      "id": "2nZrnE3erzcO",
      "execution_count": 39,
      "outputs": [
        {
          "output_type": "stream",
          "name": "stdout",
          "text": [
            "Alpha: 0.14005586221191413\n",
            "L1 Ratio: 1.0\n",
            "# Iters: 102\n",
            "Intercept: -3.7604477095609585\n",
            "\n",
            "\n",
            "MSE Train: 322.319403529407\n",
            "MAE Test: 22.61523431617912\n",
            "MSE Test: 647.0281906912072\n",
            "R2: -0.2984590068001791\n",
            "\n",
            "\n",
            "MAE real [20.69309151]\n",
            "MAE madeup [23.65215119]\n",
            "MAE talking [23.24123103]\n",
            "\n",
            "\n",
            "Mean-vector MAE Test: 19.8674717396795\n",
            "Mean-vector MSE Test: 516.5873977208159\n",
            "Mean-vector R2: -0.036689852189426775\n"
          ]
        }
      ]
    },
    {
      "cell_type": "markdown",
      "id": "909b7afd-517f-42a6-8fd2-d89aa025b213",
      "metadata": {
        "id": "909b7afd-517f-42a6-8fd2-d89aa025b213"
      },
      "source": [
        "### Testing ground for nested CV"
      ]
    },
    {
      "cell_type": "code",
      "execution_count": 52,
      "id": "8c20e16b-bfdd-42b7-82d8-642372b044ae",
      "metadata": {
        "id": "8c20e16b-bfdd-42b7-82d8-642372b044ae",
        "colab": {
          "base_uri": "https://localhost:8080/",
          "height": 405
        },
        "outputId": "2b3acf2d-43c3-42fa-d0f5-bf0960b4df08"
      },
      "outputs": [
        {
          "output_type": "stream",
          "name": "stdout",
          "text": [
            "hello\n"
          ]
        },
        {
          "output_type": "error",
          "ename": "KeyboardInterrupt",
          "evalue": "ignored",
          "traceback": [
            "\u001b[0;31m---------------------------------------------------------------------------\u001b[0m",
            "\u001b[0;31mKeyboardInterrupt\u001b[0m                         Traceback (most recent call last)",
            "\u001b[0;32m<ipython-input-52-0e8db990cee6>\u001b[0m in \u001b[0;36m<module>\u001b[0;34m()\u001b[0m\n\u001b[1;32m     22\u001b[0m \u001b[0;34m\u001b[0m\u001b[0m\n\u001b[1;32m     23\u001b[0m     \u001b[0mprint\u001b[0m\u001b[0;34m(\u001b[0m\u001b[0;34m'hello'\u001b[0m\u001b[0;34m)\u001b[0m\u001b[0;34m\u001b[0m\u001b[0;34m\u001b[0m\u001b[0m\n\u001b[0;32m---> 24\u001b[0;31m     \u001b[0melasticnetifyer\u001b[0m\u001b[0;34m(\u001b[0m\u001b[0mx_train\u001b[0m\u001b[0;34m,\u001b[0m \u001b[0my_train\u001b[0m\u001b[0;34m,\u001b[0m \u001b[0mx_test\u001b[0m\u001b[0;34m,\u001b[0m \u001b[0my_test\u001b[0m\u001b[0;34m,\u001b[0m \u001b[0mdf\u001b[0m\u001b[0;34m)\u001b[0m\u001b[0;34m\u001b[0m\u001b[0;34m\u001b[0m\u001b[0m\n\u001b[0m\u001b[1;32m     25\u001b[0m     \u001b[0melasticnetifyer\u001b[0m\u001b[0;34m(\u001b[0m\u001b[0mx_train\u001b[0m\u001b[0;34m,\u001b[0m \u001b[0my_train\u001b[0m\u001b[0;34m,\u001b[0m \u001b[0mx_test\u001b[0m\u001b[0;34m,\u001b[0m \u001b[0my_test\u001b[0m\u001b[0;34m,\u001b[0m \u001b[0mdf\u001b[0m\u001b[0;34m)\u001b[0m\u001b[0;34m\u001b[0m\u001b[0;34m\u001b[0m\u001b[0m\n",
            "\u001b[0;32m<ipython-input-34-c02a6ec35788>\u001b[0m in \u001b[0;36melasticnetifyer\u001b[0;34m(x_train, y_train, x_test, y_test, test_full)\u001b[0m\n\u001b[1;32m      7\u001b[0m                       random_state=17042020,)\n\u001b[1;32m      8\u001b[0m \u001b[0;34m\u001b[0m\u001b[0m\n\u001b[0;32m----> 9\u001b[0;31m   \u001b[0mregr\u001b[0m\u001b[0;34m.\u001b[0m\u001b[0mfit\u001b[0m\u001b[0;34m(\u001b[0m\u001b[0mx_train\u001b[0m\u001b[0;34m,\u001b[0m \u001b[0my_train\u001b[0m\u001b[0;34m)\u001b[0m\u001b[0;34m\u001b[0m\u001b[0;34m\u001b[0m\u001b[0m\n\u001b[0m\u001b[1;32m     10\u001b[0m \u001b[0;34m\u001b[0m\u001b[0m\n\u001b[1;32m     11\u001b[0m   \u001b[0mprint\u001b[0m\u001b[0;34m(\u001b[0m\u001b[0;34m\"Alpha:\"\u001b[0m\u001b[0;34m,\u001b[0m \u001b[0mregr\u001b[0m\u001b[0;34m.\u001b[0m\u001b[0malpha_\u001b[0m\u001b[0;34m)\u001b[0m\u001b[0;34m\u001b[0m\u001b[0;34m\u001b[0m\u001b[0m\n",
            "\u001b[0;32m/usr/local/lib/python3.7/dist-packages/sklearn/linear_model/_coordinate_descent.py\u001b[0m in \u001b[0;36mfit\u001b[0;34m(self, X, y, sample_weight)\u001b[0m\n\u001b[1;32m   1672\u001b[0m             \u001b[0mverbose\u001b[0m\u001b[0;34m=\u001b[0m\u001b[0mself\u001b[0m\u001b[0;34m.\u001b[0m\u001b[0mverbose\u001b[0m\u001b[0;34m,\u001b[0m\u001b[0;34m\u001b[0m\u001b[0;34m\u001b[0m\u001b[0m\n\u001b[1;32m   1673\u001b[0m             \u001b[0;34m**\u001b[0m\u001b[0m_joblib_parallel_args\u001b[0m\u001b[0;34m(\u001b[0m\u001b[0mprefer\u001b[0m\u001b[0;34m=\u001b[0m\u001b[0;34m\"threads\"\u001b[0m\u001b[0;34m)\u001b[0m\u001b[0;34m,\u001b[0m\u001b[0;34m\u001b[0m\u001b[0;34m\u001b[0m\u001b[0m\n\u001b[0;32m-> 1674\u001b[0;31m         )(jobs)\n\u001b[0m\u001b[1;32m   1675\u001b[0m         \u001b[0mmse_paths\u001b[0m \u001b[0;34m=\u001b[0m \u001b[0mnp\u001b[0m\u001b[0;34m.\u001b[0m\u001b[0mreshape\u001b[0m\u001b[0;34m(\u001b[0m\u001b[0mmse_paths\u001b[0m\u001b[0;34m,\u001b[0m \u001b[0;34m(\u001b[0m\u001b[0mn_l1_ratio\u001b[0m\u001b[0;34m,\u001b[0m \u001b[0mlen\u001b[0m\u001b[0;34m(\u001b[0m\u001b[0mfolds\u001b[0m\u001b[0;34m)\u001b[0m\u001b[0;34m,\u001b[0m \u001b[0;34m-\u001b[0m\u001b[0;36m1\u001b[0m\u001b[0;34m)\u001b[0m\u001b[0;34m)\u001b[0m\u001b[0;34m\u001b[0m\u001b[0;34m\u001b[0m\u001b[0m\n\u001b[1;32m   1676\u001b[0m         \u001b[0;31m# The mean is computed over folds.\u001b[0m\u001b[0;34m\u001b[0m\u001b[0;34m\u001b[0m\u001b[0;34m\u001b[0m\u001b[0m\n",
            "\u001b[0;32m/usr/local/lib/python3.7/dist-packages/joblib/parallel.py\u001b[0m in \u001b[0;36m__call__\u001b[0;34m(self, iterable)\u001b[0m\n\u001b[1;32m   1044\u001b[0m                 \u001b[0mself\u001b[0m\u001b[0;34m.\u001b[0m\u001b[0m_iterating\u001b[0m \u001b[0;34m=\u001b[0m \u001b[0mself\u001b[0m\u001b[0;34m.\u001b[0m\u001b[0m_original_iterator\u001b[0m \u001b[0;32mis\u001b[0m \u001b[0;32mnot\u001b[0m \u001b[0;32mNone\u001b[0m\u001b[0;34m\u001b[0m\u001b[0;34m\u001b[0m\u001b[0m\n\u001b[1;32m   1045\u001b[0m \u001b[0;34m\u001b[0m\u001b[0m\n\u001b[0;32m-> 1046\u001b[0;31m             \u001b[0;32mwhile\u001b[0m \u001b[0mself\u001b[0m\u001b[0;34m.\u001b[0m\u001b[0mdispatch_one_batch\u001b[0m\u001b[0;34m(\u001b[0m\u001b[0miterator\u001b[0m\u001b[0;34m)\u001b[0m\u001b[0;34m:\u001b[0m\u001b[0;34m\u001b[0m\u001b[0;34m\u001b[0m\u001b[0m\n\u001b[0m\u001b[1;32m   1047\u001b[0m                 \u001b[0;32mpass\u001b[0m\u001b[0;34m\u001b[0m\u001b[0;34m\u001b[0m\u001b[0m\n\u001b[1;32m   1048\u001b[0m \u001b[0;34m\u001b[0m\u001b[0m\n",
            "\u001b[0;32m/usr/local/lib/python3.7/dist-packages/joblib/parallel.py\u001b[0m in \u001b[0;36mdispatch_one_batch\u001b[0;34m(self, iterator)\u001b[0m\n\u001b[1;32m    859\u001b[0m                 \u001b[0;32mreturn\u001b[0m \u001b[0;32mFalse\u001b[0m\u001b[0;34m\u001b[0m\u001b[0;34m\u001b[0m\u001b[0m\n\u001b[1;32m    860\u001b[0m             \u001b[0;32melse\u001b[0m\u001b[0;34m:\u001b[0m\u001b[0;34m\u001b[0m\u001b[0;34m\u001b[0m\u001b[0m\n\u001b[0;32m--> 861\u001b[0;31m                 \u001b[0mself\u001b[0m\u001b[0;34m.\u001b[0m\u001b[0m_dispatch\u001b[0m\u001b[0;34m(\u001b[0m\u001b[0mtasks\u001b[0m\u001b[0;34m)\u001b[0m\u001b[0;34m\u001b[0m\u001b[0;34m\u001b[0m\u001b[0m\n\u001b[0m\u001b[1;32m    862\u001b[0m                 \u001b[0;32mreturn\u001b[0m \u001b[0;32mTrue\u001b[0m\u001b[0;34m\u001b[0m\u001b[0;34m\u001b[0m\u001b[0m\n\u001b[1;32m    863\u001b[0m \u001b[0;34m\u001b[0m\u001b[0m\n",
            "\u001b[0;32m/usr/local/lib/python3.7/dist-packages/joblib/parallel.py\u001b[0m in \u001b[0;36m_dispatch\u001b[0;34m(self, batch)\u001b[0m\n\u001b[1;32m    777\u001b[0m         \u001b[0;32mwith\u001b[0m \u001b[0mself\u001b[0m\u001b[0;34m.\u001b[0m\u001b[0m_lock\u001b[0m\u001b[0;34m:\u001b[0m\u001b[0;34m\u001b[0m\u001b[0;34m\u001b[0m\u001b[0m\n\u001b[1;32m    778\u001b[0m             \u001b[0mjob_idx\u001b[0m \u001b[0;34m=\u001b[0m \u001b[0mlen\u001b[0m\u001b[0;34m(\u001b[0m\u001b[0mself\u001b[0m\u001b[0;34m.\u001b[0m\u001b[0m_jobs\u001b[0m\u001b[0;34m)\u001b[0m\u001b[0;34m\u001b[0m\u001b[0;34m\u001b[0m\u001b[0m\n\u001b[0;32m--> 779\u001b[0;31m             \u001b[0mjob\u001b[0m \u001b[0;34m=\u001b[0m \u001b[0mself\u001b[0m\u001b[0;34m.\u001b[0m\u001b[0m_backend\u001b[0m\u001b[0;34m.\u001b[0m\u001b[0mapply_async\u001b[0m\u001b[0;34m(\u001b[0m\u001b[0mbatch\u001b[0m\u001b[0;34m,\u001b[0m \u001b[0mcallback\u001b[0m\u001b[0;34m=\u001b[0m\u001b[0mcb\u001b[0m\u001b[0;34m)\u001b[0m\u001b[0;34m\u001b[0m\u001b[0;34m\u001b[0m\u001b[0m\n\u001b[0m\u001b[1;32m    780\u001b[0m             \u001b[0;31m# A job can complete so quickly than its callback is\u001b[0m\u001b[0;34m\u001b[0m\u001b[0;34m\u001b[0m\u001b[0;34m\u001b[0m\u001b[0m\n\u001b[1;32m    781\u001b[0m             \u001b[0;31m# called before we get here, causing self._jobs to\u001b[0m\u001b[0;34m\u001b[0m\u001b[0;34m\u001b[0m\u001b[0;34m\u001b[0m\u001b[0m\n",
            "\u001b[0;32m/usr/local/lib/python3.7/dist-packages/joblib/_parallel_backends.py\u001b[0m in \u001b[0;36mapply_async\u001b[0;34m(self, func, callback)\u001b[0m\n\u001b[1;32m    206\u001b[0m     \u001b[0;32mdef\u001b[0m \u001b[0mapply_async\u001b[0m\u001b[0;34m(\u001b[0m\u001b[0mself\u001b[0m\u001b[0;34m,\u001b[0m \u001b[0mfunc\u001b[0m\u001b[0;34m,\u001b[0m \u001b[0mcallback\u001b[0m\u001b[0;34m=\u001b[0m\u001b[0;32mNone\u001b[0m\u001b[0;34m)\u001b[0m\u001b[0;34m:\u001b[0m\u001b[0;34m\u001b[0m\u001b[0;34m\u001b[0m\u001b[0m\n\u001b[1;32m    207\u001b[0m         \u001b[0;34m\"\"\"Schedule a func to be run\"\"\"\u001b[0m\u001b[0;34m\u001b[0m\u001b[0;34m\u001b[0m\u001b[0m\n\u001b[0;32m--> 208\u001b[0;31m         \u001b[0mresult\u001b[0m \u001b[0;34m=\u001b[0m \u001b[0mImmediateResult\u001b[0m\u001b[0;34m(\u001b[0m\u001b[0mfunc\u001b[0m\u001b[0;34m)\u001b[0m\u001b[0;34m\u001b[0m\u001b[0;34m\u001b[0m\u001b[0m\n\u001b[0m\u001b[1;32m    209\u001b[0m         \u001b[0;32mif\u001b[0m \u001b[0mcallback\u001b[0m\u001b[0;34m:\u001b[0m\u001b[0;34m\u001b[0m\u001b[0;34m\u001b[0m\u001b[0m\n\u001b[1;32m    210\u001b[0m             \u001b[0mcallback\u001b[0m\u001b[0;34m(\u001b[0m\u001b[0mresult\u001b[0m\u001b[0;34m)\u001b[0m\u001b[0;34m\u001b[0m\u001b[0;34m\u001b[0m\u001b[0m\n",
            "\u001b[0;32m/usr/local/lib/python3.7/dist-packages/joblib/_parallel_backends.py\u001b[0m in \u001b[0;36m__init__\u001b[0;34m(self, batch)\u001b[0m\n\u001b[1;32m    570\u001b[0m         \u001b[0;31m# Don't delay the application, to avoid keeping the input\u001b[0m\u001b[0;34m\u001b[0m\u001b[0;34m\u001b[0m\u001b[0;34m\u001b[0m\u001b[0m\n\u001b[1;32m    571\u001b[0m         \u001b[0;31m# arguments in memory\u001b[0m\u001b[0;34m\u001b[0m\u001b[0;34m\u001b[0m\u001b[0;34m\u001b[0m\u001b[0m\n\u001b[0;32m--> 572\u001b[0;31m         \u001b[0mself\u001b[0m\u001b[0;34m.\u001b[0m\u001b[0mresults\u001b[0m \u001b[0;34m=\u001b[0m \u001b[0mbatch\u001b[0m\u001b[0;34m(\u001b[0m\u001b[0;34m)\u001b[0m\u001b[0;34m\u001b[0m\u001b[0;34m\u001b[0m\u001b[0m\n\u001b[0m\u001b[1;32m    573\u001b[0m \u001b[0;34m\u001b[0m\u001b[0m\n\u001b[1;32m    574\u001b[0m     \u001b[0;32mdef\u001b[0m \u001b[0mget\u001b[0m\u001b[0;34m(\u001b[0m\u001b[0mself\u001b[0m\u001b[0;34m)\u001b[0m\u001b[0;34m:\u001b[0m\u001b[0;34m\u001b[0m\u001b[0;34m\u001b[0m\u001b[0m\n",
            "\u001b[0;32m/usr/local/lib/python3.7/dist-packages/joblib/parallel.py\u001b[0m in \u001b[0;36m__call__\u001b[0;34m(self)\u001b[0m\n\u001b[1;32m    261\u001b[0m         \u001b[0;32mwith\u001b[0m \u001b[0mparallel_backend\u001b[0m\u001b[0;34m(\u001b[0m\u001b[0mself\u001b[0m\u001b[0;34m.\u001b[0m\u001b[0m_backend\u001b[0m\u001b[0;34m,\u001b[0m \u001b[0mn_jobs\u001b[0m\u001b[0;34m=\u001b[0m\u001b[0mself\u001b[0m\u001b[0;34m.\u001b[0m\u001b[0m_n_jobs\u001b[0m\u001b[0;34m)\u001b[0m\u001b[0;34m:\u001b[0m\u001b[0;34m\u001b[0m\u001b[0;34m\u001b[0m\u001b[0m\n\u001b[1;32m    262\u001b[0m             return [func(*args, **kwargs)\n\u001b[0;32m--> 263\u001b[0;31m                     for func, args, kwargs in self.items]\n\u001b[0m\u001b[1;32m    264\u001b[0m \u001b[0;34m\u001b[0m\u001b[0m\n\u001b[1;32m    265\u001b[0m     \u001b[0;32mdef\u001b[0m \u001b[0m__reduce__\u001b[0m\u001b[0;34m(\u001b[0m\u001b[0mself\u001b[0m\u001b[0;34m)\u001b[0m\u001b[0;34m:\u001b[0m\u001b[0;34m\u001b[0m\u001b[0;34m\u001b[0m\u001b[0m\n",
            "\u001b[0;32m/usr/local/lib/python3.7/dist-packages/joblib/parallel.py\u001b[0m in \u001b[0;36m<listcomp>\u001b[0;34m(.0)\u001b[0m\n\u001b[1;32m    261\u001b[0m         \u001b[0;32mwith\u001b[0m \u001b[0mparallel_backend\u001b[0m\u001b[0;34m(\u001b[0m\u001b[0mself\u001b[0m\u001b[0;34m.\u001b[0m\u001b[0m_backend\u001b[0m\u001b[0;34m,\u001b[0m \u001b[0mn_jobs\u001b[0m\u001b[0;34m=\u001b[0m\u001b[0mself\u001b[0m\u001b[0;34m.\u001b[0m\u001b[0m_n_jobs\u001b[0m\u001b[0;34m)\u001b[0m\u001b[0;34m:\u001b[0m\u001b[0;34m\u001b[0m\u001b[0;34m\u001b[0m\u001b[0m\n\u001b[1;32m    262\u001b[0m             return [func(*args, **kwargs)\n\u001b[0;32m--> 263\u001b[0;31m                     for func, args, kwargs in self.items]\n\u001b[0m\u001b[1;32m    264\u001b[0m \u001b[0;34m\u001b[0m\u001b[0m\n\u001b[1;32m    265\u001b[0m     \u001b[0;32mdef\u001b[0m \u001b[0m__reduce__\u001b[0m\u001b[0;34m(\u001b[0m\u001b[0mself\u001b[0m\u001b[0;34m)\u001b[0m\u001b[0;34m:\u001b[0m\u001b[0;34m\u001b[0m\u001b[0;34m\u001b[0m\u001b[0m\n",
            "\u001b[0;32m/usr/local/lib/python3.7/dist-packages/sklearn/utils/fixes.py\u001b[0m in \u001b[0;36m__call__\u001b[0;34m(self, *args, **kwargs)\u001b[0m\n\u001b[1;32m    214\u001b[0m     \u001b[0;32mdef\u001b[0m \u001b[0m__call__\u001b[0m\u001b[0;34m(\u001b[0m\u001b[0mself\u001b[0m\u001b[0;34m,\u001b[0m \u001b[0;34m*\u001b[0m\u001b[0margs\u001b[0m\u001b[0;34m,\u001b[0m \u001b[0;34m**\u001b[0m\u001b[0mkwargs\u001b[0m\u001b[0;34m)\u001b[0m\u001b[0;34m:\u001b[0m\u001b[0;34m\u001b[0m\u001b[0;34m\u001b[0m\u001b[0m\n\u001b[1;32m    215\u001b[0m         \u001b[0;32mwith\u001b[0m \u001b[0mconfig_context\u001b[0m\u001b[0;34m(\u001b[0m\u001b[0;34m**\u001b[0m\u001b[0mself\u001b[0m\u001b[0;34m.\u001b[0m\u001b[0mconfig\u001b[0m\u001b[0;34m)\u001b[0m\u001b[0;34m:\u001b[0m\u001b[0;34m\u001b[0m\u001b[0;34m\u001b[0m\u001b[0m\n\u001b[0;32m--> 216\u001b[0;31m             \u001b[0;32mreturn\u001b[0m \u001b[0mself\u001b[0m\u001b[0;34m.\u001b[0m\u001b[0mfunction\u001b[0m\u001b[0;34m(\u001b[0m\u001b[0;34m*\u001b[0m\u001b[0margs\u001b[0m\u001b[0;34m,\u001b[0m \u001b[0;34m**\u001b[0m\u001b[0mkwargs\u001b[0m\u001b[0;34m)\u001b[0m\u001b[0;34m\u001b[0m\u001b[0;34m\u001b[0m\u001b[0m\n\u001b[0m\u001b[1;32m    217\u001b[0m \u001b[0;34m\u001b[0m\u001b[0m\n\u001b[1;32m    218\u001b[0m \u001b[0;34m\u001b[0m\u001b[0m\n",
            "\u001b[0;32m/usr/local/lib/python3.7/dist-packages/sklearn/linear_model/_coordinate_descent.py\u001b[0m in \u001b[0;36m_path_residuals\u001b[0;34m(X, y, sample_weight, train, test, normalize, fit_intercept, path, path_params, alphas, l1_ratio, X_order, dtype)\u001b[0m\n\u001b[1;32m   1400\u001b[0m     \u001b[0;31m# X is copied and a reference is kept here\u001b[0m\u001b[0;34m\u001b[0m\u001b[0;34m\u001b[0m\u001b[0;34m\u001b[0m\u001b[0m\n\u001b[1;32m   1401\u001b[0m     \u001b[0mX_train\u001b[0m \u001b[0;34m=\u001b[0m \u001b[0mcheck_array\u001b[0m\u001b[0;34m(\u001b[0m\u001b[0mX_train\u001b[0m\u001b[0;34m,\u001b[0m \u001b[0maccept_sparse\u001b[0m\u001b[0;34m=\u001b[0m\u001b[0;34m\"csc\"\u001b[0m\u001b[0;34m,\u001b[0m \u001b[0mdtype\u001b[0m\u001b[0;34m=\u001b[0m\u001b[0mdtype\u001b[0m\u001b[0;34m,\u001b[0m \u001b[0morder\u001b[0m\u001b[0;34m=\u001b[0m\u001b[0mX_order\u001b[0m\u001b[0;34m)\u001b[0m\u001b[0;34m\u001b[0m\u001b[0;34m\u001b[0m\u001b[0m\n\u001b[0;32m-> 1402\u001b[0;31m     \u001b[0malphas\u001b[0m\u001b[0;34m,\u001b[0m \u001b[0mcoefs\u001b[0m\u001b[0;34m,\u001b[0m \u001b[0m_\u001b[0m \u001b[0;34m=\u001b[0m \u001b[0mpath\u001b[0m\u001b[0;34m(\u001b[0m\u001b[0mX_train\u001b[0m\u001b[0;34m,\u001b[0m \u001b[0my_train\u001b[0m\u001b[0;34m,\u001b[0m \u001b[0;34m**\u001b[0m\u001b[0mpath_params\u001b[0m\u001b[0;34m)\u001b[0m\u001b[0;34m\u001b[0m\u001b[0;34m\u001b[0m\u001b[0m\n\u001b[0m\u001b[1;32m   1403\u001b[0m     \u001b[0;32mdel\u001b[0m \u001b[0mX_train\u001b[0m\u001b[0;34m,\u001b[0m \u001b[0my_train\u001b[0m\u001b[0;34m\u001b[0m\u001b[0;34m\u001b[0m\u001b[0m\n\u001b[1;32m   1404\u001b[0m \u001b[0;34m\u001b[0m\u001b[0m\n",
            "\u001b[0;32m/usr/local/lib/python3.7/dist-packages/sklearn/linear_model/_coordinate_descent.py\u001b[0m in \u001b[0;36menet_path\u001b[0;34m(X, y, l1_ratio, eps, n_alphas, alphas, precompute, Xy, copy_X, coef_init, verbose, return_n_iter, positive, check_input, **params)\u001b[0m\n\u001b[1;32m    646\u001b[0m         \u001b[0;32melif\u001b[0m \u001b[0mprecompute\u001b[0m \u001b[0;32mis\u001b[0m \u001b[0;32mFalse\u001b[0m\u001b[0;34m:\u001b[0m\u001b[0;34m\u001b[0m\u001b[0;34m\u001b[0m\u001b[0m\n\u001b[1;32m    647\u001b[0m             model = cd_fast.enet_coordinate_descent(\n\u001b[0;32m--> 648\u001b[0;31m                 \u001b[0mcoef_\u001b[0m\u001b[0;34m,\u001b[0m \u001b[0ml1_reg\u001b[0m\u001b[0;34m,\u001b[0m \u001b[0ml2_reg\u001b[0m\u001b[0;34m,\u001b[0m \u001b[0mX\u001b[0m\u001b[0;34m,\u001b[0m \u001b[0my\u001b[0m\u001b[0;34m,\u001b[0m \u001b[0mmax_iter\u001b[0m\u001b[0;34m,\u001b[0m \u001b[0mtol\u001b[0m\u001b[0;34m,\u001b[0m \u001b[0mrng\u001b[0m\u001b[0;34m,\u001b[0m \u001b[0mrandom\u001b[0m\u001b[0;34m,\u001b[0m \u001b[0mpositive\u001b[0m\u001b[0;34m\u001b[0m\u001b[0;34m\u001b[0m\u001b[0m\n\u001b[0m\u001b[1;32m    649\u001b[0m             )\n\u001b[1;32m    650\u001b[0m         \u001b[0;32melse\u001b[0m\u001b[0;34m:\u001b[0m\u001b[0;34m\u001b[0m\u001b[0;34m\u001b[0m\u001b[0m\n",
            "\u001b[0;31mKeyboardInterrupt\u001b[0m: "
          ]
        }
      ],
      "source": [
        "from sklearn.model_selection import StratifiedKFold\n",
        "\n",
        "skf = StratifiedKFold(n_splits = 5, shuffle=True, random_state=17042020)\n",
        "\n",
        "for analysis_package in [(df_age, 'rating.mean_age'), (df_gender, 'rating.mean_gender'), (df_polarity, 'rating.mean_valence')]:\n",
        "  df = analysis_package[0]\n",
        "  rating = analysis_package[1]\n",
        "  for train_index, test_index in skf.split(df, df[['name_type']]):\n",
        "    x_train_unfasttexted = df.iloc[train_index]\n",
        "    x_test_unfasttexted = df.iloc[test_index]\n",
        "\n",
        "\n",
        "    y_train = df.iloc[train_index][rating]\n",
        "    y_test = df.iloc[test_index][rating]\n",
        "\n",
        "    x_train = fasttext_xifyer(x_train_unfasttexted)\n",
        "    x_train_formless = fasttext_xifyer_formless(x_train_unfasttexted)\n",
        "\n",
        "    x_test = fasttext_xifyer(x_test_unfasttexted)\n",
        "    x_test_formless = fasttext_xifyer(x_test_unfasttexted)\n",
        "\n",
        "\n",
        "    elasticnetifyer(x_train, y_train, x_test, y_test, df)\n",
        "    elasticnetifyer(x_train_formless, y_train, x_test_formless, y_test, df)"
      ]
    },
    {
      "cell_type": "code",
      "source": [
        ""
      ],
      "metadata": {
        "id": "3lvp1EZrcdhy"
      },
      "id": "3lvp1EZrcdhy",
      "execution_count": null,
      "outputs": []
    }
  ],
  "metadata": {
    "kernelspec": {
      "display_name": "Python 3",
      "language": "python",
      "name": "python3"
    },
    "language_info": {
      "codemirror_mode": {
        "name": "ipython",
        "version": 3
      },
      "file_extension": ".py",
      "mimetype": "text/x-python",
      "name": "python",
      "nbconvert_exporter": "python",
      "pygments_lexer": "ipython3",
      "version": "3.7.4"
    },
    "colab": {
      "name": "ElasticNet.ipynb",
      "provenance": []
    }
  },
  "nbformat": 4,
  "nbformat_minor": 5
}