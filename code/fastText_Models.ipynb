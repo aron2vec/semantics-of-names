{
  "cells": [
    {
      "cell_type": "markdown",
      "metadata": {
        "id": "view-in-github",
        "colab_type": "text"
      },
      "source": [
        "<a href=\"https://colab.research.google.com/github/aron2vec/semantics-of-names/blob/main/fastText_Models.ipynb\" target=\"_parent\"><img src=\"https://colab.research.google.com/assets/colab-badge.svg\" alt=\"Open In Colab\"/></a>"
      ]
    },
    {
      "cell_type": "code",
      "execution_count": null,
      "id": "153a6852-1505-487f-8b59-37b75671eda7",
      "metadata": {
        "id": "153a6852-1505-487f-8b59-37b75671eda7"
      },
      "outputs": [],
      "source": [
        "import fasttext\n",
        "\n",
        "path = \"D:/Tilburg University/2021-2022/Thesis/Coca/\"\n",
        "model_path = path + \"models/\""
      ]
    },
    {
      "cell_type": "code",
      "execution_count": null,
      "id": "8ab0fdac-b26c-4770-9260-8371d98e2ccf",
      "metadata": {
        "id": "8ab0fdac-b26c-4770-9260-8371d98e2ccf"
      },
      "outputs": [],
      "source": [
        "import fasttext.util\n",
        "fasttext.util.download_model('en', if_exists='ignore')  # English\n",
        "ft = fasttext.load_model('cc.en.300.bin')\n",
        "ft.save_model(model_path + \"pretrained_model.bin\")"
      ]
    },
    {
      "cell_type": "code",
      "execution_count": null,
      "id": "1728e56e-b742-40b2-95ae-de8a8d88466b",
      "metadata": {
        "id": "1728e56e-b742-40b2-95ae-de8a8d88466b"
      },
      "outputs": [],
      "source": [
        "#$ git clone https://github.com/facebookresearch/fastText.git\n",
        "#$ cd fastText\n",
        "#$ make"
      ]
    },
    {
      "cell_type": "code",
      "execution_count": null,
      "id": "ef9333df-fbbd-41bf-87b2-664437f9054a",
      "metadata": {
        "id": "ef9333df-fbbd-41bf-87b2-664437f9054a"
      },
      "outputs": [],
      "source": [
        "def fasttext_tuner(data_type, dimensionality = 300, window_size = 5, min_n = 3, max_n = 6):\n",
        "    model = fasttext.train_unsupervised(input = path + \"cleaned_\" + data_type + \"_corpus_complete_without_p_s_m.txt\",\n",
        "                                      model = \"skipgram\",\n",
        "                                      dim = dimensionality, \n",
        "                                      ws = window_size, \n",
        "                                      minn = min_n,\n",
        "                                      maxn = max_n)\n",
        "  \n",
        "    print(data_type + \"_dim\" + str(dimensionality) + \"_ws\" + str(window_size) + \n",
        "        \"_minn\" + str(min_n) + \"_maxn\" + str(max_n))\n",
        "    \n",
        "    model.save_model(model_path + data_type + \"_dim\" + str(dimensionality) + \n",
        "                    \"_ws\" + str(window_size) + \"_minn\" + str(min_n) + \n",
        "                    \"_maxn\" + str(max_n) + \".bin\")\n",
        "  \n"
      ]
    },
    {
      "cell_type": "code",
      "execution_count": null,
      "id": "0e9ec1c0-d73e-4102-9051-4a181398d816",
      "metadata": {
        "id": "0e9ec1c0-d73e-4102-9051-4a181398d816"
      },
      "outputs": [],
      "source": [
        "# cd ../\n",
        "# cd ./word-embeddings-benchmarks/scripts/\n"
      ]
    },
    {
      "cell_type": "code",
      "execution_count": null,
      "id": "9313c75e-0caf-4fd1-bb67-a5be83a1c1fa",
      "metadata": {
        "id": "9313c75e-0caf-4fd1-bb67-a5be83a1c1fa"
      },
      "outputs": [],
      "source": [
        "fasttext_tuner(\"sentenced\") \n",
        "\n",
        "#$ mkdir result\n",
        "#./fasttext skipgram -input D:/Tilburg\\ University/2021-2022/Thesis/Coca/cleaned_sentenced_corpus_complete_without_p_s_m.txt -output D:/Tilburg\\ University/2021-2022/Thesis/Coca/models/sentenced_dim300_ws5_minn3_maxn6.bin -minn 3 -maxn 6 -dim 300 -ws 5 -verbose 3\n",
        "\n",
        "## WEB Evaluation\n",
        "#./evaluate_on_all.py D:/Tilburg\\ University/2021-2022/Thesis/Coca/models/sentenced_dim300_ws5_minn3_maxn6.bin -o D:/Tilburg\\ University/2021-2022/Thesis/Coca/models/sentenced_dim300_ws5_minn3_maxn6.csv\n"
      ]
    },
    {
      "cell_type": "code",
      "execution_count": null,
      "id": "d1424bb1-47a2-4cb7-972b-70faf2a8a88e",
      "metadata": {
        "id": "d1424bb1-47a2-4cb7-972b-70faf2a8a88e",
        "outputId": "d49665c1-ed9d-4a92-e6e8-efbdfe9fa36a"
      },
      "outputs": [
        {
          "name": "stdout",
          "output_type": "stream",
          "text": [
            "unsentenced_dim300_ws5_minn3_maxn6\n"
          ]
        }
      ],
      "source": [
        "fasttext_tuner(\"unsentenced\")\n",
        "\n",
        "#./fasttext skipgram -input D:/Tilburg\\ University/2021-2022/Thesis/Coca/cleaned_unsentenced_corpus_complete_without_p_s_m.txt -output D:/Tilburg\\ University/2021-2022/Thesis/Coca/models/unsentenced_dim300_ws5_minn3_maxn6.bin -minn 3 -maxn 6 -dim 300 -ws 5 -verbose 3\n",
        "\n",
        "# ./evaluate_on_all.py D:/Tilburg\\ University/2021-2022/Thesis/Coca/models/unsentenced_dim300_ws5_minn3_maxn6.bin -o D:/Tilburg\\ University/2021-2022/Thesis/Coca/models/unsentenced_dim300_ws5_minn3_maxn6.csv"
      ]
    },
    {
      "cell_type": "code",
      "execution_count": null,
      "id": "9a354d6a-dfcc-4a03-8b95-839b19919413",
      "metadata": {
        "id": "9a354d6a-dfcc-4a03-8b95-839b19919413",
        "outputId": "95ad124c-3246-4d61-fbc2-0885c8f7af2d"
      },
      "outputs": [
        {
          "name": "stdout",
          "output_type": "stream",
          "text": [
            "sentenced_dim100_ws5_minn3_maxn6\n"
          ]
        }
      ],
      "source": [
        "fasttext_tuner(data_type = \"sentenced\", dimensionality = 100)\n",
        "#\n",
        "#./fasttext skipgram -input D:/Tilburg\\ University/2021-2022/Thesis/Coca/cleaned_sentenced_corpus_complete_without_p_s_m.txt -output D:/Tilburg\\ University/2021-2022/Thesis/Coca/models/sentenced_dim100_ws5_minn3_maxn6.bin -minn 3 -maxn 6 -dim 100 -ws 5 -verbose 3\n",
        "\n",
        "# ./evaluate_on_all.py D:/Tilburg\\ University/2021-2022/Thesis/Coca/models/sentenced_dim100_ws5_minn3_maxn6.bin -o D:/Tilburg\\ University/2021-2022/Thesis/Coca/models/sentenced_dim100_ws5_minn3_maxn6.csv"
      ]
    },
    {
      "cell_type": "code",
      "execution_count": null,
      "id": "ad269c4d-2104-4e81-81e7-570b46a54fe3",
      "metadata": {
        "id": "ad269c4d-2104-4e81-81e7-570b46a54fe3",
        "outputId": "17839d4c-4ccd-4b8f-948b-ac0a53c7f804"
      },
      "outputs": [
        {
          "name": "stdout",
          "output_type": "stream",
          "text": [
            "unsentenced_dim100_ws5_minn3_maxn6\n"
          ]
        }
      ],
      "source": [
        "fasttext_tuner(data_type = \"unsentenced\", dimensionality = 100)\n",
        "#\n",
        "#./fasttext skipgram -input D:/Tilburg\\ University/2021-2022/Thesis/Coca/cleaned_unsentenced_corpus_complete_without_p_s_m.txt -output D:/Tilburg\\ University/2021-2022/Thesis/Coca/models/unsentenced_dim100_ws5_minn3_maxn6.bin -minn 3 -maxn 6 -dim 100 -ws 5 -verbose 3\n",
        "\n",
        "# ./evaluate_on_all.py D:/Tilburg\\ University/2021-2022/Thesis/Coca/models/unsentenced_dim100_ws5_minn3_maxn6.bin -o D:/Tilburg\\ University/2021-2022/Thesis/Coca/models/unsentenced_dim100_ws5_minn3_maxn6.csv"
      ]
    },
    {
      "cell_type": "code",
      "execution_count": null,
      "id": "0e7c4f7e-52b4-4367-b135-0bf164862c9f",
      "metadata": {
        "id": "0e7c4f7e-52b4-4367-b135-0bf164862c9f",
        "outputId": "bed6d3b5-3966-4f1d-8a99-424b43847bf6"
      },
      "outputs": [
        {
          "name": "stdout",
          "output_type": "stream",
          "text": [
            "sentenced_dim100_ws5_minn2_maxn6\n"
          ]
        }
      ],
      "source": [
        "fasttext_tuner(data_type = \"sentenced\", dimensionality = 100, min_n = 2)\n",
        "\n",
        "# ./evaluate_on_all.py D:/Tilburg\\ University/2021-2022/Thesis/Coca/models/sentenced_dim100_ws5_minn2_maxn6.bin -o D:/Tilburg\\ University/2021-2022/Thesis/Coca/models/sentenced_dim100_ws5_minn2_maxn6.csv"
      ]
    },
    {
      "cell_type": "code",
      "execution_count": null,
      "id": "56983075-26ee-4472-873f-de0450554cae",
      "metadata": {
        "id": "56983075-26ee-4472-873f-de0450554cae",
        "outputId": "9df9953f-7149-44a0-f1de-7180eab200be"
      },
      "outputs": [
        {
          "name": "stdout",
          "output_type": "stream",
          "text": [
            "sentenced_dim300_ws5_minn2_maxn6\n"
          ]
        }
      ],
      "source": [
        "fasttext_tuner(data_type = \"sentenced\", dimensionality = 300, min_n = 2)\n",
        "\n",
        "# ./evaluate_on_all.py D:/Tilburg\\ University/2021-2022/Thesis/Coca/models/sentenced_dim300_ws5_minn2_maxn6.bin -o D:/Tilburg\\ University/2021-2022/Thesis/Coca/models/sentenced_dim300_ws5_minn2_maxn6.csv"
      ]
    },
    {
      "cell_type": "code",
      "execution_count": null,
      "id": "7bdd6548-5662-4aa2-83ff-fe393d6b72cc",
      "metadata": {
        "id": "7bdd6548-5662-4aa2-83ff-fe393d6b72cc",
        "outputId": "745ca9b8-8a29-4887-b727-4a727635322f"
      },
      "outputs": [
        {
          "name": "stdout",
          "output_type": "stream",
          "text": [
            "sentenced_dim100_ws5_minn1_maxn6\n"
          ]
        }
      ],
      "source": [
        "fasttext_tuner(data_type = \"sentenced\", dimensionality = 100, min_n = 1)\n",
        "\n",
        "# ./evaluate_on_all.py D:/Tilburg\\ University/2021-2022/Thesis/Coca/models/sentenced_dim100_ws5_minn1_maxn6.bin -o D:/Tilburg\\ University/2021-2022/Thesis/Coca/models/sentenced_dim100_ws5_minn1_maxn6.csv"
      ]
    },
    {
      "cell_type": "code",
      "execution_count": null,
      "id": "1b1a464c-20f3-4cab-b88d-16e6b96d0b28",
      "metadata": {
        "id": "1b1a464c-20f3-4cab-b88d-16e6b96d0b28"
      },
      "outputs": [],
      "source": [
        "def fasttext_tuner(data_type, dimensionality = 300, window_size = 5, min_n = 3, max_n = 6):                                                \n",
        "    for d in dimensionality:                                           \n",
        "        for ws in window_size:                                    \n",
        "            for minn in min_n:                                                 \n",
        "                for maxn in max_n:\n",
        "                    model = fasttext.train_unsupervised(input = path + \"cleaned_\" + data_type + \"_corpus_complete_without_p_s_m.txt\",\n",
        "                                                        model = \"skipgram\", dim = d, ws = ws, minn = minn, maxn = maxn)\n",
        "          \n",
        "                    model.save_model(model_path + data_type + \"_dim\" + str(d) + \"_ws\" + str(ws) + \"_minn\" + str(minn) + \"_maxn\" + str(maxn) + \".bin\")\n",
        "         \n",
        "                    print(data_type + \"_dim\" + str(d) + \"_ws\" + str(ws) + \"_minn\" + str(minn) + \"_maxn\" + str(maxn))\n",
        "                   \n",
        "                    del model"
      ]
    },
    {
      "cell_type": "code",
      "execution_count": null,
      "id": "e3770cf9-ffab-425d-9c4d-51e41377d994",
      "metadata": {
        "id": "e3770cf9-ffab-425d-9c4d-51e41377d994",
        "outputId": "0749addf-0bfa-4add-bf1d-86fa90d1e62b"
      },
      "outputs": [
        {
          "name": "stdout",
          "output_type": "stream",
          "text": [
            "sentenced_dim100_ws2_minn2_maxn3\n"
          ]
        }
      ],
      "source": [
        "fasttext_tuner(\"sentenced\", [100], [2], [2], [3])"
      ]
    },
    {
      "cell_type": "code",
      "execution_count": null,
      "id": "106198e6-8c80-4e3a-ba05-4c5a8e22fa96",
      "metadata": {
        "id": "106198e6-8c80-4e3a-ba05-4c5a8e22fa96",
        "outputId": "229e451f-42c0-4551-f559-90dadecf849c"
      },
      "outputs": [
        {
          "name": "stdout",
          "output_type": "stream",
          "text": [
            "sentenced_dim100_ws2_minn2_maxn6\n",
            "sentenced_dim100_ws3_minn2_maxn6\n",
            "sentenced_dim100_ws4_minn2_maxn6\n",
            "sentenced_dim100_ws6_minn2_maxn6\n",
            "sentenced_dim100_ws7_minn2_maxn6\n"
          ]
        }
      ],
      "source": [
        "fasttext_tuner(\"sentenced\", [100], [2, 3, 4, 6, 7], [2], [6])"
      ]
    },
    {
      "cell_type": "code",
      "execution_count": null,
      "id": "2d15a5ab-51f5-4391-b4f9-d9f93915b003",
      "metadata": {
        "id": "2d15a5ab-51f5-4391-b4f9-d9f93915b003",
        "outputId": "7a90ec9d-1bdb-4993-82a2-8d7ba5fcb6b9"
      },
      "outputs": [
        {
          "name": "stdout",
          "output_type": "stream",
          "text": [
            "sentenced_dim100_ws2_minn2_maxn7\n",
            "sentenced_dim100_ws3_minn2_maxn7\n",
            "sentenced_dim100_ws4_minn2_maxn7\n",
            "sentenced_dim100_ws6_minn2_maxn7\n",
            "sentenced_dim100_ws7_minn2_maxn7\n"
          ]
        }
      ],
      "source": [
        "fasttext_tuner(\"sentenced\", [100], [2, 3, 4, 6, 7], [2], [7])"
      ]
    },
    {
      "cell_type": "code",
      "execution_count": null,
      "id": "c421d371-83d9-473c-8f70-98b11c78d684",
      "metadata": {
        "id": "c421d371-83d9-473c-8f70-98b11c78d684",
        "outputId": "b21c4b74-9c5b-4c66-a8fc-c67aef6938bd"
      },
      "outputs": [
        {
          "name": "stdout",
          "output_type": "stream",
          "text": [
            "sentenced_dim100_ws5_minn2_maxn7\n"
          ]
        }
      ],
      "source": [
        "fasttext_tuner(\"sentenced\", [100], [5], [2], [7])"
      ]
    },
    {
      "cell_type": "code",
      "execution_count": null,
      "id": "adea1200-4901-44fb-a241-07f938d85fd4",
      "metadata": {
        "id": "adea1200-4901-44fb-a241-07f938d85fd4",
        "outputId": "a0a8ca7f-c31f-4545-c0ef-d66a2a9901dc"
      },
      "outputs": [
        {
          "name": "stdout",
          "output_type": "stream",
          "text": [
            "sentenced_dim100_ws2_minn2_maxn5\n",
            "sentenced_dim100_ws3_minn2_maxn5\n",
            "sentenced_dim100_ws4_minn2_maxn5\n",
            "sentenced_dim100_ws5_minn2_maxn5\n",
            "sentenced_dim100_ws6_minn2_maxn5\n",
            "sentenced_dim100_ws7_minn2_maxn5\n"
          ]
        }
      ],
      "source": [
        "fasttext_tuner(\"sentenced\", [100], [2, 3, 4, 5, 6, 7], [2], [5])"
      ]
    },
    {
      "cell_type": "code",
      "execution_count": null,
      "id": "a888373e-9c2f-4e3a-9818-5fd6060fe9da",
      "metadata": {
        "id": "a888373e-9c2f-4e3a-9818-5fd6060fe9da",
        "outputId": "992e75fb-8680-4307-8d2b-21421851d387"
      },
      "outputs": [
        {
          "name": "stdout",
          "output_type": "stream",
          "text": [
            "sentenced_dim300_ws3_minn2_maxn5\n",
            "sentenced_dim300_ws3_minn2_maxn6\n",
            "sentenced_dim300_ws3_minn2_maxn7\n",
            "sentenced_dim300_ws4_minn2_maxn5\n",
            "sentenced_dim300_ws4_minn2_maxn6\n"
          ]
        }
      ],
      "source": [
        "fasttext_tuner(\"sentenced\", [300], [3], [2], [5, 6, 7])\n",
        "fasttext_tuner(\"sentenced\", [300], [4], [2], [5, 6])"
      ]
    },
    {
      "cell_type": "code",
      "execution_count": null,
      "id": "a1fade10-e47b-4981-b0b1-a0fccae005cd",
      "metadata": {
        "id": "a1fade10-e47b-4981-b0b1-a0fccae005cd",
        "outputId": "2234f591-23a5-46a0-bbd6-07c98350ac8b"
      },
      "outputs": [
        {
          "name": "stdout",
          "output_type": "stream",
          "text": [
            "sentenced_dim300_ws4_minn2_maxn7\n"
          ]
        }
      ],
      "source": [
        "fasttext_tuner(\"sentenced\", [300], [4], [2], [7])"
      ]
    },
    {
      "cell_type": "code",
      "execution_count": null,
      "id": "c8c78517-a941-4d65-bc0c-193730e043cb",
      "metadata": {
        "id": "c8c78517-a941-4d65-bc0c-193730e043cb",
        "outputId": "ffec2d2a-15b1-4985-d7a5-e03ddafe2f7c"
      },
      "outputs": [
        {
          "name": "stdout",
          "output_type": "stream",
          "text": [
            "sentenced_dim300_ws5_minn2_maxn5\n"
          ]
        }
      ],
      "source": [
        "fasttext_tuner(\"sentenced\", [300], [5], [2], [5])"
      ]
    },
    {
      "cell_type": "code",
      "execution_count": null,
      "id": "d363717e-933e-478b-af83-0f039181c075",
      "metadata": {
        "id": "d363717e-933e-478b-af83-0f039181c075",
        "outputId": "25b2c1f3-dead-48bc-bb10-e0b5bf66491d"
      },
      "outputs": [
        {
          "name": "stdout",
          "output_type": "stream",
          "text": [
            "sentenced_dim300_ws2_minn2_maxn5\n"
          ]
        }
      ],
      "source": [
        "fasttext_tuner(\"sentenced\", [300], [2], [2], [5])"
      ]
    },
    {
      "cell_type": "code",
      "execution_count": null,
      "id": "e37528f2-4b58-418d-bcfe-6d26faff1150",
      "metadata": {
        "id": "e37528f2-4b58-418d-bcfe-6d26faff1150",
        "outputId": "1f200b7f-b89f-4252-d391-96da36735137"
      },
      "outputs": [
        {
          "name": "stdout",
          "output_type": "stream",
          "text": [
            "sentenced_dim300_ws3_minn3_maxn5\n"
          ]
        }
      ],
      "source": [
        "fasttext_tuner(\"sentenced\", [300], [3], [3], [5])"
      ]
    },
    {
      "cell_type": "code",
      "execution_count": null,
      "id": "7782c40a-3a56-4b7b-8383-135dd589740a",
      "metadata": {
        "id": "7782c40a-3a56-4b7b-8383-135dd589740a",
        "outputId": "55dbd6ad-07df-4a67-8b8a-7c8cab1a8863"
      },
      "outputs": [
        {
          "name": "stdout",
          "output_type": "stream",
          "text": [
            "sentenced_dim300_ws3_minn2_maxn4\n"
          ]
        }
      ],
      "source": [
        "fasttext_tuner(\"sentenced\", [300], [3], [2], [4])"
      ]
    },
    {
      "cell_type": "code",
      "execution_count": null,
      "id": "54956c6b-e450-46a8-8547-6f1090f79e80",
      "metadata": {
        "id": "54956c6b-e450-46a8-8547-6f1090f79e80",
        "outputId": "2a08d1f8-2355-4009-9580-90983fbfcea2"
      },
      "outputs": [
        {
          "name": "stdout",
          "output_type": "stream",
          "text": [
            "sentenced_dim300_ws7_minn2_maxn5\n"
          ]
        }
      ],
      "source": [
        "fasttext_tuner(\"sentenced\", [300], [7], [2], [5])"
      ]
    },
    {
      "cell_type": "code",
      "execution_count": null,
      "id": "23cca0e9-516c-4a09-96d2-3af0344d7e68",
      "metadata": {
        "id": "23cca0e9-516c-4a09-96d2-3af0344d7e68",
        "outputId": "fe95381d-6666-4e4a-f336-5389aec027fb"
      },
      "outputs": [
        {
          "name": "stdout",
          "output_type": "stream",
          "text": [
            "sentenced_dim300_ws6_minn2_maxn5\n"
          ]
        }
      ],
      "source": [
        "fasttext_tuner(\"sentenced\", [300], [6], [2], [5])"
      ]
    },
    {
      "cell_type": "code",
      "execution_count": null,
      "id": "2dc623af-ba7c-49c4-a53a-55c032eb52e4",
      "metadata": {
        "id": "2dc623af-ba7c-49c4-a53a-55c032eb52e4"
      },
      "outputs": [],
      "source": [
        ""
      ]
    }
  ],
  "metadata": {
    "kernelspec": {
      "display_name": "Python 3",
      "language": "python",
      "name": "python3"
    },
    "language_info": {
      "codemirror_mode": {
        "name": "ipython",
        "version": 3
      },
      "file_extension": ".py",
      "mimetype": "text/x-python",
      "name": "python",
      "nbconvert_exporter": "python",
      "pygments_lexer": "ipython3",
      "version": "3.7.4"
    },
    "colab": {
      "name": "fastText Models.ipynb",
      "provenance": [],
      "include_colab_link": true
    }
  },
  "nbformat": 4,
  "nbformat_minor": 5
}
