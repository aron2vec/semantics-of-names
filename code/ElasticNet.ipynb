{
  "cells": [
    {
      "cell_type": "code",
      "source": [
        "!pip install fasttext"
      ],
      "metadata": {
        "id": "gvlKyGJBrVPl"
      },
      "id": "gvlKyGJBrVPl",
      "execution_count": null,
      "outputs": []
    },
    {
      "cell_type": "code",
      "execution_count": 25,
      "id": "8b3cd47c-eeee-49a5-b99c-0b6ab8dbbe25",
      "metadata": {
        "id": "8b3cd47c-eeee-49a5-b99c-0b6ab8dbbe25"
      },
      "outputs": [],
      "source": [
        "from numpy import mean\n",
        "from numpy import std\n",
        "from numpy import absolute\n",
        "from pandas import read_csv\n",
        "import pandas as pd\n",
        "import numpy as np\n",
        "import sklearn\n",
        "from sklearn.model_selection import cross_val_score, RepeatedKFold, train_test_split, StratifiedKFold\n",
        "from sklearn.linear_model import ElasticNetCV\n",
        "import fasttext\n",
        "\n",
        "#path = \"D:/Tilburg University/2021-2022/Thesis/Coca/\"\n",
        "#model_path = path + \"models/\"\n",
        "\n",
        "#model = fasttext.load_model(model_path + \"sentenced_dim300_ws2_minn2_maxn5.bin\")"
      ]
    },
    {
      "cell_type": "code",
      "source": [
        "## When working in colab:\n",
        "from google.colab import drive\n",
        "\n",
        "drive.mount(\"/content/drive\", force_remount=True) \n",
        "\n",
        "model = fasttext.load_model(\"drive/MyDrive/Thesis/Data/fastText and others/sentenced_dim300_ws2_minn2_maxn5.bin\")"
      ],
      "metadata": {
        "colab": {
          "base_uri": "https://localhost:8080/"
        },
        "id": "RMMFcx0UBVvC",
        "outputId": "4cad3d50-46e5-4d4c-9c6e-522e6063c686"
      },
      "id": "RMMFcx0UBVvC",
      "execution_count": 21,
      "outputs": [
        {
          "output_type": "stream",
          "name": "stdout",
          "text": [
            "Mounted at /content/drive\n"
          ]
        },
        {
          "output_type": "stream",
          "name": "stderr",
          "text": [
            "Warning : `load_model` does not return WordVectorModel or SupervisedModel any more, but a `FastText` object which is very similar.\n"
          ]
        }
      ]
    },
    {
      "cell_type": "code",
      "execution_count": 15,
      "id": "3a18f809-0cbd-4964-8044-4b67bbbc456c",
      "metadata": {
        "id": "3a18f809-0cbd-4964-8044-4b67bbbc456c",
        "outputId": "b03d2681-e1c0-4e7c-c8ea-185e363e21f2",
        "colab": {
          "base_uri": "https://localhost:8080/"
        }
      },
      "outputs": [
        {
          "output_type": "stream",
          "name": "stdout",
          "text": [
            "119\n",
            "179\n",
            "63\n",
            "       name  rating.mean_age    age name_type\n",
            "0  Adelaide        -0.617647    old      real\n",
            "2  Alasdair        18.709677  young      real\n",
            "3   Alastor        13.812500    old    madeup\n",
            "4    Alecto         3.593750    old    madeup\n",
            "5     Alice       -13.969697  young      real 119\n",
            "       name  rating.mean_gender  gender name_type\n",
            "0  Adelaide           45.727273  female      real\n",
            "1   Adelina           47.771429  female      real\n",
            "2  Alasdair          -35.657143    male      real\n",
            "3   Alastor          -38.833333    male    madeup\n",
            "4    Alecto          -35.722222  female    madeup 179\n",
            "        name  rating.mean_valence polarity name_type\n",
            "1    Adelina            31.621622      bad      real\n",
            "7    Amabala             5.935484     good    madeup\n",
            "8      Apple            32.444444     good   talking\n",
            "11  Arcturus           -11.166667     good    madeup\n",
            "13   Arobynn             7.645161      bad    madeup 63\n"
          ]
        }
      ],
      "source": [
        "### Read CSV File and Delete Unimportant Columns\n",
        "#names_ratings = read_csv(\"D:/Tilburg University/2021-2022/Thesis/Data analyses/Giovanni Email Data/avgRatings_annotated.csv\")\n",
        "\n",
        "names_ratings = read_csv(\"drive/MyDrive/Thesis/Data/giovanni_email_data/avgRatings_annotated.csv\")\n",
        "\n",
        "#print(names_ratings.head())\n",
        "\n",
        "print(names_ratings['rating.mean_age'].notna().sum())\n",
        "print(names_ratings['rating.mean_gender'].notna().sum())\n",
        "print(names_ratings['rating.mean_valence'].notna().sum())\n",
        "\n",
        "df_age = names_ratings.loc[names_ratings['rating.mean_age'].notna(), ['name', 'rating.mean_age', 'age', 'name_type']]\n",
        "print(df_age.head(), len(df_age))\n",
        "\n",
        "df_gender = names_ratings.loc[names_ratings['rating.mean_gender'].notna(), ['name', 'rating.mean_gender', 'gender', 'name_type']]\n",
        "print(df_gender.head(), len(df_gender))\n",
        "\n",
        "df_polarity = names_ratings.loc[names_ratings['rating.mean_valence'].notna(), ['name', 'rating.mean_valence', 'polarity', 'name_type']]\n",
        "print(df_polarity.head(), len(df_polarity))"
      ]
    },
    {
      "cell_type": "code",
      "execution_count": 22,
      "id": "81ce89e5-06a4-45b0-a0b1-4837e28febac",
      "metadata": {
        "id": "81ce89e5-06a4-45b0-a0b1-4837e28febac",
        "outputId": "338a5b39-2962-4251-a8d4-316380a3ab73",
        "colab": {
          "base_uri": "https://localhost:8080/"
        }
      },
      "outputs": [
        {
          "output_type": "stream",
          "name": "stdout",
          "text": [
            "95 24 143 36 50 13\n"
          ]
        }
      ],
      "source": [
        "### Get repeatable train/test split with a seed\n",
        "\n",
        "def fasttext_xifyer(input_data):\n",
        "  df_output = np.zeros((len(input_data), 300))\n",
        "\n",
        "  i = 0\n",
        "\n",
        "  for row in input_data.iterrows():\n",
        "    index = row[0]\n",
        "    name = row[1][0].lower()\n",
        "    df_output[i] = model[name]\n",
        "    i += 1\n",
        "\n",
        "  return df_output\n",
        "\n",
        "################################################################################\n",
        "\n",
        "age_train, age_test = train_test_split(df_age, test_size=0.2, random_state=17042020,      ## First let's do age\n",
        "                               stratify=df_age[['age', 'name_type']])\n",
        "\n",
        "x_age_train = fasttext_xifyer(age_train)\n",
        "x_age_test = fasttext_xifyer(age_test)\n",
        "\n",
        "y_age_train = age_train['rating.mean_age']\n",
        "y_age_test = age_test['rating.mean_age']\n",
        "\n",
        "####################################################################################################################\n",
        "\n",
        "gen_train, gen_test = train_test_split(df_gender, test_size=0.2, random_state=17042020,     ## Now let's do gender\n",
        "                               stratify=df_gender[['gender', 'name_type']])\n",
        "\n",
        "x_gen_train = fasttext_xifyer(gen_train)\n",
        "x_gen_test = fasttext_xifyer(gen_test)\n",
        "\n",
        "\n",
        "y_gen_train = gen_train['rating.mean_gender']\n",
        "y_gen_test = gen_test['rating.mean_gender']\n",
        "\n",
        "\n",
        "####################################################################################################################\n",
        "\n",
        "pol_train, pol_test = train_test_split(df_polarity, test_size=0.2, random_state=17042020,    ## And lastly, polarity\n",
        "                               stratify=df_polarity[['polarity', 'name_type']])\n",
        "\n",
        "x_pol_train = fasttext_xifyer(pol_train)\n",
        "x_pol_test = fasttext_xifyer(pol_test)\n",
        "\n",
        "y_pol_train = pol_train['rating.mean_valence']\n",
        "y_pol_test = pol_test['rating.mean_valence']\n",
        "\n",
        "print(len(x_age_train), len(x_age_test), len(x_gen_train), len(x_gen_test), len(x_pol_train), len(x_pol_test))\n",
        "\n",
        "#del model"
      ]
    },
    {
      "cell_type": "code",
      "source": [
        "### Get repeatable train/test split with a seed, but without surface form\n",
        "\n",
        "def fasttext_xifyer_formless(input_data):\n",
        "  df_output = np.zeros((len(input_data), 300))\n",
        "\n",
        "  c = 0\n",
        "\n",
        "  for row in input_data.iterrows():\n",
        "    index = row[0]\n",
        "    name = row[1][0].lower()\n",
        "    if name == model.get_subwords(name)[0][0]:\n",
        "      wordarray = np.zeros((len(model.get_subwords(name)[0][1:]), 300))\n",
        "      for i, j in enumerate(model.get_subwords(name)[0][1:]):\n",
        "          wordarray[i] = model[j]\n",
        "      df_output[c] = np.mean(wordarray, axis = 0)\n",
        "    else:\n",
        "      df_output[c] = model[name]\n",
        "    c += 1\n",
        "\n",
        "  return df_output\n",
        "\n",
        "x_age_train_formless = fasttext_xifyer_formless(age_train)  \n",
        "x_age_test_formless = fasttext_xifyer_formless(age_test)\n",
        "\n",
        "####################################################################################################################\n",
        "\n",
        "x_gen_train_formless = fasttext_xifyer_formless(gen_train)\n",
        "x_gen_test_formless = fasttext_xifyer_formless(gen_test)\n",
        "\n",
        "\n",
        "\n",
        "####################################################################################################################\n",
        "\n",
        "\n",
        "x_pol_train_formless = fasttext_xifyer_formless(pol_train)\n",
        "x_pol_test_formless = fasttext_xifyer_formless(pol_test)\n",
        "\n",
        "print(len(x_age_train_formless), len(x_age_test_formless), len(x_gen_train_formless), len(x_gen_test_formless), len(x_pol_train_formless), len(x_pol_test_formless))\n",
        "\n",
        "#del model"
      ],
      "metadata": {
        "colab": {
          "base_uri": "https://localhost:8080/"
        },
        "id": "tAbHjci5sgvm",
        "outputId": "9cb1e943-c5df-4e6d-836a-d361b5bb6d4e"
      },
      "id": "tAbHjci5sgvm",
      "execution_count": 59,
      "outputs": [
        {
          "output_type": "stream",
          "name": "stdout",
          "text": [
            "95 24 143 36 50 13\n"
          ]
        }
      ]
    },
    {
      "cell_type": "code",
      "execution_count": null,
      "id": "fc46ca8b-cd6b-4de5-9def-8c0a1ac9c2db",
      "metadata": {
        "id": "fc46ca8b-cd6b-4de5-9def-8c0a1ac9c2db"
      },
      "outputs": [],
      "source": [
        "### Make a cross-validation loop testing a bunch of hyperparameters, all the while saving the outputs to a dict or something"
      ]
    },
    {
      "cell_type": "code",
      "execution_count": 97,
      "id": "68c41b5d-43b8-4a30-8636-ec9da122b3db",
      "metadata": {
        "id": "68c41b5d-43b8-4a30-8636-ec9da122b3db"
      },
      "outputs": [],
      "source": [
        "def elasticnetifyer(x_train, y_train, x_test, y_test, test_full):\n",
        "  regr = ElasticNetCV(l1_ratio = [0.01, 0.05, .1, 0.2, .5, .7, .9, .95, .99, 1], \n",
        "                      n_alphas = 250,\n",
        "                      max_iter = 10000,\n",
        "                      cv = len(x_train),\n",
        "                      selection = 'random', \n",
        "                      random_state=17042020,)\n",
        "\n",
        "  regr.fit(x_train, y_train)\n",
        "\n",
        "  alpha = regr.alpha_\n",
        "  l1_ratio = regr.l1_ratio_\n",
        "  n_iters = regr.n_iter_\n",
        "  intercept = regr.intercept_\n",
        "\n",
        "  mse_train = mean(regr.mse_path_)\n",
        "\n",
        "  mae_test = sklearn.metrics.mean_absolute_error(y_test, regr.predict(x_test))\n",
        "  mse_test = sklearn.metrics.mean_squared_error(y_test, regr.predict(x_test))\n",
        "\n",
        "  r2 = regr.score(x_test, y_test)\n",
        "\n",
        "  type_dict = {}\n",
        "  type_counter = {}\n",
        "  for n, i, j in zip(test_full['name_type'], y_test, x_test):\n",
        "      if n in type_dict.keys():\n",
        "          type_dict[n] = type_dict[n] + abs(i - regr.predict(j.reshape(1, -1)))\n",
        "          type_counter[n] = type_counter[n] + 1\n",
        "      else:\n",
        "          type_dict[n] = abs(i - regr.predict(j.reshape(1, -1)))\n",
        "          type_counter[n] = 1\n",
        "      \n",
        "  for i in type_dict.keys():\n",
        "    globals()[f\"mae_{i}\"] = float(type_dict[i])/float(type_counter[i])\n",
        "\n",
        "  mean_vec = np.mean(x_train, axis = 0)\n",
        "  mean_vec_array = np.full((len(x_test), 300), mean_vec)\n",
        "\n",
        "  mean_vec_mae_test = sklearn.metrics.mean_absolute_error(y_test, regr.predict(mean_vec_array))\n",
        "  mean_vec_mse_test = sklearn.metrics.mean_squared_error(y_test, regr.predict(mean_vec_array))\n",
        "\n",
        "  mean_vec_r2 = regr.score(mean_vec_array, y_test)\n",
        "\n",
        "  return alpha, l1_ratio, n_iters, intercept, mse_train, mae_test, mse_test, r2, mae_madeup, mae_real, mae_talking, mean_vec_mae_test, mean_vec_mse_test, mean_vec_r2"
      ]
    },
    {
      "cell_type": "markdown",
      "id": "909b7afd-517f-42a6-8fd2-d89aa025b213",
      "metadata": {
        "id": "909b7afd-517f-42a6-8fd2-d89aa025b213"
      },
      "source": [
        "### Testing ground for nested CV"
      ]
    },
    {
      "cell_type": "code",
      "execution_count": 99,
      "id": "8c20e16b-bfdd-42b7-82d8-642372b044ae",
      "metadata": {
        "id": "8c20e16b-bfdd-42b7-82d8-642372b044ae"
      },
      "outputs": [],
      "source": [
        "skf = StratifiedKFold(n_splits = 5, shuffle=True, random_state=17042020)\n",
        "\n",
        "def nested_cross_validator(df, rating, dictionary):\n",
        "  skf = StratifiedKFold(n_splits = 5, shuffle=True, random_state=17042020)\n",
        "\n",
        "  for train_index, test_index in skf.split(df, df[['name_type']]):\n",
        "    x_train_unfasttexted = df.iloc[train_index]\n",
        "    x_test_unfasttexted = df.iloc[test_index]\n",
        "\n",
        "\n",
        "    y_train = df.iloc[train_index][rating]\n",
        "    y_test = df.iloc[test_index][rating]\n",
        "\n",
        "    x_train = fasttext_xifyer(x_train_unfasttexted)\n",
        "    x_train_formless = fasttext_xifyer_formless(x_train_unfasttexted)\n",
        "\n",
        "    x_test = fasttext_xifyer(x_test_unfasttexted)\n",
        "    x_test_formless = fasttext_xifyer_formless(x_test_unfasttexted)\n",
        "\n",
        "\n",
        "    alpha, l1_ratio, n_iters, intercept, mse_train, mae_test, mse_test, r2, \\\n",
        "    mae_madeup, mae_real, mae_talking, mean_vec_mae_test, mean_vec_mse_test, \\\n",
        "    mean_vec_r2 = elasticnetifyer(x_train, y_train, x_test, y_test, df)\n",
        "    \n",
        "    dictionary['regular'].append([alpha, l1_ratio, n_iters, intercept, mse_train, \n",
        "                                  mae_test, mse_test, r2, mae_madeup, mae_real, \n",
        "                                  mae_talking, mean_vec_mae_test,\n",
        "                                  mean_vec_mse_test, mean_vec_r2])\n",
        "    \n",
        "    alpha_formless, l1_ratio_formless, n_iters_formless, intercept_formless, \\\n",
        "    mse_train_formless, mae_test_formless, mse_test_formless, r2_formless, \\\n",
        "    mae_madeup_formless, mae_real_formless, mae_talking_formless, \\\n",
        "    mean_vec_mae_test_formless, mean_vec_mse_test_formless, \\\n",
        "    mean_vec_r2_formless = elasticnetifyer(x_train_formless, y_train, x_test_formless, y_test, df)\n",
        "\n",
        "    dictionary['formless'].append([alpha_formless, l1_ratio_formless, n_iters_formless,\n",
        "                                   intercept_formless, mse_train_formless, \n",
        "                                   mae_test_formless, mse_test_formless, r2_formless,\n",
        "                                   mea_madeup_formless, mae_real_formless, mae_talking_formless, \n",
        "                                   mean_vec_mae_test_formless, mean_vec_mse_test_formless,\n",
        "                                   mean_vec_r2_formless])\n",
        "    "
      ]
    },
    {
      "cell_type": "code",
      "source": [
        "age_dict = {'regular' : [], 'formless' : []}\n",
        "\n",
        "nested_cross_validator(df_age, 'rating.mean_age', age_dict)"
      ],
      "metadata": {
        "id": "oMqEfiw3sYhR"
      },
      "id": "oMqEfiw3sYhR",
      "execution_count": null,
      "outputs": []
    },
    {
      "cell_type": "code",
      "source": [
        "print(age_dict)"
      ],
      "metadata": {
        "id": "60eY426SPECv"
      },
      "id": "60eY426SPECv",
      "execution_count": null,
      "outputs": []
    },
    {
      "cell_type": "code",
      "source": [
        "gender_dict = {'regular' : [], 'formless' : []}\n",
        "\n",
        "nested_cross_validator(df_gender, 'rating.mean_gender', gender_dict)"
      ],
      "metadata": {
        "id": "x-7R8tYxOvvP"
      },
      "id": "x-7R8tYxOvvP",
      "execution_count": null,
      "outputs": []
    },
    {
      "cell_type": "code",
      "source": [
        "polarity_dict = {'regular' : [], 'formless' : []}\n",
        "\n",
        "nested_cross_validator(df_polarity, 'rating.mean_valence', polarity_dict)"
      ],
      "metadata": {
        "id": "W2EcKTE2O1gN"
      },
      "id": "W2EcKTE2O1gN",
      "execution_count": null,
      "outputs": []
    },
    {
      "cell_type": "code",
      "source": [
        ""
      ],
      "metadata": {
        "id": "PWHdLoSsn0-Y"
      },
      "id": "PWHdLoSsn0-Y",
      "execution_count": null,
      "outputs": []
    }
  ],
  "metadata": {
    "kernelspec": {
      "display_name": "Python 3",
      "language": "python",
      "name": "python3"
    },
    "language_info": {
      "codemirror_mode": {
        "name": "ipython",
        "version": 3
      },
      "file_extension": ".py",
      "mimetype": "text/x-python",
      "name": "python",
      "nbconvert_exporter": "python",
      "pygments_lexer": "ipython3",
      "version": "3.7.4"
    },
    "colab": {
      "name": "ElasticNet.ipynb",
      "provenance": []
    }
  },
  "nbformat": 4,
  "nbformat_minor": 5
}