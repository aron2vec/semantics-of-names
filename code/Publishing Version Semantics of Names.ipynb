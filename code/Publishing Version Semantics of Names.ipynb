{
  "cells": [
    {
      "cell_type": "markdown",
      "id": "22531ca9-e756-46d1-b70a-3e471d5c92a8",
      "metadata": {
        "id": "22531ca9-e756-46d1-b70a-3e471d5c92a8"
      },
      "source": [
        "# Publishing Version of my Master's Thesis on the Semantics of (made-up) Names\n",
        "<br>\n",
        "\n",
        "\n",
        "### Author: Aron Joosse\n",
        "### Supervisor: Giovanni Cassani\n",
        "### Institution: Tilburg University\n",
        "### Grade Acquired: 9"
      ]
    },
    {
      "cell_type": "markdown",
      "id": "6549cc30-115e-4d41-a905-85e232d32540",
      "metadata": {
        "id": "6549cc30-115e-4d41-a905-85e232d32540"
      },
      "source": [
        "# Library Imports"
      ]
    },
    {
      "cell_type": "code",
      "source": [
        "!pip install fasttext --progress-bar off\n",
        "!pip install -U spacy --progress-bar off\n",
        "!python -m spacy download en_core_web_sm\n",
        "!pip install keras"
      ],
      "metadata": {
        "colab": {
          "base_uri": "https://localhost:8080/"
        },
        "id": "cp-pI6xvDejd",
        "outputId": "c6688e59-48ec-48b5-9d54-f3306a097cc7"
      },
      "id": "cp-pI6xvDejd",
      "execution_count": 1,
      "outputs": [
        {
          "output_type": "stream",
          "name": "stdout",
          "text": [
            "Looking in indexes: https://pypi.org/simple, https://us-python.pkg.dev/colab-wheels/public/simple/\n",
            "Collecting fasttext\n",
            "  Downloading fasttext-0.9.2.tar.gz (68 kB)\n",
            "\u001b[?25l\n",
            "\u001b[?25hCollecting pybind11>=2.2\n",
            "  Using cached pybind11-2.10.0-py3-none-any.whl (213 kB)\n",
            "Requirement already satisfied: setuptools>=0.7.0 in /usr/local/lib/python3.7/dist-packages (from fasttext) (57.4.0)\n",
            "Requirement already satisfied: numpy in /usr/local/lib/python3.7/dist-packages (from fasttext) (1.21.6)\n",
            "Building wheels for collected packages: fasttext\n",
            "  Building wheel for fasttext (setup.py) ... \u001b[?25l\u001b[?25hdone\n",
            "  Created wheel for fasttext: filename=fasttext-0.9.2-cp37-cp37m-linux_x86_64.whl size=3165344 sha256=255e610eae237f605547674c142bee1e25a45d79c174a31f4366228a14c3d2fa\n",
            "  Stored in directory: /root/.cache/pip/wheels/4e/ca/bf/b020d2be95f7641801a6597a29c8f4f19e38f9c02a345bab9b\n",
            "Successfully built fasttext\n",
            "Installing collected packages: pybind11, fasttext\n",
            "Successfully installed fasttext-0.9.2 pybind11-2.10.0\n",
            "Looking in indexes: https://pypi.org/simple, https://us-python.pkg.dev/colab-wheels/public/simple/\n",
            "Requirement already satisfied: spacy in /usr/local/lib/python3.7/dist-packages (3.4.1)\n",
            "Requirement already satisfied: cymem<2.1.0,>=2.0.2 in /usr/local/lib/python3.7/dist-packages (from spacy) (2.0.6)\n",
            "Requirement already satisfied: requests<3.0.0,>=2.13.0 in /usr/local/lib/python3.7/dist-packages (from spacy) (2.23.0)\n",
            "Requirement already satisfied: wasabi<1.1.0,>=0.9.1 in /usr/local/lib/python3.7/dist-packages (from spacy) (0.10.1)\n",
            "Requirement already satisfied: langcodes<4.0.0,>=3.2.0 in /usr/local/lib/python3.7/dist-packages (from spacy) (3.3.0)\n",
            "Requirement already satisfied: typer<0.5.0,>=0.3.0 in /usr/local/lib/python3.7/dist-packages (from spacy) (0.4.2)\n",
            "Requirement already satisfied: pydantic!=1.8,!=1.8.1,<1.10.0,>=1.7.4 in /usr/local/lib/python3.7/dist-packages (from spacy) (1.9.2)\n",
            "Requirement already satisfied: numpy>=1.15.0 in /usr/local/lib/python3.7/dist-packages (from spacy) (1.21.6)\n",
            "Requirement already satisfied: jinja2 in /usr/local/lib/python3.7/dist-packages (from spacy) (2.11.3)\n",
            "Requirement already satisfied: setuptools in /usr/local/lib/python3.7/dist-packages (from spacy) (57.4.0)\n",
            "Requirement already satisfied: spacy-legacy<3.1.0,>=3.0.9 in /usr/local/lib/python3.7/dist-packages (from spacy) (3.0.10)\n",
            "Requirement already satisfied: murmurhash<1.1.0,>=0.28.0 in /usr/local/lib/python3.7/dist-packages (from spacy) (1.0.8)\n",
            "Requirement already satisfied: packaging>=20.0 in /usr/local/lib/python3.7/dist-packages (from spacy) (21.3)\n",
            "Requirement already satisfied: preshed<3.1.0,>=3.0.2 in /usr/local/lib/python3.7/dist-packages (from spacy) (3.0.7)\n",
            "Requirement already satisfied: thinc<8.2.0,>=8.1.0 in /usr/local/lib/python3.7/dist-packages (from spacy) (8.1.2)\n",
            "Requirement already satisfied: pathy>=0.3.5 in /usr/local/lib/python3.7/dist-packages (from spacy) (0.6.2)\n",
            "Requirement already satisfied: catalogue<2.1.0,>=2.0.6 in /usr/local/lib/python3.7/dist-packages (from spacy) (2.0.8)\n",
            "Requirement already satisfied: typing-extensions<4.2.0,>=3.7.4 in /usr/local/lib/python3.7/dist-packages (from spacy) (4.1.1)\n",
            "Requirement already satisfied: tqdm<5.0.0,>=4.38.0 in /usr/local/lib/python3.7/dist-packages (from spacy) (4.64.1)\n",
            "Requirement already satisfied: spacy-loggers<2.0.0,>=1.0.0 in /usr/local/lib/python3.7/dist-packages (from spacy) (1.0.3)\n",
            "Requirement already satisfied: srsly<3.0.0,>=2.4.3 in /usr/local/lib/python3.7/dist-packages (from spacy) (2.4.4)\n",
            "Requirement already satisfied: zipp>=0.5 in /usr/local/lib/python3.7/dist-packages (from catalogue<2.1.0,>=2.0.6->spacy) (3.8.1)\n",
            "Requirement already satisfied: pyparsing!=3.0.5,>=2.0.2 in /usr/local/lib/python3.7/dist-packages (from packaging>=20.0->spacy) (3.0.9)\n",
            "Requirement already satisfied: smart-open<6.0.0,>=5.2.1 in /usr/local/lib/python3.7/dist-packages (from pathy>=0.3.5->spacy) (5.2.1)\n",
            "Requirement already satisfied: urllib3!=1.25.0,!=1.25.1,<1.26,>=1.21.1 in /usr/local/lib/python3.7/dist-packages (from requests<3.0.0,>=2.13.0->spacy) (1.24.3)\n",
            "Requirement already satisfied: chardet<4,>=3.0.2 in /usr/local/lib/python3.7/dist-packages (from requests<3.0.0,>=2.13.0->spacy) (3.0.4)\n",
            "Requirement already satisfied: certifi>=2017.4.17 in /usr/local/lib/python3.7/dist-packages (from requests<3.0.0,>=2.13.0->spacy) (2022.9.24)\n",
            "Requirement already satisfied: idna<3,>=2.5 in /usr/local/lib/python3.7/dist-packages (from requests<3.0.0,>=2.13.0->spacy) (2.10)\n",
            "Requirement already satisfied: confection<1.0.0,>=0.0.1 in /usr/local/lib/python3.7/dist-packages (from thinc<8.2.0,>=8.1.0->spacy) (0.0.2)\n",
            "Requirement already satisfied: blis<0.8.0,>=0.7.8 in /usr/local/lib/python3.7/dist-packages (from thinc<8.2.0,>=8.1.0->spacy) (0.7.8)\n",
            "Requirement already satisfied: click<9.0.0,>=7.1.1 in /usr/local/lib/python3.7/dist-packages (from typer<0.5.0,>=0.3.0->spacy) (7.1.2)\n",
            "Requirement already satisfied: MarkupSafe>=0.23 in /usr/local/lib/python3.7/dist-packages (from jinja2->spacy) (2.0.1)\n",
            "2022-10-10 08:02:55.453653: E tensorflow/stream_executor/cuda/cuda_driver.cc:271] failed call to cuInit: CUDA_ERROR_NO_DEVICE: no CUDA-capable device is detected\n",
            "Looking in indexes: https://pypi.org/simple, https://us-python.pkg.dev/colab-wheels/public/simple/\n",
            "Collecting en-core-web-sm==3.4.0\n",
            "  Downloading https://github.com/explosion/spacy-models/releases/download/en_core_web_sm-3.4.0/en_core_web_sm-3.4.0-py3-none-any.whl (12.8 MB)\n",
            "\u001b[K     |████████████████████████████████| 12.8 MB 1.2 MB/s \n",
            "\u001b[?25hRequirement already satisfied: spacy<3.5.0,>=3.4.0 in /usr/local/lib/python3.7/dist-packages (from en-core-web-sm==3.4.0) (3.4.1)\n",
            "Requirement already satisfied: pydantic!=1.8,!=1.8.1,<1.10.0,>=1.7.4 in /usr/local/lib/python3.7/dist-packages (from spacy<3.5.0,>=3.4.0->en-core-web-sm==3.4.0) (1.9.2)\n",
            "Requirement already satisfied: jinja2 in /usr/local/lib/python3.7/dist-packages (from spacy<3.5.0,>=3.4.0->en-core-web-sm==3.4.0) (2.11.3)\n",
            "Requirement already satisfied: packaging>=20.0 in /usr/local/lib/python3.7/dist-packages (from spacy<3.5.0,>=3.4.0->en-core-web-sm==3.4.0) (21.3)\n",
            "Requirement already satisfied: typer<0.5.0,>=0.3.0 in /usr/local/lib/python3.7/dist-packages (from spacy<3.5.0,>=3.4.0->en-core-web-sm==3.4.0) (0.4.2)\n",
            "Requirement already satisfied: murmurhash<1.1.0,>=0.28.0 in /usr/local/lib/python3.7/dist-packages (from spacy<3.5.0,>=3.4.0->en-core-web-sm==3.4.0) (1.0.8)\n",
            "Requirement already satisfied: spacy-legacy<3.1.0,>=3.0.9 in /usr/local/lib/python3.7/dist-packages (from spacy<3.5.0,>=3.4.0->en-core-web-sm==3.4.0) (3.0.10)\n",
            "Requirement already satisfied: wasabi<1.1.0,>=0.9.1 in /usr/local/lib/python3.7/dist-packages (from spacy<3.5.0,>=3.4.0->en-core-web-sm==3.4.0) (0.10.1)\n",
            "Requirement already satisfied: typing-extensions<4.2.0,>=3.7.4 in /usr/local/lib/python3.7/dist-packages (from spacy<3.5.0,>=3.4.0->en-core-web-sm==3.4.0) (4.1.1)\n",
            "Requirement already satisfied: tqdm<5.0.0,>=4.38.0 in /usr/local/lib/python3.7/dist-packages (from spacy<3.5.0,>=3.4.0->en-core-web-sm==3.4.0) (4.64.1)\n",
            "Requirement already satisfied: pathy>=0.3.5 in /usr/local/lib/python3.7/dist-packages (from spacy<3.5.0,>=3.4.0->en-core-web-sm==3.4.0) (0.6.2)\n",
            "Requirement already satisfied: spacy-loggers<2.0.0,>=1.0.0 in /usr/local/lib/python3.7/dist-packages (from spacy<3.5.0,>=3.4.0->en-core-web-sm==3.4.0) (1.0.3)\n",
            "Requirement already satisfied: numpy>=1.15.0 in /usr/local/lib/python3.7/dist-packages (from spacy<3.5.0,>=3.4.0->en-core-web-sm==3.4.0) (1.21.6)\n",
            "Requirement already satisfied: requests<3.0.0,>=2.13.0 in /usr/local/lib/python3.7/dist-packages (from spacy<3.5.0,>=3.4.0->en-core-web-sm==3.4.0) (2.23.0)\n",
            "Requirement already satisfied: srsly<3.0.0,>=2.4.3 in /usr/local/lib/python3.7/dist-packages (from spacy<3.5.0,>=3.4.0->en-core-web-sm==3.4.0) (2.4.4)\n",
            "Requirement already satisfied: thinc<8.2.0,>=8.1.0 in /usr/local/lib/python3.7/dist-packages (from spacy<3.5.0,>=3.4.0->en-core-web-sm==3.4.0) (8.1.2)\n",
            "Requirement already satisfied: langcodes<4.0.0,>=3.2.0 in /usr/local/lib/python3.7/dist-packages (from spacy<3.5.0,>=3.4.0->en-core-web-sm==3.4.0) (3.3.0)\n",
            "Requirement already satisfied: catalogue<2.1.0,>=2.0.6 in /usr/local/lib/python3.7/dist-packages (from spacy<3.5.0,>=3.4.0->en-core-web-sm==3.4.0) (2.0.8)\n",
            "Requirement already satisfied: setuptools in /usr/local/lib/python3.7/dist-packages (from spacy<3.5.0,>=3.4.0->en-core-web-sm==3.4.0) (57.4.0)\n",
            "Requirement already satisfied: preshed<3.1.0,>=3.0.2 in /usr/local/lib/python3.7/dist-packages (from spacy<3.5.0,>=3.4.0->en-core-web-sm==3.4.0) (3.0.7)\n",
            "Requirement already satisfied: cymem<2.1.0,>=2.0.2 in /usr/local/lib/python3.7/dist-packages (from spacy<3.5.0,>=3.4.0->en-core-web-sm==3.4.0) (2.0.6)\n",
            "Requirement already satisfied: zipp>=0.5 in /usr/local/lib/python3.7/dist-packages (from catalogue<2.1.0,>=2.0.6->spacy<3.5.0,>=3.4.0->en-core-web-sm==3.4.0) (3.8.1)\n",
            "Requirement already satisfied: pyparsing!=3.0.5,>=2.0.2 in /usr/local/lib/python3.7/dist-packages (from packaging>=20.0->spacy<3.5.0,>=3.4.0->en-core-web-sm==3.4.0) (3.0.9)\n",
            "Requirement already satisfied: smart-open<6.0.0,>=5.2.1 in /usr/local/lib/python3.7/dist-packages (from pathy>=0.3.5->spacy<3.5.0,>=3.4.0->en-core-web-sm==3.4.0) (5.2.1)\n",
            "Requirement already satisfied: urllib3!=1.25.0,!=1.25.1,<1.26,>=1.21.1 in /usr/local/lib/python3.7/dist-packages (from requests<3.0.0,>=2.13.0->spacy<3.5.0,>=3.4.0->en-core-web-sm==3.4.0) (1.24.3)\n",
            "Requirement already satisfied: certifi>=2017.4.17 in /usr/local/lib/python3.7/dist-packages (from requests<3.0.0,>=2.13.0->spacy<3.5.0,>=3.4.0->en-core-web-sm==3.4.0) (2022.9.24)\n",
            "Requirement already satisfied: idna<3,>=2.5 in /usr/local/lib/python3.7/dist-packages (from requests<3.0.0,>=2.13.0->spacy<3.5.0,>=3.4.0->en-core-web-sm==3.4.0) (2.10)\n",
            "Requirement already satisfied: chardet<4,>=3.0.2 in /usr/local/lib/python3.7/dist-packages (from requests<3.0.0,>=2.13.0->spacy<3.5.0,>=3.4.0->en-core-web-sm==3.4.0) (3.0.4)\n",
            "Requirement already satisfied: confection<1.0.0,>=0.0.1 in /usr/local/lib/python3.7/dist-packages (from thinc<8.2.0,>=8.1.0->spacy<3.5.0,>=3.4.0->en-core-web-sm==3.4.0) (0.0.2)\n",
            "Requirement already satisfied: blis<0.8.0,>=0.7.8 in /usr/local/lib/python3.7/dist-packages (from thinc<8.2.0,>=8.1.0->spacy<3.5.0,>=3.4.0->en-core-web-sm==3.4.0) (0.7.8)\n",
            "Requirement already satisfied: click<9.0.0,>=7.1.1 in /usr/local/lib/python3.7/dist-packages (from typer<0.5.0,>=0.3.0->spacy<3.5.0,>=3.4.0->en-core-web-sm==3.4.0) (7.1.2)\n",
            "Requirement already satisfied: MarkupSafe>=0.23 in /usr/local/lib/python3.7/dist-packages (from jinja2->spacy<3.5.0,>=3.4.0->en-core-web-sm==3.4.0) (2.0.1)\n",
            "\u001b[38;5;2m✔ Download and installation successful\u001b[0m\n",
            "You can now load the package via spacy.load('en_core_web_sm')\n",
            "Looking in indexes: https://pypi.org/simple, https://us-python.pkg.dev/colab-wheels/public/simple/\n",
            "Requirement already satisfied: keras in /usr/local/lib/python3.7/dist-packages (2.8.0)\n"
          ]
        }
      ]
    },
    {
      "cell_type": "code",
      "execution_count": 2,
      "id": "9e01d4f6-9943-40fb-9f85-ca2aa53b4650",
      "metadata": {
        "id": "9e01d4f6-9943-40fb-9f85-ca2aa53b4650"
      },
      "outputs": [],
      "source": [
        "from google.colab import drive\n",
        "\n",
        "# Preprocessing\n",
        "import re\n",
        "import os\n",
        "import spacy\n",
        "import pickle\n",
        "import pandas as pd\n",
        "from pandas import read_csv\n",
        "\n",
        "# FastText\n",
        "import fasttext\n",
        "import fasttext.util\n",
        "\n",
        "import random\n",
        "\n",
        "# MEN and SimLex Benchmarks\n",
        "from os import listdir\n",
        "from scipy.stats import spearmanr\n",
        "from sklearn.metrics.pairwise import cosine_similarity\n",
        "\n",
        "# ElasticNet and ANN\n",
        "import sklearn\n",
        "from sklearn.model_selection import cross_val_score, RepeatedKFold, train_test_split, KFold, LeaveOneOut, StratifiedKFold\n",
        "from sklearn.metrics import mean_absolute_error, accuracy_score, mean_squared_error, median_absolute_error\n",
        "from sklearn.linear_model import ElasticNetCV\n",
        "\n",
        "import numpy as np\n",
        "from numpy import mean\n",
        "from numpy import std\n",
        "from numpy import absolute\n",
        "from numpy.random import seed\n",
        "\n",
        "from scipy import stats\n",
        "\n",
        "import time\n",
        "\n",
        "from statistics import median\n",
        "\n",
        "from tensorflow import keras\n",
        "from tensorflow.random import set_seed\n",
        "from tensorflow.keras.optimizers import Adam\n",
        "from tensorflow.keras.callbacks import EarlyStopping\n",
        "from tensorflow.keras.initializers import HeNormal\n",
        "from tensorflow.keras.layers import MaxPooling2D, MaxPooling1D, Conv2D, Conv1D, Bidirectional\n",
        "from keras.models import Sequential\n",
        "from keras.layers.core import Dense, Dropout, Activation"
      ]
    },
    {
      "cell_type": "markdown",
      "id": "92f1ffd0-4597-433a-b9c7-bb2423556386",
      "metadata": {
        "id": "92f1ffd0-4597-433a-b9c7-bb2423556386"
      },
      "source": [
        "# Data Import"
      ]
    },
    {
      "cell_type": "code",
      "source": [
        "## Getting the list of madeup names:\n",
        "drive.mount(\"/content/drive\", force_remount=True) \n",
        "ratings_csv = pd.read_csv(\"drive/MyDrive/Thesis/Data/giovanni_email_data/avgRatings_annotated.csv\",\n",
        "                          usecols = [\"name\", \"name_type\"])                      ## Importing the names and name types\n",
        "\n",
        "ratings_csv.head(10)\n",
        "\n",
        "madeup_names = []\n",
        "\n",
        "for i in ratings_csv.index:                                                     ## Only choosing madeup names so I can filter them out of the FT vocab\n",
        "  if ratings_csv[\"name_type\"][i] == \"madeup\":\n",
        "    madeup_names.append(str(ratings_csv[\"name\"][i]))\n",
        "\n",
        "madeup_names_lower = list(map(lambda x: x.lower(), madeup_names))               ## Lowercasting the names since my entire vocab will be lowercast\n",
        "\n",
        "print(madeup_names[:5])\n",
        "print(len(madeup_names))\n",
        "print(madeup_names_lower[:5])\n",
        "print(len(madeup_names_lower))"
      ],
      "metadata": {
        "id": "0AUEyOhEpf74",
        "outputId": "e7be0a25-deba-401b-879c-2bd9c9dc48b7",
        "colab": {
          "base_uri": "https://localhost:8080/"
        }
      },
      "id": "0AUEyOhEpf74",
      "execution_count": 3,
      "outputs": [
        {
          "output_type": "stream",
          "name": "stdout",
          "text": [
            "Mounted at /content/drive\n",
            "['Alastor', 'Alecto', 'Amabala', 'Araminta', 'Arcturus']\n",
            "60\n",
            "['alastor', 'alecto', 'amabala', 'araminta', 'arcturus']\n",
            "60\n"
          ]
        }
      ]
    },
    {
      "cell_type": "code",
      "source": [
        "path = \"drive/My Drive/Thesis/Data/CoCA/Text/\"                                  ## These are the paths to easily export/import my dicts, txts, models, and pickles\n",
        "dict_path = \"drive/My Drive/Thesis/Data/CoCA/dict_pickles/\"\n",
        "unclean_path = path + \"texts_combined/all_texts_combined.txt\"\n",
        "model_path = \"drive/My Drive/Thesis/Data/CoCA/models/\"\n",
        "pickle_path = \"drive/MyDrive/Thesis/Data/fastText and others/\"\n",
        "norms_path = \"drive/My Drive/Thesis/Data/Norms/\"\n",
        "csv_path = \"drive/My Drive/Thesis/Data/CSV/\"\n",
        "delta_path = \"drive/My Drive/Thesis/Data/Deltacode/\""
      ],
      "metadata": {
        "id": "UwhQ--sVUGHl"
      },
      "id": "UwhQ--sVUGHl",
      "execution_count": 4,
      "outputs": []
    },
    {
      "cell_type": "markdown",
      "id": "34910b3e-c2f9-4d54-983d-e75c2127f4db",
      "metadata": {
        "id": "34910b3e-c2f9-4d54-983d-e75c2127f4db"
      },
      "source": [
        "## COCA"
      ]
    },
    {
      "cell_type": "code",
      "execution_count": null,
      "id": "bf7f61e8-e967-4ab9-895e-6fb974df4fc4",
      "metadata": {
        "id": "bf7f61e8-e967-4ab9-895e-6fb974df4fc4"
      },
      "outputs": [],
      "source": [
        "unclean_corpus = open(unclean_path).read()                                      ## Importing the entire coca"
      ]
    },
    {
      "cell_type": "code",
      "source": [
        "print(len(unclean_corpus))                                                      ## Showing the length and first 100 characters of the coca\n",
        "print(unclean_corpus[:100])"
      ],
      "metadata": {
        "id": "cuIyN1lBMe05",
        "outputId": "486626ae-0cf2-45ff-d70e-eafae963a54c",
        "colab": {
          "base_uri": "https://localhost:8080/"
        }
      },
      "id": "cuIyN1lBMe05",
      "execution_count": null,
      "outputs": [
        {
          "output_type": "stream",
          "name": "stdout",
          "text": [
            "2977527143\n",
            "@@4170367 Headnote # A puzzle has long pervaded the criminal law : why are two offenders who commit \n"
          ]
        }
      ]
    },
    {
      "cell_type": "markdown",
      "id": "a35ba177-63c9-43e0-8eb0-cc41ada452d6",
      "metadata": {
        "id": "a35ba177-63c9-43e0-8eb0-cc41ada452d6"
      },
      "source": [
        "## Names"
      ]
    },
    {
      "cell_type": "code",
      "execution_count": 5,
      "id": "efb0d50d-543f-4483-9b58-83812e4c7418",
      "metadata": {
        "id": "efb0d50d-543f-4483-9b58-83812e4c7418",
        "outputId": "3d44bf0d-3e10-4643-8d8b-8b36d4bb21ae",
        "colab": {
          "base_uri": "https://localhost:8080/"
        }
      },
      "outputs": [
        {
          "output_type": "stream",
          "name": "stdout",
          "text": [
            "119\n",
            "179\n",
            "63\n",
            "       name  rating.mean_age    age name_type\n",
            "0  Adelaide        -0.617647    old      real\n",
            "2  Alasdair        18.709677  young      real\n",
            "3   Alastor        13.812500    old    madeup\n",
            "4    Alecto         3.593750    old    madeup\n",
            "5     Alice       -13.969697  young      real 119\n",
            "       name  rating.mean_gender  gender name_type\n",
            "0  Adelaide           45.727273  female      real\n",
            "1   Adelina           47.771429  female      real\n",
            "2  Alasdair          -35.657143    male      real\n",
            "3   Alastor          -38.833333    male    madeup\n",
            "4    Alecto          -35.722222  female    madeup 179\n",
            "        name  rating.mean_valence polarity name_type\n",
            "1    Adelina            31.621622      bad      real\n",
            "7    Amabala             5.935484     good    madeup\n",
            "8      Apple            32.444444     good   talking\n",
            "11  Arcturus           -11.166667     good    madeup\n",
            "13   Arobynn             7.645161      bad    madeup 63\n"
          ]
        }
      ],
      "source": [
        "### Read CSV File and Delete Unimportant Columns (i.e., everything that isn't the name, name type, rating, or the author's choice)\n",
        "\n",
        "### This is input for the FT model, which itself is the input for the ElasticNet and ANN regressions\n",
        "\n",
        "names_ratings = read_csv(\"drive/MyDrive/Thesis/Data/giovanni_email_data/avgRatings_annotated.csv\")\n",
        "\n",
        "#print(names_ratings.head())\n",
        "\n",
        "print(names_ratings['rating.mean_age'].notna().sum())                           ## Choosing only those rows where all columns are not NA\n",
        "print(names_ratings['rating.mean_gender'].notna().sum())\n",
        "print(names_ratings['rating.mean_valence'].notna().sum())\n",
        "\n",
        "df_age = names_ratings.loc[names_ratings['rating.mean_age'].notna(), ['name', 'rating.mean_age', 'age', 'name_type']]   ## Choosing the relevant columns\n",
        "print(df_age.head(), len(df_age))\n",
        "\n",
        "df_gender = names_ratings.loc[names_ratings['rating.mean_gender'].notna(), ['name', 'rating.mean_gender', 'gender', 'name_type']]\n",
        "print(df_gender.head(), len(df_gender))\n",
        "\n",
        "df_polarity = names_ratings.loc[names_ratings['rating.mean_valence'].notna(), ['name', 'rating.mean_valence', 'polarity', 'name_type']]\n",
        "print(df_polarity.head(), len(df_polarity))"
      ]
    },
    {
      "cell_type": "markdown",
      "id": "45b17c25-4631-4971-8c9e-9b13b9322a08",
      "metadata": {
        "id": "45b17c25-4631-4971-8c9e-9b13b9322a08"
      },
      "source": [
        "# Preprocessing"
      ]
    },
    {
      "cell_type": "markdown",
      "id": "6c46490a-70a1-41ae-8f63-ccf7fb08da08",
      "metadata": {
        "id": "6c46490a-70a1-41ae-8f63-ccf7fb08da08"
      },
      "source": [
        "\n",
        "## Cleaning Corpus"
      ]
    },
    {
      "cell_type": "code",
      "source": [
        "## Loading the English spacy pipeline and removing stopwords (since we are interested in gender bias, it's best to leave these words in)\n",
        "\n",
        "nlp = spacy.load(\"en_core_web_sm\")\n",
        "nlp.max_length = 10000000000\n",
        "\n",
        "nlp.Defaults.stop_words.remove('him')\n",
        "nlp.Defaults.stop_words.remove('her')\n",
        "nlp.Defaults.stop_words.remove('hers')\n",
        "nlp.Defaults.stop_words.remove('his')\n",
        "nlp.Defaults.stop_words.remove('he')\n",
        "nlp.Defaults.stop_words.remove('she')\n",
        "nlp.Defaults.stop_words.remove('himself')\n",
        "nlp.Defaults.stop_words.remove('herself')"
      ],
      "metadata": {
        "id": "xqknf8oNouf3"
      },
      "id": "xqknf8oNouf3",
      "execution_count": null,
      "outputs": []
    },
    {
      "cell_type": "code",
      "source": [
        "def clean_corpus_sentenced(data, corpus_dict, index):\n",
        "  ## Input: \n",
        "  # - Data = A (very) large string of corpus text\n",
        "  # - Corpus_dict = a dictionary to store individual sentences in\n",
        "  # - Index = the last index from the previous batch\n",
        "\n",
        "  ## Process: \n",
        "  # Remove all unwanted tokens, and store individual sentences in the dictionary\n",
        "\n",
        "  ## Output: \n",
        "  # - The dictionary of preprocessed sentences\n",
        "  # - The last sentence index, for the next batch to continue with (so that the order of the sentences is kept)\n",
        "\n",
        "  # Tokenization\n",
        "  with nlp.select_pipes(disable=[\"lemmatizer\", \"tok2vec\", \"tagger\", \"parser\"]):\n",
        "    nlp.enable_pipe(\"senter\")                                                   ## Helps with better segmenting into sentences\n",
        "    doc = nlp(data)\n",
        "\n",
        "  sentence = \"\"                                                                 ## Initialize an empty sentence\n",
        "\n",
        "  for token in doc:\n",
        "    if token.is_sent_start is True:                                             ## If token is the star of the sentence, add the previous sentence to the dictionary\n",
        "      if sentence == \"\":                                                        ## and create a new, clean sentence\n",
        "        continue\n",
        "      else:\n",
        "        corpus_dict[index] = sentence\n",
        "        sentence = \"\"\n",
        "        index += 1\n",
        "    \n",
        "    if token.is_upper is True:                                                  ## Remove all full-caps words\n",
        "      continue\n",
        "    elif token.is_stop is True:                                                 ## Remove all stopwords\n",
        "      continue\n",
        "    elif str(token).lower() in madeup_names_lower:                              ## Remove all words that are in my list of made-up names\n",
        "      continue\n",
        "    elif token.is_alpha:                                                        ## If the token has passed all previous tests, and it consists only of alphabetic\n",
        "      sentence += str(token).lower() + \" \"                                      ## characters, lowercast it and add an extra space to the end; continue to the next\n",
        "                                                                                ## token\n",
        "  return corpus_dict, index"
      ],
      "metadata": {
        "id": "_GxXQaOBOa9N"
      },
      "id": "_GxXQaOBOa9N",
      "execution_count": null,
      "outputs": []
    },
    {
      "cell_type": "code",
      "source": [
        "def corpus_dict_maker(data, start, end, index):\n",
        "  ## Input: \n",
        "  # - Data = The entire uncleaned corpus\n",
        "  # - Start = The character index to indicate the start of the current batch to preprocess\n",
        "  # - End = The character index to indicate the end of the current batch to preprocess\n",
        "  # - Index = The sentence index from the previous batch, to keep track of the number and order of the sentences\n",
        "\n",
        "  ## Process: \n",
        "  # Preprocess the corpus in batches, since there was not enough RAM to preprocess the entire corpus at once\n",
        "  # So, for every batch, all the characters between the start index and the end index are fed into the clean_corpus_sentenced() function\n",
        "  # and then this dictionary of sentences is saved as a pickle to Google drive\n",
        "\n",
        "  ## Output: \n",
        "  # Nothing; except that the sentence index is printed, which is used as input for the next batch (this was printed, so that it couldn't be lost if the \n",
        "  # runtime would disconnect (which it sadly did very often))\n",
        "\n",
        "  drive.mount(\"/content/drive\", force_remount=True)                             ## Connect to google drive\n",
        "  \n",
        "  corpus_dict = {}                                                              ## Create empty dictionary\n",
        "\n",
        "  prev_i = (start-2)*1000000                                                    ## Start with preprocessing the two million characters before the previous index\n",
        "                                                                                ## since the next range only preprocesses up to but not including the 'end' index\n",
        "\n",
        "  for i in range(start, end, 2):                                                ## In batches of 2 million characters, feed the batch to clean_corpus_sentenced()\n",
        "    print(i)                                                                   \n",
        "    i *= 1000000\n",
        "    corpus_dict, index = clean_corpus_sentenced(data[prev_i:i],\n",
        "                                                corpus_dict,\n",
        "                                                index)\n",
        "    prev_i = i\n",
        "  \n",
        "  if prev_i == 2976000000:                                                      ## Hardcoded; if we get near the end of the corpus, don't preprocess in a batch of\n",
        "    corpus_dict, index = clean_corpus_sentenced(data[prev_i:],                  ## 2 million characters (we would get an out of range error), but rather just \n",
        "                                                corpus_dict,                    ## preprocess the remaining characters, however many that may be\n",
        "                                                index)\n",
        "\n",
        "  print(index)\n",
        "\n",
        "  pickle_out = open(dict_path + \"corpus_dict_until_\" + str(end) + \".pickle\", \"wb\")  ## Save the dictionary as a pickle\n",
        "  pickle.dump(corpus_dict, pickle_out)\n",
        "  pickle_out.close()\n",
        "\n",
        "  drive.flush_and_unmount()                                                     ## Flush the pickle to my drive\n",
        "  print('All changes made in this colab session should now be visible in Drive.')\n",
        "\n"
      ],
      "metadata": {
        "id": "pt5GFTOnoKSQ"
      },
      "id": "pt5GFTOnoKSQ",
      "execution_count": null,
      "outputs": []
    },
    {
      "cell_type": "markdown",
      "source": [
        "#### All of the individual batches:"
      ],
      "metadata": {
        "id": "pFnzewRdf6LG"
      },
      "id": "pFnzewRdf6LG"
    },
    {
      "cell_type": "code",
      "source": [
        "## doing it in batches to \n",
        "## (1) make it possible in terms of time and the Google afk-checker captcha pop-up, and \n",
        "## (2) to not blow out the RAM and have it break down\n",
        "\n",
        "#corpus_dict_maker(unclean_corpus, 2, 500, 0)                   \n",
        "#corpus_dict_maker(unclean_corpus, 500, 640, 3217086)           \n",
        "#corpus_dict_maker(unclean_corpus, 640, 760, 4232218)           \n",
        "#corpus_dict_maker(unclean_corpus, 760, 800, 5439287)           \n",
        "#corpus_dict_maker(unclean_corpus, 800, 900, 5888161)\n",
        "#corpus_dict_maker(unclean_corpus, 900, 980, 7020129)\n",
        "#corpus_dict_maker(unclean_corpus, 980, 1150, 7891661)\n",
        "#corpus_dict_maker(unclean_corpus, 1150, 1200, 9903820) \n",
        "#corpus_dict_maker(unclean_corpus, 1200, 1204, 10502592)"
      ],
      "metadata": {
        "id": "UnBc-d9pjKgx"
      },
      "id": "UnBc-d9pjKgx",
      "execution_count": null,
      "outputs": []
    },
    {
      "cell_type": "code",
      "source": [
        "######### This block is separate because it kept crashing if I did it otherwise:\n",
        "\n",
        "#drive.mount(\"/content/drive\", force_remount=True) \n",
        "#corpus_dict = {}\n",
        "\n",
        "#prev_i = (1202)*1000000\n",
        "#i = 1203*1000000\n",
        "#corpus_dict, index = clean_corpus_sentenced(unclean_corpus[prev_i:i],\n",
        "#                                            corpus_dict,\n",
        "#                                            10547544)\n",
        "#prev_i = i\n",
        "\n",
        "#print(index)\n",
        "\n",
        "#pickle_out = open(path + \"corpus_dict_until_\" + str(1203) + \"_post_1204\" + \".pickle\", \"wb\")\n",
        "#pickle.dump(corpus_dict, pickle_out)\n",
        "#pickle_out.close()\n",
        "\n",
        "#drive.flush_and_unmount()\n",
        "#print('All changes made in this colab session should now be visible in Drive.')\n",
        "\n",
        "################################################################################\n",
        "\n",
        "######### This block is separate because it kept crashing if I did it otherwise:\n",
        "\n",
        "#drive.mount(\"/content/drive\", force_remount=True) \n",
        "#corpus_dict = {}\n",
        "\n",
        "#prev_i = (1203)*1000000\n",
        "#i = 1204*1000000\n",
        "#corpus_dict, index = clean_corpus_sentenced(unclean_corpus[prev_i:i],\n",
        "#                                            corpus_dict,\n",
        "#                                            index + 1)\n",
        "#prev_i = i\n",
        "\n",
        "#print(index)\n",
        "\n",
        "#pickle_out = open(path + \"corpus_dict_until_\" + str(1204) + \"_post_1204\" + \".pickle\", \"wb\")\n",
        "#pickle.dump(corpus_dict, pickle_out)\n",
        "#pickle_out.close()\n",
        "\n",
        "#drive.flush_and_unmount()\n",
        "#print('All changes made in this colab session should now be visible in Drive.')\n",
        "\n",
        "################################################################################\n",
        "\n",
        "######### This block is separate because it kept crashing if I did it otherwise:\n",
        "\n",
        "#drive.mount(\"/content/drive\", force_remount=True) \n",
        "#corpus_dict = {}\n",
        "\n",
        "#prev_i = (1204)*1000000\n",
        "#i = 1205*1000000\n",
        "#corpus_dict, index = clean_corpus_sentenced(unclean_corpus[prev_i:i],\n",
        "#                                            corpus_dict,\n",
        "#                                            10580543)\n",
        "#prev_i = i\n",
        "\n",
        "#print(index)\n",
        "\n",
        "#pickle_out = open(path + \"corpus_dict_until_\" + str(1205) + \"_post_1204\" + \".pickle\", \"wb\")\n",
        "#pickle.dump(corpus_dict, pickle_out)\n",
        "#pickle_out.close()\n",
        "\n",
        "#drive.flush_and_unmount()\n",
        "#print('All changes made in this colab session should now be visible in Drive.')\n",
        "\n",
        "################################################################################\n",
        "\n",
        "######### This block is separate because it kept crashing if I did it otherwise:\n",
        "\n",
        "#drive.mount(\"/content/drive\", force_remount=True) \n",
        "#corpus_dict = {}\n",
        "\n",
        "#prev_i = (1205)*1000000\n",
        "#i = 1206*1000000\n",
        "#corpus_dict, index = clean_corpus_sentenced(unclean_corpus[prev_i:i],\n",
        "#                                            corpus_dict,\n",
        "#                                            index + 1)\n",
        "#prev_i = i\n",
        "\n",
        "#print(index)\n",
        "\n",
        "#pickle_out = open(path + \"corpus_dict_until_\" + str(1206) + \"_post_1204\" + \".pickle\", \"wb\")\n",
        "#pickle.dump(corpus_dict, pickle_out)\n",
        "#pickle_out.close()\n",
        "\n",
        "#drive.flush_and_unmount()\n",
        "#print('All changes made in this colab session should now be visible in Drive.')\n",
        "\n",
        "################################################################################"
      ],
      "metadata": {
        "id": "057QoMHol9Tb"
      },
      "id": "057QoMHol9Tb",
      "execution_count": null,
      "outputs": []
    },
    {
      "cell_type": "code",
      "source": [
        "#corpus_dict_maker(unclean_corpus, 1208, 1300, 10611881)\n",
        "#corpus_dict_maker(unclean_corpus, 1300, 1500, 11486498)\n",
        "#corpus_dict_maker(unclean_corpus, 1500, 1750, 13172710)\n",
        "#corpus_dict_maker(unclean_corpus, 1750, 1846, 15332847)\n",
        "#corpus_dict_maker(unclean_corpus, 1846, 1848, 16123425)\n",
        "#corpus_dict_maker(unclean_corpus, 1848, 1850, 16147433)\n",
        "#corpus_dict_maker(unclean_corpus, 1850, 1900, 16172965)\n",
        "#corpus_dict_maker(unclean_corpus, 1900, 1968, 16855832)\n",
        "#corpus_dict_maker(unclean_corpus, 1968, 1970, 17790964)\n",
        "#corpus_dict_maker(unclean_corpus, 1970, 2000, 17819821)\n",
        "#corpus_dict_maker(unclean_corpus, 2000, 2022, 18244076)\n",
        "#corpus_dict_maker(unclean_corpus, 2022, 2024, 18536113)\n",
        "#corpus_dict_maker(unclean_corpus, 2024, 2026, 18558956)\n",
        "#corpus_dict_maker(unclean_corpus, 2026, 2068, 18583534)\n",
        "#corpus_dict_maker(unclean_corpus, 2068, 2070, 19154020)\n",
        "#corpus_dict_maker(unclean_corpus, 2070, 2100, 19179335)\n",
        "#corpus_dict_maker(unclean_corpus, 2100, 2166, 19598984)\n",
        "#corpus_dict_maker(unclean_corpus, 2166, 2168, 20488725)\n",
        "#corpus_dict_maker(unclean_corpus, 2168, 2188, 20524278)"
      ],
      "metadata": {
        "id": "fWVWwqEAmMnb"
      },
      "id": "fWVWwqEAmMnb",
      "execution_count": null,
      "outputs": []
    },
    {
      "cell_type": "code",
      "source": [
        "######### This block is separate because it kept crashing if I did it otherwise:\n",
        "\n",
        "#drive.mount(\"/content/drive\", force_remount=True) \n",
        "#corpus_dict = {}\n",
        "\n",
        "#prev_i = (2186)*1000000\n",
        "#i = 2187*1000000\n",
        "#corpus_dict, index = clean_corpus_sentenced(unclean_corpus[prev_i:i],\n",
        "#                                            corpus_dict,\n",
        "#                                            20779021)\n",
        "#prev_i = i\n",
        "\n",
        "#print(index)\n",
        "\n",
        "#pickle_out = open(path + \"corpus_dict_until_\" + str(2187) + \"_post_2188\" + \".pickle\", \"wb\")\n",
        "#pickle.dump(corpus_dict, pickle_out)\n",
        "#pickle_out.close()\n",
        "\n",
        "#drive.flush_and_unmount()\n",
        "#print('All changes made in this colab session should now be visible in Drive.')\n",
        "\n",
        "################################################################################\n",
        "\n",
        "######### This block is separate because it kept crashing if I did it otherwise:\n",
        "\n",
        "#drive.mount(\"/content/drive\", force_remount=True) \n",
        "#corpus_dict = {}\n",
        "\n",
        "#prev_i = (2187)*1000000\n",
        "#i = 2188*1000000\n",
        "#corpus_dict, index = clean_corpus_sentenced(unclean_corpus[prev_i:i],\n",
        "#                                            corpus_dict,\n",
        "#                                            index + 1)\n",
        "#prev_i = i\n",
        "\n",
        "#print(index)\n",
        "\n",
        "#pickle_out = open(path + \"corpus_dict_until_\" + str(2188) + \"_post_2188\" + \".pickle\", \"wb\")\n",
        "#pickle.dump(corpus_dict, pickle_out)\n",
        "#pickle_out.close()\n",
        "\n",
        "#drive.flush_and_unmount()\n",
        "#print('All changes made in this colab session should now be visible in Drive.')\n",
        "\n",
        "################################################################################"
      ],
      "metadata": {
        "id": "rzysL5YBbz1M"
      },
      "id": "rzysL5YBbz1M",
      "execution_count": null,
      "outputs": []
    },
    {
      "cell_type": "code",
      "source": [
        "#corpus_dict_maker(unclean_corpus, 2190, 2200, 20812123)\n",
        "#corpus_dict_maker(unclean_corpus, 2200, 2310, 20945992)\n",
        "#corpus_dict_maker(unclean_corpus, 2310, 2312, 22397914)\n",
        "#corpus_dict_maker(unclean_corpus, 2312, 2400, 22424124)\n",
        "#corpus_dict_maker(unclean_corpus, 2400, 2600, 23465826)\n",
        "#corpus_dict_maker(unclean_corpus, 2600, 2800, 25199888)\n",
        "#corpus_dict_maker(unclean_corpus, 2800, 2977, 26938737)"
      ],
      "metadata": {
        "id": "tyV6gFTWb0VJ"
      },
      "id": "tyV6gFTWb0VJ",
      "execution_count": null,
      "outputs": []
    },
    {
      "cell_type": "code",
      "source": [
        "## This block of code opens all of the corpus dict pickles, and combines them together\n",
        "## into one big dictionary: corpus_dict_complete\n",
        "\n",
        "file_number = 1\n",
        "file_list = []\n",
        "for file_name in os.listdir(dict_path):                                         ## Locate all dicts in the folder\n",
        "  with open(dict_path + str(file_name), 'rb') as f:\n",
        "    exec(\"dict_\" + str(file_number) + \" = \" + \"pickle.load(f)\")\n",
        "    file_list.append(\"dict_\" + str(file_number))    \n",
        "    file_number += 1\n",
        "  \n",
        "corpus_dict_complete = {}\n",
        "for file_name in file_list:                                                     \n",
        "  corpus_dict_complete = {**corpus_dict_complete, **globals()[file_name]}       ## Add the contents of the dicts to dict_complete\n",
        "  del globals()[file_name]\n",
        "\n",
        "#print(len(corpus_dict_complete))\n",
        "#del file_number\n",
        "#del file_list\n",
        "\n",
        "#pickle_out = open(dict_path + \"corpus_dict_complete.pickle\", \"wb\")             ## Create a new pickle\n",
        "#pickle.dump(corpus_dict_complete, pickle_out)\n",
        "#del corpus_dict_complete\n",
        "#pickle_out.close()\n",
        "\n",
        "#drive.flush_and_unmount()                                                      ## Flush the pickle to my drive\n",
        "#print('All changes made in this colab session should now be visible in Drive.')"
      ],
      "metadata": {
        "id": "HCY3IGTxeuXN"
      },
      "id": "HCY3IGTxeuXN",
      "execution_count": null,
      "outputs": []
    },
    {
      "cell_type": "code",
      "source": [
        "## This block of code opens the corpus_dict_complete pickle, and loops through the keys by index (from lowest to highest).\n",
        "## So, we loop through every sentence, in order. These are stored in two different .txt files, one where the sentence structure is remained \n",
        "## (i.e., between every sentence, we add a newline character), and one that's unsentenced (i.e., no newline character between sentences).\n",
        "\n",
        "with open(dict_path + \"corpus_dict_complete.pickle\", \"rb\") as d:                ## Open corpus_dict_complete\n",
        "  corpus_dict_complete = pickle.load(d)\n",
        "\n",
        "  with open(path + \"cleaned_sentenced_corpus_complete.txt\", \"w\") as f:          ## Open sentenced corpus .txt file\n",
        "    for key in sorted(corpus_dict_complete):\n",
        "      if len(str(corpus_dict_complete[key]).split()) < 2:                       ## Remove sentences with only 1 word (since there's no 'context' in that case)\n",
        "        continue\n",
        "      else:\n",
        "        if str(corpus_dict_complete[key])[:2] in [\"m \", \"p \", \"s \"]:            ## I have to add this, because based on manual inspection, a significant amount of \n",
        "          f.write(str(corpus_dict_complete[key])[2:] + \"\\n\")                    ## sentences start with just a \"p\", \"m\", or \"s\"\n",
        "        else:\n",
        "          f.write(str(corpus_dict_complete[key]) + \"\\n\")\n",
        "\n",
        "  with open(path + \"cleaned_unsentenced_corpus_complete.txt\", \"w\") as f2:       ## Open unsentenced corpus .txt file\n",
        "    for key in sorted(corpus_dict_complete): \n",
        "      if len(str(corpus_dict_complete[key])) < 4:                               ## Remove sentences with less than 4 characers, since based on visual inspection, I\n",
        "        continue                                                                ## saw that such sentences are mostly nonsense (i.e., not real words)\n",
        "      else:\n",
        "        if str(corpus_dict_complete[key])[:2] in [\"m \", \"p \", \"s \"]:\n",
        "          f2.write(str(corpus_dict_complete[key])[2:])\n",
        "        else:\n",
        "          f2.write(str(corpus_dict_complete[key]))\n",
        "  \n",
        "drive.flush_and_unmount()                                                       ## Flush to drive\n",
        "print('All changes made in this colab session should now be visible in Drive.')"
      ],
      "metadata": {
        "id": "YkdDjN1AodpH",
        "outputId": "b2b8493b-8584-459f-a74c-6c023c7743f3",
        "colab": {
          "base_uri": "https://localhost:8080/"
        }
      },
      "id": "YkdDjN1AodpH",
      "execution_count": null,
      "outputs": [
        {
          "output_type": "stream",
          "name": "stdout",
          "text": [
            "All changes made in this colab session should now be visible in Drive.\n"
          ]
        }
      ]
    },
    {
      "cell_type": "markdown",
      "source": [
        "# Analyses"
      ],
      "metadata": {
        "id": "_wq12fBMvPlP"
      },
      "id": "_wq12fBMvPlP"
    },
    {
      "cell_type": "markdown",
      "id": "a09e790a-e08f-4144-b01e-25af29a8816f",
      "metadata": {
        "id": "a09e790a-e08f-4144-b01e-25af29a8816f"
      },
      "source": [
        "## Training fastText and Validating on MEN and SimLex999 + Training W2V"
      ]
    },
    {
      "cell_type": "markdown",
      "source": [
        "### fastText"
      ],
      "metadata": {
        "id": "Mk9EPG5rwc0H"
      },
      "id": "Mk9EPG5rwc0H"
    },
    {
      "cell_type": "code",
      "source": [
        "# def fasttext_tuner(data_type):                                                ## I have chosen Skipgram, I won't play around with epochs or learning rate\n",
        "#   for dimensionality in [100, 300]:                                           ## I'm first checking data type and dimensionality, and choosing the most promising combination.\n",
        "#     for window_size in [2, 3, 4, 5, 6, 7]:                                    ## Then I'll check window size and choose the 3 most promising ones\n",
        "#       for min_n in [1, 2, 3]:                                                 ## Then I want to check min_n 2 and 1 to see whether adding n-gram size of 1 makes any sense\n",
        "#         for max_n in [5, 6, 7]:                                               ## Lastly, I will iterate through the 3 * 2 * 3 most promising models, finally choosing the best one and then double checking that with\n",
        "#           model = fasttext.train_unsupervised(input = path + \"cleaned_\" +     ## the 100/300 sentenced/unsentenced options, just to be sure! In total, this means training 4 + 5 + ~16 + 3 = ~30 models instead of 216\n",
        "#                                               data_type + \n",
        "#                                               \"_corpus_complete.txt\",\n",
        "#                                               model = \"skipgram\",\n",
        "#                                               dim = dimensionality, \n",
        "#                                               ws = window_size, \n",
        "#                                               minn = min_n,\n",
        "#                                               maxn = max_n)\n",
        "          \n",
        "#           model.save_model(model_path + data_type + \"_dim\" + str(dimensionality) + \n",
        "#                             \"_ws\" + str(window_size) + \"_minn\" + str(min_n) + \n",
        "#                             \"_maxn\" + str(max_n) + \".bin\")\n",
        "          \n",
        "#           print(data_type + \"_dim\" + str(dimensionality) + \"_ws\" + str(window_size) + \n",
        "#                 \"_minn\" + str(min_n) + \"_maxn\" + str(max_n))\n",
        "\n",
        "#           del model\n",
        "\n",
        "#   drive.flush_and_unmount()\n",
        "#   print('All changes made in this colab session should now be visible in Drive.')"
      ],
      "metadata": {
        "id": "SVSZbTIchM28"
      },
      "id": "SVSZbTIchM28",
      "execution_count": null,
      "outputs": []
    },
    {
      "cell_type": "code",
      "execution_count": null,
      "id": "aaa3cc3c-e1a4-489b-b0c6-e25bd045783f",
      "metadata": {
        "id": "aaa3cc3c-e1a4-489b-b0c6-e25bd045783f"
      },
      "outputs": [],
      "source": [
        "fasttext.util.download_model('en', if_exists='ignore')  # English\n",
        "ft = fasttext.load_model('cc.en.300.bin')\n",
        "ft.save_model(model_path + \"pretrained_model.bin\")"
      ]
    },
    {
      "cell_type": "code",
      "source": [
        "def fasttext_tuner(data_type, dimensionality = 300, window_size = 5, min_n = 3, max_n = 6):\n",
        "  ## Input: \n",
        "  # - Data Type: Sentenced or unsentenced, to load the corpus type to train model\n",
        "  # - Dimensionality: List of dimensionalities\n",
        "  # - Window size: List of window sizes \n",
        "  # - Min_n: List of minimum n-gram sizes \n",
        "  # - Max-n: List of maximum n-gram sizes \n",
        "\n",
        "  ## Process: \n",
        "  # For every combination of input variables, a fastText model is trained and saved\n",
        "\n",
        "  ## Output:\n",
        "  # Nothing; fastText model is trained and saved\n",
        "\n",
        "  for d in dimensionality:                                           \n",
        "    for ws in window_size:                                    \n",
        "      for minn in min_n:                                                 \n",
        "        for maxn in max_n:\n",
        "          drive.mount(\"/content/drive\", force_remount=True)                     ## Mount drive\n",
        "\n",
        "          model = fasttext.train_unsupervised(input = path + \"cleaned_\" + data_type + \"_corpus_complete_without_p_s_m.txt\",   ## Train model\n",
        "                                              model = \"skipgram\", dim = d, ws = ws, minn = minn, maxn = maxn)\n",
        "\n",
        "          model.save_model(model_path + data_type + \"_dim\" + str(d) + \"_ws\" + str(ws) + \"_minn\" + str(minn) + \"_maxn\" + str(maxn) + \".bin\")   ## Save model\n",
        "\n",
        "          print(data_type + \"_dim\" + str(d) + \"_ws\" + str(ws) + \"_minn\" + str(minn) + \"_maxn\" + str(maxn))\n",
        "\n",
        "          drive.flush_and_unmount()                                             ## Flush model to drive\n",
        "          print('All changes made in this colab session should now be visible in Drive.')\n",
        "\n",
        "          del model"
      ],
      "metadata": {
        "id": "QCnCgy1QqXmQ"
      },
      "id": "QCnCgy1QqXmQ",
      "execution_count": null,
      "outputs": []
    },
    {
      "cell_type": "code",
      "source": [
        "## Trying out some variations of fastText with Data = sentenced & Dimensionality = 100\n",
        "\n",
        "fasttext_tuner(\"sentenced\", [100], [2], [2], [3])\n",
        "fasttext_tuner(\"sentenced\", [100], [2, 3, 4, 5, 6, 7], [2], [5, 6, 7])\n",
        "fasttext_tuner(\"sentenced\", [100], [5], [3], [6])\n",
        "fasttext_tuner(\"sentenced\", [100], [5], [1], [6])\n",
        "\n",
        "## Trying out some variations of fastText with Data = sentenced & Dimensionality = 300\n",
        "\n",
        "fasttext_tuner(\"sentenced\", [300], [3, 4], [2], [5, 6, 7])\n",
        "fasttext_tuner(\"sentenced\", [300], [5], [2], [5, 6])\n",
        "fasttext_tuner(\"sentenced\", [300], [5], [3], [6])\n",
        "fasttext_tuner(\"sentenced\", [300], [3], [3], [5])\n",
        "fasttext_tuner(\"sentenced\", [300], [3], [2], [4])\n",
        "fasttext_tuner(\"sentenced\", [300], [2, 6, 7], [2], [5])\n",
        "\n",
        "## Trying out some variations of fastText with Data = unsentenced \n",
        "\n",
        "fasttext_tuner(\"unsentenced\", [300], [5], [3], [6])\n",
        "fasttext_tuner(\"unsentenced\", [100], [5], [3], [6])"
      ],
      "metadata": {
        "id": "BEfZcRmNqXfi"
      },
      "id": "BEfZcRmNqXfi",
      "execution_count": null,
      "outputs": []
    },
    {
      "cell_type": "code",
      "source": [
        "## Doing it one last time, this time with seeds + an n-gramless model\n",
        "\n",
        "random.seed(17042020)\n",
        "\n",
        "fasttext_tuner('sentenced', [300], [2], [2], [5])\n",
        "\n",
        "random.seed(17042020)\n",
        "\n",
        "fasttext_tuner('sentenced', [300], [2], [0], [0])"
      ],
      "metadata": {
        "colab": {
          "base_uri": "https://localhost:8080/"
        },
        "id": "FoucNSJNgsXD",
        "outputId": "97e164f0-bfce-4dea-eeaa-97781078dcfb"
      },
      "id": "FoucNSJNgsXD",
      "execution_count": null,
      "outputs": [
        {
          "output_type": "stream",
          "name": "stdout",
          "text": [
            "Mounted at /content/drive\n"
          ]
        }
      ]
    },
    {
      "cell_type": "markdown",
      "source": [
        "### MEN and SimLex Benchmarks"
      ],
      "metadata": {
        "id": "auG91yFzwfxP"
      },
      "id": "auG91yFzwfxP"
    },
    {
      "cell_type": "code",
      "source": [
        "def compute_similarity(model, word1, word2, sub_lexical = False):\n",
        "  # Input:\n",
        "  # - Model = the model that is used to get embeddings for word1 and word2\n",
        "  # - Word1 = the first word\n",
        "  # - Word2 = the second word\n",
        "\n",
        "  # Process: \n",
        "  # Given the embeddings for word1 and word2 derived from the model, calculate\n",
        "  # the cosine similarity between these words\n",
        "\n",
        "  # Output:\n",
        "  # The cosine similarity between word1 and word2 given the current model\n",
        "    if sub_lexical == False:\n",
        "      e1 = model[word1]\n",
        "      e2 = model[word2]\n",
        "      s = cosine_similarity(e1.reshape(1, -1), e2.reshape(1, -1))\n",
        "\n",
        "    else:\n",
        "      e1 = fasttext_xifyer_ngram(pd.DataFrame([word1]))\n",
        "      e2 = fasttext_xifyer_ngram(pd.DataFrame([word2]))\n",
        "      s = cosine_similarity(e1.reshape(1, -1), e2.reshape(1, -1))\n",
        "    \n",
        "    return s[0][0]"
      ],
      "metadata": {
        "id": "GVAVzmt0wixs"
      },
      "id": "GVAVzmt0wixs",
      "execution_count": null,
      "outputs": []
    },
    {
      "cell_type": "code",
      "source": [
        "def compute_correlation_men(norms, model, sub_lexical = False):\n",
        "  # Input:\n",
        "  # - Norms = The MEN similarity scores for word1 and word2\n",
        "  # - Model = the model that will be scored\n",
        "\n",
        "  # Process: \n",
        "  # For every model, note down the true similarity score (as dictated by the MEN\n",
        "  # benchmark) and then estimate the similarity for the current model using the \n",
        "  # compute_similarity() function\n",
        "\n",
        "  # Output:\n",
        "  # The Spearman R between the true and estimated similarities for the current\n",
        "  # model.\n",
        "\n",
        "        true_similarities = []\n",
        "        estimated_similarities = []\n",
        "        if sub_lexical == False:\n",
        "          for _, row in norms.iterrows():\n",
        "              s = compute_similarity(model, row['w1'], row['w2'])\n",
        "\n",
        "              estimated_similarities.append(s)\n",
        "              true_similarities.append(row['sim'])\n",
        "          \n",
        "        else:\n",
        "          for _, row in norms.iterrows():\n",
        "              s = compute_similarity(model, row['w1'], row['w2'], True)\n",
        "\n",
        "              estimated_similarities.append(s)\n",
        "              true_similarities.append(row['sim'])\n",
        "        \n",
        "        return spearmanr(true_similarities, estimated_similarities)[0]"
      ],
      "metadata": {
        "id": "qRPpzYPdzqvD"
      },
      "id": "qRPpzYPdzqvD",
      "execution_count": null,
      "outputs": []
    },
    {
      "cell_type": "code",
      "source": [
        "def compute_correlation_simlex(norms, model, sub_lexical = False):\n",
        "  # Input:\n",
        "  # - Norms = The SimLex similarity scores for word1 and word2\n",
        "  # - Model = the model that will be scored\n",
        "\n",
        "  # Process: \n",
        "  # For every model, note down the true similarity score (as dictated by the SimLex\n",
        "  # benchmark) and then estimate the similarity for the current model using the \n",
        "  # compute_similarity() function\n",
        "\n",
        "  # Output:\n",
        "  # The Spearman R between the true and estimated similarities for the current\n",
        "  # model.\n",
        "\n",
        "        true_similarities = []\n",
        "        estimated_similarities = []\n",
        "        if sub_lexical == False:\n",
        "          for _, row in norms.iterrows():\n",
        "              s = compute_similarity(model, row['word1'], row['word2'])\n",
        "\n",
        "              estimated_similarities.append(s)\n",
        "              true_similarities.append(row['SimLex999'])\n",
        "\n",
        "        else:\n",
        "          for _, row in norms.iterrows():\n",
        "              s = compute_similarity(model, row['word1'], row['word2'], True)\n",
        "\n",
        "              estimated_similarities.append(s)\n",
        "              true_similarities.append(row['SimLex999'])\n",
        "        \n",
        "        return spearmanr(true_similarities, estimated_similarities)[0]"
      ],
      "metadata": {
        "id": "dcsEKh_KzrcZ"
      },
      "id": "dcsEKh_KzrcZ",
      "execution_count": null,
      "outputs": []
    },
    {
      "cell_type": "code",
      "source": [
        "men_norms = pd.read_csv(norms_path + 'norms.dev.csv', sep = ' ')                # Read the MEN benchmark CSV file\n",
        "\n",
        "combi_score = {}\n",
        "men_dict = {}\n",
        "\n",
        "#for model in os.listdir(model_path):                                            # For every saved model, calculate the scores on the MEN benchmarks\n",
        "#  men_dict[str(model)] = compute_correlation_men(men_norms, model)\n",
        "#  combi_score[str(model)] = compute_correlation_men(men_norms, model)\n",
        "\n",
        "#men_dict['pretrained_model'] = compute_correlation_men(men_norms, ft)           # Calculating the scores for the baseline (pretrained) model\n",
        "#combi_score['pretrained_model'] = compute_correlation_men(men_norms, ft)\n",
        "\n",
        "men_dict['ngram'] = compute_correlation_men(men_norms, model = None, sub_lexical = True)\n",
        "combi_score['ngram'] = compute_correlation_men(men_norms, model = None, sub_lexical = True)"
      ],
      "metadata": {
        "id": "kjTCodSdt7OY"
      },
      "id": "kjTCodSdt7OY",
      "execution_count": null,
      "outputs": []
    },
    {
      "cell_type": "code",
      "source": [
        "simlex_norms = pd.read_csv(norms_path + 'SimLex-999.txt', sep = '\\t')           # Read the SimLex benchmark text file\n",
        "\n",
        "simlex_dict = {}\n",
        "\n",
        "#for model in os.listdir(model_path):                                            # For every saved model, calculate the scores on the SimLex benchmarks\n",
        "#  simlex_dict[str(model)] = compute_correlation_simlex(simlex_norms, model)\n",
        "#  combi_score[str(model)] = compute_correlation_simlex(simlex_norms, model)\n",
        "\n",
        "#simlex_dict['pretrained_model')] = compute_correlation_simlex(simlex_norms, ft) # Calculating the scores for the baseline (pretrained) model\n",
        "#combi_score['pretrained_model'] = compute_correlation_simlex(simlex_norms, ft)\n",
        "\n",
        "simlex_dict['ngram'] = compute_correlation_simlex(simlex_norms, model = None, sub_lexical = True)\n",
        "combi_score['ngram'] += compute_correlation_simlex(simlex_norms, model = None, sub_lexical = True)"
      ],
      "metadata": {
        "id": "lOuL_V6Kt8zt"
      },
      "id": "lOuL_V6Kt8zt",
      "execution_count": null,
      "outputs": []
    },
    {
      "cell_type": "code",
      "source": [
        "print('Ngram model MEN score:', men_dict['ngram'])\n",
        "print('Ngram model SimLex score:', simlex_dict['ngram'])\n",
        "print('Ngram model combi score:', combi_score['ngram'])"
      ],
      "metadata": {
        "id": "G03yyE9FUnrq",
        "outputId": "daa2048a-664c-471c-feda-2eb6743f7a79",
        "colab": {
          "base_uri": "https://localhost:8080/"
        }
      },
      "id": "G03yyE9FUnrq",
      "execution_count": null,
      "outputs": [
        {
          "output_type": "stream",
          "name": "stdout",
          "text": [
            "Ngram model MEN score: 0.7690609507514868\n",
            "Ngram model SimLex score: 0.4097994610087465\n",
            "Ngram model combi score: 1.1788604117602333\n"
          ]
        }
      ]
    },
    {
      "cell_type": "code",
      "source": [
        "pickle_men = open(pickle_path + \"men_scores.pickle\", \"wb\")                       # Save the MEN scores as a pickle\n",
        "pickle.dump(men_dict, pickle_men)\n",
        "pickle_men.close()\n",
        "\n",
        "pickle_simlex = open(pickle_path + \"simlex_scores.pickle\", \"wb\")                 # Save the SimLex scores as a pickle\n",
        "pickle.dump(simlex_dict, pickle_simlex)\n",
        "pickle_simlex.close()\n",
        "\n",
        "pickle_combi = open(pickle_path + \"combi_scores.pickle\", \"wb\")                   # Save the combined scores as a pickle\n",
        "pickle.dump(combi_score, pickle_combi)\n",
        "pickle_combi.close()"
      ],
      "metadata": {
        "id": "dVz29qVhzvbh"
      },
      "id": "dVz29qVhzvbh",
      "execution_count": null,
      "outputs": []
    },
    {
      "cell_type": "code",
      "source": [
        "for i in sorted(men_dict, key = men_dict.get, reverse = True):\n",
        "    print(i, men_dict[i])"
      ],
      "metadata": {
        "id": "an2nkEf9zv2u"
      },
      "id": "an2nkEf9zv2u",
      "execution_count": null,
      "outputs": []
    },
    {
      "cell_type": "code",
      "source": [
        "for i in sorted(simlex_dict, key = simlex_dict.get, reverse = True):\n",
        "    print(i, simlex_dict[i])"
      ],
      "metadata": {
        "id": "YzNq-FeJz-CS"
      },
      "id": "YzNq-FeJz-CS",
      "execution_count": null,
      "outputs": []
    },
    {
      "cell_type": "code",
      "source": [
        "for i in sorted(combi_score, key = combi_score.get, reverse = True):\n",
        "    print(i, combi_score[i])"
      ],
      "metadata": {
        "id": "QNqql7wIz-hs"
      },
      "id": "QNqql7wIz-hs",
      "execution_count": null,
      "outputs": []
    },
    {
      "cell_type": "markdown",
      "source": [
        "## Neural Network Regressions"
      ],
      "metadata": {
        "id": "caLUM8tC6_BY"
      },
      "id": "caLUM8tC6_BY"
    },
    {
      "cell_type": "markdown",
      "source": [
        "### Final Model"
      ],
      "metadata": {
        "id": "2MhYKRfpPEVJ"
      },
      "id": "2MhYKRfpPEVJ"
    },
    {
      "cell_type": "code",
      "source": [
        "model = fasttext.load_model(model_path + 'sentenced_dim300_ws2_minn2_maxn5.bin')\n",
        "model_subwordless = fasttext.load_model(model_path + 'sentenced_dim300_ws2_minn0_maxn0.bin')"
      ],
      "metadata": {
        "id": "e64L1cxtPGmv",
        "outputId": "1c3346c9-bc9e-4362-8e4c-fd53872b3fa3",
        "colab": {
          "base_uri": "https://localhost:8080/"
        }
      },
      "id": "e64L1cxtPGmv",
      "execution_count": 6,
      "outputs": [
        {
          "output_type": "stream",
          "name": "stderr",
          "text": [
            "Warning : `load_model` does not return WordVectorModel or SupervisedModel any more, but a `FastText` object which is very similar.\n",
            "Warning : `load_model` does not return WordVectorModel or SupervisedModel any more, but a `FastText` object which is very similar.\n"
          ]
        }
      ]
    },
    {
      "cell_type": "markdown",
      "source": [
        "### Xifyers"
      ],
      "metadata": {
        "id": "Qu1YAabGVPJ7"
      },
      "id": "Qu1YAabGVPJ7"
    },
    {
      "cell_type": "code",
      "source": [
        "def fasttext_xifyer_ngram(input_data):\n",
        "  # Input & Output are exactly the same as fasttext_xifyer\n",
        "\n",
        "  # Process:\n",
        "  # Similar to fasttext_xifyer, however, if the name has a 'surface' form that \n",
        "  # is already present in the model vocabulary, then we only use the embeddings\n",
        "  # for the subwords. I.e., as compared to fasttext_xifyer, this function does \n",
        "  # NOT consider the 'surface' form embedding for the character names\n",
        "\n",
        "  if type(input_data) is not str:\n",
        "    df_output = np.zeros((len(input_data), 300))                                  # Create an array of length = number of input rows & width = 300 (because of ft)\n",
        "  else:\n",
        "    df_output = np.zeros((1, 300))\n",
        "\n",
        "  c = 0\n",
        "  \n",
        "  if type(input_data) is not str:\n",
        "    for row in input_data.iterrows():                                             # For every row in the input data\n",
        "      name = row[1][0].lower()\n",
        "      if name == model.get_subwords(name)[0][0]:                                  # If the surface form of the name is present in the model vocabulary                                                                        \n",
        "        wordarray = np.zeros(model[name].shape)\n",
        "        subword_counter = 0\n",
        "        for subword_hash in model.get_subwords(name)[1][1:]:\n",
        "          wordarray += model.get_input_vector(subword_hash)\n",
        "          subword_counter += 1\n",
        "        \n",
        "        df_output[c] = wordarray / subword_counter              \n",
        "                                      \n",
        "      else:\n",
        "        df_output[c] = model[name]                                                # Else (if no surface name is present in the model vocabulary), just take the embedding of the name as is\n",
        "\n",
        "  else:\n",
        "    name = input_data.lower()\n",
        "    if name == model.get_subwords(name)[0][0]:                                                                                                         \n",
        "      wordarray = np.zeros(model[name].shape)\n",
        "      subword_counter = 0\n",
        "      for subword_hash in model.get_subwords(name)[1][1:]:\n",
        "        wordarray += model.get_input_vector(subword_hash)\n",
        "        subword_counter += 1\n",
        "        \n",
        "      df_output[c] = wordarray / subword_counter              \n",
        "                                      \n",
        "    else:\n",
        "      df_output[c] = model[name]                                                # Else (if no surface name is present in the model vocabulary), just take the embedding of the name as is\n",
        "  c += 1\n",
        "\n",
        "  return df_output"
      ],
      "metadata": {
        "id": "ii1not4CiDLw"
      },
      "id": "ii1not4CiDLw",
      "execution_count": null,
      "outputs": []
    },
    {
      "cell_type": "code",
      "source": [
        "def fasttext_xifyer_lexical(input_data):\n",
        "  # Input & Output are exactly the same as fasttext_xifyer\n",
        "\n",
        "  # Process:\n",
        "  # Similar to fasttext_xifyer, however, if the name has a 'surface' form that \n",
        "  # is already present in the model vocabulary, then we only use the embeddings\n",
        "  # for the subwords. I.e., as compared to fasttext_xifyer, this function does \n",
        "  # NOT consider the 'surface' form embedding for the character names\n",
        "\n",
        "  if type(input_data) is not str:\n",
        "    df_output = np.zeros((len(input_data), 300))                                  # Create an array of length = number of input rows & width = 300 (because of ft)\n",
        "  else:\n",
        "    df_output = np.zeros((1, 300))\n",
        "\n",
        "  c = 0\n",
        "\n",
        "  if type(input_data) is not str:\n",
        "    for row in input_data.iterrows():                                             # For every row in the input data\n",
        "      name = row[1][0].lower()\n",
        "      if name == model.get_subwords(name)[0][0]:                                  # If the surface form of the name is present in the model vocabulary                                                                                          \n",
        "       df_output[c] = model_subwordless[name]                              \n",
        "      else:\n",
        "       print(\"something went terribly wrong\")\n",
        "       print(name)\n",
        "       break\n",
        "  \n",
        "  else:\n",
        "    name = input_data.lower()\n",
        "    if name == model.get_subwords(name)[0][0]:                                  # If the surface form of the name is present in the model vocabulary                                                                                          \n",
        "      df_output[c] = model_subwordless[name]                              \n",
        "    else:\n",
        "      print(\"something went terribly wrong\")\n",
        "      print(name)\n",
        "  \n",
        "  c += 1\n",
        "\n",
        "  return df_output"
      ],
      "metadata": {
        "id": "c-OqBfJn77PS"
      },
      "id": "c-OqBfJn77PS",
      "execution_count": null,
      "outputs": []
    },
    {
      "cell_type": "code",
      "source": [
        "def fasttext_xifyer_ngram_v2(input_data, lexical = False):\n",
        "  # v2 means that madeup names are substituted with the mean vector in case of lexical\n",
        "  # Input & Output are exactly the same as fasttext_xifyer\n",
        "\n",
        "  # Process:\n",
        "  # Similar to fasttext_xifyer, however, if the name has a 'surface' form that \n",
        "  # is already present in the model vocabulary, then we only use the embeddings\n",
        "  # for the subwords. I.e., as compared to fasttext_xifyer, this function does \n",
        "  # NOT consider the 'surface' form embedding for the character names\n",
        "\n",
        "  if type(input_data) is not str:\n",
        "    df_output = np.zeros((len(input_data), 300))                                  # Create an array of length = number of input rows & width = 300 (because of ft)\n",
        "  else:\n",
        "    df_output = np.zeros((1, 300))\n",
        "  \n",
        "  c = 0\n",
        "  \n",
        "  if type(input_data) is not str:\n",
        "    if lexical == False:\n",
        "      for row in input_data.iterrows():                                             # For every row in the input data\n",
        "        name = row[1][0].lower()\n",
        "        if name == model.get_subwords(name)[0][0]:                                  # If the surface form of the name is present in the model vocabulary                                                                        \n",
        "          wordarray = np.zeros(model[name].shape)\n",
        "          subword_counter = 0\n",
        "          for subword_hash in model.get_subwords(name)[1][1:]:\n",
        "            wordarray += model.get_input_vector(subword_hash)\n",
        "            subword_counter += 1\n",
        "          \n",
        "          df_output[c] = wordarray / subword_counter              \n",
        "                                        \n",
        "        else:\n",
        "          df_output[c] = model[name]                                                # Else (if no surface name is present in the model vocabulary), just take the embedding of the name as is\n",
        "\n",
        "    else:\n",
        "      for row in input_data.iterrows():                                             # For every row in the input data\n",
        "        name = row[1][0].lower()\n",
        "        if name == model.get_subwords(name)[0][0]:                                  # If the surface form of the name is present in the model vocabulary                                                                        \n",
        "          wordarray = np.zeros(model[name].shape)\n",
        "          subword_counter = 0\n",
        "          for subword_hash in model.get_subwords(name)[1][1:]:\n",
        "            wordarray += model.get_input_vector(subword_hash)\n",
        "            subword_counter += 1\n",
        "          \n",
        "          df_output[c] = wordarray / subword_counter              \n",
        "                                        \n",
        "        else:\n",
        "          df_output[c] = mean_vector \n",
        "\n",
        "  else:\n",
        "    name = input_data.lower()\n",
        "    if lexical == False:\n",
        "      if name == model.get_subwords(name)[0][0]:                                  # If the surface form of the name is present in the model vocabulary                                                                        \n",
        "        wordarray = np.zeros(model[name].shape)\n",
        "        subword_counter = 0\n",
        "        for subword_hash in model.get_subwords(name)[1][1:]:\n",
        "          wordarray += model.get_input_vector(subword_hash)\n",
        "          subword_counter += 1\n",
        "          \n",
        "        df_output[c] = wordarray / subword_counter              \n",
        "                                        \n",
        "      else:\n",
        "        df_output[c] = model[name]                                                # Else (if no surface name is present in the model vocabulary), just take the embedding of the name as is\n",
        "\n",
        "    else:\n",
        "      if name == model.get_subwords(name)[0][0]:                                  # If the surface form of the name is present in the model vocabulary                                                                        \n",
        "        wordarray = np.zeros(model[name].shape)\n",
        "        subword_counter = 0\n",
        "        for subword_hash in model.get_subwords(name)[1][1:]:\n",
        "          wordarray += model.get_input_vector(subword_hash)\n",
        "          subword_counter += 1\n",
        "          \n",
        "        df_output[c] = wordarray / subword_counter              \n",
        "                                        \n",
        "      else:\n",
        "        df_output[c] = mean_vector \n",
        "\n",
        "\n",
        "  c += 1\n",
        "\n",
        "  return df_output"
      ],
      "metadata": {
        "id": "cQ095e0S3n3Q"
      },
      "id": "cQ095e0S3n3Q",
      "execution_count": 25,
      "outputs": []
    },
    {
      "cell_type": "code",
      "source": [
        "def fasttext_xifyer_lexical_v2(input_data):\n",
        "  # v2 means that madeup names are substituted with the mean vector in case of lexical\n",
        "  # Input & Output are exactly the same as fasttext_xifyer\n",
        "\n",
        "  # Process:\n",
        "  # Similar to fasttext_xifyer, however, if the name has a 'surface' form that \n",
        "  # is already present in the model vocabulary, then we only use the embeddings\n",
        "  # for the subwords. I.e., as compared to fasttext_xifyer, this function does \n",
        "  # NOT consider the 'surface' form embedding for the character names\n",
        "\n",
        "  if type(input_data) is not str:\n",
        "    df_output = np.zeros((len(input_data), 300))                                  # Create an array of length = number of input rows & width = 300 (because of ft)\n",
        "  else:\n",
        "    df_output = np.zeros((1, 300))\n",
        "\n",
        "  \n",
        "  c = 0\n",
        "\n",
        "  if type(input_data) is not str:\n",
        "    for row in input_data.iterrows():                                             # For every row in the input data\n",
        "      name = row[1][0].lower()\n",
        "      if name == model.get_subwords(name)[0][0]:                                # If the surface form of the name is present in the model vocabulary                                                                                          \n",
        "        df_output[c] = model_subwordless[name]                              \n",
        "      else:\n",
        "        df_output[c] = mean_vector_subwordless\n",
        "\n",
        "  else:\n",
        "    if name == model.get_subwords(name)[0][0]:                                # If the surface form of the name is present in the model vocabulary                                                                                          \n",
        "      df_output[c] = model_subwordless[name]                              \n",
        "    else:\n",
        "      df_output[c] = mean_vector_subwordless\n",
        "  \n",
        "  c += 1\n",
        "\n",
        "  return df_output"
      ],
      "metadata": {
        "id": "AZ2AJiXu3nix"
      },
      "id": "AZ2AJiXu3nix",
      "execution_count": 26,
      "outputs": []
    },
    {
      "cell_type": "markdown",
      "source": [
        "### Mean Vectors"
      ],
      "metadata": {
        "id": "LUUBNAjAVUks"
      },
      "id": "LUUBNAjAVUks"
    },
    {
      "cell_type": "code",
      "source": [
        "mean_vector = np.zeros((len(model.words), 300))                                 # Create a mean vector array of length = amount of words in the model vocab, and width = 300\n",
        "\n",
        "i = 0\n",
        "\n",
        "for word in model.words:                          \n",
        "  mean_vector[i] = model.get_word_vector(word)                                  # For every word in the vocab, get it's word embedding vector and add it to the mean_vector array\n",
        "  i += 1\n",
        "\n",
        "mean_vector = np.mean(mean_vector, axis = 0)                                    # Take the mean of the array so that we get a mean_vector of length = 1, and width = 300"
      ],
      "metadata": {
        "id": "SLBg426YYSGw"
      },
      "id": "SLBg426YYSGw",
      "execution_count": 12,
      "outputs": []
    },
    {
      "cell_type": "code",
      "source": [
        "mean_vector_subwordless = np.zeros((len(model_subwordless.words), 300))         # Create a mean vector array of length = amount of words in the model vocab, and width = 300\n",
        "\n",
        "i = 0\n",
        "\n",
        "for word in model_subwordless.words:                          \n",
        "  mean_vector_subwordless[i] = model_subwordless.get_word_vector(word)          # For every word in the vocab, get it's word embedding vector and add it to the mean_vector array\n",
        "  i += 1\n",
        "\n",
        "mean_vector_subwordless = np.mean(mean_vector_subwordless, axis = 0)            # Take the mean of the array so that we get a mean_vector of length = 1, and width = 300"
      ],
      "metadata": {
        "id": "Jy4WyB7_T3qq"
      },
      "id": "Jy4WyB7_T3qq",
      "execution_count": 13,
      "outputs": []
    },
    {
      "cell_type": "markdown",
      "source": [
        "### Grid Search"
      ],
      "metadata": {
        "id": "icxbZNdEm15J"
      },
      "id": "icxbZNdEm15J"
    },
    {
      "cell_type": "code",
      "source": [
        "def nested_neural_network_finder(df, rating, dimension, dictionary, lexical):\n",
        "  # Input:\n",
        "  # - df = a dataframe with the name, name_type, and rating for the dimension at  \n",
        "  # hand (i.e., age, gender, or polarity)\n",
        "  # - rating = a string indicating what rating to extract from the df\n",
        "  # - dimension = a string indicating what dimension is considered (i.e., 'age',\n",
        "  # 'gender', or 'polarity')\n",
        "  # - dictionary = an empty dictionary to store the MSE output by fnn_maker() in \n",
        "  # per configuration\n",
        "\n",
        "  # Process:\n",
        "  # Given the df, get 5 train/test splits, and per fold, train a LOOCV NN model\n",
        "  # using fnn_maker() for the combined and ngram data. Then, print the scores.\n",
        "\n",
        "  # Output: \n",
        "  # Nothing, but the MSE for all different configurations in the grid search are\n",
        "  # printed\n",
        "\n",
        "  #### NOTE: For the 'extra' NN grid search, change the list of nodes and \n",
        "  #### dropout values to search and print!! I am not making this an extra \n",
        "  #### function because I already have enough and it's simple to understand.\n",
        "  \n",
        "  scores_list = []\n",
        "\n",
        "  skf = StratifiedKFold(n_splits = 5, shuffle=True, random_state=17042020)      # Set up a stratified 5-fold splitter\n",
        "\n",
        "  for train_index, test_index in skf.split(df, df[['name_type']]):              # For every fold (stratified on the name type)\n",
        "    k_fold = KFold(n_splits = len(train_index), shuffle=True, random_state=17042020) # Set up a LOOCV splitter\n",
        "\n",
        "    x_train_unfasttexted = df.iloc[train_index]                                 # Split the data into x_train and x_test\n",
        "    x_test_unfasttexted = df.iloc[test_index]\n",
        "\n",
        "    y_train = df.iloc[train_index][rating]                                      # Split the data into y_train and y_test\n",
        "    y_test = df.iloc[test_index][rating]\n",
        "\n",
        "    if lexical == False:\n",
        "      x_train = fasttext_xifyer_ngram(x_train_unfasttexted)\n",
        "      x_test = fasttext_xifyer_ngram(x_test_unfasttexted)\n",
        "\n",
        "    else:\n",
        "      x_train_unf_lexical = x_train_unfasttexted[(x_train_unfasttexted.name != 'Will') & \n",
        "                                                 (x_train_unfasttexted.name != 'Just') & \n",
        "                                                 (x_train_unfasttexted.name != 'Steepy') & \n",
        "                                                 (x_train_unfasttexted.name_type != 'madeup')]\n",
        "      x_test_unf_lexical = x_test_unfasttexted[(x_test_unfasttexted.name != 'Will') & \n",
        "                                               (x_test_unfasttexted.name != 'Just') & \n",
        "                                               (x_test_unfasttexted.name != 'Steepy') & \n",
        "                                               (x_test_unfasttexted.name_type != 'madeup')]\n",
        "      \n",
        "      x_train = fasttext_xifyer_lexical(x_train_unf_lexical)\n",
        "      x_test = fasttext_xifyer_lexical(x_test_unf_lexical)\n",
        "\n",
        "      k_fold = KFold(n_splits = len(x_train), shuffle=True, random_state=17042020)\n",
        "\n",
        "      y_train = df.iloc[train_index][(df.name != 'Will') & \n",
        "                                     (df.name != 'Just') & \n",
        "                                     (df.name != 'Steepy') &\n",
        "                                     (df.name_type != 'madeup')][rating]\n",
        "      y_test = df.iloc[test_index][(df.name != 'Will') & \n",
        "                                   (df.name != 'Just') & \n",
        "                                   (df.name != 'Steepy') & \n",
        "                                   (df.name_type != 'madeup')][rating]\n",
        "\n",
        "\n",
        "    for nested_train_index, nested_test_index in k_fold.split(x_train):         # For every fold in the LOOCV splitter\n",
        "      nested_x_train = x_train[[nested_train_index], :].reshape(len(nested_train_index), 300)  # Get a nested x_train and x_test\n",
        "\n",
        "      nested_x_test = x_train[[nested_test_index], :].reshape(len(nested_test_index), 300)\n",
        "  \n",
        "      nested_y_train = y_train.iloc[nested_train_index]                         # Get a nested y_train and y_test\n",
        "      nested_y_test = y_train.iloc[nested_test_index]\n",
        "\n",
        "      for nodes in [128, 256, 512]:                                        # For every number of nodes considered\n",
        "        for dropout in [0.2, 0.3, 0.4, 0.5, 0.6]:                               # For every initialization of dropout considered\n",
        "          \n",
        "          if lexical == False:\n",
        "            ngram_model = fnn_maker(nested_x_train, \n",
        "                                    nested_y_train, \n",
        "                                    nested_x_test, \n",
        "                                    nested_y_test, \n",
        "                                    nodes, \n",
        "                                    dropout)\n",
        "            \n",
        "            y_pred_ngram = ngram_model.predict(nested_x_test)\n",
        "            mse_ngram = mean_squared_error(nested_y_test, y_pred_ngram)\n",
        "            dictionary['ngram'][str(nodes)][str(dropout)].append(mse_ngram)       # Train a NN using the ngram data and append the scores to a dict\n",
        "\n",
        "          else:\n",
        "            lexical_model = fnn_maker(nested_x_train, \n",
        "                                      nested_y_train, \n",
        "                                      nested_x_test, \n",
        "                                      nested_y_test, \n",
        "                                      nodes, \n",
        "                                      dropout)  \n",
        "\n",
        "            y_pred_lexical = lexical_model.predict(nested_x_test)\n",
        "            mse_lexical = mean_squared_error(nested_y_test, y_pred_lexical)      \n",
        "            dictionary['lexical'][str(nodes)][str(dropout)].append(mse_lexical)   # Train a NN using the ngram data and append the scores to a dict\n",
        "    \n",
        "  \n",
        "  for nodes in [128, 256, 512]:                                                 # Given all configurations, print the combined and ngram MSE\n",
        "      for dropout in [0.2, 0.3, 0.4, 0.5, 0.6]:\n",
        "        if lexical == False:\n",
        "          ngram_mse = sum(dictionary['ngram'][str(nodes)][str(dropout)]) / len(dictionary['ngram'][str(nodes)][str(dropout)])\n",
        "          scores_list.append([dimension, 'ngram', nodes, dropout, ngram_mse])\n",
        "\n",
        "        else:\n",
        "          lexical_mse = sum(dictionary['lexical'][str(nodes)][str(dropout)]) / len(dictionary['lexical'][str(nodes)][str(dropout)])\n",
        "          scores_list.append([dimension, 'lexical', nodes, dropout, lexical_mse])\n",
        "  \n",
        "  grid_columns = ['Dimension', 'AnalysisType', 'Nodes', 'Dropout', 'MSE']\n",
        "  df = pd.DataFrame(scores_list, columns = grid_columns)\n",
        "  return df"
      ],
      "metadata": {
        "id": "AtODe-sF9eWP"
      },
      "id": "AtODe-sF9eWP",
      "execution_count": null,
      "outputs": []
    },
    {
      "cell_type": "code",
      "source": [
        "age_dict_nn_ngram = {'ngram' :{'128': {'0.2': [], '0.3': [], '0.4': [], '0.5': [], '0.6': []}, \n",
        "                               '256': {'0.2': [], '0.3': [], '0.4': [], '0.5': [], '0.6': []}, \n",
        "                               '512': {'0.2': [], '0.3': [], '0.4': [], '0.5': [], '0.6': []}}}\n",
        "\n",
        "age_dict_nn_lexical = {'lexical' :{'128': {'0.2': [], '0.3': [], '0.4': [], '0.5': [], '0.6': []}, \n",
        "                                   '256': {'0.2': [], '0.3': [], '0.4': [], '0.5': [], '0.6': []}, \n",
        "                                   '512': {'0.2': [], '0.3': [], '0.4': [], '0.5': [], '0.6': []}}} # Initialize a dictionary to store values in\n",
        "\n",
        "age_grid_scores_ngram = nested_neural_network_finder(df_age, 'rating.mean_age', 'Age', age_dict_nn_ngram, lexical = False)     # Run the nested neural network finder function\n",
        "\n",
        "age_grid_scores_lexical = nested_neural_network_finder(df_age, 'rating.mean_age', 'Age', age_dict_nn_lexical, lexical = True)\n",
        "\n",
        "age_grid_scores = pd.concat([age_grid_scores_ngram, age_grid_scores_lexical])\n",
        "\n",
        "age_grid_scores.to_csv(csv_path + '/Grid Search/age_grid_scores.csv', index=False)"
      ],
      "metadata": {
        "id": "zpZlYlMy9g3-"
      },
      "id": "zpZlYlMy9g3-",
      "execution_count": null,
      "outputs": []
    },
    {
      "cell_type": "code",
      "source": [
        "gender_dict_nn_ngram = {'ngram' :{'128': {'0.2': [], '0.3': [], '0.4': [], '0.5': [], '0.6': []}, \n",
        "                               '256': {'0.2': [], '0.3': [], '0.4': [], '0.5': [], '0.6': []}, \n",
        "                               '512': {'0.2': [], '0.3': [], '0.4': [], '0.5': [], '0.6': []}}}\n",
        "\n",
        "gender_dict_nn_lexical = {'lexical' :{'128': {'0.2': [], '0.3': [], '0.4': [], '0.5': [], '0.6': []}, \n",
        "                                    '256': {'0.2': [], '0.3': [], '0.4': [], '0.5': [], '0.6': []}, \n",
        "                                    '512': {'0.2': [], '0.3': [], '0.4': [], '0.5': [], '0.6': []}}} # Initialize a dictionary to store values in\n",
        "\n",
        "gender_grid_scores_ngram = nested_neural_network_finder(df_gender, 'rating.mean_gender', 'Gender', gender_dict_nn_ngram, lexical = False)     # Run the nested neural network finder function\n",
        "\n",
        "pickle_gender_grid_ngram = open(pickle_path + \"gender_grid_scores_ngram.pickle\", \"wb\")          \n",
        "pickle.dump(gender_grid_scores_ngram, pickle_gender_grid_ngram)\n",
        "pickle_gender_grid_ngram.close()\n",
        "\n",
        "gender_grid_scores_lexical = nested_neural_network_finder(df_gender, 'rating.mean_gender', 'Gender', gender_dict_nn_lexical, lexical = True)\n",
        "\n",
        "gender_grid_scores = pd.concat([gender_grid_scores_ngram, gender_grid_scores_lexical])\n",
        "\n",
        "gender_grid_scores.to_csv(csv_path + '/Grid Search/gender_grid_scores.csv', index=False)"
      ],
      "metadata": {
        "id": "jqWVrhwF9jDI",
        "colab": {
          "base_uri": "https://localhost:8080/"
        },
        "outputId": "3e621382-e122-4459-bb8d-1a52c9aeab8d"
      },
      "id": "jqWVrhwF9jDI",
      "execution_count": null,
      "outputs": [
        {
          "output_type": "stream",
          "name": "stdout",
          "text": [
            "Fold: 1 Time: 09/07/22:12:42:04\n",
            "Fold: 2 Time: 09/07/22:13:30:30\n",
            "Fold: 3 Time: 09/07/22:14:18:36\n",
            "Fold: 4 Time: 09/07/22:15:04:53\n",
            "Fold: 5 Time: 09/07/22:15:49:15\n"
          ]
        }
      ]
    },
    {
      "cell_type": "code",
      "source": [
        "polarity_dict_nn_ngram = {'ngram' :{'128': {'0.2': [], '0.3': [], '0.4': [], '0.5': [], '0.6': []}, \n",
        "                               '256': {'0.2': [], '0.3': [], '0.4': [], '0.5': [], '0.6': []}, \n",
        "                               '512': {'0.2': [], '0.3': [], '0.4': [], '0.5': [], '0.6': []}}}\n",
        "\n",
        "polarity_dict_nn_lexical = {'lexical' :{'128': {'0.2': [], '0.3': [], '0.4': [], '0.5': [], '0.6': []}, \n",
        "                                   '256': {'0.2': [], '0.3': [], '0.4': [], '0.5': [], '0.6': []}, \n",
        "                                   '512': {'0.2': [], '0.3': [], '0.4': [], '0.5': [], '0.6': []}}} # Initialize a dictionary to store values in\n",
        "\n",
        "polarity_grid_scores_ngram = nested_neural_network_finder(df_polarity, 'rating.mean_valence', 'Polarity', polarity_dict_nn_ngram, lexical = False)     # Run the nested neural network finder function\n",
        "\n",
        "polarity_grid_scores_lexical = nested_neural_network_finder(df_polarity, 'rating.mean_valence', 'Polarity', polarity_dict_nn_lexical, lexical = True)\n",
        "\n",
        "polarity_grid_scores = pd.concat([polarity_grid_scores_ngram, polarity_grid_scores_lexical])\n",
        "\n",
        "polarity_grid_scores.to_csv(csv_path + '/Grid Search/polarity_grid_scores.csv', index=False)"
      ],
      "metadata": {
        "id": "PA-vgaKE9jwU"
      },
      "id": "PA-vgaKE9jwU",
      "execution_count": null,
      "outputs": []
    },
    {
      "cell_type": "markdown",
      "source": [
        "### Maker and Evaluator"
      ],
      "metadata": {
        "id": "bk6Zl3StVbSb"
      },
      "id": "bk6Zl3StVbSb"
    },
    {
      "cell_type": "code",
      "source": [
        "def fnn_maker(x_train, y_train, x_test, y_test, nodes, dropout):\n",
        "  # Input:\n",
        "  # - x_train = array of embeddings used to train the model\n",
        "  # - y_train = array of ratings used to train the model\n",
        "  # - x_test = array of embeddings used to test the model\n",
        "  # - y_test = array of ratings used to test the model\n",
        "  # - nodes = integer indicating the number of nodes to use in the hidden layer\n",
        "  # - dropout = integer indicating the amount of dropout to use in the hidden layer\n",
        "\n",
        "  # Process:\n",
        "  # Train a sequential NN using the train set and return the model & test MSE\n",
        "\n",
        "  # Output:\n",
        "  # - mse = test set mean squared error\n",
        "  # - fnn_model = trained neural network model\n",
        "\n",
        "  random.seed(17042020)                                                         # Set the seed using python's built-in seed function\n",
        "  set_seed(17042020)                                                            # Set the seed using keras/tensorflow's seed function, just to be sure\n",
        "\n",
        "  fnn_model = Sequential()                                                      # Initialize a sequential NN\n",
        "\n",
        "  fnn_model.add(Dense(nodes, input_dim=300, kernel_initializer=HeNormal(), \n",
        "                      activation=keras.layers.LeakyReLU()))                     # Add a dense layer with the specified nodes\n",
        "  fnn_model.add(Dropout(dropout))\n",
        "\n",
        "  fnn_model.add(Dense(1, activation='linear'))                                  # Add a final layer\n",
        "\n",
        "  callback = EarlyStopping(monitor = 'loss', patience=3)                        # Add early stopping that stops after 3 rounds without improvement\n",
        "\n",
        "  fnn_model.compile(optimizer=Adam(), loss='mean_squared_error')                # Compile the model with mean squared loss\n",
        "\n",
        "  fnn_model.fit(x_train, y_train, epochs=100, batch_size=len(x_train), \n",
        "                callbacks=[callback], verbose=0)                                # Fit the model on the train set\n",
        "\n",
        "  return fnn_model"
      ],
      "metadata": {
        "id": "IWq2EO-683go"
      },
      "id": "IWq2EO-683go",
      "execution_count": 19,
      "outputs": []
    },
    {
      "cell_type": "code",
      "source": [
        "def model_evaluator(trained_model, x_train, x_test, y_train, y_test, pred_dict, \n",
        "                    test_names, test_name_types, lexical = None):\n",
        "  \n",
        "  #### Add predictions to the pred_dict\n",
        "  if lexical is True:\n",
        "    mean_vec_prediction = float(trained_model.predict(mean_vector_subwordless.reshape(1, -1)))\n",
        "  else:\n",
        "    mean_vec_prediction = float(trained_model.predict(mean_vector.reshape(1, -1)))\n",
        "\n",
        "  for n, t, i, j in zip(test_names, test_name_types, y_test, x_test):           # For every name in the test set\n",
        "      n = n.lower()                                                             # Convert name to lowercase\n",
        "      pred_dict[n] = [t, i, float(trained_model.predict(j.reshape(1, -1)))]     # Add predictions to the predictions dictionary\n",
        "      pred_dict[n + '_mean_vector'] = [t, i, mean_vec_prediction]               # Add predictions to the mean_vector predictions dictionary\n",
        "\n",
        "  \n",
        "  ##############################################################################\n",
        "\n",
        "  y_pred = trained_model.predict(x_test)\n",
        "\n",
        "  mae_test = mean_absolute_error(y_test, y_pred)\n",
        "  \n",
        "  ##### MAE per name type ######################################################\n",
        "\n",
        "  type_dict = {}\n",
        "  type_counter = {}\n",
        "  for n, i, j in zip(test_name_types, y_test, x_test):                          # For every name type (i.e., real, talking, and madeup)\n",
        "    if n in type_dict.keys():\n",
        "      type_dict[n] = type_dict[n] + abs(i - trained_model.predict(j.reshape(1, -1)))   # Append the MAE for every name given that type (so that you get a sum of MAEs; one for each name)\n",
        "      type_counter[n] = type_counter[n] + 1                                     # And count the number of names given that type\n",
        "    else:\n",
        "      type_dict[n] = abs(i - trained_model.predict(j.reshape(1, -1)))\n",
        "      type_counter[n] = 1\n",
        "\n",
        "  for i in type_dict.keys():\n",
        "    globals()[f\"mae_{i}\"] = float(type_dict[i])/float(type_counter[i])          # Calculate the average MAE per name type: (sum of MAEs for name type / name counter for name type)\n",
        "\n",
        "  if 'madeup' not in type_dict.keys():\n",
        "    globals()[f\"mae_madeup\"] = None\n",
        "\n",
        "  if 'talking' not in type_dict.keys():\n",
        "    globals()[f\"mae_talking\"] = None\n",
        "\n",
        "  if 'real' not in type_dict.keys():\n",
        "    globals()[f\"mae_real\"] = None\n",
        "\n",
        "  ##### Mean Only ##############################################################\n",
        "\n",
        "  if lexical is True:\n",
        "    mean_vec_array = np.full((len(x_test), 300), mean_vector_subwordless)\n",
        "  else:\n",
        "    mean_vec_array = np.full((len(x_test), 300), mean_vector)                     # Create a mean vector array with length = test_set_length, and width = 300\n",
        "\n",
        "  mean_vec_mae_test = mean_absolute_error(y_test, trained_model.predict(mean_vec_array))# Retrieve the MAE for the mean vector array\n",
        "\n",
        "  return mae_test, mae_madeup, mae_real, mae_talking, mean_vec_mae_test"
      ],
      "metadata": {
        "id": "TkYmoAHHhkMn"
      },
      "id": "TkYmoAHHhkMn",
      "execution_count": 20,
      "outputs": []
    },
    {
      "cell_type": "code",
      "source": [
        "column_list_pred = ['Name', 'NameType', 'TrueRating', 'NgramRating',            # Initialize a list of column names for the prediction CSVs that will be created later\n",
        "                    'NgramMeanVecRating', 'NgramLexRating', 'NgramLexMeanVecRating', \n",
        "                    'LexicalRating', 'LexicalMeanVecRating']          "
      ],
      "metadata": {
        "id": "27OABdtQp29q"
      },
      "id": "27OABdtQp29q",
      "execution_count": 21,
      "outputs": []
    },
    {
      "cell_type": "markdown",
      "source": [
        "### Evaluation of Final Model"
      ],
      "metadata": {
        "id": "UW5MsCxom7e0"
      },
      "id": "UW5MsCxom7e0"
    },
    {
      "cell_type": "markdown",
      "source": [
        "##### Functions"
      ],
      "metadata": {
        "id": "5KWWakqlQFf4"
      },
      "id": "5KWWakqlQFf4"
    },
    {
      "cell_type": "code",
      "source": [
        "def fnn_maker_and_evaluator(x_train, y_train, x_test, y_test, pred_dict, \n",
        "                            test_names, test_name_types, nodes, dropout, lexical = None):\n",
        "  # Input:\n",
        "  # - x_train = array of embeddings used to train the model\n",
        "  # - y_train = array of ratings used to train the model\n",
        "  # - x_test = array of embeddings used to test the model\n",
        "  # - y_test = array of ratings used to test the model\n",
        "  # - pred_dict = a dictionary that will be filled with predictions per name\n",
        "  # - test_names = dataframe containing the full names (i.e., not the embeddings) \n",
        "  # - test_name_types = dataframe containing the name type (real, madeup, talking)\n",
        "  # - nodes = integer indicating the number of nodes to use in the hidden layer\n",
        "  # - dropout = integer indicating the amount of dropout to use in the hidden layer\n",
        "\n",
        "  # Process:\n",
        "  # Train a sequential NN using the train set using fnn_maker(). Then, evaluate\n",
        "  # the model using model_evaluator and return the values.\n",
        "\n",
        "  # Output:\n",
        "  # Too many to explain here. Basically, a bunch of metrics to test the model.\n",
        "\n",
        "  #_, fnn_model = fnn_maker(x_train, y_train, x_test, y_test, nodes, dropout)\n",
        "  \n",
        "  fnn_model = fnn_maker(x_train, y_train, x_test, y_test, nodes, dropout)\n",
        "\n",
        "  mae_test, mae_madeup, mae_real, mae_talking, mean_vec_mae_test \\\n",
        "  = model_evaluator(fnn_model, x_train, x_test, y_train, y_test, \n",
        "                    pred_dict, test_names, test_name_types, lexical)\n",
        "\n",
        "  return mae_test, mae_madeup, mae_real, mae_talking, mean_vec_mae_test"
      ],
      "metadata": {
        "id": "wJ4Vxbtaar8W"
      },
      "id": "wJ4Vxbtaar8W",
      "execution_count": 8,
      "outputs": []
    },
    {
      "cell_type": "code",
      "source": [
        "def neural_network_k_folder(df, rating, dimension, dictionary, nodes, dropout):\n",
        "  # Input:\n",
        "  # - df = a dataframe with the name, name_type, and rating for the dimension at  \n",
        "  # hand (i.e., age, gender, or polarity)\n",
        "  # - rating = a string indicating what rating to extract from the df\n",
        "  # - dimension = a string indicating what dimension is considered (i.e., 'age',\n",
        "  # 'gender', or 'polarity')\n",
        "  # - dictionary = an empty dictionary to store the MSE output by fnn_maker() in \n",
        "  # per configuration\n",
        "  # - nodes = integer indicating the number of nodes to use in the hidden layer\n",
        "  # - dropout = integer indicating the amount of dropout to use in the hidden layer\n",
        "\n",
        "  # Process:\n",
        "  # Given the df, get 5 train/test splits, and per fold, train a NN model using\n",
        "  # fnn_maker() for the combined, ngram, and lexical data. Then, store these\n",
        "  # metrics in a .csv file.\n",
        "\n",
        "  # Output: \n",
        "  # - pred_dict_combined: y_true and y_pred (for several conditions) per name (combined)\n",
        "  # - pred_dict_ngram: y_true and y_pred (for several conditions) per name (ngram)\n",
        "  # - pred_dict_lexical: y_true and y_pred (for several conditions) per name (lexical)\n",
        "\n",
        "  loocv = LeaveOneOut()                                                         # Set up stratified LOOCV\n",
        "  \n",
        "  pred_dict_ngram = {}                                                          # Set up two dictionaries to store the predicted y-values for the test names in\n",
        "  pred_dict_ngram_lex = {}\n",
        "  pred_dict_lexical = {}\n",
        "\n",
        "  for train_index, test_index in loocv.split(df):                               # For every fold (stratified on the name type, i.e., real, madeup, or talking)\n",
        "    x_train_unfasttexted = df.iloc[train_index]                                 # Split the data into x_train and x_test\n",
        "    x_test_unfasttexted = df.iloc[test_index]\n",
        "                             \n",
        "    \n",
        "    x_train_ngram = fasttext_xifyer_ngram_v2(x_train_unfasttexted)                 # Get the word embeddings\n",
        "    x_train_ngram_lex = fasttext_xifyer_ngram_v2(x_train_unfasttexted, lexical = True)\n",
        "    x_train_lexical = fasttext_xifyer_lexical_v2(x_train_unfasttexted)\n",
        "\n",
        "    x_test_ngram = fasttext_xifyer_ngram_v2(x_test_unfasttexted)\n",
        "    x_test_ngram_lex = fasttext_xifyer_ngram_v2(x_test_unfasttexted, lexical = True)\n",
        "    x_test_lexical = fasttext_xifyer_lexical_v2(x_test_unfasttexted)\n",
        "\n",
        "\n",
        "    y_train = df.iloc[train_index][rating]                                      # Split the data into y_train and y_test\n",
        "    y_test = df.iloc[test_index][rating]\n",
        "\n",
        "\n",
        "    test_names = df.iloc[test_index]['name']                                    # Get a list of the names in the test set\n",
        "    test_name_types = df.iloc[test_index]['name_type']                          # Get a list of name types corresponding to the names in the test set                        \n",
        "\n",
        "\n",
        "    mae_test_ngram, mae_madeup_ngram, mae_real_ngram, mae_talking_ngram, \\\n",
        "    mean_vec_mae_test_ngram \\\n",
        "    = fnn_maker_and_evaluator(x_train_ngram, \n",
        "                              y_train, \n",
        "                              x_test_ngram, \n",
        "                              y_test, \n",
        "                              pred_dict_ngram,\n",
        "                              test_names,\n",
        "                              test_name_types, \n",
        "                              nodes,\n",
        "                              dropout)                                          # Train the NN given the fold, and return all of the variables of interest (ngram)\n",
        "    \n",
        "    dictionary['ngram'].append([mae_test_ngram, mae_madeup_ngram, \n",
        "                                      mae_real_ngram, mae_talking_ngram, \n",
        "                                      mean_vec_mae_test_ngram])               # Append the variables of interest to the dictionary\n",
        "    \n",
        "    mae_test_ngram_lex, mae_madeup_ngram_lex, mae_real_ngram_lex, mae_talking_ngram_lex, \\\n",
        "    mean_vec_mae_test_ngram_lex \\\n",
        "    = fnn_maker_and_evaluator(x_train_ngram_lex, \n",
        "                              y_train, \n",
        "                              x_test_ngram_lex, \n",
        "                              y_test, \n",
        "                              pred_dict_ngram_lex,\n",
        "                              test_names,\n",
        "                              test_name_types, \n",
        "                              nodes,\n",
        "                              dropout)                                          # Train the NN given the fold, and return all of the variables of interest (ngram)\n",
        "      \n",
        "    dictionary['ngram_lex'].append([mae_test_ngram_lex, mae_madeup_ngram_lex, \n",
        "                                    mae_real_ngram_lex, mae_talking_ngram_lex, \n",
        "                                    mean_vec_mae_test_ngram_lex])               # Append the variables of interest to the dictionary\n",
        "\n",
        "\n",
        "    \n",
        "    mae_test_lexical, mae_madeup_lexical, mae_real_lexical, mae_talking_lexical, \\\n",
        "    mean_vec_mae_test_lexical, \\\n",
        "    = fnn_maker_and_evaluator(x_train_lexical, \n",
        "                              y_train, \n",
        "                              x_test_lexical, \n",
        "                              y_test, \n",
        "                              pred_dict_lexical,\n",
        "                              test_names,\n",
        "                              test_name_types, \n",
        "                              nodes,\n",
        "                              dropout, \n",
        "                              lexical = True)                                   # Train the NN given the fold, and return all of the variables of interest (lexical)\n",
        "\n",
        "\n",
        "    dictionary['lexical'].append([mae_test_lexical, mae_madeup_lexical, \n",
        "                                  mae_real_lexical, mae_talking_lexical,\n",
        "                                  mean_vec_mae_test_lexical])                     # Append the variables of interest to the dictionary\n",
        "\n",
        "  \n",
        "  \n",
        "  column_list = ('dimension', 'analysis_type', 'mae_test', 'mae_madeup', \n",
        "                 'mae_real', 'mae_talking', 'mean_vec_mae_test', 'sd_mae_total', \n",
        "                 'sd_mae_madeup', 'sd_mae_real', 'sd_mae_talking', 'sd_mean_vec_mae')         # List indicating all of the variables of interest \n",
        "  \n",
        "  type_list = ['ngram', 'ngram_lex', 'lexical']                                              # List indicating the model type\n",
        "\n",
        "  sd_dict_nn = {'ngram' : {'total' : [], 'madeup': [], 'real': [], 'talking': [], 'mean_vec_mae': []},\n",
        "                'ngram_lex' : {'total' : [], 'madeup': [], 'real': [], 'talking': [], 'mean_vec_mae': []}, \n",
        "                'lexical': {'total' : [], 'madeup': [], 'real': [], 'talking': [], 'mean_vec_mae': []}}\n",
        "\n",
        "  for analysis_type in type_list:    \n",
        "    sd_mae_total = []\n",
        "    sd_mae_madeup = []\n",
        "    sd_mae_real = []\n",
        "    sd_mae_talking = []\n",
        "\n",
        "    sd_mean_vec_mae = []\n",
        "\n",
        "    for iteration in dictionary[analysis_type]:\n",
        "      sd_mae_total.append(iteration[0])\n",
        "      sd_mae_madeup.append(iteration[1])\n",
        "      sd_mae_real.append(iteration[2])\n",
        "      sd_mae_talking.append(iteration[3])\n",
        "\n",
        "      sd_mean_vec_mae.append(iteration[4])\n",
        "\n",
        "    sd_dict_nn[analysis_type]['total'] = np.std(sd_mae_total)\n",
        "    if analysis_type == 'ngram':\n",
        "      sd_mae_madeup = list(filter(None, sd_mae_madeup))\n",
        "      sd_dict_nn[analysis_type]['madeup'] = np.std(sd_mae_madeup)\n",
        "    else:\n",
        "      sd_dict_nn[analysis_type]['madeup'] = None\n",
        "    \n",
        "    sd_mae_real = list(filter(None, sd_mae_real))\n",
        "    sd_dict_nn[analysis_type]['real'] = np.std(sd_mae_real)\n",
        "\n",
        "    sd_mae_talking = list(filter(None, sd_mae_talking))\n",
        "    sd_dict_nn[analysis_type]['talking'] = np.std(sd_mae_talking)\n",
        "\n",
        "    sd_mae_sd_mean_vec_mae = list(filter(None, sd_mean_vec_mae))\n",
        "    sd_dict_nn[analysis_type]['mean_vec_mae'] = np.std(sd_mean_vec_mae)\n",
        "\n",
        "  ngram_list = dictionary['ngram']\n",
        "  ngram_lex_list = dictionary['ngram_lex']\n",
        "  lexical_list = dictionary['lexical']                        \n",
        "\n",
        "  ngram_list = [np.mean(x) for x in [list(filter(None, x)) for x in zip(*ngram_list)]]\n",
        "\n",
        "  ngram_lex_list = [np.mean(x) for x in [list(filter(None, x)) for x in zip(*ngram_lex_list)]]                                                  \n",
        "\n",
        "  lexical_list = [np.mean(x) for x in [list(filter(None, x)) for x in zip(*lexical_list)]]                  \n",
        "\n",
        "  csv_df = []                                                                   # Create a list of lists that will be converted to a dataframe\n",
        "\n",
        "  for value_list, analysis_type in zip([ngram_list, ngram_lex_list,             # Given the list of metrics for every model (combined, ngram, lexical)\n",
        "                                        lexical_list], type_list):\n",
        "    value_list.insert(0, analysis_type)                                         # Insert the name of the analysis type to the values (i.e., 'combined', etc.)\n",
        "    value_list.insert(0, dimension)                                             # Insert the name of the dimension (i.e., 'age', 'gender', 'polarity') to the values\n",
        "    value_list.append(sd_dict_nn[analysis_type]['total'])\n",
        "    value_list.append(sd_dict_nn[analysis_type]['madeup'])\n",
        "    value_list.append(sd_dict_nn[analysis_type]['real'])\n",
        "    value_list.append(sd_dict_nn[analysis_type]['talking'])\n",
        "    value_list.append(sd_dict_nn[analysis_type]['mean_vec_mae'])\n",
        "    csv_df.append(value_list)                                                   # Add the list of values as a row to the DF list of lists\n",
        "  \n",
        "  csv_df = pd.DataFrame(csv_df, columns=column_list)                            # Convert the list of lists to a DF\n",
        "  csv_df.to_csv(csv_path + dimension +'_nn_metrics.csv', index=False)           # Save the DF as a .csv file\n",
        "\n",
        "  return pred_dict_ngram, pred_dict_ngram_lex, pred_dict_lexical"
      ],
      "metadata": {
        "id": "HzXZVhhwfvXG"
      },
      "id": "HzXZVhhwfvXG",
      "execution_count": 14,
      "outputs": []
    },
    {
      "cell_type": "markdown",
      "source": [
        "##### Running the functions"
      ],
      "metadata": {
        "id": "ZwKSkMAaQKCV"
      },
      "id": "ZwKSkMAaQKCV"
    },
    {
      "cell_type": "code",
      "source": [
        "age_dict_nn_final = {'ngram' : [], 'ngram_lex' : [], 'lexical': []}          # initialize the score dictionary for age\n",
        "\n",
        "age_pred_dict_ngram_nn, age_pred_dict_ngram_lex_nn, \\\n",
        "age_pred_dict_lexical_nn = \\\n",
        "neural_network_k_folder(df_age, 'rating.mean_age', 'age', \n",
        "                        age_dict_nn_final, 256, 0.5)                            # Perform the 5-fold cross validation and save the metrics as a .csv file\n",
        "\n",
        "pickle_age_nn_final = open(pickle_path + \"age_nn_final.pickle\", \"wb\")           # Save the dictionary to a pickle\n",
        "pickle.dump(age_dict_nn_final, pickle_age_nn_final)\n",
        "pickle_age_nn_final.close()"
      ],
      "metadata": {
        "id": "uRe68H44NzG3"
      },
      "id": "uRe68H44NzG3",
      "execution_count": 27,
      "outputs": []
    },
    {
      "cell_type": "code",
      "source": [
        "age_pred_nn_df = []                                                             # Create a list of lists that will be converted to a dataframe\n",
        "\n",
        "for i in sorted(df_age['name']):                                                # For every name in the dataframe\n",
        "  i = i.lower()\n",
        "\n",
        "  try:\n",
        "    age_pred_nn_df.append([i, age_pred_dict_ngram_nn[i][0],                     # Append the name, name type, and normal + mean_vector only predictions for the\n",
        "                          age_pred_dict_ngram_nn[i][1],                        # three model types as a row to the list of lists\n",
        "                          age_pred_dict_ngram_nn[i][2], \n",
        "                          age_pred_dict_ngram_nn[i + '_mean_vector'][2],\n",
        "                          age_pred_dict_ngram_lex_nn[i][2], \n",
        "                          age_pred_dict_ngram_lex_nn[i + '_mean_vector'][2], \n",
        "                          age_pred_dict_lexical_nn[i][2],\n",
        "                          age_pred_dict_lexical_nn[i + '_mean_vector'][2]])\n",
        "    \n",
        "  except KeyError:\n",
        "    age_pred_nn_df.append([i, age_pred_dict_ngram_nn[i][0],                     # Append the name, name type, and normal + mean_vector only predictions for the\n",
        "                          age_pred_dict_ngram_nn[i][1],                        # three model types as a row to the list of lists\n",
        "                          age_pred_dict_ngram_nn[i][2], \n",
        "                          age_pred_dict_ngram_nn[i + '_mean_vector'][2], \n",
        "                          None, None, None, None])\n",
        "  \n",
        "age_pred_nn_df = pd.DataFrame(age_pred_nn_df, columns=column_list_pred)         # Convert list of lists to DF\n",
        "\n",
        "age_pred_nn_df.to_csv(csv_path + 'age_pred_nn.csv', index=False)                # Save DF as .csv"
      ],
      "metadata": {
        "id": "GrhHgAbgru1Q"
      },
      "id": "GrhHgAbgru1Q",
      "execution_count": 28,
      "outputs": []
    },
    {
      "cell_type": "code",
      "source": [
        "gender_dict_nn_final = {'ngram' : [], 'ngram_lex' : [], 'lexical': []}          # initialize the score dictionary for gender\n",
        "\n",
        "gender_pred_dict_ngram_nn, gender_pred_dict_ngram_lex_nn, \\\n",
        "gender_pred_dict_lexical_nn = \\\n",
        "neural_network_k_folder(df_gender, 'rating.mean_gender', 'gender', \n",
        "                        gender_dict_nn_final, 512, 0.2)                         # Perform the 5-fold cross validation and save the metrics as a .csv file\n",
        "\n",
        "pickle_gender_nn_final = open(pickle_path + \"gender_nn_final.pickle\", \"wb\")     # Save the dictionary to a pickle\n",
        "pickle.dump(gender_dict_nn_final, pickle_gender_nn_final)\n",
        "pickle_gender_nn_final.close()"
      ],
      "metadata": {
        "id": "iGyedeucLT-z"
      },
      "id": "iGyedeucLT-z",
      "execution_count": null,
      "outputs": []
    },
    {
      "cell_type": "code",
      "source": [
        "gender_pred_nn_df = []                                                          # Create a list of lists that will be converted to a dataframe\n",
        "\n",
        "for i in sorted(df_gender['name']):                                             # For every name in the dataframe\n",
        "  i = i.lower()\n",
        "  try:\n",
        "    gender_pred_nn_df.append([i, gender_pred_dict_ngram_nn[i][0],               # Append the name, name type, and normal + mean_vector only predictions for the\n",
        "                              gender_pred_dict_ngram_nn[i][1],                     # three model types as a row to the list of lists\n",
        "                              gender_pred_dict_ngram_nn[i][2], \n",
        "                              gender_pred_dict_ngram_nn[i + '_mean_vector'][2],\n",
        "                              gender_pred_dict_ngram_lex_nn[i][2],\n",
        "                              gender_pred_dict_ngram_lex_nn[i + '_mean_vector'][2], \n",
        "                              gender_pred_dict_lexical_nn[i][2],\n",
        "                              gender_pred_dict_lexical_nn[i + '_mean_vector'][2]])\n",
        "\n",
        "  except KeyError:\n",
        "   gender_pred_nn_df.append([i, gender_pred_dict_ngram_nn[i][0],               # Append the name, name type, and normal + mean_vector only predictions for the\n",
        "                             gender_pred_dict_ngram_nn[i][1],                     # three model types as a row to the list of lists\n",
        "                             gender_pred_dict_ngram_nn[i][2], \n",
        "                             gender_pred_dict_ngram_nn[i + '_mean_vector'][2], \n",
        "                             None, None, None, None])\n",
        "\n",
        "gender_pred_nn_df = pd.DataFrame(gender_pred_nn_df, columns=column_list_pred)   # Convert list of lists to DF\n",
        "\n",
        "gender_pred_nn_df.to_csv(csv_path + 'gender_pred_nn.csv', index=False)          # Save DF as .csv "
      ],
      "metadata": {
        "id": "KxZU3n2jtv2W"
      },
      "id": "KxZU3n2jtv2W",
      "execution_count": null,
      "outputs": []
    },
    {
      "cell_type": "code",
      "source": [
        "polarity_dict_nn_final = {'ngram' : [], 'ngram_lex' : [], 'lexical': []}     # initialize the score dictionary for polarity\n",
        "\n",
        "polarity_pred_dict_ngram_nn, polarity_pred_dict_ngram_lex_nn, \\\n",
        "polarity_pred_dict_lexical_nn = \\\n",
        "neural_network_k_folder(df_polarity, 'rating.mean_valence', 'polarity', \n",
        "                        polarity_dict_nn_final, 512, 0.5)                       # Perform the 5-fold cross validation and save the metrics as a .csv file\n",
        "\n",
        "pickle_polarity_nn_final = open(pickle_path + \"polarity_nn_final.pickle\", \"wb\") # Save the dictionary to a pickle\n",
        "pickle.dump(polarity_dict_nn_final, pickle_polarity_nn_final)\n",
        "pickle_polarity_nn_final.close()"
      ],
      "metadata": {
        "id": "1Lv1Dqcu6n-9"
      },
      "id": "1Lv1Dqcu6n-9",
      "execution_count": null,
      "outputs": []
    },
    {
      "cell_type": "code",
      "source": [
        "polarity_pred_nn_df = []                                                        # Create a list of lists that will be converted to a dataframe\n",
        "\n",
        "for i in sorted(df_polarity['name']):                                            # For every name in the dataframe\n",
        "  i = i.lower()\n",
        "  \n",
        "  try:\n",
        "    polarity_pred_nn_df.append([i, polarity_pred_dict_ngram_nn[i][0],           # Append the name, name type, and normal + mean_vector only predictions for the\n",
        "                                polarity_pred_dict_ngram_nn[i][1],              # three model types as a row to the list of lists\n",
        "                                polarity_pred_dict_ngram_nn[i][2], \n",
        "                                polarity_pred_dict_ngram_nn[i + '_mean_vector'][2], \n",
        "                                polarity_pred_dict_ngram_lex_nn[i][2], \n",
        "                                polarity_pred_dict_ngram_lex_nn[i + '_mean_vector'][2],\n",
        "                                polarity_pred_dict_lexical_nn[i][2],\n",
        "                                polarity_pred_dict_lexical_nn[i + '_mean_vector'][2]])\n",
        "    \n",
        "  except KeyError:\n",
        "    polarity_pred_nn_df.append([i, polarity_pred_dict_ngram_nn[i][0],           # Append the name, name type, and normal + mean_vector only predictions for the\n",
        "                                polarity_pred_dict_ngram_nn[i][1],              # three model types as a row to the list of lists\n",
        "                                polarity_pred_dict_ngram_nn[i][2], \n",
        "                                polarity_pred_dict_ngram_nn[i + '_mean_vector'][2],  \n",
        "                                None, None, None, None])\n",
        "  \n",
        "polarity_pred_nn_df = pd.DataFrame(polarity_pred_nn_df, columns=column_list_pred) # Convert list of lists to DF\n",
        "\n",
        "polarity_pred_nn_df.to_csv(csv_path + 'polarity_pred_nn.csv', index=False)   # Save DF as .csv"
      ],
      "metadata": {
        "id": "WzWlpaaR6caY"
      },
      "id": "WzWlpaaR6caY",
      "execution_count": null,
      "outputs": []
    },
    {
      "cell_type": "markdown",
      "source": [
        "#### Adding all metrics CSVs together"
      ],
      "metadata": {
        "id": "nCzfcZcwOH9D"
      },
      "id": "nCzfcZcwOH9D"
    },
    {
      "cell_type": "code",
      "source": [
        "csv_complete = []                                                               # Create list of lists, that will be converted to a DF\n",
        "\n",
        "for file_name in sorted(os.listdir(csv_path)):                                  # Locate all files in the folder\n",
        "  if file_name == 'complete_metrics.csv':\n",
        "    pass\n",
        "  else:\n",
        "    if file_name[-11:] == 'metrics.csv':                                          # If the files ends with 'metrics.csv'\n",
        "      df_temp = pd.read_csv(csv_path + file_name)                                 # Convert the .csv file to a DF\n",
        "      columns = list(df_temp.columns)\n",
        "\n",
        "      for row in df_temp.values.tolist():                                       # For every row\n",
        "        csv_complete.append(row)                                                # Append the row to the list of lists\n",
        "\n",
        "csv_complete = pd.DataFrame(csv_complete, columns=columns)                      # Convert list of lists to a DF\n",
        "csv_complete.to_csv(csv_path + 'complete_metrics.csv', index=False)             # Save DF as a .csv file"
      ],
      "metadata": {
        "id": "oj4ZTaCZOE4s"
      },
      "id": "oj4ZTaCZOE4s",
      "execution_count": null,
      "outputs": []
    },
    {
      "cell_type": "markdown",
      "source": [
        "## Delta Good/Bad ; Unsupervised (basically WEAT, but not WEAT)\n",
        "We can also move to some place that is less unsupervised.\n",
        "\n",
        "→ This is the delta(good - bad) idea\n",
        "\n",
        "<br>\n",
        "\n",
        "⇒ For every model, you can get the embedding for good and for bad, and for every name you can check whether it’s closer to good or closer to bad. (using the words used in the participant questionnaire). \n",
        "\n",
        "<br>\n",
        "\n",
        "So: cos(name, ‘good’) - cos(name, ‘evil’) for both the n-gram and the lexical model. So for the n-gram model, don’t use the lexical form for the name, but do include it for ‘good’ and ‘bad’\n",
        "\n",
        "<br>\n",
        "\n",
        "So dataset has: name, model (n-gram or lexical), name type, attribute, delta, ratings\n",
        "\n",
        "Then predict: delta ~ rating (maybe also * name type)\n",
        "\n",
        "→ per attribute\n"
      ],
      "metadata": {
        "id": "0rF5Rb9BrBrk"
      },
      "id": "0rF5Rb9BrBrk"
    },
    {
      "cell_type": "code",
      "source": [
        "good_ngram_vec = fasttext_xifyer_ngram('good')\n",
        "bad_ngram_vec = fasttext_xifyer_ngram('bad')\n",
        "young_ngram_vec = fasttext_xifyer_ngram('young')\n",
        "old_ngram_vec = fasttext_xifyer_ngram('old')\n",
        "male_ngram_vec = fasttext_xifyer_ngram('male')\n",
        "female_ngram_vec = fasttext_xifyer_ngram('female')\n",
        "\n",
        "good_lex_vec = fasttext_xifyer_lexical('good')\n",
        "bad_lex_vec = fasttext_xifyer_lexical('bad')\n",
        "young_lex_vec = fasttext_xifyer_lexical('young')\n",
        "old_lex_vec = fasttext_xifyer_lexical('old')\n",
        "male_lex_vec = fasttext_xifyer_lexical('male')\n",
        "female_lex_vec = fasttext_xifyer_lexical('female')"
      ],
      "metadata": {
        "id": "GGQN7IfcrTu-"
      },
      "id": "GGQN7IfcrTu-",
      "execution_count": null,
      "outputs": []
    },
    {
      "cell_type": "code",
      "source": [
        "age_names = df_age['name']\n",
        "\n",
        "age_deltas = {}\n",
        "\n",
        "for name in age_names:\n",
        "  name_ngram_vec = fasttext_xifyer_ngram_v2(name)\n",
        "  name_ngramlex_vec = fasttext_xifyer_ngram_v2(name, lexical = True)\n",
        "  name_lex_vec = fasttext_xifyer_lexical_v2(name)\n",
        "\n",
        "  delta_ngram_age = cosine_similarity(name_ngram_vec, young_ngram_vec) - cosine_similarity(name_ngram_vec, old_ngram_vec)\n",
        "  delta_ngramlex_age = cosine_similarity(name_ngramlex_vec, young_ngram_vec) - cosine_similarity(name_ngramlex_vec, old_ngram_vec)\n",
        "  delta_lex_age = cosine_similarity(name_lex_vec, young_ngram_vec) - cosine_similarity(name_lex_vec, old_ngram_vec)\n",
        "\n",
        "  age_deltas[name] = [delta_ngram_age[0][0]]\n",
        "  age_deltas[name].append(delta_ngramlex_age[0][0])\n",
        "  age_deltas[name].append(delta_lex_age[0][0])\n",
        "\n",
        "\n",
        "print(age_deltas)"
      ],
      "metadata": {
        "colab": {
          "base_uri": "https://localhost:8080/"
        },
        "id": "5nR8sdqsg47J",
        "outputId": "8222d8eb-12b6-47a8-9a3a-a7bcd1aaa1c0"
      },
      "id": "5nR8sdqsg47J",
      "execution_count": null,
      "outputs": [
        {
          "output_type": "stream",
          "name": "stdout",
          "text": [
            "{'Adelaide': [0.016944890241334998, 0.013917573521903592], 'Alasdair': [0.015395454461214986, -0.07244183613334033], 'Alastor': [-0.05298779355003186], 'Alecto': [-0.023016394231030524], 'Alice': [-0.07324784414504681, -0.007802370999088839], 'Allie': [-0.06977263750305118, 0.04023973826107274], 'April': [-0.018998104374410685, 0.016249721135569033], 'Araminta': [-0.0149318589880027], 'Argus': [-0.10948221957571552], 'Asim': [0.030901024308038372], 'Ball': [-0.11363730054048704, 0.034986650775154574], 'Blackberry': [-0.10036053775332329, -0.0269258416698998], 'Bonny': [-0.009547732637615436, 0.04997372779438572], 'Brilliantine': [0.0005573677235332641, 0.023762389303788135], 'Cackle': [-0.09307369794896114, 0.04908732314296142], 'Chi': [0.10496778055257228], 'Chloe': [-0.08436572957246752, 0.05803289167635116], 'Claire': [-0.003815559093011456, -0.04228171899050057], 'Cooki': [-0.037349366550708196], 'Coot': [-0.1690969952751234, 0.09981693579780307], 'Dal': [-0.03025965709083417, -0.013078832599165875], 'Dalip': [0.07237418342629015], 'Dark': [-0.09156731012603209, 0.022769577836194314], 'Day': [-0.041356085081389105, 0.044601027698791096], 'Derrick': [-0.015900753209117324, 0.04131454985642803], 'Desire': [-0.035640192251076674, -0.03095225534049227], 'Ditto': [-0.11017573870368397, -0.000734513819713057], 'Dove': [-0.031095704020209558, 0.007449085558617806], 'Drill': [-0.04642166312910678, 0.09265852505728639], 'Dumpa': [-0.041596262758394176], 'Enid': [-0.04071991913653883, -0.0683457380378924], 'Ethel': [-0.05365499780223987, 0.0012407135699494497], 'Farder': [-0.006733816623119837], 'Fenrir': [0.07022204528655374], 'Fiorella': [0.016084030317309372, -0.014341765690482337], 'Flora': [-0.05894359313330838, -0.029026231375034083], 'Fortuna': [0.0431760033664228], 'Fox': [-0.1083075668143349, 0.05842813154480155], 'Francis': [0.018561171933842657, 0.005302269658109225], 'Fred': [-0.030571532466238394, 0.003554423002223653], 'Freddie': [-0.08086651381736865, 0.019481997873842884], 'George': [0.04024181572921309, -0.0021636358961617808], 'Gerald': [-0.016252674076152163, -0.02470353474820921], 'Gerard': [-0.03465000283464592, -0.024770712877439628], 'Ginny': [-0.05778028207877717, 0.02757758312150079], 'Griphook': [-0.06743479139957786], 'Ground': [-0.13060953713101864, 0.009826823764614134], 'Grunter': [-0.022727461596512677], 'Guy': [-0.03769381423004131, 0.06925780528607381], 'Hannerl': [0.03339875787857427], 'Harold': [-0.023002543934698416, -0.014868750827457691], 'Henry': [0.01194741871281546, 0.020806926668855197], 'Hepzibah': [0.010322975894814845], 'Hope': [0.032607480898463104, 0.025576881839486157], 'Ian': [-0.000825305327492698, -0.038967168086250045], 'Ione': [-0.01260555960236287], 'Iorek': [0.11656682059307], 'Jackie': [-0.005560971764450584, 0.0160704920688017], 'Joseph': [0.03970420598100666, -0.019993121953530642], 'Joy': [0.002289047109399367, 0.05864056559824213], 'Jungli': [0.08981227235408965], 'Just': [-0.018537258549991387], 'Karl': [0.011102068876339022, -0.0394399043750165], 'Kathryn': [0.08328929065349006, -0.04801462760678656], 'Kitty': [-0.042437274459980634, -0.06972542445939012], 'Kreacher': [-0.003384769679671773], 'Lak': [0.061543976644833354], 'Lavender': [-0.10731167208471704, -0.002164006485260675], 'Luft': [0.037321616607393], 'Marion': [-0.09280142688651777, -0.0035199141359266925], 'Maud': [0.031155991714096387, -0.01888406142322244], 'Mildred': [0.022961515556262913, 0.0686590842445803], 'Mina': [-0.026257670622600926, 0.08154891347012676], 'Minna': [-0.026702624029912525], 'Miskouri': [0.12470408441009462], 'Molly': [-0.07124157125172209, 0.008360691891958722], 'Mouse': [-0.10544096638386669, 0.03158235597964005], 'Muffet': [0.01610713788995108], 'Mundungus': [-0.024538015986102002], 'Myrtle': [-0.08996681536325024, 0.06092376677728818], 'Natasha': [0.0990211769835121, 0.016242716858007326], 'Nergui': [0.09180537262982363], 'Nina': [-0.007188577036016941, 0.04312219219239512], 'Nitasha': [0.04531219011817744], 'Parrish': [0.02563013774516898, 0.05293321559387405], 'Pearl': [-0.0490236411090717, 0.015585529141857388], 'Poop': [-0.10937318009699598, 0.036289501964103646], 'Ralph': [-0.015832348740906776, -0.07025485006296811], 'Roach': [-0.08699106336532952, 0.022633702807799798], 'Robbo': [0.030471790084872163], 'Rosalind': [-0.024944922892714494, -0.017905133801980718], 'Scullery': [-0.02847300723909213, 0.003642591921897132], 'Silky': [-0.04693757033156415, 0.057058711409719645], 'Simon': [0.03074090400277013, -0.11948000964687491], 'Skellig': [-0.058719725055572713], 'Skinner': [0.012870554441673954, -0.013165686875279983], 'Sparrow': [-0.04701959031944636, 0.031578969679299886], 'Spink': [-0.0394473119975588], 'Sprout': [-0.0896609587650457, 0.0520886287646648], 'Stanley': [-0.005705827443143352, 0.005287926637544758], 'Steepy': [-0.11243920689704162], 'Steg': [-0.0006583457439721108], 'Stuart': [-0.03361950344397946, -0.05297152437482537], 'Susan': [0.0242513344876798, 0.0045244908119762475], 'Sybill': [0.06096828285925493, 0.012416817036389385], 'Talentino': [0.11789659565628802], 'Tansy': [-0.043791191100669036, -0.0330481313443739], 'Tasha': [0.07501968489946881], 'Titania': [-0.0451359785281053], 'Travers': [-0.021883653997153973, 0.07426588572236142], 'Tristram': [-0.013812644029249421, -0.10371347456707157], 'William': [0.010292509239436476, -0.037677376400033616], 'Winky': [-0.05155573143933956, 0.06111621217507733], 'Wolf': [-0.02276915454640044, 0.06575377970703948], 'Wren': [-0.005633023928588998, 0.02815464637703867], 'Yak': [-0.030525054216749115, 0.10105284618514583], 'Yozadah': [0.07812796137304306], 'Zahara': [0.05971879974683775], 'Zubaida': [0.11244059529431422]}\n"
          ]
        }
      ]
    },
    {
      "cell_type": "code",
      "source": [
        "gender_names = df_gender['name']\n",
        "\n",
        "gender_deltas = {}\n",
        "\n",
        "for name in gender_names:\n",
        "  name_ngram_vec = fasttext_xifyer_ngram_v2(name)\n",
        "  name_ngramlex_vec = fasttext_xifyer_ngram_v2(name, lexical = True)\n",
        "  name_lex_vec = fasttext_xifyer_lexical_v2(name)\n",
        "\n",
        "  delta_ngram_gender = cosine_similarity(name_ngram_vec, female_ngram_vec) - cosine_similarity(name_ngram_vec, male_ngram_vec)\n",
        "  delta_ngramlex_gender = cosine_similarity(name_ngramlex_vec, female_ngram_vec) - cosine_similarity(name_ngramlex_vec, male_ngram_vec)\n",
        "  delta_lex_gender = cosine_similarity(name_lex_vec, female_ngram_vec) - cosine_similarity(name_lex_vec, male_ngram_vec)\n",
        "\n",
        "  gender_deltas[name] = [delta_ngram_gender[0][0]]\n",
        "  gender_deltas[name].append(delta_ngramlex_gender[0][0])\n",
        "  gender_deltas[name].append(delta_lex_gender[0][0])\n",
        "\n",
        "\n",
        "print(gender_deltas)"
      ],
      "metadata": {
        "colab": {
          "base_uri": "https://localhost:8080/"
        },
        "id": "9OmuAus102Uj",
        "outputId": "4d6edf93-ec3d-4f06-b3aa-1595282c4b95"
      },
      "id": "9OmuAus102Uj",
      "execution_count": null,
      "outputs": [
        {
          "output_type": "stream",
          "name": "stdout",
          "text": [
            "{'Adelaide': [-0.09637571069881579, -0.012525544694853593], 'Adelina': [-0.0433670381430632, 0.01788797965629605], 'Alasdair': [-0.08927445258775812, -0.011556105288252884], 'Alastor': [-0.06206052368798809], 'Alecto': [-0.033834639162066915], 'Alice': [-0.05427693660115657, 0.03423240701629288], 'Allie': [-0.0757874790161252, -0.0055530656552746915], 'Amabala': [-0.07781494588482188], 'Apple': [-0.04862241880320317, -0.03675865098576936], 'April': [-0.044149504105799764, 0.03351390421610757], 'Araminta': [-0.04815629944194566], 'Arcturus': [-0.02020164522386181], 'Argus': [-0.10623569191163212], 'Arobynn': [-0.06559614729598406], 'Asim': [-0.06245595489716432], 'Ball': [-0.04197720956259837, -0.020134510934572112], 'Beatrice': [-0.08161816895722396, 0.005030459761444013], 'Berry': [-0.08763407940422674, -0.028012584155238336], 'Blackberry': [-0.037914595098022336, 0.009320404503663303], 'Blue': [-0.04577029855323955, 0.043678505814462795], 'Bonny': [-0.07984902609751543, 0.006270928688369877], 'Brilliantine': [-0.06203186917724646, -0.00173264165206897], 'Brum': [-0.11830613433056619], 'Cackle': [-0.08709373966606926, -0.04040251215799924], 'Cardan': [-0.06775649598766026], 'Caroline': [-0.0653985646457057, 0.01006864871484889], 'Chaol': [-0.0957648645066354], 'Chi': [-0.10313500717950635], 'Chloe': [-0.057649239778642614, 0.04009565312884596], 'Claire': [-0.11176758175642643, -0.010258849345790404], 'Clove': [-0.043175022364395466, 0.02992062281479828], 'Cooki': [-0.022377312819916367], 'Coot': [-0.07442041038290886, 0.04238787826327418], 'Dal': [-0.08633282820058408, 0.02853474285242678], 'Dalip': [-0.04380313209609876], 'Damon': [-0.08093022623335072, 0.006737797776726371], 'Dark': [-0.06221640834203984, 0.01655470703431442], 'Day': [-0.06298125543388822, 0.005871449054740803], 'Derrick': [-0.07960774499730117, 0.0024498966073958905], 'Desire': [-0.01272599922794021, 0.032753333721450936], 'Diamond': [-0.0391838863004475, -0.011113144138442332], 'Ditto': [-0.07260526550141516, 0.002754204210174978], 'Dove': [-0.06999815485879307, -0.017625808648533893], 'Drill': [-0.04944401622751446, 0.03973341557668934], 'Dumpa': [-0.09479898413798371], 'Elena': [-0.0637493118467477, -0.01759164832212426], 'Elide': [-0.05456947038703158], 'Enid': [-0.07607334331397159, 0.015941485237402395], 'Ethel': [-0.05432924116555082, 0.01903547870250586], 'Farder': [-0.08106166957149569], 'Fenrir': [-0.10003810166630822], 'Fiorella': [-0.0658820430100786, 0.002982714864102884], 'Flick': [-0.05740248236505335, -0.01563659329374541], 'Flora': [-0.054238277110184974, 0.016076045279993255], 'Fortuna': [-0.025068724855001], 'Fox': [-0.03459007887410559, -0.0029619937802969204], 'Francis': [-0.12357670460483455, -0.00732161374127064], 'Fred': [-0.10971904590313303, 0.031297327489880525], 'Freddie': [-0.05659710915843985, 0.03611393208529555], 'Gale': [-0.12718196344816945, -0.04647614427386945], 'George': [-0.08675032364909707, 0.009896448507294566], 'Gerald': [-0.11028487710179435, -0.029277522735049476], 'Gerard': [-0.15640703163027891, -0.03927945207985739], 'Ginny': [-0.10940619668591117, 0.011851937075564499], 'Glimmer': [-0.020188208219548615, 0.01067483832231601], 'Gmork': [-0.03514409954100528], 'Goha': [-0.05094199772997432], 'Goth': [-0.06721506961835905, 0.010300714362777366], 'Griphook': [-0.020259354909588023], 'Ground': [-0.047526056529870186, -0.024731699556969067], 'Grunter': [-0.11906638692918486], 'Guy': [-0.10672041366126561, 0.028419507995814018], 'Hannerl': [-0.10918877940602134], 'Harold': [-0.11838574170101313, -0.006293397469632657], 'Henry': [-0.07607094515424087, -0.010142572531924465], 'Hepzibah': [-0.04684392857230707], 'Hope': [-0.04588454020078453, 0.02247944336693499], 'Ian': [-0.1116033929651502, -0.0018868061534347454], 'Inej': [-0.08625979891105229], 'Ione': [-0.09820426307182067], 'Iorek': [-0.11662186151751092], 'Jackie': [-0.055613094263483265, 0.03806635902776408], 'Jadis': [-0.08079043987546347, -0.005343149494305741], 'Jewel': [-0.019920904547811036, 0.0021375507159711385], 'Joseph': [-0.0733804769554734, 0.014280588279335031], 'Joy': [-0.0382686992011107, 0.03752384427761496], 'Jude': [-0.0813421988977211, -0.018180291517855246], 'Julia': [-0.03812664803773533, -0.0034839838636200327], 'Jungli': [-0.0826712049576668], 'Just': [-0.06937825036302386], 'Kaisa': [-0.05149025530973367], 'Karl': [-0.11083941162835875, 0.02830880975479875], 'Kathryn': [-0.050703354424619956, -0.008992428384243224], 'Kaz': [-0.06623403792317709], 'Kitty': [-0.024462450683024994, 0.021021449175073936], 'Klaus': [-0.08079419233482676, 0.026711739776362695], 'Kreacher': [-0.13771260021797857], 'Lak': [-0.11472324670742218], 'Lark': [-0.10494723934367672, 0.03236077828836956], 'Lavender': [-0.061703267948128804, 0.04169015820004211], 'Lee': [-0.13063501992774762, -0.008271589612827859], 'Levana': [-0.06817793309209075], 'Lorcan': [-0.0649372716928111], 'Lucy': [-0.04684400680468748, 0.04629340586408998], 'Luft': [-0.050459983894237254], 'Lyra': [-0.03045171010919545, 0.015974607940673114], 'Marion': [-0.08580249854908073, -0.026808281013121743], 'Marisa': [-0.07740634405231828, -0.02092712833658225], 'Marvel': [-0.022338720026340853, 0.02805429121726584], 'Matthias': [-0.12300943632338113, -0.03206065947922593], 'Maud': [-0.06199093246843412, 0.02885289926385685], 'Mildred': [-0.0928473136765503, 0.00038339750778387804], 'Mina': [-0.07371066269914878, 0.010985890264616369], 'Minna': [-0.07929170446674588], 'Miskouri': [-0.08289117740518692], 'Mogget': [-0.11030736082859408], 'Molly': [-0.08152009862898818, 0.024261564315748597], 'Morgra': [-0.07775416683741943], 'Mouse': [-0.04632427583292381, 0.015442154343292436], 'Muffet': [-0.053492250904418365], 'Mundungus': [-0.061394683155108654], 'Myrtle': [-0.05569143921308678, 0.02730878935678955], 'Natasha': [-0.051686558528208526, 0.0035951466522359324], 'Neoma': [-0.03670582569418851], 'Nergui': [-0.07842519738010187], 'Nessa': [-0.07826393441574075, -0.0056976823697074755], 'Nina': [-0.07502484077181554, -0.011718558293319872], 'Nitasha': [-0.049247751642266246], 'Nova': [-0.02887186170846323, -0.02240522161129755], 'Parrish': [-0.10108421677449714, 0.0302439806630333], 'Pearl': [-0.09409879671591417, 0.04728085238873378], 'Penthe': [-0.07013658791722593], 'Peter': [-0.14313463050503666, 0.0014607354945076895], 'Poop': [-0.030360542255610468, -0.030126498341918526], 'Ralph': [-0.07176232385974252, 0.030772140852340747], 'Roach': [-0.08524205350676245, -0.032031449690913545], 'Robbo': [-0.11003431485545495], 'Rosalind': [-0.07104633631733098, -0.017782629270852692], 'Saiorse': [-0.11093334225198143], 'Schaffa': [-0.1028335066215281], 'Scotch': [-0.06132169752629102, 0.051224557008039795], 'Scullery': [-0.10050090507545861, -0.012234928664727182], 'Serafina': [-0.11117106995323273], 'Silky': [-0.01491522793642891, 0.02302784436665513], 'Simon': [-0.15154349010958534, 0.011959083481577065], 'Skellig': [-0.10874169080518287], 'Skinner': [-0.07986763769079397, -0.023634005277302347], 'Spark': [-0.033588199482756265, -0.00553241189836786], 'Sparrow': [-0.04767808544806729, -0.011401715301335387], 'Spink': [-0.041127889330019984], 'Sprout': [-0.02993795519942355, 0.011330176070028066], 'Stanley': [-0.10854381622826614, -0.020863111730185582], 'Steepy': [-0.0583963592577286], 'Steg': [-0.1113992017873956], 'Stuart': [-0.12405799804564199, 0.009726957204980072], 'Sunny': [-0.03380260930228102, 0.03153322483096058], 'Susan': [-0.06313658215000678, -0.0014374660635058933], 'Sway': [-0.0761244937700088, -0.00684424610510849], 'Sybill': [-0.03877045246108546, -0.009270253592857339], 'Talentino': [-0.05741580853178002], 'Tansy': [-0.06726342465183272, 0.02857743759165554], 'Tasha': [-0.057069166013449385], 'Tenar': [-0.06626462498428243], 'Thresh': [-0.07603218060604194, 0.02392345146946466], 'Titania': [-0.0264351355975887], 'Tobias': [-0.13016103743744722, -0.027918301722546897], 'Touchstone': [-0.018776439652894605, 0.011661986174089846], 'Travers': [-0.06038165373145865, -0.026427176596035523], 'Tristram': [-0.10856599884110579, -0.016980836121700177], 'Violet': [-0.05945078795167863, 0.06038598776402561], 'Will': [-0.07956540772550597], 'William': [-0.07372740418984258, -0.01785771380981189], 'Winky': [-0.08306684702554279, 0.0010630684253838674], 'Wolf': [-0.08662951597379176, -0.01599438498275263], 'Wren': [-0.04482619802463461, -0.020591494395182763], 'Yak': [-0.031869435688660325, 0.024170057220088345], 'Yozadah': [-0.010004466113138988], 'Zahara': [-0.04818346790279593], 'Zubaida': [-0.01924716615819802]}\n"
          ]
        }
      ]
    },
    {
      "cell_type": "code",
      "source": [
        "polarity_names = df_polarity['name']\n",
        "\n",
        "polarity_deltas = {}\n",
        "\n",
        "for name in polarity_names:\n",
        "  name_ngram_vec = fasttext_xifyer_ngram_v2(name)\n",
        "  name_ngramlex_vec = fasttext_xifyer_ngram_v2(name, lexical = True)\n",
        "  name_lex_vec = fasttext_xifyer_lexical_v2(name)\n",
        "\n",
        "  delta_ngram_polarity = cosine_similarity(name_ngram_vec, good_ngram_vec) - cosine_similarity(name_ngram_vec, bad_ngram_vec)\n",
        "  delta_ngramlex_polarity = cosine_similarity(name_ngramlex_vec, good_ngram_vec) - cosine_similarity(name_ngramlex_vec, bad_ngram_vec)\n",
        "  delta_lex_polarity = cosine_similarity(name_lex_vec, good_ngram_vec) - cosine_similarity(name_lex_vec, bad_ngram_vec)\n",
        "\n",
        "  polarity_deltas[name] = [delta_ngram_polarity[0][0]]\n",
        "  polarity_deltas[name].append(delta_ngramlex_polarity[0][0])\n",
        "  polarity_deltas[name].append(delta_lex_polarity[0][0])\n",
        "\n",
        "\n",
        "print(polarity_deltas)"
      ],
      "metadata": {
        "id": "3xOhk72M02If"
      },
      "id": "3xOhk72M02If",
      "execution_count": null,
      "outputs": []
    },
    {
      "cell_type": "code",
      "source": [
        "deltas_df = []\n",
        "\n",
        "for i, name in enumerate(gender_names):\n",
        "  name_type = df_gender['name_type'][i]\n",
        "  if name in polarity_deltas and name in age_deltas:\n",
        "    deltas_df.append([name, name_type, age_deltas[name][0], age_deltas[name][1], age_deltas[name][2], gender_deltas[name][0], gender_deltas[name][1], gender_deltas[2], polarity_deltas[name][0], polarity_deltas[name][1], polarity_deltas[name][2]])\n",
        "\n",
        "  elif name in polarity_deltas:\n",
        "    deltas_df.append([name, name_type, None, None, None, gender_deltas[name][0], gender_deltas[name][1], gender_deltas[name][2], polarity_deltas[name][0], polarity_deltas[name][1], polarity_deltas[name][2]])\n",
        "\n",
        "  else:\n",
        "    deltas_df.append([name, name_type, age_deltas[name][0], age_deltas[name][1], age_deltas[name][2], gender_deltas[name][0], gender_deltas[name][1], gender_deltas[name][2], None, None, None])\n",
        "\n",
        "deltas_df = pd.DataFrame(deltas_df, columns = ['Name', 'Name_Type', 'Ngram_delta_young', 'NgramLex_delta_young', 'Lexical_delta_young', 'Ngram_delta_female', 'NgramLex_delta_female', 'Lexical_delta_female', 'Ngram_delta_good', 'NgramLex_delta_good', 'Lexical_delta_good'])\n",
        "\n",
        "deltas_df.to_csv(delta_path + 'all_deltas.csv', index=False)"
      ],
      "metadata": {
        "id": "aqRiDvFa3ovR"
      },
      "id": "aqRiDvFa3ovR",
      "execution_count": null,
      "outputs": []
    },
    {
      "cell_type": "markdown",
      "source": [
        "## Extra Hypothesis Testing\n",
        "\n",
        "So for each, we need a dataset where we have the name, the attribute (age, pol, gen), the model, the name type, and the absolute error (per name). \n",
        "\n",
        "→ Then, I need to create a model: AE ~ name type * model\n",
        "\n",
        "→ Fit a different model per attribute (or create an extra * attribute interaction, but for clarity of presentation, this isn’t the preferred thing since we don’t have a comparison hypothesis, so keep them separate)\n",
        "\n",
        "⇒ Expectation is that the model with \n"
      ],
      "metadata": {
        "id": "s88o0QiOqe8d"
      },
      "id": "s88o0QiOqe8d"
    },
    {
      "cell_type": "code",
      "source": [],
      "metadata": {
        "id": "edP6MW9ZVBjZ"
      },
      "id": "edP6MW9ZVBjZ",
      "execution_count": null,
      "outputs": []
    },
    {
      "cell_type": "markdown",
      "source": [
        "##Feature importance / Permutation Testing (and interpretation)\n",
        "For feature importance: find the AE per ngram per name, see whether there is an n-gram that is responsible for most of the prediction or not. \n",
        "\n",
        "→ Can choose to do e.g., only tri-grams\n",
        "\n",
        "<br>\n",
        "\n",
        "_What I wrote Here, I did initially under a tab called 'permutation testing', although I now believe that I can combine the two (do feature importance + directionality) at the same time_ (**see below for current (up-to-date) thoughts/discussion**)\n",
        "\n",
        "<br>\n",
        "\n",
        "This isn't really well-defined yet, but the idea is as follows: per attribute (age, gender, polarity), take the names (or randomly create names) using the bi- and tri-grams that exist in the pool of all names. Then randomly swap them out, or change them in order to find out what trigrams relate to meaning \n",
        "\n",
        "<br>\n",
        "\n",
        "**Is this the same as feature importance??** ==> What would make it different is if it would be 'valid' to do analyses on attributes with tri-grams that appear in none of the names of that attribute; else, we can basically do what I wrote under feature importance (one small caveat, what we can also still do is consider all those bi- and tri-grams that appeared in the names for a single attribute, and mess around with those??)\n",
        "\n",
        "<br>\n",
        "\n",
        "After some extra deliberation, permutation testing **is not** the same as feature importance. \n",
        "\n",
        "**Here's why:** feature importance merely tells us how important it was for the prediction, but permutation testing (or at least the analysis that I want to do) would also indicate the <u>direction of the effect</u>!!\n",
        "\n",
        "<br>\n",
        "\n",
        "**Current Ideas:**\n",
        "- Per dimension, per name, randomly drop one of the n-grams and\n",
        "    - Record the difference in AE (note down the AE and the AE change compared to to the full name)\n",
        "    - Record the difference in prediction (note down the prediction and the prediction change compared to the full name)\n",
        "    - --> So, now I can interpret these differences per name, **but** I can also aggregate the scores per tri-gram over all of the names (if it appears in more than one), so that I can try to generalize it more. Because, what would it mean if a tri-gram in one name makes it more feminine, and more masculine in another?\n",
        "\n",
        "- **Tentative idea**: Per dimension, mash bi-grams and tri-grams together that have appeared in the name, but irrespective of whether they make sense together (do keep in mind that there can be a hard maximum of 1 BoS and 1 EoS symbol). By doing this, we kind of create our own samples for testing feature importance / directionality.\n"
      ],
      "metadata": {
        "id": "or5ojbQXrcRL"
      },
      "id": "or5ojbQXrcRL"
    },
    {
      "cell_type": "code",
      "source": [
        "age_fasttexted_ngram = fasttext_xifyer_ngram(df_age)\n",
        "age_y_ngram = df_age[rating]\n",
        "age_nn = fnn_maker(age_fasttexted_ngram, age_y_ngram, _, _, 256, 0.5)\n",
        "\n",
        "gender_fasttexted_ngram = fasttext_xifyer_ngram(df_gender)\n",
        "gender_y_ngram = df_gender[rating]\n",
        "gender_nn = fnn_maker(gender_fasttexted_ngram, gender_y_ngram, _, _, 512, 0.2)\n",
        "\n",
        "polarity_fasttexted_ngram = fasttext_xifyer_ngram(df_polarity)\n",
        "polarity_y_ngram = df_polarity[rating]\n",
        "polarity_nn = fnn_maker(polarity_fasttexted_ngram, polarity_y_ngram, _, _, 512, 0.5)"
      ],
      "metadata": {
        "id": "iS72L7h-rcup",
        "outputId": "e685bc30-e0af-41cb-b1fc-25db49a2e5bf",
        "colab": {
          "base_uri": "https://localhost:8080/",
          "height": 133
        }
      },
      "id": "iS72L7h-rcup",
      "execution_count": null,
      "outputs": [
        {
          "output_type": "error",
          "ename": "SyntaxError",
          "evalue": "ignored",
          "traceback": [
            "\u001b[0;36m  File \u001b[0;32m\"<ipython-input-1-391253cfec11>\"\u001b[0;36m, line \u001b[0;32m2\u001b[0m\n\u001b[0;31m    age_nn =\u001b[0m\n\u001b[0m             ^\u001b[0m\n\u001b[0;31mSyntaxError\u001b[0m\u001b[0;31m:\u001b[0m invalid syntax\n"
          ]
        }
      ]
    },
    {
      "cell_type": "code",
      "source": [],
      "metadata": {
        "id": "XYKYqQa2j5Ev"
      },
      "id": "XYKYqQa2j5Ev",
      "execution_count": null,
      "outputs": []
    },
    {
      "cell_type": "markdown",
      "source": [
        "##PCA → Visualization\n",
        "Get it down to 2 dimensions, because we want to visualize in 2-d\n",
        "\n",
        "<br>\n",
        "\n",
        "So, get all the vectors in the names per model type and attribute, colour could indicate the rating for the attribute, size could be the prediction, shape could be the name type (all of this is for example)\n",
        "\n",
        "→ Can also add the two semantic differentials per attribute\n",
        "\n",
        "→ Make sure that the visualizations are nice to look at, do a lot of permutations until they’re good\n"
      ],
      "metadata": {
        "id": "vqEI01XhrdME"
      },
      "id": "vqEI01XhrdME"
    },
    {
      "cell_type": "code",
      "source": [],
      "metadata": {
        "id": "2kDalCK6rd5Q"
      },
      "id": "2kDalCK6rd5Q",
      "execution_count": null,
      "outputs": []
    },
    {
      "cell_type": "markdown",
      "source": [
        "##Prediction visualization\n",
        "→ make sure to visualize the predictions (e.g., use ggpredict in R)\n"
      ],
      "metadata": {
        "id": "WAMBlZMnreNF"
      },
      "id": "WAMBlZMnreNF"
    },
    {
      "cell_type": "code",
      "source": [],
      "metadata": {
        "id": "BoLVKUH-req2"
      },
      "id": "BoLVKUH-req2",
      "execution_count": null,
      "outputs": []
    },
    {
      "cell_type": "code",
      "source": [],
      "metadata": {
        "id": "YXKErGXEwyaU"
      },
      "id": "YXKErGXEwyaU",
      "execution_count": null,
      "outputs": []
    },
    {
      "cell_type": "markdown",
      "source": [
        "### Evaluation of Final Model (No Made-up Names)"
      ],
      "metadata": {
        "id": "YDMi-4SQwzaC"
      },
      "id": "YDMi-4SQwzaC"
    },
    {
      "cell_type": "markdown",
      "source": [
        "##### Functions"
      ],
      "metadata": {
        "id": "34mzyYpkwzaE"
      },
      "id": "34mzyYpkwzaE"
    },
    {
      "cell_type": "code",
      "source": [
        "def fnn_maker_and_evaluator(x_train, y_train, x_test, y_test, pred_dict, \n",
        "                            test_names, test_name_types, nodes, dropout, lexical = None):\n",
        "  # Input:\n",
        "  # - x_train = array of embeddings used to train the model\n",
        "  # - y_train = array of ratings used to train the model\n",
        "  # - x_test = array of embeddings used to test the model\n",
        "  # - y_test = array of ratings used to test the model\n",
        "  # - pred_dict = a dictionary that will be filled with predictions per name\n",
        "  # - test_names = dataframe containing the full names (i.e., not the embeddings) \n",
        "  # - test_name_types = dataframe containing the name type (real, madeup, talking)\n",
        "  # - nodes = integer indicating the number of nodes to use in the hidden layer\n",
        "  # - dropout = integer indicating the amount of dropout to use in the hidden layer\n",
        "\n",
        "  # Process:\n",
        "  # Train a sequential NN using the train set using fnn_maker(). Then, evaluate\n",
        "  # the model using model_evaluator and return the values.\n",
        "\n",
        "  # Output:\n",
        "  # Too many to explain here. Basically, a bunch of metrics to test the model.\n",
        "\n",
        "  #_, fnn_model = fnn_maker(x_train, y_train, x_test, y_test, nodes, dropout)\n",
        "  \n",
        "  fnn_model = fnn_maker(x_train, y_train, x_test, y_test, nodes, dropout)\n",
        "\n",
        "  mae_test, mae_madeup, mae_real, mae_talking, mean_vec_mae_test \\\n",
        "  = model_evaluator(fnn_model, x_train, x_test, y_train, y_test, \n",
        "                    pred_dict, test_names, test_name_types, lexical)\n",
        "\n",
        "  return mae_test, mae_madeup, mae_real, mae_talking, mean_vec_mae_test"
      ],
      "metadata": {
        "id": "_vpA-NzewzaF"
      },
      "execution_count": null,
      "outputs": [],
      "id": "_vpA-NzewzaF"
    },
    {
      "cell_type": "code",
      "source": [
        "def neural_network_k_folder(df, rating, dimension, dictionary, nodes, dropout):\n",
        "  # Input:\n",
        "  # - df = a dataframe with the name, name_type, and rating for the dimension at  \n",
        "  # hand (i.e., age, gender, or polarity)\n",
        "  # - rating = a string indicating what rating to extract from the df\n",
        "  # - dimension = a string indicating what dimension is considered (i.e., 'age',\n",
        "  # 'gender', or 'polarity')\n",
        "  # - dictionary = an empty dictionary to store the MSE output by fnn_maker() in \n",
        "  # per configuration\n",
        "  # - nodes = integer indicating the number of nodes to use in the hidden layer\n",
        "  # - dropout = integer indicating the amount of dropout to use in the hidden layer\n",
        "\n",
        "  # Process:\n",
        "  # Given the df, get 5 train/test splits, and per fold, train a NN model using\n",
        "  # fnn_maker() for the combined, ngram, and lexical data. Then, store these\n",
        "  # metrics in a .csv file.\n",
        "\n",
        "  # Output: \n",
        "  # - pred_dict_combined: y_true and y_pred (for several conditions) per name (combined)\n",
        "  # - pred_dict_ngram: y_true and y_pred (for several conditions) per name (ngram)\n",
        "  # - pred_dict_lexical: y_true and y_pred (for several conditions) per name (lexical)\n",
        "\n",
        "  loocv = LeaveOneOut()                                                         # Set up stratified LOOCV\n",
        "  \n",
        "  pred_dict_combined = {}                                                        # Set up three dictionaries to store the predicted y-values for the test names in\n",
        "  pred_dict_ngram = {}\n",
        "  pred_dict_lexical = {}\n",
        "\n",
        "  for train_index, test_index in loocv.split(df):                               # For every fold (stratified on the name type, i.e., real, madeup, or talking)\n",
        "    x_train_unfasttexted = df.iloc[train_index]                                 # Split the data into x_train and x_test\n",
        "    x_test_unfasttexted = df.iloc[test_index]\n",
        "\n",
        "    x_train_unf_lexical = x_train_unfasttexted[x_train_unfasttexted.name_type != 'madeup']\n",
        "    x_test_unf_lexical = x_test_unfasttexted[x_test_unfasttexted.name_type != 'madeup']\n",
        "\n",
        "    #x_train = fasttext_xifyer(x_train_unfasttexted)                             # Get the word embeddings\n",
        "    #x_train_ngram = fasttext_xifyer_ngram(x_train_unfasttexted)\n",
        "\n",
        "    x_train = fasttext_xifyer(x_train_unf_lexical)\n",
        "    x_train_ngram = fasttext_xifyer_ngram(x_train_unf_lexical)\n",
        "    \n",
        "    x_train_lexical = fasttext_xifyer_lexical(x_train_unf_lexical)\n",
        "\n",
        "    x_test = fasttext_xifyer(x_test_unf_lexical)\n",
        "    x_test_ngram = fasttext_xifyer_ngram(x_test_unf_lexical)\n",
        "    x_test_lexical = fasttext_xifyer_lexical(x_test_unf_lexical)\n",
        "\n",
        "\n",
        "    y_train = df.iloc[train_index][rating]                                      # Split the data into y_train and y_test\n",
        "    y_test = df.iloc[test_index][rating]\n",
        "\n",
        "    y_train_lexical = df.iloc[train_index][df.name_type != 'madeup'][rating] \n",
        "    y_test_lexical = df.iloc[test_index][df.name_type != 'madeup'][rating]\n",
        "\n",
        "\n",
        "    test_names = df.iloc[test_index]['name']                                    # Get a list of the names in the test set\n",
        "    test_name_types = df.iloc[test_index]['name_type']                          # Get a list of name types corresponding to the names in the test set\n",
        "\n",
        "    test_names_lexical = df.iloc[test_index][df.name_type != 'madeup']['name']                                    \n",
        "    test_name_types_lexical = df.iloc[test_index][df.name_type != 'madeup']['name_type']                          \n",
        "\n",
        "    try:\n",
        "      if x_test[0] == \"\":\n",
        "        print('hi')\n",
        "    \n",
        "    except IndexError:\n",
        "      continue\n",
        "\n",
        "    #try:\n",
        "    mae_test, mae_madeup, mae_real, mae_talking, mean_vec_mae_test \\\n",
        "    = fnn_maker_and_evaluator(x_train, \n",
        "                              y_train_lexical, \n",
        "                              x_test, \n",
        "                              y_test_lexical, \n",
        "                              pred_dict_combined,\n",
        "                              test_names_lexical,\n",
        "                              test_name_types_lexical, \n",
        "                              nodes,\n",
        "                              dropout)                                          # Train the NN given the fold, and return all of the variables of interest (combined)\n",
        "\n",
        "    #except ValueError:\n",
        "    #  continue\n",
        "\n",
        "    mae_test_ngram, mae_madeup_ngram, mae_real_ngram, mae_talking_ngram, \\\n",
        "    mean_vec_mae_test_ngram \\\n",
        "    = fnn_maker_and_evaluator(x_train_ngram, \n",
        "                              y_train_lexical, \n",
        "                              x_test_ngram, \n",
        "                              y_test_lexical, \n",
        "                              pred_dict_ngram,\n",
        "                              test_names_lexical,\n",
        "                              test_name_types_lexical, \n",
        "                              nodes,\n",
        "                              dropout)                                          # Train the NN given the fold, and return all of the variables of interest (ngram)\n",
        "    \n",
        "    #try:\n",
        "    mae_test_lexical, mae_madeup_lexical, mae_real_lexical, mae_talking_lexical, \\\n",
        "    mean_vec_mae_test_lexical, \\\n",
        "    = fnn_maker_and_evaluator(x_train_lexical, \n",
        "                              y_train_lexical, \n",
        "                              x_test_lexical, \n",
        "                              y_test_lexical, \n",
        "                              pred_dict_lexical,\n",
        "                              test_names_lexical,\n",
        "                              test_name_types_lexical, \n",
        "                              nodes,\n",
        "                              dropout, \n",
        "                              lexical = True)                                 # Train the NN given the fold, and return all of the variables of interest (lexical)\n",
        "\n",
        "    dictionary['lexical'].append([mae_test_lexical, mae_madeup_lexical, \n",
        "                                mae_real_lexical, mae_talking_lexical,\n",
        "                                mean_vec_mae_test_lexical])  # Append the variables of interest to the dictionary\n",
        "\n",
        "\n",
        "    #except ValueError:\n",
        "    #  pass\n",
        "\n",
        "    dictionary['combined'].append([mae_test, mae_madeup, mae_real, mae_talking, \n",
        "                                  mean_vec_mae_test])                    # Append the variables of interest to the dictionary\n",
        "\n",
        "    dictionary['ngram'].append([mae_test_ngram, mae_madeup_ngram, \n",
        "                                mae_real_ngram, mae_talking_ngram, \n",
        "                                mean_vec_mae_test_ngram])    # Append the variables of interest to the dictionary\n",
        "    \n",
        "  \n",
        "  column_list = ('dimension', 'analysis_type', 'mae_test', 'mae_madeup', \n",
        "                 'mae_real', 'mae_talking', 'mean_vec_mae_test', 'sd_mae_total', \n",
        "                 'sd_mae_madeup', 'sd_mae_real', 'sd_mae_talking', 'sd_mean_vec_mae')         # List indicating all of the variables of interest \n",
        "  \n",
        "  type_list = ['combined', 'ngram', 'lexical']                                  # List indicating the model type\n",
        "\n",
        "  sd_dict_nn = {'combined' : {'total' : [], 'madeup': [], 'real': [], 'talking': [], 'mean_vec_mae': []}, \n",
        "                'ngram' : {'total' : [], 'madeup': [], 'real': [], 'talking': [], 'mean_vec_mae': []}, \n",
        "                'lexical': {'total' : [], 'madeup': [], 'real': [], 'talking': [], 'mean_vec_mae': []}}\n",
        "\n",
        "  for analysis_type in type_list:    \n",
        "    sd_mae_total = []\n",
        "    sd_mae_madeup = []\n",
        "    sd_mae_real = []\n",
        "    sd_mae_talking = []\n",
        "\n",
        "    sd_mean_vec_mae = []\n",
        "\n",
        "    for iteration in dictionary[analysis_type]:\n",
        "      sd_mae_total.append(iteration[0])\n",
        "      sd_mae_madeup.append(iteration[1])\n",
        "      sd_mae_real.append(iteration[2])\n",
        "      sd_mae_talking.append(iteration[3])\n",
        "\n",
        "      sd_mean_vec_mae.append(iteration[4])\n",
        "\n",
        "    sd_dict_nn[analysis_type]['total'] = np.std(sd_mae_total)\n",
        "    if analysis_type != None: #'lexical':\n",
        "      sd_mae_madeup = list(filter(None, sd_mae_madeup))\n",
        "      sd_dict_nn[analysis_type]['madeup'] = np.std(sd_mae_madeup)\n",
        "    else:\n",
        "      sd_dict_nn[analysis_type]['madeup'] = None\n",
        "    \n",
        "    sd_mae_real = list(filter(None, sd_mae_real))\n",
        "    sd_dict_nn[analysis_type]['real'] = np.std(sd_mae_real)\n",
        "\n",
        "    sd_mae_talking = list(filter(None, sd_mae_talking))\n",
        "    sd_dict_nn[analysis_type]['talking'] = np.std(sd_mae_talking)\n",
        "\n",
        "    sd_mae_sd_mean_vec_mae = list(filter(None, sd_mean_vec_mae))\n",
        "    sd_dict_nn[analysis_type]['mean_vec_mae'] = np.std(sd_mean_vec_mae)\n",
        "\n",
        "  combined_list = dictionary['combined']\n",
        "  ngram_list = dictionary['ngram']\n",
        "  lexical_list = dictionary['lexical']\n",
        "\n",
        "  combined_list = [np.mean(x) for x in [list(filter(None, x)) for x in zip(*combined_list)]]                          \n",
        "\n",
        "  ngram_list = [np.mean(x) for x in [list(filter(None, x)) for x in zip(*ngram_list)]]                                                \n",
        "\n",
        "  lexical_list = [np.mean(x) for x in [list(filter(None, x)) for x in zip(*lexical_list)]]                  \n",
        "\n",
        "  csv_df = []                                                                   # Create a list of lists that will be converted to a dataframe\n",
        "\n",
        "  for value_list, analysis_type in zip([combined_list, ngram_list,            # Given the list of metrics for every model (combined, ngram, lexical)\n",
        "                                        lexical_list], type_list):\n",
        "    value_list.insert(0, analysis_type)                                         # Insert the name of the analysis type to the values (i.e., 'combined', etc.)\n",
        "    value_list.insert(0, dimension)                                             # Insert the name of the dimension (i.e., 'age', 'gender', 'polarity') to the values\n",
        "    value_list.append(sd_dict_nn[analysis_type]['total'])\n",
        "    value_list.append(sd_dict_nn[analysis_type]['madeup'])\n",
        "    value_list.append(sd_dict_nn[analysis_type]['real'])\n",
        "    value_list.append(sd_dict_nn[analysis_type]['talking'])\n",
        "    value_list.append(sd_dict_nn[analysis_type]['mean_vec_mae'])\n",
        "    csv_df.append(value_list)                                                   # Add the list of values as a row to the DF list of lists\n",
        "  \n",
        "  csv_df = pd.DataFrame(csv_df, columns=column_list)                            # Convert the list of lists to a DF\n",
        "  csv_df.to_csv(csv_path + dimension +'_nn_metrics.csv', index=False)           # Save the DF as a .csv file\n",
        "\n",
        "  return pred_dict_combined, pred_dict_ngram, pred_dict_lexical"
      ],
      "metadata": {
        "id": "EM_6s2yxwzaH"
      },
      "execution_count": null,
      "outputs": [],
      "id": "EM_6s2yxwzaH"
    },
    {
      "cell_type": "markdown",
      "source": [
        "##### Running the functions"
      ],
      "metadata": {
        "id": "HF89t3NgwzaN"
      },
      "id": "HF89t3NgwzaN"
    },
    {
      "cell_type": "code",
      "source": [
        "age_dict_nn_final = {'combined' : [], 'ngram' : [], 'lexical': []}          # initialize the score dictionary for age\n",
        "\n",
        "age_pred_dict_combined_nn, age_pred_dict_ngram_nn, \\\n",
        "age_pred_dict_lexical_nn = \\\n",
        "neural_network_k_folder(df_age, 'rating.mean_age', 'age', \n",
        "                        age_dict_nn_final, 300, 0.5)                            # Perform the 5-fold cross validation and save the metrics as a .csv file\n",
        "\n",
        "pickle_age_nn_final = open(pickle_path + \"age_nn_final.pickle\", \"wb\")           # Save the dictionary to a pickle\n",
        "pickle.dump(age_dict_nn_final, pickle_age_nn_final)\n",
        "pickle_age_nn_final.close()"
      ],
      "metadata": {
        "id": "-BfwDC6XwzaP"
      },
      "execution_count": null,
      "outputs": [],
      "id": "-BfwDC6XwzaP"
    },
    {
      "cell_type": "code",
      "source": [
        "age_pred_nn_df = []                                                             # Create a list of lists that will be converted to a dataframe\n",
        "\n",
        "for i in sorted(df_age['name']):                                                # For every name in the dataframe\n",
        "  i = i.lower()\n",
        "\n",
        "  try:\n",
        "    age_pred_nn_df.append([i, age_pred_dict_combined_nn[i][0],                     # Append the name, name type, and normal + mean_vector only predictions for the\n",
        "                          age_pred_dict_combined_nn[i][1],                        # three model types as a row to the list of lists\n",
        "                          age_pred_dict_combined_nn[i][2],\n",
        "                          age_pred_dict_combined_nn[i + '_mean_vector'][2], \n",
        "                          age_pred_dict_ngram_nn[i][2], \n",
        "                          age_pred_dict_ngram_nn[i + '_mean_vector'][2], \n",
        "                          age_pred_dict_lexical_nn[i][2],\n",
        "                          age_pred_dict_lexical_nn[i + '_mean_vector'][2]])\n",
        "    \n",
        "  except KeyError:\n",
        "    continue\n",
        "    age_pred_nn_df.append([i, age_pred_dict_combined_nn[i][0],                     # Append the name, name type, and normal + mean_vector only predictions for the\n",
        "                          age_pred_dict_combined_nn[i][1],                        # three model types as a row to the list of lists\n",
        "                          age_pred_dict_combined_nn[i][2],\n",
        "                          age_pred_dict_combined_nn[i + '_mean_vector'][2], \n",
        "                          age_pred_dict_ngram_nn[i][2], \n",
        "                          age_pred_dict_ngram_nn[i + '_mean_vector'][2], \n",
        "                          None, None])\n",
        "  \n",
        "age_pred_nn_df = pd.DataFrame(age_pred_nn_df, columns=column_list_pred)         # Convert list of lists to DF\n",
        "\n",
        "age_pred_nn_df.to_csv(csv_path + 'age_pred_nn.csv', index=False)                # Save DF as .csv"
      ],
      "metadata": {
        "id": "LRxRL_X-wzaQ"
      },
      "execution_count": null,
      "outputs": [],
      "id": "LRxRL_X-wzaQ"
    },
    {
      "cell_type": "code",
      "source": [
        "gender_dict_nn_final = {'combined' : [], 'ngram' : [], 'lexical': []}       # initialize the score dictionary for gender\n",
        "\n",
        "gender_pred_dict_combined_nn, gender_pred_dict_ngram_nn, \\\n",
        "gender_pred_dict_lexical_nn = \\\n",
        "neural_network_k_folder(df_gender, 'rating.mean_gender', 'gender', \n",
        "                        gender_dict_nn_final, 512, 0.3)                         # Perform the 5-fold cross validation and save the metrics as a .csv file\n",
        "\n",
        "pickle_gender_nn_final = open(pickle_path + \"gender_nn_final.pickle\", \"wb\")     # Save the dictionary to a pickle\n",
        "pickle.dump(gender_dict_nn_final, pickle_gender_nn_final)\n",
        "pickle_gender_nn_final.close()"
      ],
      "metadata": {
        "id": "euO1vTYiwzaU"
      },
      "execution_count": null,
      "outputs": [],
      "id": "euO1vTYiwzaU"
    },
    {
      "cell_type": "code",
      "source": [
        "gender_pred_nn_df = []                                                          # Create a list of lists that will be converted to a dataframe\n",
        "\n",
        "for i in sorted(df_gender['name']):                                             # For every name in the dataframe\n",
        "  i = i.lower()\n",
        "  try:\n",
        "    gender_pred_nn_df.append([i, gender_pred_dict_combined_nn[i][0],               # Append the name, name type, and normal + mean_vector only predictions for the\n",
        "                          gender_pred_dict_combined_nn[i][1],                     # three model types as a row to the list of lists\n",
        "                          gender_pred_dict_combined_nn[i][2],\n",
        "                          gender_pred_dict_combined_nn[i + '_mean_vector'][2], \n",
        "                          gender_pred_dict_ngram_nn[i][2], \n",
        "                          gender_pred_dict_ngram_nn[i + '_mean_vector'][2], \n",
        "                          gender_pred_dict_lexical_nn[i][2],\n",
        "                          gender_pred_dict_lexical_nn[i + '_mean_vector'][2]])\n",
        "\n",
        "  except KeyError:\n",
        "   continue\n",
        "   gender_pred_nn_df.append([i, gender_pred_dict_combined_nn[i][0],               # Append the name, name type, and normal + mean_vector only predictions for the\n",
        "                          gender_pred_dict_combined_nn[i][1],                     # three model types as a row to the list of lists\n",
        "                          gender_pred_dict_combined_nn[i][2],\n",
        "                          gender_pred_dict_combined_nn[i + '_mean_vector'][2], \n",
        "                          gender_pred_dict_ngram_nn[i][2], \n",
        "                          gender_pred_dict_ngram_nn[i + '_mean_vector'][2], \n",
        "                          None,\n",
        "                          None])\n",
        "\n",
        "gender_pred_nn_df = pd.DataFrame(gender_pred_nn_df, columns=column_list_pred)   # Convert list of lists to DF\n",
        "\n",
        "gender_pred_nn_df.to_csv(csv_path + 'gender_pred_nn.csv', index=False)          # Save DF as .csv "
      ],
      "metadata": {
        "id": "b2Jax4XUwzaV"
      },
      "execution_count": null,
      "outputs": [],
      "id": "b2Jax4XUwzaV"
    },
    {
      "cell_type": "code",
      "source": [
        "polarity_dict_nn_final = {'combined' : [], 'ngram' : [], 'lexical': []}     # initialize the score dictionary for polarity\n",
        "\n",
        "polarity_pred_dict_combined_nn, polarity_pred_dict_ngram_nn, \\\n",
        "polarity_pred_dict_lexical_nn = \\\n",
        "neural_network_k_folder(df_polarity, 'rating.mean_valence', 'polarity', \n",
        "                        polarity_dict_nn_final, 512, 0.5)                       # Perform the 5-fold cross validation and save the metrics as a .csv file\n",
        "\n",
        "pickle_polarity_nn_final = open(pickle_path + \"polarity_nn_final.pickle\", \"wb\") # Save the dictionary to a pickle\n",
        "pickle.dump(polarity_dict_nn_final, pickle_polarity_nn_final)\n",
        "pickle_polarity_nn_final.close()"
      ],
      "metadata": {
        "outputId": "face5887-d367-4036-e948-5a8064c7bcdf",
        "colab": {
          "base_uri": "https://localhost:8080/"
        },
        "id": "JEDHVa4bwzaY"
      },
      "execution_count": null,
      "outputs": [
        {
          "output_type": "stream",
          "name": "stderr",
          "text": [
            "/usr/local/lib/python3.7/dist-packages/ipykernel_launcher.py:52: UserWarning: Boolean Series key will be reindexed to match DataFrame index.\n",
            "/usr/local/lib/python3.7/dist-packages/ipykernel_launcher.py:53: UserWarning: Boolean Series key will be reindexed to match DataFrame index.\n",
            "/usr/local/lib/python3.7/dist-packages/ipykernel_launcher.py:59: UserWarning: Boolean Series key will be reindexed to match DataFrame index.\n",
            "/usr/local/lib/python3.7/dist-packages/ipykernel_launcher.py:60: UserWarning: Boolean Series key will be reindexed to match DataFrame index.\n",
            "/usr/local/lib/python3.7/dist-packages/ipykernel_launcher.py:63: FutureWarning: elementwise comparison failed; returning scalar instead, but in the future will perform elementwise comparison\n",
            "/usr/local/lib/python3.7/dist-packages/ipykernel_launcher.py:52: UserWarning: Boolean Series key will be reindexed to match DataFrame index.\n",
            "/usr/local/lib/python3.7/dist-packages/ipykernel_launcher.py:53: UserWarning: Boolean Series key will be reindexed to match DataFrame index.\n",
            "/usr/local/lib/python3.7/dist-packages/ipykernel_launcher.py:59: UserWarning: Boolean Series key will be reindexed to match DataFrame index.\n",
            "/usr/local/lib/python3.7/dist-packages/ipykernel_launcher.py:60: UserWarning: Boolean Series key will be reindexed to match DataFrame index.\n",
            "/usr/local/lib/python3.7/dist-packages/ipykernel_launcher.py:63: FutureWarning: elementwise comparison failed; returning scalar instead, but in the future will perform elementwise comparison\n",
            "/usr/local/lib/python3.7/dist-packages/ipykernel_launcher.py:52: UserWarning: Boolean Series key will be reindexed to match DataFrame index.\n",
            "/usr/local/lib/python3.7/dist-packages/ipykernel_launcher.py:53: UserWarning: Boolean Series key will be reindexed to match DataFrame index.\n",
            "/usr/local/lib/python3.7/dist-packages/ipykernel_launcher.py:59: UserWarning: Boolean Series key will be reindexed to match DataFrame index.\n",
            "/usr/local/lib/python3.7/dist-packages/ipykernel_launcher.py:60: UserWarning: Boolean Series key will be reindexed to match DataFrame index.\n",
            "/usr/local/lib/python3.7/dist-packages/ipykernel_launcher.py:63: FutureWarning: elementwise comparison failed; returning scalar instead, but in the future will perform elementwise comparison\n",
            "/usr/local/lib/python3.7/dist-packages/ipykernel_launcher.py:52: UserWarning: Boolean Series key will be reindexed to match DataFrame index.\n",
            "/usr/local/lib/python3.7/dist-packages/ipykernel_launcher.py:53: UserWarning: Boolean Series key will be reindexed to match DataFrame index.\n",
            "/usr/local/lib/python3.7/dist-packages/ipykernel_launcher.py:59: UserWarning: Boolean Series key will be reindexed to match DataFrame index.\n",
            "/usr/local/lib/python3.7/dist-packages/ipykernel_launcher.py:60: UserWarning: Boolean Series key will be reindexed to match DataFrame index.\n",
            "/usr/local/lib/python3.7/dist-packages/ipykernel_launcher.py:63: FutureWarning: elementwise comparison failed; returning scalar instead, but in the future will perform elementwise comparison\n",
            "/usr/local/lib/python3.7/dist-packages/ipykernel_launcher.py:52: UserWarning: Boolean Series key will be reindexed to match DataFrame index.\n",
            "/usr/local/lib/python3.7/dist-packages/ipykernel_launcher.py:53: UserWarning: Boolean Series key will be reindexed to match DataFrame index.\n",
            "/usr/local/lib/python3.7/dist-packages/ipykernel_launcher.py:59: UserWarning: Boolean Series key will be reindexed to match DataFrame index.\n",
            "/usr/local/lib/python3.7/dist-packages/ipykernel_launcher.py:60: UserWarning: Boolean Series key will be reindexed to match DataFrame index.\n",
            "/usr/local/lib/python3.7/dist-packages/ipykernel_launcher.py:63: FutureWarning: elementwise comparison failed; returning scalar instead, but in the future will perform elementwise comparison\n",
            "/usr/local/lib/python3.7/dist-packages/ipykernel_launcher.py:52: UserWarning: Boolean Series key will be reindexed to match DataFrame index.\n",
            "/usr/local/lib/python3.7/dist-packages/ipykernel_launcher.py:53: UserWarning: Boolean Series key will be reindexed to match DataFrame index.\n",
            "/usr/local/lib/python3.7/dist-packages/ipykernel_launcher.py:59: UserWarning: Boolean Series key will be reindexed to match DataFrame index.\n",
            "/usr/local/lib/python3.7/dist-packages/ipykernel_launcher.py:60: UserWarning: Boolean Series key will be reindexed to match DataFrame index.\n",
            "/usr/local/lib/python3.7/dist-packages/ipykernel_launcher.py:63: FutureWarning: elementwise comparison failed; returning scalar instead, but in the future will perform elementwise comparison\n",
            "/usr/local/lib/python3.7/dist-packages/ipykernel_launcher.py:52: UserWarning: Boolean Series key will be reindexed to match DataFrame index.\n",
            "/usr/local/lib/python3.7/dist-packages/ipykernel_launcher.py:53: UserWarning: Boolean Series key will be reindexed to match DataFrame index.\n",
            "/usr/local/lib/python3.7/dist-packages/ipykernel_launcher.py:59: UserWarning: Boolean Series key will be reindexed to match DataFrame index.\n",
            "/usr/local/lib/python3.7/dist-packages/ipykernel_launcher.py:60: UserWarning: Boolean Series key will be reindexed to match DataFrame index.\n",
            "/usr/local/lib/python3.7/dist-packages/ipykernel_launcher.py:63: FutureWarning: elementwise comparison failed; returning scalar instead, but in the future will perform elementwise comparison\n",
            "/usr/local/lib/python3.7/dist-packages/ipykernel_launcher.py:52: UserWarning: Boolean Series key will be reindexed to match DataFrame index.\n",
            "/usr/local/lib/python3.7/dist-packages/ipykernel_launcher.py:53: UserWarning: Boolean Series key will be reindexed to match DataFrame index.\n",
            "/usr/local/lib/python3.7/dist-packages/ipykernel_launcher.py:59: UserWarning: Boolean Series key will be reindexed to match DataFrame index.\n",
            "/usr/local/lib/python3.7/dist-packages/ipykernel_launcher.py:60: UserWarning: Boolean Series key will be reindexed to match DataFrame index.\n",
            "/usr/local/lib/python3.7/dist-packages/ipykernel_launcher.py:63: FutureWarning: elementwise comparison failed; returning scalar instead, but in the future will perform elementwise comparison\n",
            "/usr/local/lib/python3.7/dist-packages/ipykernel_launcher.py:52: UserWarning: Boolean Series key will be reindexed to match DataFrame index.\n",
            "/usr/local/lib/python3.7/dist-packages/ipykernel_launcher.py:53: UserWarning: Boolean Series key will be reindexed to match DataFrame index.\n",
            "/usr/local/lib/python3.7/dist-packages/ipykernel_launcher.py:59: UserWarning: Boolean Series key will be reindexed to match DataFrame index.\n",
            "/usr/local/lib/python3.7/dist-packages/ipykernel_launcher.py:60: UserWarning: Boolean Series key will be reindexed to match DataFrame index.\n",
            "/usr/local/lib/python3.7/dist-packages/ipykernel_launcher.py:63: FutureWarning: elementwise comparison failed; returning scalar instead, but in the future will perform elementwise comparison\n",
            "/usr/local/lib/python3.7/dist-packages/ipykernel_launcher.py:52: UserWarning: Boolean Series key will be reindexed to match DataFrame index.\n",
            "/usr/local/lib/python3.7/dist-packages/ipykernel_launcher.py:53: UserWarning: Boolean Series key will be reindexed to match DataFrame index.\n",
            "/usr/local/lib/python3.7/dist-packages/ipykernel_launcher.py:59: UserWarning: Boolean Series key will be reindexed to match DataFrame index.\n",
            "/usr/local/lib/python3.7/dist-packages/ipykernel_launcher.py:60: UserWarning: Boolean Series key will be reindexed to match DataFrame index.\n",
            "/usr/local/lib/python3.7/dist-packages/ipykernel_launcher.py:63: FutureWarning: elementwise comparison failed; returning scalar instead, but in the future will perform elementwise comparison\n",
            "/usr/local/lib/python3.7/dist-packages/ipykernel_launcher.py:52: UserWarning: Boolean Series key will be reindexed to match DataFrame index.\n",
            "/usr/local/lib/python3.7/dist-packages/ipykernel_launcher.py:53: UserWarning: Boolean Series key will be reindexed to match DataFrame index.\n",
            "/usr/local/lib/python3.7/dist-packages/ipykernel_launcher.py:59: UserWarning: Boolean Series key will be reindexed to match DataFrame index.\n",
            "/usr/local/lib/python3.7/dist-packages/ipykernel_launcher.py:60: UserWarning: Boolean Series key will be reindexed to match DataFrame index.\n",
            "/usr/local/lib/python3.7/dist-packages/ipykernel_launcher.py:63: FutureWarning: elementwise comparison failed; returning scalar instead, but in the future will perform elementwise comparison\n",
            "/usr/local/lib/python3.7/dist-packages/ipykernel_launcher.py:52: UserWarning: Boolean Series key will be reindexed to match DataFrame index.\n",
            "/usr/local/lib/python3.7/dist-packages/ipykernel_launcher.py:53: UserWarning: Boolean Series key will be reindexed to match DataFrame index.\n",
            "/usr/local/lib/python3.7/dist-packages/ipykernel_launcher.py:59: UserWarning: Boolean Series key will be reindexed to match DataFrame index.\n",
            "/usr/local/lib/python3.7/dist-packages/ipykernel_launcher.py:60: UserWarning: Boolean Series key will be reindexed to match DataFrame index.\n",
            "/usr/local/lib/python3.7/dist-packages/ipykernel_launcher.py:63: FutureWarning: elementwise comparison failed; returning scalar instead, but in the future will perform elementwise comparison\n",
            "/usr/local/lib/python3.7/dist-packages/ipykernel_launcher.py:52: UserWarning: Boolean Series key will be reindexed to match DataFrame index.\n",
            "/usr/local/lib/python3.7/dist-packages/ipykernel_launcher.py:53: UserWarning: Boolean Series key will be reindexed to match DataFrame index.\n",
            "/usr/local/lib/python3.7/dist-packages/ipykernel_launcher.py:59: UserWarning: Boolean Series key will be reindexed to match DataFrame index.\n",
            "/usr/local/lib/python3.7/dist-packages/ipykernel_launcher.py:60: UserWarning: Boolean Series key will be reindexed to match DataFrame index.\n",
            "/usr/local/lib/python3.7/dist-packages/ipykernel_launcher.py:63: FutureWarning: elementwise comparison failed; returning scalar instead, but in the future will perform elementwise comparison\n",
            "/usr/local/lib/python3.7/dist-packages/ipykernel_launcher.py:52: UserWarning: Boolean Series key will be reindexed to match DataFrame index.\n",
            "/usr/local/lib/python3.7/dist-packages/ipykernel_launcher.py:53: UserWarning: Boolean Series key will be reindexed to match DataFrame index.\n",
            "/usr/local/lib/python3.7/dist-packages/ipykernel_launcher.py:59: UserWarning: Boolean Series key will be reindexed to match DataFrame index.\n",
            "/usr/local/lib/python3.7/dist-packages/ipykernel_launcher.py:60: UserWarning: Boolean Series key will be reindexed to match DataFrame index.\n",
            "/usr/local/lib/python3.7/dist-packages/ipykernel_launcher.py:63: FutureWarning: elementwise comparison failed; returning scalar instead, but in the future will perform elementwise comparison\n",
            "/usr/local/lib/python3.7/dist-packages/ipykernel_launcher.py:52: UserWarning: Boolean Series key will be reindexed to match DataFrame index.\n",
            "/usr/local/lib/python3.7/dist-packages/ipykernel_launcher.py:53: UserWarning: Boolean Series key will be reindexed to match DataFrame index.\n",
            "/usr/local/lib/python3.7/dist-packages/ipykernel_launcher.py:59: UserWarning: Boolean Series key will be reindexed to match DataFrame index.\n",
            "/usr/local/lib/python3.7/dist-packages/ipykernel_launcher.py:60: UserWarning: Boolean Series key will be reindexed to match DataFrame index.\n",
            "/usr/local/lib/python3.7/dist-packages/ipykernel_launcher.py:63: FutureWarning: elementwise comparison failed; returning scalar instead, but in the future will perform elementwise comparison\n",
            "/usr/local/lib/python3.7/dist-packages/ipykernel_launcher.py:52: UserWarning: Boolean Series key will be reindexed to match DataFrame index.\n",
            "/usr/local/lib/python3.7/dist-packages/ipykernel_launcher.py:53: UserWarning: Boolean Series key will be reindexed to match DataFrame index.\n",
            "/usr/local/lib/python3.7/dist-packages/ipykernel_launcher.py:59: UserWarning: Boolean Series key will be reindexed to match DataFrame index.\n",
            "/usr/local/lib/python3.7/dist-packages/ipykernel_launcher.py:60: UserWarning: Boolean Series key will be reindexed to match DataFrame index.\n",
            "/usr/local/lib/python3.7/dist-packages/ipykernel_launcher.py:63: FutureWarning: elementwise comparison failed; returning scalar instead, but in the future will perform elementwise comparison\n",
            "/usr/local/lib/python3.7/dist-packages/ipykernel_launcher.py:52: UserWarning: Boolean Series key will be reindexed to match DataFrame index.\n",
            "/usr/local/lib/python3.7/dist-packages/ipykernel_launcher.py:53: UserWarning: Boolean Series key will be reindexed to match DataFrame index.\n",
            "/usr/local/lib/python3.7/dist-packages/ipykernel_launcher.py:59: UserWarning: Boolean Series key will be reindexed to match DataFrame index.\n",
            "/usr/local/lib/python3.7/dist-packages/ipykernel_launcher.py:60: UserWarning: Boolean Series key will be reindexed to match DataFrame index.\n",
            "/usr/local/lib/python3.7/dist-packages/ipykernel_launcher.py:63: FutureWarning: elementwise comparison failed; returning scalar instead, but in the future will perform elementwise comparison\n",
            "/usr/local/lib/python3.7/dist-packages/ipykernel_launcher.py:52: UserWarning: Boolean Series key will be reindexed to match DataFrame index.\n",
            "/usr/local/lib/python3.7/dist-packages/ipykernel_launcher.py:53: UserWarning: Boolean Series key will be reindexed to match DataFrame index.\n",
            "/usr/local/lib/python3.7/dist-packages/ipykernel_launcher.py:59: UserWarning: Boolean Series key will be reindexed to match DataFrame index.\n",
            "/usr/local/lib/python3.7/dist-packages/ipykernel_launcher.py:60: UserWarning: Boolean Series key will be reindexed to match DataFrame index.\n",
            "/usr/local/lib/python3.7/dist-packages/ipykernel_launcher.py:63: FutureWarning: elementwise comparison failed; returning scalar instead, but in the future will perform elementwise comparison\n",
            "/usr/local/lib/python3.7/dist-packages/ipykernel_launcher.py:52: UserWarning: Boolean Series key will be reindexed to match DataFrame index.\n",
            "/usr/local/lib/python3.7/dist-packages/ipykernel_launcher.py:53: UserWarning: Boolean Series key will be reindexed to match DataFrame index.\n",
            "/usr/local/lib/python3.7/dist-packages/ipykernel_launcher.py:59: UserWarning: Boolean Series key will be reindexed to match DataFrame index.\n",
            "/usr/local/lib/python3.7/dist-packages/ipykernel_launcher.py:60: UserWarning: Boolean Series key will be reindexed to match DataFrame index.\n",
            "/usr/local/lib/python3.7/dist-packages/ipykernel_launcher.py:63: FutureWarning: elementwise comparison failed; returning scalar instead, but in the future will perform elementwise comparison\n",
            "/usr/local/lib/python3.7/dist-packages/ipykernel_launcher.py:52: UserWarning: Boolean Series key will be reindexed to match DataFrame index.\n",
            "/usr/local/lib/python3.7/dist-packages/ipykernel_launcher.py:53: UserWarning: Boolean Series key will be reindexed to match DataFrame index.\n",
            "/usr/local/lib/python3.7/dist-packages/ipykernel_launcher.py:59: UserWarning: Boolean Series key will be reindexed to match DataFrame index.\n",
            "/usr/local/lib/python3.7/dist-packages/ipykernel_launcher.py:60: UserWarning: Boolean Series key will be reindexed to match DataFrame index.\n",
            "/usr/local/lib/python3.7/dist-packages/ipykernel_launcher.py:63: FutureWarning: elementwise comparison failed; returning scalar instead, but in the future will perform elementwise comparison\n",
            "/usr/local/lib/python3.7/dist-packages/ipykernel_launcher.py:52: UserWarning: Boolean Series key will be reindexed to match DataFrame index.\n",
            "/usr/local/lib/python3.7/dist-packages/ipykernel_launcher.py:53: UserWarning: Boolean Series key will be reindexed to match DataFrame index.\n",
            "/usr/local/lib/python3.7/dist-packages/ipykernel_launcher.py:59: UserWarning: Boolean Series key will be reindexed to match DataFrame index.\n",
            "/usr/local/lib/python3.7/dist-packages/ipykernel_launcher.py:60: UserWarning: Boolean Series key will be reindexed to match DataFrame index.\n",
            "/usr/local/lib/python3.7/dist-packages/ipykernel_launcher.py:63: FutureWarning: elementwise comparison failed; returning scalar instead, but in the future will perform elementwise comparison\n",
            "/usr/local/lib/python3.7/dist-packages/ipykernel_launcher.py:52: UserWarning: Boolean Series key will be reindexed to match DataFrame index.\n",
            "/usr/local/lib/python3.7/dist-packages/ipykernel_launcher.py:53: UserWarning: Boolean Series key will be reindexed to match DataFrame index.\n",
            "/usr/local/lib/python3.7/dist-packages/ipykernel_launcher.py:59: UserWarning: Boolean Series key will be reindexed to match DataFrame index.\n",
            "/usr/local/lib/python3.7/dist-packages/ipykernel_launcher.py:60: UserWarning: Boolean Series key will be reindexed to match DataFrame index.\n",
            "/usr/local/lib/python3.7/dist-packages/ipykernel_launcher.py:63: FutureWarning: elementwise comparison failed; returning scalar instead, but in the future will perform elementwise comparison\n",
            "/usr/local/lib/python3.7/dist-packages/ipykernel_launcher.py:52: UserWarning: Boolean Series key will be reindexed to match DataFrame index.\n",
            "/usr/local/lib/python3.7/dist-packages/ipykernel_launcher.py:53: UserWarning: Boolean Series key will be reindexed to match DataFrame index.\n",
            "/usr/local/lib/python3.7/dist-packages/ipykernel_launcher.py:59: UserWarning: Boolean Series key will be reindexed to match DataFrame index.\n",
            "/usr/local/lib/python3.7/dist-packages/ipykernel_launcher.py:60: UserWarning: Boolean Series key will be reindexed to match DataFrame index.\n",
            "/usr/local/lib/python3.7/dist-packages/ipykernel_launcher.py:63: FutureWarning: elementwise comparison failed; returning scalar instead, but in the future will perform elementwise comparison\n",
            "/usr/local/lib/python3.7/dist-packages/ipykernel_launcher.py:52: UserWarning: Boolean Series key will be reindexed to match DataFrame index.\n",
            "/usr/local/lib/python3.7/dist-packages/ipykernel_launcher.py:53: UserWarning: Boolean Series key will be reindexed to match DataFrame index.\n",
            "/usr/local/lib/python3.7/dist-packages/ipykernel_launcher.py:59: UserWarning: Boolean Series key will be reindexed to match DataFrame index.\n",
            "/usr/local/lib/python3.7/dist-packages/ipykernel_launcher.py:60: UserWarning: Boolean Series key will be reindexed to match DataFrame index.\n",
            "/usr/local/lib/python3.7/dist-packages/ipykernel_launcher.py:63: FutureWarning: elementwise comparison failed; returning scalar instead, but in the future will perform elementwise comparison\n",
            "/usr/local/lib/python3.7/dist-packages/ipykernel_launcher.py:52: UserWarning: Boolean Series key will be reindexed to match DataFrame index.\n",
            "/usr/local/lib/python3.7/dist-packages/ipykernel_launcher.py:53: UserWarning: Boolean Series key will be reindexed to match DataFrame index.\n",
            "/usr/local/lib/python3.7/dist-packages/ipykernel_launcher.py:59: UserWarning: Boolean Series key will be reindexed to match DataFrame index.\n",
            "/usr/local/lib/python3.7/dist-packages/ipykernel_launcher.py:60: UserWarning: Boolean Series key will be reindexed to match DataFrame index.\n",
            "/usr/local/lib/python3.7/dist-packages/ipykernel_launcher.py:63: FutureWarning: elementwise comparison failed; returning scalar instead, but in the future will perform elementwise comparison\n",
            "/usr/local/lib/python3.7/dist-packages/ipykernel_launcher.py:52: UserWarning: Boolean Series key will be reindexed to match DataFrame index.\n",
            "/usr/local/lib/python3.7/dist-packages/ipykernel_launcher.py:53: UserWarning: Boolean Series key will be reindexed to match DataFrame index.\n",
            "/usr/local/lib/python3.7/dist-packages/ipykernel_launcher.py:59: UserWarning: Boolean Series key will be reindexed to match DataFrame index.\n",
            "/usr/local/lib/python3.7/dist-packages/ipykernel_launcher.py:60: UserWarning: Boolean Series key will be reindexed to match DataFrame index.\n",
            "/usr/local/lib/python3.7/dist-packages/ipykernel_launcher.py:63: FutureWarning: elementwise comparison failed; returning scalar instead, but in the future will perform elementwise comparison\n",
            "/usr/local/lib/python3.7/dist-packages/ipykernel_launcher.py:52: UserWarning: Boolean Series key will be reindexed to match DataFrame index.\n",
            "/usr/local/lib/python3.7/dist-packages/ipykernel_launcher.py:53: UserWarning: Boolean Series key will be reindexed to match DataFrame index.\n",
            "/usr/local/lib/python3.7/dist-packages/ipykernel_launcher.py:59: UserWarning: Boolean Series key will be reindexed to match DataFrame index.\n",
            "/usr/local/lib/python3.7/dist-packages/ipykernel_launcher.py:60: UserWarning: Boolean Series key will be reindexed to match DataFrame index.\n",
            "/usr/local/lib/python3.7/dist-packages/ipykernel_launcher.py:63: FutureWarning: elementwise comparison failed; returning scalar instead, but in the future will perform elementwise comparison\n",
            "/usr/local/lib/python3.7/dist-packages/ipykernel_launcher.py:52: UserWarning: Boolean Series key will be reindexed to match DataFrame index.\n",
            "/usr/local/lib/python3.7/dist-packages/ipykernel_launcher.py:53: UserWarning: Boolean Series key will be reindexed to match DataFrame index.\n",
            "/usr/local/lib/python3.7/dist-packages/ipykernel_launcher.py:59: UserWarning: Boolean Series key will be reindexed to match DataFrame index.\n",
            "/usr/local/lib/python3.7/dist-packages/ipykernel_launcher.py:60: UserWarning: Boolean Series key will be reindexed to match DataFrame index.\n",
            "/usr/local/lib/python3.7/dist-packages/ipykernel_launcher.py:63: FutureWarning: elementwise comparison failed; returning scalar instead, but in the future will perform elementwise comparison\n",
            "/usr/local/lib/python3.7/dist-packages/ipykernel_launcher.py:52: UserWarning: Boolean Series key will be reindexed to match DataFrame index.\n",
            "/usr/local/lib/python3.7/dist-packages/ipykernel_launcher.py:53: UserWarning: Boolean Series key will be reindexed to match DataFrame index.\n",
            "/usr/local/lib/python3.7/dist-packages/ipykernel_launcher.py:59: UserWarning: Boolean Series key will be reindexed to match DataFrame index.\n",
            "/usr/local/lib/python3.7/dist-packages/ipykernel_launcher.py:60: UserWarning: Boolean Series key will be reindexed to match DataFrame index.\n",
            "/usr/local/lib/python3.7/dist-packages/ipykernel_launcher.py:63: FutureWarning: elementwise comparison failed; returning scalar instead, but in the future will perform elementwise comparison\n",
            "/usr/local/lib/python3.7/dist-packages/ipykernel_launcher.py:52: UserWarning: Boolean Series key will be reindexed to match DataFrame index.\n",
            "/usr/local/lib/python3.7/dist-packages/ipykernel_launcher.py:53: UserWarning: Boolean Series key will be reindexed to match DataFrame index.\n",
            "/usr/local/lib/python3.7/dist-packages/ipykernel_launcher.py:59: UserWarning: Boolean Series key will be reindexed to match DataFrame index.\n",
            "/usr/local/lib/python3.7/dist-packages/ipykernel_launcher.py:60: UserWarning: Boolean Series key will be reindexed to match DataFrame index.\n",
            "/usr/local/lib/python3.7/dist-packages/ipykernel_launcher.py:63: FutureWarning: elementwise comparison failed; returning scalar instead, but in the future will perform elementwise comparison\n",
            "/usr/local/lib/python3.7/dist-packages/ipykernel_launcher.py:52: UserWarning: Boolean Series key will be reindexed to match DataFrame index.\n",
            "/usr/local/lib/python3.7/dist-packages/ipykernel_launcher.py:53: UserWarning: Boolean Series key will be reindexed to match DataFrame index.\n",
            "/usr/local/lib/python3.7/dist-packages/ipykernel_launcher.py:59: UserWarning: Boolean Series key will be reindexed to match DataFrame index.\n",
            "/usr/local/lib/python3.7/dist-packages/ipykernel_launcher.py:60: UserWarning: Boolean Series key will be reindexed to match DataFrame index.\n",
            "/usr/local/lib/python3.7/dist-packages/ipykernel_launcher.py:63: FutureWarning: elementwise comparison failed; returning scalar instead, but in the future will perform elementwise comparison\n",
            "/usr/local/lib/python3.7/dist-packages/ipykernel_launcher.py:52: UserWarning: Boolean Series key will be reindexed to match DataFrame index.\n",
            "/usr/local/lib/python3.7/dist-packages/ipykernel_launcher.py:53: UserWarning: Boolean Series key will be reindexed to match DataFrame index.\n",
            "/usr/local/lib/python3.7/dist-packages/ipykernel_launcher.py:59: UserWarning: Boolean Series key will be reindexed to match DataFrame index.\n",
            "/usr/local/lib/python3.7/dist-packages/ipykernel_launcher.py:60: UserWarning: Boolean Series key will be reindexed to match DataFrame index.\n",
            "/usr/local/lib/python3.7/dist-packages/ipykernel_launcher.py:63: FutureWarning: elementwise comparison failed; returning scalar instead, but in the future will perform elementwise comparison\n",
            "/usr/local/lib/python3.7/dist-packages/ipykernel_launcher.py:52: UserWarning: Boolean Series key will be reindexed to match DataFrame index.\n",
            "/usr/local/lib/python3.7/dist-packages/ipykernel_launcher.py:53: UserWarning: Boolean Series key will be reindexed to match DataFrame index.\n",
            "/usr/local/lib/python3.7/dist-packages/ipykernel_launcher.py:59: UserWarning: Boolean Series key will be reindexed to match DataFrame index.\n",
            "/usr/local/lib/python3.7/dist-packages/ipykernel_launcher.py:60: UserWarning: Boolean Series key will be reindexed to match DataFrame index.\n",
            "/usr/local/lib/python3.7/dist-packages/ipykernel_launcher.py:63: FutureWarning: elementwise comparison failed; returning scalar instead, but in the future will perform elementwise comparison\n",
            "/usr/local/lib/python3.7/dist-packages/ipykernel_launcher.py:52: UserWarning: Boolean Series key will be reindexed to match DataFrame index.\n",
            "/usr/local/lib/python3.7/dist-packages/ipykernel_launcher.py:53: UserWarning: Boolean Series key will be reindexed to match DataFrame index.\n",
            "/usr/local/lib/python3.7/dist-packages/ipykernel_launcher.py:59: UserWarning: Boolean Series key will be reindexed to match DataFrame index.\n",
            "/usr/local/lib/python3.7/dist-packages/ipykernel_launcher.py:60: UserWarning: Boolean Series key will be reindexed to match DataFrame index.\n",
            "/usr/local/lib/python3.7/dist-packages/ipykernel_launcher.py:63: FutureWarning: elementwise comparison failed; returning scalar instead, but in the future will perform elementwise comparison\n",
            "/usr/local/lib/python3.7/dist-packages/ipykernel_launcher.py:52: UserWarning: Boolean Series key will be reindexed to match DataFrame index.\n",
            "/usr/local/lib/python3.7/dist-packages/ipykernel_launcher.py:53: UserWarning: Boolean Series key will be reindexed to match DataFrame index.\n",
            "/usr/local/lib/python3.7/dist-packages/ipykernel_launcher.py:59: UserWarning: Boolean Series key will be reindexed to match DataFrame index.\n",
            "/usr/local/lib/python3.7/dist-packages/ipykernel_launcher.py:60: UserWarning: Boolean Series key will be reindexed to match DataFrame index.\n",
            "/usr/local/lib/python3.7/dist-packages/ipykernel_launcher.py:63: FutureWarning: elementwise comparison failed; returning scalar instead, but in the future will perform elementwise comparison\n",
            "/usr/local/lib/python3.7/dist-packages/ipykernel_launcher.py:52: UserWarning: Boolean Series key will be reindexed to match DataFrame index.\n",
            "/usr/local/lib/python3.7/dist-packages/ipykernel_launcher.py:53: UserWarning: Boolean Series key will be reindexed to match DataFrame index.\n",
            "/usr/local/lib/python3.7/dist-packages/ipykernel_launcher.py:59: UserWarning: Boolean Series key will be reindexed to match DataFrame index.\n",
            "/usr/local/lib/python3.7/dist-packages/ipykernel_launcher.py:60: UserWarning: Boolean Series key will be reindexed to match DataFrame index.\n",
            "/usr/local/lib/python3.7/dist-packages/ipykernel_launcher.py:63: FutureWarning: elementwise comparison failed; returning scalar instead, but in the future will perform elementwise comparison\n",
            "/usr/local/lib/python3.7/dist-packages/ipykernel_launcher.py:52: UserWarning: Boolean Series key will be reindexed to match DataFrame index.\n",
            "/usr/local/lib/python3.7/dist-packages/ipykernel_launcher.py:53: UserWarning: Boolean Series key will be reindexed to match DataFrame index.\n",
            "/usr/local/lib/python3.7/dist-packages/ipykernel_launcher.py:59: UserWarning: Boolean Series key will be reindexed to match DataFrame index.\n",
            "/usr/local/lib/python3.7/dist-packages/ipykernel_launcher.py:60: UserWarning: Boolean Series key will be reindexed to match DataFrame index.\n",
            "/usr/local/lib/python3.7/dist-packages/ipykernel_launcher.py:63: FutureWarning: elementwise comparison failed; returning scalar instead, but in the future will perform elementwise comparison\n",
            "/usr/local/lib/python3.7/dist-packages/ipykernel_launcher.py:52: UserWarning: Boolean Series key will be reindexed to match DataFrame index.\n",
            "/usr/local/lib/python3.7/dist-packages/ipykernel_launcher.py:53: UserWarning: Boolean Series key will be reindexed to match DataFrame index.\n",
            "/usr/local/lib/python3.7/dist-packages/ipykernel_launcher.py:59: UserWarning: Boolean Series key will be reindexed to match DataFrame index.\n",
            "/usr/local/lib/python3.7/dist-packages/ipykernel_launcher.py:60: UserWarning: Boolean Series key will be reindexed to match DataFrame index.\n",
            "/usr/local/lib/python3.7/dist-packages/ipykernel_launcher.py:63: FutureWarning: elementwise comparison failed; returning scalar instead, but in the future will perform elementwise comparison\n",
            "/usr/local/lib/python3.7/dist-packages/ipykernel_launcher.py:52: UserWarning: Boolean Series key will be reindexed to match DataFrame index.\n",
            "/usr/local/lib/python3.7/dist-packages/ipykernel_launcher.py:53: UserWarning: Boolean Series key will be reindexed to match DataFrame index.\n",
            "/usr/local/lib/python3.7/dist-packages/ipykernel_launcher.py:59: UserWarning: Boolean Series key will be reindexed to match DataFrame index.\n",
            "/usr/local/lib/python3.7/dist-packages/ipykernel_launcher.py:60: UserWarning: Boolean Series key will be reindexed to match DataFrame index.\n",
            "/usr/local/lib/python3.7/dist-packages/ipykernel_launcher.py:63: FutureWarning: elementwise comparison failed; returning scalar instead, but in the future will perform elementwise comparison\n",
            "/usr/local/lib/python3.7/dist-packages/ipykernel_launcher.py:52: UserWarning: Boolean Series key will be reindexed to match DataFrame index.\n",
            "/usr/local/lib/python3.7/dist-packages/ipykernel_launcher.py:53: UserWarning: Boolean Series key will be reindexed to match DataFrame index.\n",
            "/usr/local/lib/python3.7/dist-packages/ipykernel_launcher.py:59: UserWarning: Boolean Series key will be reindexed to match DataFrame index.\n",
            "/usr/local/lib/python3.7/dist-packages/ipykernel_launcher.py:60: UserWarning: Boolean Series key will be reindexed to match DataFrame index.\n",
            "/usr/local/lib/python3.7/dist-packages/ipykernel_launcher.py:63: FutureWarning: elementwise comparison failed; returning scalar instead, but in the future will perform elementwise comparison\n",
            "/usr/local/lib/python3.7/dist-packages/numpy/core/_methods.py:263: RuntimeWarning: Degrees of freedom <= 0 for slice\n",
            "  keepdims=keepdims, where=where)\n",
            "/usr/local/lib/python3.7/dist-packages/numpy/core/_methods.py:223: RuntimeWarning: invalid value encountered in true_divide\n",
            "  subok=False)\n",
            "/usr/local/lib/python3.7/dist-packages/numpy/core/_methods.py:254: RuntimeWarning: invalid value encountered in double_scalars\n",
            "  ret = ret.dtype.type(ret / rcount)\n",
            "/usr/local/lib/python3.7/dist-packages/numpy/core/fromnumeric.py:3441: RuntimeWarning: Mean of empty slice.\n",
            "  out=out, **kwargs)\n",
            "/usr/local/lib/python3.7/dist-packages/numpy/core/_methods.py:189: RuntimeWarning: invalid value encountered in double_scalars\n",
            "  ret = ret.dtype.type(ret / rcount)\n"
          ]
        },
        {
          "output_type": "stream",
          "name": "stdout",
          "text": [
            "[12.62522841454591, nan, 11.387783288955688, 13.86267385482788, 16.383217949512876]\n"
          ]
        }
      ],
      "id": "JEDHVa4bwzaY"
    },
    {
      "cell_type": "code",
      "source": [
        "polarity_pred_nn_df = []                                                        # Create a list of lists that will be converted to a dataframe\n",
        "\n",
        "for i in sorted(df_polarity['name']):                                            # For every name in the dataframe\n",
        "  i = i.lower()\n",
        "  \n",
        "  try:\n",
        "    polarity_pred_nn_df.append([i, polarity_pred_dict_combined_nn[i][0],           # Append the name, name type, and normal + mean_vector only predictions for the\n",
        "                                polarity_pred_dict_combined_nn[i][1],              # three model types as a row to the list of lists\n",
        "                                polarity_pred_dict_combined_nn[i][2],\n",
        "                                polarity_pred_dict_combined_nn[i + '_mean_vector'][2], \n",
        "                                polarity_pred_dict_ngram_nn[i][2], \n",
        "                                polarity_pred_dict_ngram_nn[i + '_mean_vector'][2], \n",
        "                                polarity_pred_dict_lexical_nn[i][2],\n",
        "                                polarity_pred_dict_lexical_nn[i + '_mean_vector'][2]])\n",
        "    \n",
        "  except KeyError:\n",
        "    continue\n",
        "    polarity_pred_nn_df.append([i, polarity_pred_dict_combined_nn[i][0],           # Append the name, name type, and normal + mean_vector only predictions for the\n",
        "                                polarity_pred_dict_combined_nn[i][1],              # three model types as a row to the list of lists\n",
        "                                polarity_pred_dict_combined_nn[i][2],\n",
        "                                polarity_pred_dict_combined_nn[i + '_mean_vector'][2], \n",
        "                                polarity_pred_dict_ngram_nn[i][2], \n",
        "                                polarity_pred_dict_ngram_nn[i + '_mean_vector'][2], \n",
        "                                None, None])\n",
        "  \n",
        "polarity_pred_nn_df = pd.DataFrame(polarity_pred_nn_df, columns=column_list_pred) # Convert list of lists to DF\n",
        "\n",
        "polarity_pred_nn_df.to_csv(csv_path + 'polarity_pred_nn.csv', index=False)   # Save DF as .csv"
      ],
      "metadata": {
        "id": "pnGVIMDzwzab"
      },
      "execution_count": null,
      "outputs": [],
      "id": "pnGVIMDzwzab"
    },
    {
      "cell_type": "markdown",
      "source": [
        "#### Adding all metrics CSVs together"
      ],
      "metadata": {
        "id": "D-lupnOHwzac"
      },
      "id": "D-lupnOHwzac"
    },
    {
      "cell_type": "code",
      "source": [
        "csv_complete = []                                                               # Create list of lists, that will be converted to a DF\n",
        "\n",
        "for file_name in sorted(os.listdir(csv_path)):                                  # Locate all files in the folder\n",
        "  if file_name == 'complete_metrics.csv':\n",
        "    pass\n",
        "  else:\n",
        "    if file_name[-11:] == 'metrics.csv':                                          # If the files ends with 'metrics.csv'\n",
        "      df_temp = pd.read_csv(csv_path + file_name)                                 # Convert the .csv file to a DF\n",
        "\n",
        "      if file_name[-14:] == 'nn_metrics.csv':                                     # If the file has neural network metrics\n",
        "        for row in df_temp.values.tolist():                                       # For every row\n",
        "          row = row[:2] + ['Neural Network'] + row[2:] + [None, None, None, None] # Add none to the metrics that don't apply to neural networks (e.g., alpha, l1_ratio)\n",
        "          csv_complete.append(row)                                                # Append the row to the list of lists\n",
        "      else:                                                                       # Else\n",
        "        columns = list(df_temp.columns)                                           # Save the column names as a list\n",
        "        columns = columns[:2] + ['model_type'] + columns[6:] + columns[2:6]               \n",
        "        for row in df_temp.values.tolist():                                       # For every row in the ElasticNet metrics\n",
        "          row = row[:2] + ['ElasticNet'] + row[6:] + row[2:6]\n",
        "          csv_complete.append(row)                                                # Append the row to the list of lists\n",
        "\n",
        "csv_complete = pd.DataFrame(csv_complete, columns=columns)                  # Convert list of lists to a DF\n",
        "csv_complete.to_csv(csv_path + 'complete_metrics.csv', index=False)             # Save DF as a .csv file"
      ],
      "metadata": {
        "id": "l91-mkPwwzae"
      },
      "execution_count": null,
      "outputs": [],
      "id": "l91-mkPwwzae"
    }
  ],
  "metadata": {
    "kernelspec": {
      "display_name": "Python 3 (ipykernel)",
      "language": "python",
      "name": "python3"
    },
    "language_info": {
      "codemirror_mode": {
        "name": "ipython",
        "version": 3
      },
      "file_extension": ".py",
      "mimetype": "text/x-python",
      "name": "python",
      "nbconvert_exporter": "python",
      "pygments_lexer": "ipython3",
      "version": "3.9.7"
    },
    "colab": {
      "name": "Publishing Version Semantics of Names.ipynb",
      "provenance": []
    }
  },
  "nbformat": 4,
  "nbformat_minor": 5
}