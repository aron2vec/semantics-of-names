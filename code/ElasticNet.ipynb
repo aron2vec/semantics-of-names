{
  "cells": [
    {
      "cell_type": "code",
      "source": [
        "!pip install fasttext"
      ],
      "metadata": {
        "id": "gvlKyGJBrVPl"
      },
      "id": "gvlKyGJBrVPl",
      "execution_count": null,
      "outputs": []
    },
    {
      "cell_type": "code",
      "execution_count": 25,
      "id": "8b3cd47c-eeee-49a5-b99c-0b6ab8dbbe25",
      "metadata": {
        "id": "8b3cd47c-eeee-49a5-b99c-0b6ab8dbbe25"
      },
      "outputs": [],
      "source": [
        "from numpy import mean\n",
        "from numpy import std\n",
        "from numpy import absolute\n",
        "from pandas import read_csv\n",
        "import pandas as pd\n",
        "import numpy as np\n",
        "import sklearn\n",
        "from sklearn.model_selection import cross_val_score, RepeatedKFold, train_test_split\n",
        "from sklearn.linear_model import ElasticNetCV\n",
        "import fasttext\n",
        "\n",
        "#path = \"D:/Tilburg University/2021-2022/Thesis/Coca/\"\n",
        "#model_path = path + \"models/\"\n",
        "\n",
        "#model = fasttext.load_model(model_path + \"sentenced_dim300_ws2_minn2_maxn5.bin\")"
      ]
    },
    {
      "cell_type": "code",
      "source": [
        "## When working in colab:\n",
        "from google.colab import drive\n",
        "\n",
        "drive.mount(\"/content/drive\", force_remount=True) \n",
        "\n",
        "model = fasttext.load_model(\"drive/MyDrive/Thesis/Data/fastText and others/sentenced_dim300_ws2_minn2_maxn5.bin\")"
      ],
      "metadata": {
        "colab": {
          "base_uri": "https://localhost:8080/"
        },
        "id": "RMMFcx0UBVvC",
        "outputId": "4cad3d50-46e5-4d4c-9c6e-522e6063c686"
      },
      "id": "RMMFcx0UBVvC",
      "execution_count": 21,
      "outputs": [
        {
          "output_type": "stream",
          "name": "stdout",
          "text": [
            "Mounted at /content/drive\n"
          ]
        },
        {
          "output_type": "stream",
          "name": "stderr",
          "text": [
            "Warning : `load_model` does not return WordVectorModel or SupervisedModel any more, but a `FastText` object which is very similar.\n"
          ]
        }
      ]
    },
    {
      "cell_type": "code",
      "execution_count": 15,
      "id": "3a18f809-0cbd-4964-8044-4b67bbbc456c",
      "metadata": {
        "id": "3a18f809-0cbd-4964-8044-4b67bbbc456c",
        "outputId": "b03d2681-e1c0-4e7c-c8ea-185e363e21f2",
        "colab": {
          "base_uri": "https://localhost:8080/"
        }
      },
      "outputs": [
        {
          "output_type": "stream",
          "name": "stdout",
          "text": [
            "119\n",
            "179\n",
            "63\n",
            "       name  rating.mean_age    age name_type\n",
            "0  Adelaide        -0.617647    old      real\n",
            "2  Alasdair        18.709677  young      real\n",
            "3   Alastor        13.812500    old    madeup\n",
            "4    Alecto         3.593750    old    madeup\n",
            "5     Alice       -13.969697  young      real 119\n",
            "       name  rating.mean_gender  gender name_type\n",
            "0  Adelaide           45.727273  female      real\n",
            "1   Adelina           47.771429  female      real\n",
            "2  Alasdair          -35.657143    male      real\n",
            "3   Alastor          -38.833333    male    madeup\n",
            "4    Alecto          -35.722222  female    madeup 179\n",
            "        name  rating.mean_valence polarity name_type\n",
            "1    Adelina            31.621622      bad      real\n",
            "7    Amabala             5.935484     good    madeup\n",
            "8      Apple            32.444444     good   talking\n",
            "11  Arcturus           -11.166667     good    madeup\n",
            "13   Arobynn             7.645161      bad    madeup 63\n"
          ]
        }
      ],
      "source": [
        "### Read CSV File and Delete Unimportant Columns\n",
        "#names_ratings = read_csv(\"D:/Tilburg University/2021-2022/Thesis/Data analyses/Giovanni Email Data/avgRatings_annotated.csv\")\n",
        "\n",
        "names_ratings = read_csv(\"drive/MyDrive/Thesis/Data/giovanni_email_data/avgRatings_annotated.csv\")\n",
        "\n",
        "#print(names_ratings.head())\n",
        "\n",
        "print(names_ratings['rating.mean_age'].notna().sum())\n",
        "print(names_ratings['rating.mean_gender'].notna().sum())\n",
        "print(names_ratings['rating.mean_valence'].notna().sum())\n",
        "\n",
        "df_age = names_ratings.loc[names_ratings['rating.mean_age'].notna(), ['name', 'rating.mean_age', 'age', 'name_type']]\n",
        "print(df_age.head(), len(df_age))\n",
        "\n",
        "df_gender = names_ratings.loc[names_ratings['rating.mean_gender'].notna(), ['name', 'rating.mean_gender', 'gender', 'name_type']]\n",
        "print(df_gender.head(), len(df_gender))\n",
        "\n",
        "df_polarity = names_ratings.loc[names_ratings['rating.mean_valence'].notna(), ['name', 'rating.mean_valence', 'polarity', 'name_type']]\n",
        "print(df_polarity.head(), len(df_polarity))"
      ]
    },
    {
      "cell_type": "code",
      "execution_count": 22,
      "id": "81ce89e5-06a4-45b0-a0b1-4837e28febac",
      "metadata": {
        "id": "81ce89e5-06a4-45b0-a0b1-4837e28febac",
        "outputId": "338a5b39-2962-4251-a8d4-316380a3ab73",
        "colab": {
          "base_uri": "https://localhost:8080/"
        }
      },
      "outputs": [
        {
          "output_type": "stream",
          "name": "stdout",
          "text": [
            "95 24 143 36 50 13\n"
          ]
        }
      ],
      "source": [
        "### Get repeatable train/test split with a seed\n",
        "\n",
        "def fasttext_xifyer(input_data):\n",
        "  df_output = np.zeros((len(input_data), 300))\n",
        "\n",
        "  i = 0\n",
        "\n",
        "  for row in input_data.iterrows():\n",
        "    index = row[0]\n",
        "    name = row[1][0].lower()\n",
        "    df_output[i] = model[name]\n",
        "    i += 1\n",
        "\n",
        "  return df_output\n",
        "\n",
        "################################################################################\n",
        "\n",
        "age_train, age_test = train_test_split(df_age, test_size=0.2, random_state=17042020,      ## First let's do age\n",
        "                               stratify=df_age[['age', 'name_type']])\n",
        "\n",
        "x_age_train = fasttext_xifyer(age_train)\n",
        "x_age_test = fasttext_xifyer(age_test)\n",
        "\n",
        "y_age_train = age_train['rating.mean_age']\n",
        "y_age_test = age_test['rating.mean_age']\n",
        "\n",
        "####################################################################################################################\n",
        "\n",
        "gen_train, gen_test = train_test_split(df_gender, test_size=0.2, random_state=17042020,     ## Now let's do gender\n",
        "                               stratify=df_gender[['gender', 'name_type']])\n",
        "\n",
        "x_gen_train = fasttext_xifyer(gen_train)\n",
        "x_gen_test = fasttext_xifyer(gen_test)\n",
        "\n",
        "\n",
        "y_gen_train = gen_train['rating.mean_gender']\n",
        "y_gen_test = gen_test['rating.mean_gender']\n",
        "\n",
        "\n",
        "####################################################################################################################\n",
        "\n",
        "pol_train, pol_test = train_test_split(df_polarity, test_size=0.2, random_state=17042020,    ## And lastly, polarity\n",
        "                               stratify=df_polarity[['polarity', 'name_type']])\n",
        "\n",
        "x_pol_train = fasttext_xifyer(pol_train)\n",
        "x_pol_test = fasttext_xifyer(pol_test)\n",
        "\n",
        "y_pol_train = pol_train['rating.mean_valence']\n",
        "y_pol_test = pol_test['rating.mean_valence']\n",
        "\n",
        "print(len(x_age_train), len(x_age_test), len(x_gen_train), len(x_gen_test), len(x_pol_train), len(x_pol_test))\n",
        "\n",
        "#del model"
      ]
    },
    {
      "cell_type": "code",
      "source": [
        "### Get repeatable train/test split with a seed, but without surface form\n",
        "\n",
        "def fasttext_xifyer_formless(input_data):\n",
        "  df_output = np.zeros((len(input_data), 300))\n",
        "\n",
        "  c = 0\n",
        "\n",
        "  for row in input_data.iterrows():\n",
        "    index = row[0]\n",
        "    name = row[1][0].lower()\n",
        "    if name == model.get_subwords(name)[0][0]:\n",
        "      wordarray = np.zeros((len(model.get_subwords(name)[0][1:]), 300))\n",
        "      for i, j in enumerate(model.get_subwords(name)[0][1:]):\n",
        "          wordarray[i] = model[j]\n",
        "      df_output[c] = np.mean(wordarray, axis = 0)\n",
        "    else:\n",
        "      df_output[c] = model[name]\n",
        "    c += 1\n",
        "\n",
        "  return df_output\n",
        "\n",
        "x_age_train_formless = fasttext_xifyer_formless(age_train)  \n",
        "x_age_test_formless = fasttext_xifyer_formless(age_test)\n",
        "\n",
        "####################################################################################################################\n",
        "\n",
        "x_gen_train_formless = fasttext_xifyer_formless(gen_train)\n",
        "x_gen_test_formless = fasttext_xifyer_formless(gen_test)\n",
        "\n",
        "\n",
        "\n",
        "####################################################################################################################\n",
        "\n",
        "\n",
        "x_pol_train_formless = fasttext_xifyer_formless(pol_train)\n",
        "x_pol_test_formless = fasttext_xifyer_formless(pol_test)\n",
        "\n",
        "print(len(x_age_train_formless), len(x_age_test_formless), len(x_gen_train_formless), len(x_gen_test_formless), len(x_pol_train_formless), len(x_pol_test_formless))\n",
        "\n",
        "#del model"
      ],
      "metadata": {
        "id": "tAbHjci5sgvm"
      },
      "id": "tAbHjci5sgvm",
      "execution_count": null,
      "outputs": []
    },
    {
      "cell_type": "code",
      "execution_count": null,
      "id": "fc46ca8b-cd6b-4de5-9def-8c0a1ac9c2db",
      "metadata": {
        "id": "fc46ca8b-cd6b-4de5-9def-8c0a1ac9c2db"
      },
      "outputs": [],
      "source": [
        "### Make a cross-validation loop testing a bunch of hyperparameters, all the while saving the outputs to a dict or something"
      ]
    },
    {
      "cell_type": "code",
      "execution_count": 34,
      "id": "68c41b5d-43b8-4a30-8636-ec9da122b3db",
      "metadata": {
        "id": "68c41b5d-43b8-4a30-8636-ec9da122b3db"
      },
      "outputs": [],
      "source": [
        "def elasticnetifyer(x_train, y_train, x_test, y_test, test_full):\n",
        "  regr = ElasticNetCV(l1_ratio = [0.01, 0.05, .1, 0.2, .5, .7, .9, .95, .99, 1], \n",
        "                      n_alphas = 250,\n",
        "                      max_iter = 10000,\n",
        "                      cv = len(x_train),\n",
        "                      selection = 'random', \n",
        "                      random_state=17042020,)\n",
        "\n",
        "  regr.fit(x_train, y_train)\n",
        "\n",
        "  print(\"Alpha:\", regr.alpha_)\n",
        "  print(\"L1 Ratio:\", regr.l1_ratio_)\n",
        "  print(\"# Iters:\", regr.n_iter_)\n",
        "  print(\"Intercept:\", regr.intercept_)\n",
        "  #print(\"Coefs:\", regr.coef_)\n",
        "  print(\"\\n\")\n",
        "\n",
        "  print(\"MSE Train:\", mean(regr.mse_path_))\n",
        "\n",
        "  print(\"MAE Test:\", sklearn.metrics.mean_absolute_error(y_test, regr.predict(x_test)))\n",
        "  print(\"MSE Test:\", sklearn.metrics.mean_squared_error(y_test, regr.predict(x_test)))\n",
        "\n",
        "  print(\"R2:\", regr.score(x_test, y_test))\n",
        "\n",
        "  print('\\n')\n",
        "\n",
        "  type_dict = {}\n",
        "  type_counter = {}\n",
        "  for n, i, j in zip(test_full['name_type'], y_test, x_test):\n",
        "      if n in type_dict.keys():\n",
        "          type_dict[n] = type_dict[n] + abs(i - regr.predict(j.reshape(1, -1)))\n",
        "          type_counter[n] = type_counter[n] + 1\n",
        "      else:\n",
        "          type_dict[n] = abs(i - regr.predict(j.reshape(1, -1)))\n",
        "          type_counter[n] = 1\n",
        "      \n",
        "  for i in type_dict.keys():\n",
        "      print(\"MAE\", i, type_dict[i]/type_counter[i])\n",
        "\n",
        "  print('\\n')\n",
        "\n",
        "  mean_vec = np.mean(x_train, axis = 0)\n",
        "  mean_vec_array = np.full((len(x_test), 300), mean_vec)\n",
        "\n",
        "  print(\"Mean-vector MAE Test:\", sklearn.metrics.mean_absolute_error(y_test, regr.predict(mean_vec_array)))\n",
        "  print(\"Mean-vector MSE Test:\", sklearn.metrics.mean_squared_error(y_test, regr.predict(mean_vec_array)))\n",
        "\n",
        "  print(\"Mean-vector R2:\", regr.score(mean_vec_array, y_test))"
      ]
    },
    {
      "cell_type": "code",
      "source": [
        "elasticnetifyer(x_gen_train, y_gen_train, x_gen_test, y_gen_test, gen_test)"
      ],
      "metadata": {
        "id": "mayUTSYnnFb-",
        "outputId": "a4067c5c-233c-4043-912f-29b552b56e8f",
        "colab": {
          "base_uri": "https://localhost:8080/"
        }
      },
      "id": "mayUTSYnnFb-",
      "execution_count": 26,
      "outputs": [
        {
          "output_type": "stream",
          "name": "stdout",
          "text": [
            "Alpha: 0.07464309442408282\n",
            "L1 Ratio: 0.9\n",
            "# Iters: 48\n",
            "Intercept: -2.276081549528773\n",
            "\n",
            "\n",
            "MSE Train: 888.8802022779203\n",
            "MAE Test: 19.75393167120632\n",
            "MSE Test: 548.8958414915724\n",
            "R2: 0.6016848992232695\n",
            "\n",
            "\n",
            "MAE madeup [24.51393291]\n",
            "MAE real [15.76683143]\n",
            "MAE talking [18.98103068]\n",
            "\n",
            "\n",
            "Mean-vector MAE Test: 35.20711844649357\n",
            "Mean-vector MSE Test: 1411.4821234797062\n",
            "Mean-vector R2: -0.02426471793010454\n"
          ]
        }
      ]
    },
    {
      "cell_type": "code",
      "source": [
        "elasticnetifyer(x_age_train, y_age_train, x_age_test, y_age_test, age_test)"
      ],
      "metadata": {
        "id": "xfG6Njqvn7UG",
        "outputId": "661e022e-fb87-44fc-d8b3-8287fb7332fd",
        "colab": {
          "base_uri": "https://localhost:8080/"
        }
      },
      "id": "xfG6Njqvn7UG",
      "execution_count": 36,
      "outputs": [
        {
          "output_type": "stream",
          "name": "stdout",
          "text": [
            "Alpha: 0.22747173388941747\n",
            "L1 Ratio: 1.0\n",
            "# Iters: 71\n",
            "Intercept: 14.058597468383912\n",
            "\n",
            "\n",
            "MSE Train: 412.7853215036653\n",
            "MAE Test: 17.398978553042074\n",
            "MSE Test: 403.1392561316581\n",
            "R2: -0.4256642361660301\n",
            "\n",
            "\n",
            "MAE real [16.99593187]\n",
            "MAE madeup [20.83337036]\n",
            "MAE talking [14.36763342]\n",
            "\n",
            "\n",
            "Mean-vector MAE Test: 17.188119883066264\n",
            "Mean-vector MSE Test: 377.67235203479964\n",
            "Mean-vector R2: -0.3356029141177901\n"
          ]
        }
      ]
    },
    {
      "cell_type": "code",
      "source": [
        "elasticnetifyer(x_pol_train, y_pol_train, x_pol_test, y_pol_test, pol_test)"
      ],
      "metadata": {
        "id": "H1vMjs23n7iq",
        "outputId": "dece6770-ee8d-425d-be3e-c070c477b201",
        "colab": {
          "base_uri": "https://localhost:8080/"
        }
      },
      "id": "H1vMjs23n7iq",
      "execution_count": 37,
      "outputs": [
        {
          "output_type": "stream",
          "name": "stdout",
          "text": [
            "Alpha: 0.08319937318664238\n",
            "L1 Ratio: 0.7\n",
            "# Iters: 32\n",
            "Intercept: -5.172295579705981\n",
            "\n",
            "\n",
            "MSE Train: 327.8059654834631\n",
            "MAE Test: 17.375498152043754\n",
            "MSE Test: 493.0342242180459\n",
            "R2: 0.010576759549279835\n",
            "\n",
            "\n",
            "MAE real [13.7378035]\n",
            "MAE madeup [19.34068643]\n",
            "MAE talking [18.55670745]\n",
            "\n",
            "\n",
            "Mean-vector MAE Test: 19.8674717396795\n",
            "Mean-vector MSE Test: 516.5873977208159\n",
            "Mean-vector R2: -0.036689852189426775\n"
          ]
        }
      ]
    },
    {
      "cell_type": "code",
      "source": [
        "elasticnetifyer(x_gen_train_formless, y_gen_train, x_gen_test_formless, y_gen_test, gen_test)"
      ],
      "metadata": {
        "id": "C3KSPSM3ryez",
        "outputId": "114c2604-15c8-47e3-86a7-80b786b87d36",
        "colab": {
          "base_uri": "https://localhost:8080/"
        }
      },
      "id": "C3KSPSM3ryez",
      "execution_count": 38,
      "outputs": [
        {
          "output_type": "stream",
          "name": "stdout",
          "text": [
            "Alpha: 0.3109822127529715\n",
            "L1 Ratio: 0.99\n",
            "# Iters: 30\n",
            "Intercept: -13.108990119160646\n",
            "\n",
            "\n",
            "MSE Train: 1298.5679473768355\n",
            "MAE Test: 29.675574225184594\n",
            "MSE Test: 1108.4647117007096\n",
            "R2: 0.1956247433962447\n",
            "\n",
            "\n",
            "MAE madeup [23.90430818]\n",
            "MAE real [38.41121527]\n",
            "MAE talking [26.71119922]\n",
            "\n",
            "\n",
            "Mean-vector MAE Test: 35.20711844649357\n",
            "Mean-vector MSE Test: 1411.4821234797062\n",
            "Mean-vector R2: -0.02426471793010454\n"
          ]
        }
      ]
    },
    {
      "cell_type": "code",
      "source": [
        "elasticnetifyer(x_age_train_formless, y_age_train, x_age_test_formless, y_age_test, age_test)"
      ],
      "metadata": {
        "id": "6H6G13U9ry7N",
        "outputId": "91267e82-1f6b-49cd-aacb-f182ef638bbc",
        "colab": {
          "base_uri": "https://localhost:8080/"
        }
      },
      "id": "6H6G13U9ry7N",
      "execution_count": 35,
      "outputs": [
        {
          "output_type": "stream",
          "name": "stdout",
          "text": [
            "Alpha: 0.0483303750010695\n",
            "L1 Ratio: 0.05\n",
            "# Iters: 21\n",
            "Intercept: 12.582004171099673\n",
            "\n",
            "\n",
            "MSE Train: 505.0297382646456\n",
            "MAE Test: 15.861944755220998\n",
            "MSE Test: 345.6672356059924\n",
            "R2: -0.2224198162852662\n",
            "\n",
            "\n",
            "MAE real [14.10345426]\n",
            "MAE madeup [15.00685642]\n",
            "MAE talking [18.47552359]\n",
            "\n",
            "\n",
            "Mean-vector MAE Test: 17.188119883066268\n",
            "Mean-vector MSE Test: 377.67235203479976\n",
            "Mean-vector R2: -0.3356029141177903\n"
          ]
        }
      ]
    },
    {
      "cell_type": "code",
      "source": [
        "elasticnetifyer(x_pol_train_formless, y_pol_train, x_pol_test_formless, y_pol_test, pol_test)"
      ],
      "metadata": {
        "id": "2nZrnE3erzcO",
        "outputId": "5a8bfd1a-633c-49de-b059-663c5d48c84e",
        "colab": {
          "base_uri": "https://localhost:8080/"
        }
      },
      "id": "2nZrnE3erzcO",
      "execution_count": 39,
      "outputs": [
        {
          "output_type": "stream",
          "name": "stdout",
          "text": [
            "Alpha: 0.14005586221191413\n",
            "L1 Ratio: 1.0\n",
            "# Iters: 102\n",
            "Intercept: -3.7604477095609585\n",
            "\n",
            "\n",
            "MSE Train: 322.319403529407\n",
            "MAE Test: 22.61523431617912\n",
            "MSE Test: 647.0281906912072\n",
            "R2: -0.2984590068001791\n",
            "\n",
            "\n",
            "MAE real [20.69309151]\n",
            "MAE madeup [23.65215119]\n",
            "MAE talking [23.24123103]\n",
            "\n",
            "\n",
            "Mean-vector MAE Test: 19.8674717396795\n",
            "Mean-vector MSE Test: 516.5873977208159\n",
            "Mean-vector R2: -0.036689852189426775\n"
          ]
        }
      ]
    },
    {
      "cell_type": "markdown",
      "id": "909b7afd-517f-42a6-8fd2-d89aa025b213",
      "metadata": {
        "id": "909b7afd-517f-42a6-8fd2-d89aa025b213"
      },
      "source": [
        "### Testing ground for nested CV"
      ]
    },
    {
      "cell_type": "code",
      "execution_count": 40,
      "id": "8c20e16b-bfdd-42b7-82d8-642372b044ae",
      "metadata": {
        "id": "8c20e16b-bfdd-42b7-82d8-642372b044ae"
      },
      "outputs": [],
      "source": [
        "from sklearn.model_selection import StratifiedKFold\n",
        "\n",
        "skf = StratifiedKFold(n_splits = 5, shuffle=True, random_state=17042020)\n",
        "\n",
        "for df in [df_age, df_gender, df_polarity]:\n",
        "  df_np = np.array(df)\n",
        "  for train_index, test_index in skf.split(df, df[['name_type']]):\n",
        "    X_train, X_test = df_np[train_index], df_np[test_index]\n",
        "\n"
      ]
    },
    {
      "cell_type": "code",
      "source": [
        ""
      ],
      "metadata": {
        "id": "3lvp1EZrcdhy"
      },
      "id": "3lvp1EZrcdhy",
      "execution_count": null,
      "outputs": []
    }
  ],
  "metadata": {
    "kernelspec": {
      "display_name": "Python 3",
      "language": "python",
      "name": "python3"
    },
    "language_info": {
      "codemirror_mode": {
        "name": "ipython",
        "version": 3
      },
      "file_extension": ".py",
      "mimetype": "text/x-python",
      "name": "python",
      "nbconvert_exporter": "python",
      "pygments_lexer": "ipython3",
      "version": "3.7.4"
    },
    "colab": {
      "name": "ElasticNet.ipynb",
      "provenance": []
    }
  },
  "nbformat": 4,
  "nbformat_minor": 5
}